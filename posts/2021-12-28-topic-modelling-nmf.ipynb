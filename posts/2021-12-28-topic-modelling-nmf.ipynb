{
 "cells": [
  {
   "cell_type": "raw",
   "metadata": {},
   "source": [
    "---\n",
    "aliases:\n",
    "- /mathematics/linear-algebra/natural-language-processing/2021/12/28/topic-modelling-nmf\n",
    "categories:\n",
    "- mathematics\n",
    "- linear-algebra\n",
    "- natural-language-processing\n",
    "date: '2021-12-28'\n",
    "description: Singular Value Decomposition (SVD) is a method from Linear Algebra widley\n",
    "  used accross science and engineering. In this article we will introduce the concept\n",
    "  and show how it can be used for Topic Modelling in Natural Language Processing (NLP).\n",
    "image: https://github.com/pranath/blog/raw/master/images/nmf.png\n",
    "output-file: 2021-12-28-topic-modelling-nmf.html\n",
    "title: Topic Modelling using Non-negative Matrix Factorization (NMF)\n",
    "toc: true\n",
    "\n",
    "---\n",
    "\n"
   ]
  },
  {
   "cell_type": "code",
   "execution_count": 2,
   "metadata": {
    "id": "ppKHiECiu-dA"
   },
   "outputs": [],
   "source": [
    "#| include: false\n",
    "import numpy as np\n",
    "from sklearn.datasets import fetch_20newsgroups\n",
    "from sklearn import decomposition\n",
    "from sklearn.feature_extraction.text import CountVectorizer, TfidfVectorizer\n",
    "from scipy import linalg\n",
    "import matplotlib.pyplot as plt\n",
    "import torch\n",
    "import torch.cuda as tc\n",
    "from torch.autograd import Variable\n",
    "import warnings\n",
    "warnings.filterwarnings('ignore')"
   ]
  },
  {
   "cell_type": "markdown",
   "metadata": {
    "id": "aasSVREGok28"
   },
   "source": [
    "## Introduction\n",
    "\n",
    "**Non-negative Matrix Factorization (NMF)** is a method from Linear Algebra that is used in a wide range of applications in science and engineering, similar to [Singular Value Decomopistion (SVD) which I covered in an earlier article](https://livingdatalab.com/mathematics/linear-algebra/natural-language-processing/2021/12/27/topic-modelling-svd.html). It can be used for tasks such as missing data imputation, audio signal processing and bioinformatics.\n",
    "\n",
    "**Topic modeling** is an unsupervised machine learning technique used in Natural Language Processing (NLP) that’s capable of scanning a set of texts, detecting word and phrase patterns within them, and automatically clustering word groups and similar expressions that best characterize a set of documents.\n",
    "\n",
    "In this article we will will use NMF to perform topic modelling.\n",
    "\n",
    "This article is based in large part on the material from the [fastai linear algebra course](https://github.com/fastai/numerical-linear-algebra/blob/master/README.md)."
   ]
  },
  {
   "cell_type": "markdown",
   "metadata": {
    "id": "Q7cCrlSGoq0M"
   },
   "source": [
    "## Dataset\n",
    "\n",
    "We will use the [20 Newsgroups](https://archive.ics.uci.edu/ml/datasets/Twenty+Newsgroups) dataset which consists of 20,000 messages taken from 20 different newsgroups from the Usenet bulletin board service, which pre-dates the world-wide-web and websites. We will look at a subset of 4 of these newsgroup categories:\n",
    "\n",
    "- rec.motorcycles\n",
    "- talk.politics.mideast\n",
    "- sci.med\n",
    "- sci.crypt\n",
    "\n",
    "We will now get this data."
   ]
  },
  {
   "cell_type": "code",
   "execution_count": 3,
   "metadata": {
    "id": "ZAAUcHL_4Z7r"
   },
   "outputs": [],
   "source": [
    "\n",
    "categories = ['rec.motorcycles', 'talk.politics.mideast', 'sci.med', 'sci.crypt']\n",
    "remove = ('headers', 'footers', 'quotes')\n",
    "newsgroups_train = fetch_20newsgroups(subset='train', categories=categories, remove=remove)\n",
    "newsgroups_test = fetch_20newsgroups(subset='test', categories=categories, remove=remove)"
   ]
  },
  {
   "cell_type": "markdown",
   "metadata": {
    "id": "ml-qDRVu8SGw"
   },
   "source": [
    "Let's check how many posts this gives us in total"
   ]
  },
  {
   "cell_type": "code",
   "execution_count": 4,
   "metadata": {
    "colab": {
     "base_uri": "https://localhost:8080/"
    },
    "id": "08dgpytT4df6",
    "outputId": "c923b48b-b594-460e-c128-ac13b235100f"
   },
   "outputs": [
    {
     "data": {
      "text/plain": [
       "((2351,), (2351,))"
      ]
     },
     "execution_count": 4,
     "metadata": {},
     "output_type": "execute_result"
    }
   ],
   "source": [
    "\n",
    "newsgroups_train.filenames.shape, newsgroups_train.target.shape"
   ]
  },
  {
   "cell_type": "markdown",
   "metadata": {
    "id": "Ud6DXMcs8efD"
   },
   "source": [
    "Let's print the first few lines of 3 of the posts to see what the text looks like"
   ]
  },
  {
   "cell_type": "code",
   "execution_count": 5,
   "metadata": {
    "colab": {
     "base_uri": "https://localhost:8080/"
    },
    "id": "jcSN24K95Awk",
    "outputId": "9f6723a4-1aa7-4068-eac0-42666793436d"
   },
   "outputs": [
    {
     "name": "stdout",
     "output_type": "stream",
     "text": [
      "\n",
      "I am not an expert in the cryptography science, but some basic things\n",
      "seem evident to me, things which this Clinton Clipper do not address.\n"
     ]
    }
   ],
   "source": [
    "\n",
    "print(\"\\n\".join(newsgroups_train.data[0].split(\"\\n\")[:3]))"
   ]
  },
  {
   "cell_type": "code",
   "execution_count": 6,
   "metadata": {
    "colab": {
     "base_uri": "https://localhost:8080/"
    },
    "id": "j77QmycE5vr2",
    "outputId": "e3c35eed-513a-45c0-8426-7391abcab80a"
   },
   "outputs": [
    {
     "name": "stdout",
     "output_type": "stream",
     "text": [
      "Does the Bates method work?  I first heard about it in this newsgroup \n",
      "several years ago, and I have just got hold of a book, \"How to improve your\n",
      "sight - simple daily drills in relaxation\", by Margaret D. Corbett, \n"
     ]
    }
   ],
   "source": [
    "\n",
    "print(\"\\n\".join(newsgroups_train.data[2].split(\"\\n\")[:3]))"
   ]
  },
  {
   "cell_type": "code",
   "execution_count": 7,
   "metadata": {
    "colab": {
     "base_uri": "https://localhost:8080/"
    },
    "id": "2dEUFpjO542_",
    "outputId": "85d7b25d-d1fd-40b3-e165-8eca039d2841"
   },
   "outputs": [
    {
     "name": "stdout",
     "output_type": "stream",
     "text": [
      "\n",
      "Suggest McQuires #1 plastic polish.  It will help somewhat but nothing \n",
      "will remove deep scratches without making it worse than it already is.\n"
     ]
    }
   ],
   "source": [
    "\n",
    "print(\"\\n\".join(newsgroups_train.data[5].split(\"\\n\")[:3]))"
   ]
  },
  {
   "cell_type": "markdown",
   "metadata": {
    "id": "KgAS1HDg8wzP"
   },
   "source": [
    "We can also get the newsgroup category for each from the 'target_names' attribute"
   ]
  },
  {
   "cell_type": "code",
   "execution_count": 8,
   "metadata": {
    "colab": {
     "base_uri": "https://localhost:8080/"
    },
    "id": "3YOF8wIo6XhA",
    "outputId": "3183864e-4f10-43e0-d242-ac8b7cc25f9e"
   },
   "outputs": [
    {
     "data": {
      "text/plain": [
       "array(['sci.crypt', 'sci.med', 'sci.med'], dtype='<U21')"
      ]
     },
     "execution_count": 8,
     "metadata": {},
     "output_type": "execute_result"
    }
   ],
   "source": [
    "\n",
    "np.array(newsgroups_train.target_names)[newsgroups_train.target[:3]]"
   ]
  },
  {
   "cell_type": "markdown",
   "metadata": {
    "id": "cTyWc-KR6Krd"
   },
   "source": [
    "To use this text dataset for topic modelling we will need to convert this into a **document-term** matrix. This is a matrix where the rows will correspond to to each of the newsgroup posts (a 'document' conceptually) and the columns will be for each of the words that exists in all posts (a 'term' conceptually). The values of the matrix will be the count of the number of words that exists for a particular post for each post/word combination in the matrix.\n",
    "\n",
    "![](https://github.com/pranath/blog/raw/master/images/document-term-matrix.png \"An example Document-Term matrix\")\n",
    "\n",
    "This method of converting text into a count of the words in the text matrix, without regard for anything else (such as order, context etc) is called a **bag of words** model. We can create this matrix using a *CountVectoriser()* function."
   ]
  },
  {
   "cell_type": "code",
   "execution_count": 9,
   "metadata": {
    "colab": {
     "base_uri": "https://localhost:8080/"
    },
    "id": "v2VwRNHX6Mlp",
    "outputId": "38757e84-da3b-4661-c057-224710fb0bd1"
   },
   "outputs": [
    {
     "data": {
      "text/plain": [
       "(2351, 32291)"
      ]
     },
     "execution_count": 9,
     "metadata": {},
     "output_type": "execute_result"
    }
   ],
   "source": [
    "\n",
    "vectorizer = CountVectorizer(stop_words='english')\n",
    "vectors = vectorizer.fit_transform(newsgroups_train.data).todense() # (documents, vocab)\n",
    "vectors.shape "
   ]
  },
  {
   "cell_type": "markdown",
   "metadata": {
    "id": "Tdf86Nf5A-HY"
   },
   "source": [
    "We can see this matrix has the same number of rows as we have posts (2351) and we must have 32,291 unique words accross all posts which is the number of columns we have."
   ]
  },
  {
   "cell_type": "code",
   "execution_count": 10,
   "metadata": {
    "colab": {
     "base_uri": "https://localhost:8080/"
    },
    "id": "XXBlZc1n68C1",
    "outputId": "892b64df-092b-4393-bf5d-b7c0180a71ff"
   },
   "outputs": [
    {
     "name": "stdout",
     "output_type": "stream",
     "text": [
      "2351 (2351, 32291)\n"
     ]
    }
   ],
   "source": [
    "\n",
    "print(len(newsgroups_train.data), vectors.shape)"
   ]
  },
  {
   "cell_type": "markdown",
   "metadata": {
    "id": "2nr__2z_BoW5"
   },
   "source": [
    "If we print the matrix, its just an array of counts for each of the words in each post"
   ]
  },
  {
   "cell_type": "code",
   "execution_count": 11,
   "metadata": {
    "colab": {
     "base_uri": "https://localhost:8080/"
    },
    "id": "wLD6fDbL9bPC",
    "outputId": "9742be74-8260-46a3-8504-b6ba95ca4d5b"
   },
   "outputs": [
    {
     "data": {
      "text/plain": [
       "matrix([[0, 0, 0, ..., 0, 0, 0],\n",
       "        [0, 0, 0, ..., 0, 0, 0],\n",
       "        [0, 0, 0, ..., 0, 0, 0],\n",
       "        ...,\n",
       "        [0, 0, 0, ..., 0, 0, 0],\n",
       "        [0, 2, 0, ..., 0, 0, 0],\n",
       "        [0, 0, 0, ..., 0, 0, 0]])"
      ]
     },
     "execution_count": 11,
     "metadata": {},
     "output_type": "execute_result"
    }
   ],
   "source": [
    "\n",
    "vectors"
   ]
  },
  {
   "cell_type": "markdown",
   "metadata": {
    "id": "CJAyvmJoBuee"
   },
   "source": [
    "This matrix does not actually contain the names of the words, so it will be helpful for us to extract these as well to create a vocabulary of terms used in the matrix. We can extract these using *get_feature_names()*"
   ]
  },
  {
   "cell_type": "code",
   "execution_count": 12,
   "metadata": {
    "colab": {
     "base_uri": "https://localhost:8080/"
    },
    "id": "4I-1srYo6_fl",
    "outputId": "bf017a9f-8fa6-4421-9eac-7ce5ca230916"
   },
   "outputs": [
    {
     "data": {
      "text/plain": [
       "(32291,)"
      ]
     },
     "execution_count": 12,
     "metadata": {},
     "output_type": "execute_result"
    }
   ],
   "source": [
    "\n",
    "vocab = np.array(vectorizer.get_feature_names())\n",
    "vocab.shape"
   ]
  },
  {
   "cell_type": "code",
   "execution_count": 13,
   "metadata": {
    "colab": {
     "base_uri": "https://localhost:8080/"
    },
    "id": "hvD6LDYE7Us9",
    "outputId": "87c92db0-1ded-488a-ca8d-9c78a28c3e7c"
   },
   "outputs": [
    {
     "data": {
      "text/plain": [
       "array(['00', '000', '0000', ..., 'yarn', 'yarvin', 'yashir'], dtype='<U79')"
      ]
     },
     "execution_count": 13,
     "metadata": {},
     "output_type": "execute_result"
    }
   ],
   "source": [
    "\n",
    "vocab[:32000]"
   ]
  },
  {
   "cell_type": "markdown",
   "metadata": {
    "id": "f_0SBeOXCKaP"
   },
   "source": [
    "While we have the newsgroup categories here, we will not actually use them for our topic modelling exercise, where we want to create topics independantly based on the posts alone, but we would hope these will correspond to the newsgroup categories in some way, indeed this would be a good check that the topic modelling is working.\n",
    "\n",
    "Now we have our Document-Term matrix and the vocabulary, we are now ready to use Singular Value Decompostion."
   ]
  },
  {
   "cell_type": "markdown",
   "metadata": {
    "id": "rof2ex3EowQ1"
   },
   "source": [
    "## Non-negative Matrix Factorization (NMF)\n",
    "\n",
    "NMF is a method of matrix decomposition, so for a given matrix A we can convert it into 2 other matrices: W and H. Also A most have non-negative values, and as such W and H will also have non-negative values.\n",
    "\n",
    "\n",
    "![](https://github.com/pranath/blog/raw/master/images/nmf.png \"Non-negative Matrix Factorization\")\n",
    "\n",
    "K is a value we choose in advance, in the case of our intention here K will repesent the number of topics we want to create for our topic model of the newsgroup posts.\n",
    "\n",
    "So if we assume in the original matrix A for our exercise, N are the documents/posts and M are the words in our Document-Term matrix, each of these matricies represents the following:\n",
    "\n",
    "- W: **Feature Matrix** this has M rows for words and K columns for the topics, and indicates which words characterise which topics.\n",
    "- H: **Coefficient Matrix** this has K rows for topics, and N columns for documents/posts, and indicates which topics best describe which documents/posts.\n",
    "\n",
    "So one reason NMF can be more popular to use, is due to that fact that the factors it produces are always positive and so are more easily interpretable. Consider for example with [SVD](https://livingdatalab.com/mathematics/linear-algebra/natural-language-processing/2021/12/27/topic-modelling-svd.html) we could produce factors that indicated negative values for topics - what would that mean to say a text has 'negative indications for the topic of bikes' ? \n",
    "\n",
    "Another difference with SVD is that NMF is not an exact decompostion - which means if we multiply W and H matrices we won't get back our original matrix A exactly.\n",
    "\n",
    "So we can peform NMF on our Document-Term matrix using the sklearn *decomposition* module."
   ]
  },
  {
   "cell_type": "code",
   "execution_count": 14,
   "metadata": {
    "id": "_jSrszgniMSF"
   },
   "outputs": [],
   "source": [
    "\n",
    "# Define constants and functions\n",
    "m,n=vectors.shape\n",
    "d=10  # num topics\n",
    "num_top_words=8\n",
    "\n",
    "def show_topics(a):\n",
    "    top_words = lambda t: [vocab[i] for i in np.argsort(t)[:-num_top_words-1:-1]]\n",
    "    topic_words = ([top_words(t) for t in a])\n",
    "    return [' '.join(t) for t in topic_words]"
   ]
  },
  {
   "cell_type": "code",
   "execution_count": 15,
   "metadata": {
    "colab": {
     "base_uri": "https://localhost:8080/"
    },
    "id": "hh98gVnA7xN6",
    "outputId": "787d3dd8-e9eb-4257-ee57-d423b4028392"
   },
   "outputs": [
    {
     "name": "stdout",
     "output_type": "stream",
     "text": [
      "CPU times: user 29 µs, sys: 0 ns, total: 29 µs\n",
      "Wall time: 34.3 µs\n"
     ]
    }
   ],
   "source": [
    "\n",
    "# Calculate NMF\n",
    "%time clf = decomposition.NMF(n_components=d, random_state=1)"
   ]
  },
  {
   "cell_type": "markdown",
   "metadata": {
    "id": "9izshSZJ-SqW"
   },
   "source": [
    "We can notice here this has run extremely fast taking just 19.6 microseconds. If we recall in an [earlier article for the same dataset when we performed one of the fastest versions of SVD Randomised/Trucated SVD this took 20 seconds](https://livingdatalab.com/mathematics/linear-algebra/natural-language-processing/2021/12/27/topic-modelling-svd.html)."
   ]
  },
  {
   "cell_type": "code",
   "execution_count": 16,
   "metadata": {
    "colab": {
     "base_uri": "https://localhost:8080/"
    },
    "id": "xqrBddfL7xtt",
    "outputId": "da727985-7aed-414b-b150-887436d22c1f"
   },
   "outputs": [
    {
     "name": "stdout",
     "output_type": "stream",
     "text": [
      "Top 10 topics, described by top words in each topic\n"
     ]
    },
    {
     "data": {
      "text/plain": [
       "['db mov bh si cs byte al bl',\n",
       " 'people said didn know don went just like',\n",
       " 'privacy internet pub eff email information computer electronic',\n",
       " 'health 1993 use hiv medical 10 20 number',\n",
       " 'turkish jews turkey armenian jewish nazis ottoman war',\n",
       " 'anonymous anonymity posting internet anon service people users',\n",
       " 'key encryption des chip ripem use keys used',\n",
       " 'edu com cs david ca uk org john',\n",
       " 'dod rec denizens motorcycle motorcycles doom like terrible',\n",
       " 'version machines contact type edu pc comments ftp']"
      ]
     },
     "execution_count": 16,
     "metadata": {},
     "output_type": "execute_result"
    }
   ],
   "source": [
    "\n",
    "# Extract W and H matrices\n",
    "W1 = clf.fit_transform(vectors)\n",
    "H1 = clf.components_\n",
    "# Show topics from H matrix\n",
    "print('Top 10 topics, described by top words in each topic')\n",
    "show_topics(H1)"
   ]
  },
  {
   "cell_type": "markdown",
   "metadata": {
    "id": "N-2yZa3ooYN9"
   },
   "source": [
    "So if you recall our original news group categories were:\n",
    "\n",
    "- rec.motorcycles\n",
    "- talk.politics.mideast\n",
    "- sci.med\n",
    "- sci.crypt\n",
    "\n",
    "We can see that the topics discovered correspond fairly well to these, bar a few anomalies."
   ]
  },
  {
   "cell_type": "code",
   "execution_count": 17,
   "metadata": {
    "colab": {
     "base_uri": "https://localhost:8080/"
    },
    "id": "mLkucwYZiS7J",
    "outputId": "65b02057-47ae-4972-daab-2986ceb365a1"
   },
   "outputs": [
    {
     "name": "stdout",
     "output_type": "stream",
     "text": [
      "(2351, 10) (10, 32291)\n"
     ]
    }
   ],
   "source": [
    "\n",
    "# Show dimensions of matrices\n",
    "print(W1.shape, H1.shape)"
   ]
  },
  {
   "cell_type": "markdown",
   "metadata": {
    "id": "pEBDgVE59f5_"
   },
   "source": [
    "The shapes of the matrices also make sense. Given our original matrix A was 2351 rows for posts and 32291 columns for words, and we requested 10 topics this NMF has returned:\n",
    "\n",
    "- Matrix W with 2351 rows for posts and 10 columns for topics\n",
    "- Matrix H with 10 rows for topics and 32291 columns for words"
   ]
  },
  {
   "cell_type": "markdown",
   "metadata": {
    "id": "HmVypQD_o97U"
   },
   "source": [
    "## NMF using Gradient Descent\n",
    "\n",
    "So in the method just used, we performed NMF using a built in library function from Sklearn. One of the obvious benefits of using this is that it runs extremely fast. However, in order to create this function it took many years of research and expertise in this area. Using this function also means we are limited, if we want to do something slightly different, we can't really change it.\n",
    "\n",
    "Alternatively, we can use a very different method to calculate the NMF matrices using **Gradient Descent**.\n",
    "\n",
    "The basic process of Gradient Descent is as follows:\n",
    "\n",
    "1. Randomly choose some weights to start\n",
    "2. Loop:\n",
    "  - Use weights to calculate a prediction \n",
    "  - Calculate the loss (loss is a measure of the difference between the prediction and what we want)\n",
    "  - Calculate the derivative of the loss\n",
    "  - Update the weights using this derivative to tell us how much to change them\n",
    "3. Repeat step 2 lots of times. Eventually we end up with some decent weights\n",
    "\n",
    "In our case, the weights would be the values of the matrices we want to calculate for NMF which are the values of W and H.\n",
    "\n",
    "In **Stocastic Gradient Decent (SGD)** we evaluate our loss function on just a sample of our data (sometimes called a mini-batch). We would get different loss values on different samples of the data, so this is why it is stochastic. It turns out that this is still an effective way to optimize, and it's much more efficient.\n",
    "\n",
    "[SGD is also a key technique used in Deep Learning which I have covered in an earlier article](https://livingdatalab.com/deep-learning-theory/2021/06/13/optimisation-methods-for-deep-learning.html).\n",
    "\n",
    "#### Applying SGD to NMF\n",
    "\n",
    "The [Frobenius norm](https://mathworld.wolfram.com/FrobeniusNorm.html) is a way to measure how different two matrices are. We can use this to calculate the loss by multipling W and H together to create a matrix, and then calculating the Frobenius norm between this matrix and our original matrix A to give us our loss value.\n",
    "\n",
    "**Goal**: Decompose $A\\;(m \\times n)$ into $$A \\approx WH$$ where $W\\;(m \\times k)$ and $H\\;(k \\times n)$, $W,\\;H\\;>=\\;0$, and we've minimized the Frobenius norm of $A-WH$.\n",
    "\n",
    "**Approach**: We will pick random positive $W$ & $H$, and then use SGD to optimize.\n",
    "\n",
    "We will also make use of the [Pytorch](https://pytorch.org/) library for these calculations for 2 key reasons:\n",
    "\n",
    "- It facilitates calculations on the GPU which enables matrix calculations to be run in parallel and therefore much faster\n",
    "- Pytorch has the *autograd* functionality which will automatically calculate the derivatives of functions for us and thereby give us the gradients that we need for the process in a convenient way"
   ]
  },
  {
   "cell_type": "code",
   "execution_count": 18,
   "metadata": {
    "id": "0bWRLcDLOLtP"
   },
   "outputs": [],
   "source": [
    "#| include: false\n",
    "vectorizer_tfidf = TfidfVectorizer(stop_words='english')\n",
    "vectors_tfidf = vectorizer_tfidf.fit_transform(newsgroups_train.data) # (documents, vocab)\n",
    "v=vectors_tfidf.todense()"
   ]
  },
  {
   "cell_type": "code",
   "execution_count": 26,
   "metadata": {
    "id": "mEm2Is_iGXt5"
   },
   "outputs": [],
   "source": [
    "\n",
    "# Define constants and functions required\n",
    "lam=1e6\n",
    "lr = 0.05\n",
    "# Create W and H matrices\n",
    "pW = Variable(tc.FloatTensor(m,d), requires_grad=True)\n",
    "pH = Variable(tc.FloatTensor(d,n), requires_grad=True)\n",
    "pW.data.normal_(std=0.01).abs_()\n",
    "pH.data.normal_(std=0.01).abs_()\n",
    "# Define report\n",
    "def report():\n",
    "    W,H = pW.data, pH.data\n",
    "    print((A-pW.mm(pH)).norm(2).item(), W.min(), H.min(), (W<0).sum(), (H<0).sum())\n",
    "# Define penalty - encourage positive and low loss values\n",
    "def penalty(P):\n",
    "    return torch.pow((P<0).type(tc.FloatTensor)*torch.clamp(P, max=0.), 2)\n",
    "# Define penalise - for both W and H matrices we want to improve\n",
    "def penalize(): return penalty(pW).mean() + penalty(pH).mean()\n",
    "# Define loss - Calculate the Frobenius norm between Matrix A and Matrices W x H\n",
    "def loss(): return (A-pW.mm(pH)).norm(2) + penalize()*lam\n",
    "# Define optimiser to update weights using gradients\n",
    "opt = torch.optim.Adam([pW,pH], lr=1e-3, betas=(0.9,0.9))\n",
    "# Load our original matrix A onto the GPU\n",
    "t_vectors = torch.Tensor(v.astype(np.float32)).cuda()\n",
    "A = Variable(t_vectors).cuda()"
   ]
  },
  {
   "cell_type": "markdown",
   "metadata": {
    "id": "yDE-h93oKruu"
   },
   "source": [
    "Create and run the Stocastic Gradient Descent process"
   ]
  },
  {
   "cell_type": "code",
   "execution_count": 27,
   "metadata": {
    "colab": {
     "base_uri": "https://localhost:8080/"
    },
    "id": "o-d69hgXtBhe",
    "outputId": "2685842c-8cc0-4b5f-92d0-5a1752319962"
   },
   "outputs": [
    {
     "name": "stdout",
     "output_type": "stream",
     "text": [
      "47.2258186340332 tensor(-0.0010, device='cuda:0') tensor(-0.0023, device='cuda:0') tensor(1013, device='cuda:0') tensor(42676, device='cuda:0')\n",
      "46.8864631652832 tensor(-0.0008, device='cuda:0') tensor(-0.0027, device='cuda:0') tensor(1424, device='cuda:0') tensor(53463, device='cuda:0')\n",
      "46.73139572143555 tensor(-0.0004, device='cuda:0') tensor(-0.0031, device='cuda:0') tensor(929, device='cuda:0') tensor(53453, device='cuda:0')\n",
      "46.66544723510742 tensor(-0.0004, device='cuda:0') tensor(-0.0020, device='cuda:0') tensor(736, device='cuda:0') tensor(54012, device='cuda:0')\n",
      "46.620338439941406 tensor(-0.0006, device='cuda:0') tensor(-0.0018, device='cuda:0') tensor(631, device='cuda:0') tensor(56201, device='cuda:0')\n",
      "46.586158752441406 tensor(-0.0003, device='cuda:0') tensor(-0.0018, device='cuda:0') tensor(595, device='cuda:0') tensor(56632, device='cuda:0')\n",
      "46.576072692871094 tensor(-0.0003, device='cuda:0') tensor(-0.0019, device='cuda:0') tensor(585, device='cuda:0') tensor(54036, device='cuda:0')\n",
      "46.573974609375 tensor(-0.0003, device='cuda:0') tensor(-0.0018, device='cuda:0') tensor(578, device='cuda:0') tensor(53401, device='cuda:0')\n",
      "46.573814392089844 tensor(-0.0003, device='cuda:0') tensor(-0.0017, device='cuda:0') tensor(667, device='cuda:0') tensor(52781, device='cuda:0')\n",
      "46.573760986328125 tensor(-0.0003, device='cuda:0') tensor(-0.0019, device='cuda:0') tensor(662, device='cuda:0') tensor(52658, device='cuda:0')\n"
     ]
    }
   ],
   "source": [
    "\n",
    "# For 1000 cycles\n",
    "for i in range(1000): \n",
    "    # Clear the previous gradients\n",
    "    opt.zero_grad()\n",
    "    # Calculate the loss i.e. the Frobenius norm between Matrix A and Matrices W x H\n",
    "    l = loss()\n",
    "    # Calculate the gradients\n",
    "    l.backward()\n",
    "    # Update the values of Matrices W x H using the gradients\n",
    "    opt.step()\n",
    "    # Every 100 cycles print a report of progress\n",
    "    if i % 100 == 99: \n",
    "        report()\n",
    "        lr *= 0.9     # learning rate annealling"
   ]
  },
  {
   "cell_type": "code",
   "execution_count": 28,
   "metadata": {
    "colab": {
     "base_uri": "https://localhost:8080/"
    },
    "id": "VWW9w6PGLZLK",
    "outputId": "a7f23ba6-7ad7-421b-d25a-9f585a4a8691"
   },
   "outputs": [
    {
     "data": {
      "text/plain": [
       "['msg don people know just food think like',\n",
       " 'clipper chip phone crypto phones government nsa secure',\n",
       " 'armenian armenians turkish genocide armenia turks turkey people',\n",
       " 'jews adam jewish land shostack das harvard arabs',\n",
       " 'com edu pgp mail faq rsa list ripem',\n",
       " 'israel israeli lebanese arab lebanon peace israelis arabs',\n",
       " 'key keys bit chip serial bits 80 number',\n",
       " 'encryption government technology law privacy enforcement administration use',\n",
       " 'geb dsl cadre chastity n3jxp pitt intellect shameful',\n",
       " 'bike bikes ride motorcycle riding dod dog good']"
      ]
     },
     "execution_count": 28,
     "metadata": {},
     "output_type": "execute_result"
    }
   ],
   "source": [
    "\n",
    "# Show topics discovered\n",
    "h = pH.data.cpu().numpy()\n",
    "show_topics(h)"
   ]
  },
  {
   "cell_type": "markdown",
   "metadata": {
    "id": "J1DopJgrsUdC"
   },
   "source": [
    "So if you recall our original news group categories were:\n",
    "\n",
    "- rec.motorcycles\n",
    "- talk.politics.mideast\n",
    "- sci.med\n",
    "- sci.crypt\n",
    "\n",
    "We can see that the topics discovered using SGD correspond fairly well to these, bar a few anomalies.\n",
    "\n",
    "### Comparing Approaches\n",
    "\n",
    "If we compare our two approaches to calculating NMF.\n",
    "\n",
    "**Scikit-Learn's NMF**\n",
    "- Fast\n",
    "- No parameter tuning\n",
    "- Relies on decades of academic research, took experts a long time to implement\n",
    "- Can't be customised\n",
    "- Method can only be applied to calculating NMF\n",
    "\n",
    "**Using PyTorch and SGD**\n",
    "- Took an hour to implement, didn't have to be NMF experts\n",
    "- Parameters were fiddly\n",
    "- Not as fast \n",
    "- Easily customised\n",
    "- Method can be applied to a vast range of problems"
   ]
  },
  {
   "cell_type": "markdown",
   "metadata": {
    "id": "zUMR4mx2pIti"
   },
   "source": [
    "## Conclusion\n",
    "\n",
    "In this article we introduced Non-negative Matrix Factorization (NMF) and saw how it could be applied to the task of topic modelling in NLP. We also compared two approaches to calculating NMF using Scikit-Learn's library function as well as Stocastic Gradient Descent (SGD) and highlighted various pros and cons of each approach."
   ]
  }
 ],
 "metadata": {
  "accelerator": "GPU",
  "colab": {
   "name": "2021-12-28-topic-modelling-nmf.ipynb",
   "provenance": []
  },
  "kernelspec": {
   "display_name": "Python 3 (ipykernel)",
   "language": "python",
   "name": "python3"
  },
  "language_info": {
   "codemirror_mode": {
    "name": "ipython",
    "version": 3
   },
   "file_extension": ".py",
   "mimetype": "text/x-python",
   "name": "python",
   "nbconvert_exporter": "python",
   "pygments_lexer": "ipython3",
   "version": "3.9.13"
  }
 },
 "nbformat": 4,
 "nbformat_minor": 4
}
