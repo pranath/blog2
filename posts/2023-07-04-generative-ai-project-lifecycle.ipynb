{
 "cells": [
  {
   "cell_type": "raw",
   "id": "f2c2a024-721e-45d2-a068-d6fa753c0c97",
   "metadata": {},
   "source": [
    "---\n",
    "date: '2023-07-04'\n",
    "categories:\n",
    " - natural-language-processing\n",
    " - deep-learning\n",
    "title: An Approach to the Generative AI Project Lifecyle\n",
    "description: In this article I will present a high level project architecture for building Generative AI projects that could be applied to any project proposed by DeepLearning AI and AWS in their Generative AI with Large Language Models Course\n",
    "image: https://github.com/pranath/blog/raw/master/images/genai4.jpg\n",
    "---"
   ]
  },
  {
   "cell_type": "markdown",
   "id": "e3f1ad82-f663-40e7-888a-5003580bc5c8",
   "metadata": {},
   "source": [
    "## Introduction\n",
    "\n",
    "Recent advances in AI such as ChatGPT have demonstrated impressive abilities for performing a wide range of tasks previously only done by humans, these are known as Large Language Models (LLM's). However, there are so many different options and methods for building applications with these models, and these are all new methods. It can seem overhelming and not obvious how to approach building Generative AI applications. In this article, I will present a high level project architecture for building Generative AI projects that could be applied to any project, which has been proposed by DeepLearning AI and AWS in their [Generative AI with Large Language Models Course](https://www.deeplearning.ai/courses/generative-ai-with-llms/) which I recently completed.\n",
    "\n",
    "## The Generative AI Project Lifecycle\n",
    "\n",
    "This framework covers the steps necessary to take your generative AI project from idea to completion. Here is a graphic showing the complete life cycle. Defining the scope as precisely and narrowly as you can is the most crucial step in any project.\n",
    "\n",
    "<img src=\"https://github.com/pranath/blog/raw/master/images/gai28.png\" width=\"800\"/>\n",
    "\n",
    "The **size and architecture** of the model have a significant impact on the activities that LLMs can perform. You should think about what function the LLM will have in your specific application. Do you need the model to be highly capable of doing a variety of jobs, such as long-form text production, or is the task much more specialised, such as named entity recognition, such that your model only needs to be proficient in that one area? \n",
    "\n",
    "<img src=\"https://github.com/pranath/blog/raw/master/images/gai29.png\" width=\"800\"/>\n",
    "\n",
    "Getting very explicit about what your model needs to perform will save you time and, perhaps more importantly, money. \n",
    "\n",
    "<img src=\"https://github.com/pranath/blog/raw/master/images/gai30.png\" width=\"800\"/>\n",
    "\n",
    "As soon as you're satisfied and have sufficiently outlined the criteria for your model, you can start developing it. Whether to **build a new base model from scratch or use an existing one** will be your first choice. \n",
    "\n",
    "<img src=\"https://github.com/pranath/blog/raw/master/images/gai31.png\" width=\"800\"/>\n",
    "\n",
    "In most cases, you'll begin with an existing model, yet there are occasional instances when you might need to train a model from scratch.\n",
    "\n",
    "<img src=\"https://github.com/pranath/blog/raw/master/images/gai32.png\" width=\"800\"/>\n",
    "\n",
    "Once you have your model, the next step is to **evaluate its performance** and, if extra training is required for your application, carry it out. You may start by experimenting with in-context learning, utilising examples relevant to your goal and use case. This can sometimes be enough to get your model to perform well.\n",
    "\n",
    "Even with one or two brief inferences, there are still some situations when the model may not perform as well as you require. In these circumstances, you can attempt **fine-tuning your model**. This is a supervised learning procedure. \n",
    "\n",
    "As models get more powerful, it is crucial to make sure that when they are deployed, they behave effectively and in a way that is consistent with human preferences. \n",
    "\n",
    "**Reinforcement learning using human input** is a different method of fine-tuning that can assist in ensuring that your model behaves properly. **Evaluation** is a key element of each of these methods. \n",
    "\n",
    "Additionally, there are several measures and benchmarks that may be used to assess the effectiveness of your model or the degree to which it adheres to your preferences. \n",
    "\n",
    "<img src=\"https://github.com/pranath/blog/raw/master/images/gai33.png\" width=\"800\"/>\n",
    "\n",
    "Be aware that the development of an application might be quite iterative throughout the adapt and align stage. To achieve the performance you require, you can start by attempting **prompt engineering** and assessing the results, then employing **fine tuning** to enhance performance, and last returning and reviewing prompt engineering once more. When your model is ready and well-aligned to fulfil your performance requirements, you may integrate it into your application and deploy it into your infrastructure.\n",
    "\n",
    "<img src=\"https://github.com/pranath/blog/raw/master/images/gai34.png\" width=\"800\"/>\n",
    "\n",
    "The process of **optimising your model for deployment** at this point is crucial. By doing this, you can make sure that you're utilising your computing power to its fullest potential and giving your application's users the finest possible experience. The final but most crucial stage is to think about any **additional infrastructure** that will be needed for your LLM application to function properly. The underlying limitations of LLMs, such as their propensity to fabricate information when they don't know the solution or their poor capacity for complicated reasoning and mathematics, might be challenging to overcome with training alone so is worth considering."
   ]
  },
  {
   "cell_type": "markdown",
   "id": "fa0a63ee-0bfa-42f1-b6ed-524cf1ac2b32",
   "metadata": {},
   "source": [
    "## Acknowledgements\n",
    "\n",
    "I'd like to express my thanks to the wonderful [Generative AI with Large Language Models Course](https://www.deeplearning.ai/courses/generative-ai-with-llms/) by DeepLearning.ai and AWS - which i completed, and acknowledge the use of some images and other materials from the course in this article."
   ]
  },
  {
   "cell_type": "code",
   "execution_count": null,
   "id": "8f5e361b-b05c-4359-b42f-1a09efcede87",
   "metadata": {},
   "outputs": [],
   "source": []
  }
 ],
 "metadata": {
  "kernelspec": {
   "display_name": "Python 3 (ipykernel)",
   "language": "python",
   "name": "python3"
  },
  "language_info": {
   "codemirror_mode": {
    "name": "ipython",
    "version": 3
   },
   "file_extension": ".py",
   "mimetype": "text/x-python",
   "name": "python",
   "nbconvert_exporter": "python",
   "pygments_lexer": "ipython3",
   "version": "3.9.13"
  }
 },
 "nbformat": 4,
 "nbformat_minor": 5
}
