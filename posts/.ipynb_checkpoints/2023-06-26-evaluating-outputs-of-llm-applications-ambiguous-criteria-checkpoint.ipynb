{
 "cells": [
  {
   "cell_type": "raw",
   "id": "e33ae4b9-2722-48b9-a149-6edff6b1e734",
   "metadata": {},
   "source": [
    "---\n",
    "date: '2023-06-26'\n",
    "categories:\n",
    " - natural-language-processing\n",
    " - deep-learning\n",
    " - openai\n",
    " - llm-evaluation\n",
    "title: Evaluating the outputs of Large Language Model Applications for Ambiguous Criteria\n",
    "description: Here we look at some best practices for evaluating the outputs of an LLM application when you do not have a clear sense of the right output or its ambiguous - to help us know before and after deployment how well its working\n",
    "image: https://github.com/pranath/blog/raw/master/images/chatgpt3.jpg\n",
    "---"
   ]
  },
  {
   "cell_type": "markdown",
   "id": "e0dc3130-511d-4830-8066-e73c9261c452",
   "metadata": {},
   "source": [
    "## Introduction\n",
    "\n",
    "Large language models such as [ChatGPT](https://openai.com/blog/chatgpt) can generate text responses based on a given prompt or input. Writing prompts allow users to guide the language model's output by providing a specific context or topic for the response. This feature has many practical applications, such as generating creative writing prompts, assisting in content creation, and even aiding in customer service chatbots. \n",
    "\n",
    "In [earlier articles](/#category=openai) i've looked at how you can use ChatGPT to solve some of these tasks with simple prompts. But in many use cases, what is required is not just one prompt but a sequence of prompts where we need to also consider the outputs at each stage, before providing a final output - for example with a customer service chatbot.\n",
    "\n",
    "In this article, we will look at some best practices for evaluating the outputs of an LLM when we do not have a clear sense of the outputs we want  or its ambiguous, and show hot to build one of these systems. \n",
    "\n",
    "\n",
    "## Setup\n",
    "\n",
    "First we need to load certain python libs and connect the OpenAi api.\n",
    "\n",
    "The OpenAi api library needs to be configured with an account's secret key, which is available on the [website](https://platform.openai.com/account/api-keys). \n",
    "\n",
    "You can either set it as the `OPENAI_API_KEY` environment variable before using the library:\n",
    " ```\n",
    " !export OPENAI_API_KEY='sk-...'\n",
    " ```\n",
    "\n",
    "Or, set `openai.api_key` to its value:\n",
    "\n",
    "```\n",
    "import openai\n",
    "openai.api_key = \"sk-...\"\n",
    "```"
   ]
  },
  {
   "cell_type": "code",
   "execution_count": 1,
   "id": "c7f1afcb",
   "metadata": {},
   "outputs": [],
   "source": [
    "import os\n",
    "import openai\n",
    "import sys\n",
    "sys.path.append('../..')\n",
    "import utils\n",
    "from dotenv import load_dotenv, find_dotenv\n",
    "_ = load_dotenv(find_dotenv()) # read local .env file\n",
    "\n",
    "openai.api_key  = os.environ['OPENAI_API_KEY']"
   ]
  },
  {
   "cell_type": "code",
   "execution_count": 2,
   "id": "63e6f40d",
   "metadata": {},
   "outputs": [],
   "source": [
    "# Define helper function\n",
    "def get_completion_from_messages(messages, model=\"gpt-3.5-turbo\", temperature=0, max_tokens=500):\n",
    "    response = openai.ChatCompletion.create(\n",
    "        model=model,\n",
    "        messages=messages,\n",
    "        temperature=temperature, \n",
    "        max_tokens=max_tokens, \n",
    "    )\n",
    "    return response.choices[0].message[\"content\"]"
   ]
  },
  {
   "cell_type": "markdown",
   "id": "abc82619-ecfe-4b5e-b8d4-1db03db11fc1",
   "metadata": {},
   "source": [
    "## Run through the end-to-end system to answer the user query\n",
    "\n",
    "These helper functions are running the chain of promopts that we saw in this [previous article](https://livingdatalab.com/posts/2023-06-25-evaluating-outputs-of-llm-applications-clear-criteria.html).\n",
    "\n",
    "The utils python module and json used for this example can be found in this [github location](https://github.com/pranath/pds/tree/main/articles/2023-06-24).\n",
    "\n",
    "Here's my usual helper functions, and given a customer message, \"tell \n",
    "me about the smartx pro phone and the fotosnap camera.\", and \n",
    "so on. Here are a few utils to get me the assistant answer."
   ]
  },
  {
   "cell_type": "code",
   "execution_count": 3,
   "id": "c3eae3d2",
   "metadata": {},
   "outputs": [],
   "source": [
    "customer_msg = f\"\"\"\n",
    "tell me about the smartx pro phone and the fotosnap camera, the dslr one.\n",
    "Also, what TVs or TV related products do you have?\"\"\"\n",
    "\n",
    "products_by_category = utils.get_products_from_query(customer_msg)\n",
    "category_and_product_list = utils.read_string_to_list(products_by_category)\n",
    "product_info = utils.get_mentioned_product_info(category_and_product_list)\n",
    "assistant_answer = utils.answer_user_msg(user_msg=customer_msg,\n",
    "                                                   product_info=product_info)"
   ]
  },
  {
   "cell_type": "code",
   "execution_count": 4,
   "id": "6a5e117e",
   "metadata": {},
   "outputs": [
    {
     "name": "stdout",
     "output_type": "stream",
     "text": [
      "Sure, I'd be happy to help! The SmartX ProPhone is a powerful smartphone with a 6.1-inch display, 128GB storage, 12MP dual camera, and 5G capabilities. The FotoSnap DSLR Camera is a versatile camera with a 24.2MP sensor, 1080p video, 3-inch LCD, and interchangeable lenses. As for TVs, we have a variety of options including the CineView 4K TV with a 55-inch display, 4K resolution, HDR, and smart TV capabilities, the CineView 8K TV with a 65-inch display, 8K resolution, HDR, and smart TV capabilities, and the CineView OLED TV with a 55-inch display, 4K resolution, HDR, and smart TV capabilities. We also have the SoundMax Home Theater system with 5.1 channel, 1000W output, wireless subwoofer, and Bluetooth, and the SoundMax Soundbar with 2.1 channel, 300W output, wireless subwoofer, and Bluetooth. Is there anything else I can help you with?\n"
     ]
    }
   ],
   "source": [
    "print(assistant_answer) "
   ]
  },
  {
   "cell_type": "markdown",
   "id": "b1411a11-c7e3-4124-983d-149eeb2a34b1",
   "metadata": {},
   "source": [
    "## Evaluate the LLM's answer to the user with a rubric\n",
    "\n",
    "So, how can you evaluate if this is a good answer or not? \n",
    "Seems like there are lots of possible good answers. \n",
    "One way to evaluate this is to write a **rubric**, \n",
    "meaning a set of guidelines, to evaluate this \n",
    "answer on different dimensions, and then use that to \n",
    "decide whether or not you're satisfied with this answer. Lets see how you how to do that. \n",
    "So, let me create a little data structure to \n",
    "store the customer message as well as the product info. \n",
    "So here, I'm going to specify a prompt for evaluating the \n",
    "assistant answer using what's called a rubric."
   ]
  },
  {
   "cell_type": "code",
   "execution_count": 5,
   "id": "573f090d",
   "metadata": {},
   "outputs": [],
   "source": [
    "cust_prod_info = {\n",
    "    'customer_msg': customer_msg,\n",
    "    'context': product_info\n",
    "}"
   ]
  },
  {
   "cell_type": "markdown",
   "id": "40dc613d-c1fa-48a1-9ae5-a54d55a6826f",
   "metadata": {},
   "source": [
    "But this prompt says in the system message, \"You are an \n",
    "assistant that evaluates how well the customer service agent \n",
    "answers a user question by looking at the context that the customer \n",
    "service agent is using to generate its response.\". \n",
    "So, this response is what we had further up in the notebook, \n",
    "that was the assistant answer. And we're going to specify the \n",
    "data in this prompt, what was the customer message, what \n",
    "was the context, that is, what was the product and category information \n",
    "that was provided, and then what was the output of the LLM. \n",
    " \n",
    "And then, this is a rubric.\n",
    "\n",
    "So, we want the LLM to:\n",
    "\n",
    ">\"Compare the factual content of the submitted answer with the context. \n",
    "Ignore differences in style, grammar, or punctuation. \n",
    "\n",
    "And then, we wanted to check a few things, \n",
    "like:\n",
    "\n",
    ">\"Is the assistant response based only on the context \n",
    "provided? Does the answer include information that is not \n",
    "provided in the context? Is there any \n",
    "disagreement between the response and the context?\" \n",
    "\n",
    "So, this is called a rubric, and this specifies what \n",
    "we think the answer should get right for \n",
    "us to consider it a good answer. \n",
    "\n",
    "Then, finally, we wanted to print out yes or no."
   ]
  },
  {
   "cell_type": "code",
   "execution_count": 6,
   "id": "395cbf45",
   "metadata": {},
   "outputs": [],
   "source": [
    "def eval_with_rubric(test_set, assistant_answer):\n",
    "\n",
    "    cust_msg = test_set['customer_msg']\n",
    "    context = test_set['context']\n",
    "    completion = assistant_answer\n",
    "    \n",
    "    system_message = \"\"\"\\\n",
    "    You are an assistant that evaluates how well the customer service agent \\\n",
    "    answers a user question by looking at the context that the customer service \\\n",
    "    agent is using to generate its response. \n",
    "    \"\"\"\n",
    "\n",
    "    user_message = f\"\"\"\\\n",
    "You are evaluating a submitted answer to a question based on the context \\\n",
    "that the agent uses to answer the question.\n",
    "Here is the data:\n",
    "    [BEGIN DATA]\n",
    "    ************\n",
    "    [Question]: {cust_msg}\n",
    "    ************\n",
    "    [Context]: {context}\n",
    "    ************\n",
    "    [Submission]: {completion}\n",
    "    ************\n",
    "    [END DATA]\n",
    "\n",
    "Compare the factual content of the submitted answer with the context. \\\n",
    "Ignore any differences in style, grammar, or punctuation.\n",
    "Answer the following questions:\n",
    "    - Is the Assistant response based only on the context provided? (Y or N)\n",
    "    - Does the answer include information that is not provided in the context? (Y or N)\n",
    "    - Is there any disagreement between the response and the context? (Y or N)\n",
    "    - Count how many questions the user asked. (output a number)\n",
    "    - For each question that the user asked, is there a corresponding answer to it?\n",
    "      Question 1: (Y or N)\n",
    "      Question 2: (Y or N)\n",
    "      ...\n",
    "      Question N: (Y or N)\n",
    "    - Of the number of questions asked, how many of these questions were addressed by the answer? (output a number)\n",
    "\"\"\"\n",
    "\n",
    "    messages = [\n",
    "        {'role': 'system', 'content': system_message},\n",
    "        {'role': 'user', 'content': user_message}\n",
    "    ]\n",
    "\n",
    "    response = get_completion_from_messages(messages)\n",
    "    return response"
   ]
  },
  {
   "cell_type": "code",
   "execution_count": 7,
   "id": "dbc4af8e",
   "metadata": {},
   "outputs": [
    {
     "name": "stdout",
     "output_type": "stream",
     "text": [
      "- Is the Assistant response based only on the context provided? (Y or N)\n",
      "Y\n",
      "- Does the answer include information that is not provided in the context? (Y or N)\n",
      "N\n",
      "- Is there any disagreement between the response and the context? (Y or N)\n",
      "N\n",
      "- Count how many questions the user asked. (output a number)\n",
      "1\n",
      "- For each question that the user asked, is there a corresponding answer to it?\n",
      "  Question 1: Y\n",
      "- Of the number of questions asked, how many of these questions were addressed by the answer? (output a number)\n",
      "1\n"
     ]
    }
   ],
   "source": [
    "evaluation_output = eval_with_rubric(cust_prod_info, assistant_answer)\n",
    "print(evaluation_output)"
   ]
  },
  {
   "cell_type": "markdown",
   "id": "836eb97c-025b-4643-823f-7fd3fac6ce20",
   "metadata": {},
   "source": [
    "So it says:\n",
    "\n",
    ">\"the assistant response is based only on the context \n",
    "provided.\". \n",
    "\n",
    "It does not, in this case, seem to make up new information. \n",
    "There isn't any disagreements. The user asked two questions. Answered \n",
    "question one and answered question two. So \n",
    "answered both questions. \n",
    "\n",
    "So we would look at this output and maybe conclude that this \n",
    "is a pretty good response. \n",
    "\n",
    "And one note, here I'm using the ChatGPT 3.5 Turbo \n",
    "model for this evaluation. \n",
    "For a more robust evaluation, it might be worth considering using \n",
    "GPT-4 because even if you deploy 3.5 Turbo in production and generate a \n",
    "lot of text, if your evaluation is a more \n",
    "sporadic exercise, then it may be prudent to pay for the somewhat \n",
    "more expensive GPT-4 API call to get a more rigorous evaluation \n",
    "of the output. \n",
    "\n",
    "## Evaluate the LLM's answer to the user based on an \"ideal\" / \"expert\" (human generated) answer.\n",
    "\n",
    "One design pattern that I hope you can take away \n",
    "from this is that when you can specify a rubric, \n",
    "meaning a list of criteria by which to \n",
    "evaluate an LLM output, then you can actually \n",
    "use another API call to evaluate your first LLM output. \n",
    "\n",
    "There's one other design pattern that could be useful \n",
    "for some applications, which is if you can \n",
    "specify an ideal response. So here, I'm going to specify a test \n",
    "example where the customer message is, \"tell me \n",
    "about the smartx pro phone\", and so on. \n",
    "And here's an ideal answer. "
   ]
  },
  {
   "cell_type": "code",
   "execution_count": 8,
   "id": "2805f188",
   "metadata": {},
   "outputs": [],
   "source": [
    "test_set_ideal = {\n",
    "    'customer_msg': \"\"\"\\\n",
    "tell me about the smartx pro phone and the fotosnap camera, the dslr one.\n",
    "Also, what TVs or TV related products do you have?\"\"\",\n",
    "    'ideal_answer':\"\"\"\\\n",
    "Of course!  The SmartX ProPhone is a powerful \\\n",
    "smartphone with advanced camera features. \\\n",
    "For instance, it has a 12MP dual camera. \\\n",
    "Other features include 5G wireless and 128GB storage. \\\n",
    "It also has a 6.1-inch display.  The price is $899.99.\n",
    "\n",
    "The FotoSnap DSLR Camera is great for \\\n",
    "capturing stunning photos and videos. \\\n",
    "Some features include 1080p video, \\\n",
    "3-inch LCD, a 24.2MP sensor, \\\n",
    "and interchangeable lenses. \\\n",
    "The price is 599.99.\n",
    "\n",
    "For TVs and TV related products, we offer 3 TVs \\\n",
    "\n",
    "\n",
    "All TVs offer HDR and Smart TV.\n",
    "\n",
    "The CineView 4K TV has vibrant colors and smart features. \\\n",
    "Some of these features include a 55-inch display, \\\n",
    "'4K resolution. It's priced at 599.\n",
    "\n",
    "The CineView 8K TV is a stunning 8K TV. \\\n",
    "Some features include a 65-inch display and \\\n",
    "8K resolution.  It's priced at 2999.99\n",
    "\n",
    "The CineView OLED TV lets you experience vibrant colors. \\\n",
    "Some features include a 55-inch display and 4K resolution. \\\n",
    "It's priced at 1499.99.\n",
    "\n",
    "We also offer 2 home theater products, both which include bluetooth.\\\n",
    "The SoundMax Home Theater is a powerful home theater system for \\\n",
    "an immmersive audio experience.\n",
    "Its features include 5.1 channel, 1000W output, and wireless subwoofer.\n",
    "It's priced at 399.99.\n",
    "\n",
    "The SoundMax Soundbar is a sleek and powerful soundbar.\n",
    "It's features include 2.1 channel, 300W output, and wireless subwoofer.\n",
    "It's priced at 199.99\n",
    "\n",
    "Are there any questions additional you may have about these products \\\n",
    "that you mentioned here?\n",
    "Or may do you have other questions I can help you with?\n",
    "    \"\"\"\n",
    "}"
   ]
  },
  {
   "cell_type": "markdown",
   "id": "67cceac4-0d92-48db-99de-4d6776ba96e8",
   "metadata": {},
   "source": [
    "\n",
    "\n",
    "## Check if the LLM's response agrees with or disagrees with the expert answer\n",
    "\n",
    "This evaluation prompt is from the [OpenAI evals](https://github.com/openai/evals/blob/main/evals/registry/modelgraded/fact.yaml) project.\n",
    "\n",
    "So this is if you have an expert human \n",
    "customer service representative write a really good answer. The \n",
    "expert says, this would be a great answer., \"Of \n",
    "course! The SmartX ProPhone is a.\". \n",
    "It goes on to give a lot of helpful information. \n",
    "Now, it is unreasonable to expect any LLM to generate \n",
    "this exact answer word for word. \n",
    "And in classical natural language processing \n",
    "techniques, there are some traditional metrics for \n",
    "measuring if the LLM output is similar to this \n",
    "expert human written outputs. For example, there's \n",
    "something called the [BLEU score](https://en.wikipedia.org/wiki/BLEU)."
   ]
  },
  {
   "cell_type": "code",
   "execution_count": 9,
   "id": "596db8b9",
   "metadata": {},
   "outputs": [],
   "source": [
    "def eval_vs_ideal(test_set, assistant_answer):\n",
    "\n",
    "    cust_msg = test_set['customer_msg']\n",
    "    ideal = test_set['ideal_answer']\n",
    "    completion = assistant_answer\n",
    "    \n",
    "    system_message = \"\"\"\\\n",
    "    You are an assistant that evaluates how well the customer service agent \\\n",
    "    answers a user question by comparing the response to the ideal (expert) response\n",
    "    Output a single letter and nothing else. \n",
    "    \"\"\"\n",
    "\n",
    "    user_message = f\"\"\"\\\n",
    "You are comparing a submitted answer to an expert answer on a given question. Here is the data:\n",
    "    [BEGIN DATA]\n",
    "    ************\n",
    "    [Question]: {cust_msg}\n",
    "    ************\n",
    "    [Expert]: {ideal}\n",
    "    ************\n",
    "    [Submission]: {completion}\n",
    "    ************\n",
    "    [END DATA]\n",
    "\n",
    "Compare the factual content of the submitted answer with the expert answer. Ignore any differences in style, grammar, or punctuation.\n",
    "    The submitted answer may either be a subset or superset of the expert answer, or it may conflict with it. Determine which case applies. Answer the question by selecting one of the following options:\n",
    "    (A) The submitted answer is a subset of the expert answer and is fully consistent with it.\n",
    "    (B) The submitted answer is a superset of the expert answer and is fully consistent with it.\n",
    "    (C) The submitted answer contains all the same details as the expert answer.\n",
    "    (D) There is a disagreement between the submitted answer and the expert answer.\n",
    "    (E) The answers differ, but these differences don't matter from the perspective of factuality.\n",
    "  choice_strings: ABCDE\n",
    "\"\"\"\n",
    "\n",
    "    messages = [\n",
    "        {'role': 'system', 'content': system_message},\n",
    "        {'role': 'user', 'content': user_message}\n",
    "    ]\n",
    "\n",
    "    response = get_completion_from_messages(messages)\n",
    "    return response"
   ]
  },
  {
   "cell_type": "markdown",
   "id": "b4108849-dfad-4788-9ed6-a16e7776039c",
   "metadata": {},
   "source": [
    "But \n",
    "it turns out there's an even better way, which is \n",
    "**you can use a prompt**, which I'm going to specify here, to ask an \n",
    "LLM to compare how well the automatically generated customer \n",
    "service agent output corresponds to the \n",
    "ideal expert response that was written \n",
    "by a human that we just showed up above. \n",
    "\n",
    "Here's the prompt we can use, which is. We're going to use an LLM \n",
    "and tell it to be an assistant that evaluates how well the \n",
    "customer service agent answers a user question by \n",
    "comparing the response, that was the automatically generated \n",
    "one, to the ideal (expert) human written \n",
    "response. \n",
    "\n",
    "So we're going to give it the data, which is what was the customer request, what \n",
    "is the expert written ideal response, and then what did our \n",
    "LLM actually output. \n",
    "And this rubric comes from the OpenAI open source evals framework, \n",
    "which is a fantastic framework with many evaluation methods \n",
    "contributed both by OpenAI developers and \n",
    "by the broader open source community. \n",
    "In fact, if you want you could contribute an eval to \n",
    "that framework yourself to help others evaluate their Large \n",
    "Language Model outputs. \n",
    "\n",
    "So in this rubric, we tell the LLM to:\n",
    "\n",
    ">\"Compare the factual content of the submitted answer \n",
    "with the expert answer. Ignore any differences in style, \n",
    "grammar, or punctuation.\". \n",
    "\n",
    "The key is **we ask it to \n",
    "carry the comparison and output a score from A to E, \n",
    "depending on whether the \"submitted answer is a \n",
    "subset of the expert answer and is fully consistent\", \n",
    "versus the \"submitted answer is a superset of the expert answer \n",
    "and is fully consistent with it\"**. \n",
    "\n",
    "This might mean it hallucinated or \n",
    "made up some additional facts. \n",
    "\"Submitted answer contains all the details as the expert \n",
    "answer.\", whether there's disagreement or whether \"the \n",
    "answers differ, but these differences don't matter \n",
    "from the perspective of factuality\". \n",
    "And the LLM will pick whichever of these seems to be the \n",
    "most appropriate description. "
   ]
  },
  {
   "cell_type": "code",
   "execution_count": 10,
   "id": "5791815d",
   "metadata": {},
   "outputs": [
    {
     "name": "stdout",
     "output_type": "stream",
     "text": [
      "Sure, I'd be happy to help! The SmartX ProPhone is a powerful smartphone with a 6.1-inch display, 128GB storage, 12MP dual camera, and 5G capabilities. The FotoSnap DSLR Camera is a versatile camera with a 24.2MP sensor, 1080p video, 3-inch LCD, and interchangeable lenses. As for TVs, we have a variety of options including the CineView 4K TV with a 55-inch display, 4K resolution, HDR, and smart TV capabilities, the CineView 8K TV with a 65-inch display, 8K resolution, HDR, and smart TV capabilities, and the CineView OLED TV with a 55-inch display, 4K resolution, HDR, and smart TV capabilities. We also have the SoundMax Home Theater system with 5.1 channel, 1000W output, wireless subwoofer, and Bluetooth, and the SoundMax Soundbar with 2.1 channel, 300W output, wireless subwoofer, and Bluetooth. Is there anything else I can help you with?\n"
     ]
    }
   ],
   "source": [
    "print(assistant_answer)"
   ]
  },
  {
   "cell_type": "markdown",
   "id": "f425e984-c802-4635-9596-f5dd4ee48dbb",
   "metadata": {},
   "source": [
    "So here's the assistant answer that \n",
    "we had just now. It seems a pretty good answer, but now let's see what \n",
    "the things when it compares the assistant answer to test \n",
    "set ID. Oh, looks like it got an A. \n",
    "And so it thinks \"The submitted answer is \n",
    "a subset of the expert answer and is \n",
    "fully consistent with it\". \n",
    "\n",
    "This assistant answer is much shorter than the \n",
    "long expert answer up top, but it does hopefully is consistent. \n",
    "Once again, I'm using GPT-3.5 Turbo in this example, but to get \n",
    "a more rigorous evaluation, it might make sense to use GPT-4 in your own \n",
    "application. "
   ]
  },
  {
   "cell_type": "code",
   "execution_count": 11,
   "id": "a7790cae",
   "metadata": {},
   "outputs": [
    {
     "data": {
      "text/plain": [
       "'A'"
      ]
     },
     "execution_count": 11,
     "metadata": {},
     "output_type": "execute_result"
    }
   ],
   "source": [
    "eval_vs_ideal(test_set_ideal, assistant_answer)"
   ]
  },
  {
   "cell_type": "markdown",
   "id": "e9a1ad51-34fd-42c0-a39e-d077768d9c7f",
   "metadata": {},
   "source": [
    "Now, let's try something totally different. I'm \n",
    "going to have a very different assistant answer, \"life is \n",
    "like a box of chocolates\", quote from a movie called \"Forrest Gump\". "
   ]
  },
  {
   "cell_type": "code",
   "execution_count": 12,
   "id": "c0ff694a",
   "metadata": {},
   "outputs": [],
   "source": [
    "assistant_answer_2 = \"life is like a box of chocolates\""
   ]
  },
  {
   "cell_type": "code",
   "execution_count": 13,
   "id": "1de6e039",
   "metadata": {},
   "outputs": [
    {
     "data": {
      "text/plain": [
       "'D'"
      ]
     },
     "execution_count": 13,
     "metadata": {},
     "output_type": "execute_result"
    }
   ],
   "source": [
    "eval_vs_ideal(test_set_ideal, assistant_answer_2)"
   ]
  },
  {
   "cell_type": "markdown",
   "id": "0fbba2f0-ed5c-49a1-a884-57ddd02010fe",
   "metadata": {},
   "source": [
    "And if we were to evaluate that it outputs D and it concludes that, \n",
    "\"there is a disagreement between the submitted answer\", \n",
    "life is like a box of chocolate and the expert answer. \n",
    "So it correctly assesses this to be a pretty terrible answer. \n",
    "\n",
    "## Evaluating models using OpenAI GPT Models Alone\n",
    "\n",
    "In summary there are two design patterns to consider when evaluating LLMs where the correct answer is not totally clear or precisely defined as one answer. \n",
    "\n",
    "First is, even without an expert provided ideal answer, \n",
    "if you can write a rubric, you can use one \n",
    "LLM to evaluate another LLM's output. \n",
    "\n",
    "And second, if you can provide an expert provided ideal answer, \n",
    "then that can help your LLM better compare if, and if a \n",
    "specific assistant output is similar to the expert provided \n",
    "ideal answer. \n",
    "\n",
    "Hopefully that helps you to evaluate your LLM systems \n",
    "outputs. So that both during development as well as when the \n",
    "system is running and you're getting responses, you \n",
    "can continue to monitor its performance and also have \n",
    "these tools to continuously evaluate and \n",
    "keep on improving the performance of \n",
    "your system. \n",
    "\n",
    "## Evaluating LLM Applications more automatically using LangChain\n",
    "\n",
    "We have seen in this article how we can use OpenAI and GPT alone to evaluate the outputs of these models. However there are other tools like LangChain together with OpenAI that can make LLM application evaluation even easier and faster as can be seen in this [previous article](https://livingdatalab.com/posts/2023-06-05-using-langchain-to-evaluate-llm-applications.html).\n",
    "\n",
    "## Acknowledgements\n",
    "\n",
    "I'd like to express my thanks to the wonderful [Building Systems with the ChatGPT API Course](https://www.deeplearning.ai/short-courses/building-systems-with-chatgpt/) by DeepLearning.ai and OpenAI - which i completed, and acknowledge the use of some images and other materials from the course in this article."
   ]
  },
  {
   "cell_type": "code",
   "execution_count": null,
   "id": "e5eae9bd-d84f-4ac1-93df-0c84bd0e927e",
   "metadata": {},
   "outputs": [],
   "source": []
  }
 ],
 "metadata": {
  "kernelspec": {
   "display_name": "Python 3 (ipykernel)",
   "language": "python",
   "name": "python3"
  },
  "language_info": {
   "codemirror_mode": {
    "name": "ipython",
    "version": 3
   },
   "file_extension": ".py",
   "mimetype": "text/x-python",
   "name": "python",
   "nbconvert_exporter": "python",
   "pygments_lexer": "ipython3",
   "version": "3.9.13"
  }
 },
 "nbformat": 4,
 "nbformat_minor": 5
}
