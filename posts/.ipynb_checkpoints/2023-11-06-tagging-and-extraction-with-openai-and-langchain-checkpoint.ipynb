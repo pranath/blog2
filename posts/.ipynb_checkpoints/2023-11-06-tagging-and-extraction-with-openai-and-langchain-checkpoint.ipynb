{
 "cells": [
  {
   "cell_type": "raw",
   "id": "8c222b65-fdee-4d48-82c0-00ddedbd7574",
   "metadata": {},
   "source": [
    "---\n",
    "date: '2023-11-06'\n",
    "categories:\n",
    " - natural-language-processing\n",
    " - langchain\n",
    " - openai\n",
    "title: Enhancing Data Structuring through Tagging and Extraction with OpenAI and LangChain\n",
    "description: Structured data extraction is increasingly becoming an essential tool for developers who wish to harness the power of OpenAI's capabilities. This blog post aims to provide an understanding of how developers use OpenAI functions for tagging and extraction - two primary use cases central to transforming unstructured text into structured, actionable data.\n",
    "image: https://github.com/pranath/blog/raw/master/images/langchain3.jpg\n",
    "---"
   ]
  },
  {
   "cell_type": "markdown",
   "id": "16de7336",
   "metadata": {},
   "source": [
    "## Introduction \n",
    "\n",
    "Structured data extraction is increasingly becoming an essential tool for developers who wish to harness the power of Large Language Model capabilities. This blog post aims to provide a comprehensive understanding of how developers can use OpenAI functions for tagging and extraction, two primary use cases central to transforming unstructured text into structured, actionable data.\n",
    "\n",
    "## Understanding Tagging\n",
    "\n",
    "### The Concept of Tagging\n",
    "Tagging involves submitting unstructured text to an OpenAI language model along with structured instructions. The language model then generates a structured output, creating a response that aligns with the provided description. This output typically contains tags corresponding to the sentiment and language of the input text.\n",
    "\n",
    "<img src=\"https://github.com/pranath/blog/raw/master/images/tag-extract-1.png\" width=\"800\"/>\n",
    "\n",
    "So, in this example, we know that we want to generate an object that has the text's emotion as well as a tag for the language that we pass in. So, when we bring in an implicit text, we'll pass in a structured description that says \"extract some sentiment, extract some language,\" and the LLM will reason over that text and return an object with sentiment and language tags. This is comparable to, but slightly distinct from, the second use case, extraction. \n",
    "\n",
    "### Practical Example of Tagging\n",
    "For instance, if we want to determine the sentiment of a text and its language, we structure a request that specifies these requirements. The model processes the text and returns an object tagged with both sentiment and language. This allows for a nuanced understanding of the content, which is crucial for various applications.\n",
    "\n",
    "## The Process of Extraction\n",
    "\n",
    "### Distinguishing Extraction from Tagging\n",
    "Extraction differs from tagging as it involves identifying and retrieving specific entities from text. Unlike tagging, where a single structured output is generated, extraction yields a list of elements, such as the names of mentioned academic papers in an article.\n",
    "\n",
    "<img src=\"https://github.com/pranath/blog/raw/master/images/tag-extract-2.png\" width=\"800\"/>\n",
    "\n",
    "### Implementing Extraction in Code\n",
    "We begin by importing necessary functions and classes, creating models that define the structured output we aim to extract. With these models, the OpenAI function can parse the text and return the requested entities in a structured format."
   ]
  },
  {
   "cell_type": "code",
   "execution_count": 13,
   "id": "cb41f5f4-df8d-4d04-9eaa-193b8c29b00b",
   "metadata": {
    "tags": []
   },
   "outputs": [],
   "source": [
    "import os\n",
    "import openai\n",
    "import warnings\n",
    "warnings.filterwarnings('ignore')\n",
    "\n",
    "from dotenv import load_dotenv, find_dotenv\n",
    "_ = load_dotenv(find_dotenv()) # read local .env file\n",
    "openai.api_key = os.environ['OPENAI_API_KEY']"
   ]
  },
  {
   "cell_type": "code",
   "execution_count": 14,
   "id": "bfb2ede9-b0b4-4c8c-b00f-9a9911f38614",
   "metadata": {},
   "outputs": [],
   "source": [
    "from typing import List\n",
    "from pydantic import BaseModel, Field\n",
    "from langchain.utils.openai_functions import convert_pydantic_to_openai_function"
   ]
  },
  {
   "cell_type": "markdown",
   "id": "e7a39d50-9e5c-4c2f-a974-24e5f2701902",
   "metadata": {},
   "source": [
    "## Tagging and Extraction in Practice\n",
    "\n",
    "### Creating a Tagging Model\n",
    "Let's develop a tagging model using PyDantic. We define a schema instructing the model to tag sentiments and languages, outlining possible values for each tag. This schema guides the language model to understand and shape the data we're extracting.\n",
    "\n",
    "So we'll call the class tagging. We'll have a description that says tag the piece of text, which is your information, and then a list of the text that we have to utilise that we want to tag the text to. So, first, sentiment, and then a description of the sentiment. It has to be called pos, neg, or neutral. So we're defining values for the sentiment field, and remember, we're fitting past in the language model. So this is how we inform the language model what shape the data we're retrieving should have. We then have a language tag in here to get into the language. \n",
    "\n",
    "So we'll start with a description of the sentiment field. Because we know we'll always do tagging, we're attempting to force it to always do this tagging function. We can then establish a tagging chain by combining the prompt with this model and calling it... "
   ]
  },
  {
   "cell_type": "code",
   "execution_count": 15,
   "id": "b3ae5481-4155-4831-a5dd-4c183b3b4990",
   "metadata": {},
   "outputs": [],
   "source": [
    "class Tagging(BaseModel):\n",
    "    \"\"\"Tag the piece of text with particular info.\"\"\"\n",
    "    sentiment: str = Field(description=\"sentiment of text, should be `pos`, `neg`, or `neutral`\")\n",
    "    language: str = Field(description=\"language of text (should be ISO 639-1 code)\")"
   ]
  },
  {
   "cell_type": "code",
   "execution_count": 16,
   "id": "3cd656b2-62be-49d4-a277-b920c67203c1",
   "metadata": {},
   "outputs": [
    {
     "data": {
      "text/plain": [
       "{'name': 'Tagging',\n",
       " 'description': 'Tag the piece of text with particular info.',\n",
       " 'parameters': {'title': 'Tagging',\n",
       "  'description': 'Tag the piece of text with particular info.',\n",
       "  'type': 'object',\n",
       "  'properties': {'sentiment': {'title': 'Sentiment',\n",
       "    'description': 'sentiment of text, should be `pos`, `neg`, or `neutral`',\n",
       "    'type': 'string'},\n",
       "   'language': {'title': 'Language',\n",
       "    'description': 'language of text (should be ISO 639-1 code)',\n",
       "    'type': 'string'}},\n",
       "  'required': ['sentiment', 'language']}}"
      ]
     },
     "execution_count": 16,
     "metadata": {},
     "output_type": "execute_result"
    }
   ],
   "source": [
    "convert_pydantic_to_openai_function(Tagging)"
   ]
  },
  {
   "cell_type": "code",
   "execution_count": 17,
   "id": "ed8b15a7-450c-43d6-af44-ca63800a4619",
   "metadata": {},
   "outputs": [],
   "source": [
    "from langchain.prompts import ChatPromptTemplate\n",
    "from langchain.chat_models import ChatOpenAI"
   ]
  },
  {
   "cell_type": "code",
   "execution_count": 18,
   "id": "2cc5bac3-3783-4ce7-9de6-83c905fba7c5",
   "metadata": {},
   "outputs": [],
   "source": [
    "model = ChatOpenAI(temperature=0)"
   ]
  },
  {
   "cell_type": "code",
   "execution_count": 19,
   "id": "798ac5b3-7e47-4cfb-8173-63900cf1e7f6",
   "metadata": {},
   "outputs": [],
   "source": [
    "tagging_functions = [convert_pydantic_to_openai_function(Tagging)]"
   ]
  },
  {
   "cell_type": "code",
   "execution_count": 20,
   "id": "9d558031-18cf-4791-b061-8911ce314605",
   "metadata": {},
   "outputs": [],
   "source": [
    "prompt = ChatPromptTemplate.from_messages([\n",
    "    (\"system\", \"Think carefully, and then tag the text as instructed\"),\n",
    "    (\"user\", \"{input}\")\n",
    "])"
   ]
  },
  {
   "cell_type": "code",
   "execution_count": 21,
   "id": "00607aff-a64e-42b7-8cf4-893e8393dd33",
   "metadata": {},
   "outputs": [],
   "source": [
    "model_with_functions = model.bind(\n",
    "    functions=tagging_functions,\n",
    "    function_call={\"name\": \"Tagging\"}\n",
    ")"
   ]
  },
  {
   "cell_type": "code",
   "execution_count": 22,
   "id": "1d0bc519-2b8e-40d0-88ec-fc5ef0291f16",
   "metadata": {},
   "outputs": [],
   "source": [
    "tagging_chain = prompt | model_with_functions"
   ]
  },
  {
   "cell_type": "code",
   "execution_count": 23,
   "id": "8688fdba-0996-446c-a77b-318094944998",
   "metadata": {},
   "outputs": [
    {
     "data": {
      "text/plain": [
       "AIMessage(content='', additional_kwargs={'function_call': {'name': 'Tagging', 'arguments': '{\\n  \"sentiment\": \"pos\",\\n  \"language\": \"en\"\\n}'}})"
      ]
     },
     "execution_count": 23,
     "metadata": {},
     "output_type": "execute_result"
    }
   ],
   "source": [
    "tagging_chain.invoke({\"input\": \"I love langchain\"})"
   ]
  },
  {
   "cell_type": "code",
   "execution_count": 24,
   "id": "7df9aac5-7194-4a12-bda7-e7e83e705929",
   "metadata": {},
   "outputs": [
    {
     "data": {
      "text/plain": [
       "AIMessage(content='', additional_kwargs={'function_call': {'name': 'Tagging', 'arguments': '{\\n  \"sentiment\": \"neg\",\\n  \"language\": \"it\"\\n}'}})"
      ]
     },
     "execution_count": 24,
     "metadata": {},
     "output_type": "execute_result"
    }
   ],
   "source": [
    "tagging_chain.invoke({\"input\": \"non mi piace questo cibo\"})"
   ]
  },
  {
   "cell_type": "markdown",
   "id": "919f4eb1-e176-444c-a396-7b1b90a2f19a",
   "metadata": {},
   "source": [
    "And we may refer to this as a piece of text and obtain that response. So we're running the tagging function, and we can see that the prompt and call are present, as well as the arguments that are sent in, and we can see that the sentiment is positive and the language is English. This is something we can do with another piece of text. We can change it up frequently by using a different language and a different sentiment.\n",
    "\n",
    "## Improving Output with Helper Parsers\n",
    "\n",
    "And we know we'll always be extracting the structure, so what we actually want to do is add an output parser that takes in this AI message, parses the output JSON, and simply states that, because it's the only interesting thing here. We already know we're going to call this method, so the fact that content is null is irrelevant to us. We're not interested in the fact that there's a function called this. We're making it do it. The fact that it is calling the tagging function is likewise uninteresting to us, because we know it will call this tagging function if we compel it to. "
   ]
  },
  {
   "cell_type": "code",
   "execution_count": 25,
   "id": "0749e408-3878-4ddd-ad33-8d5b8418a3f2",
   "metadata": {},
   "outputs": [],
   "source": [
    "from langchain.output_parsers.openai_functions import JsonOutputFunctionsParser"
   ]
  },
  {
   "cell_type": "code",
   "execution_count": 26,
   "id": "dc45243e-7225-427d-b679-d737ebaec780",
   "metadata": {},
   "outputs": [],
   "source": [
    "tagging_chain = prompt | model_with_functions | JsonOutputFunctionsParser()"
   ]
  },
  {
   "cell_type": "code",
   "execution_count": 27,
   "id": "7ba84e64-518c-40e1-a7c9-d174314bc3fb",
   "metadata": {},
   "outputs": [
    {
     "data": {
      "text/plain": [
       "{'sentiment': 'neg', 'language': 'it'}"
      ]
     },
     "execution_count": 27,
     "metadata": {},
     "output_type": "execute_result"
    }
   ],
   "source": [
    "tagging_chain.invoke({\"input\": \"non mi piace questo cibo\"})"
   ]
  },
  {
   "cell_type": "markdown",
   "id": "92e417b4-9306-413f-865f-e13dbd2d0196",
   "metadata": {},
   "source": [
    "### Extracting Information\n",
    "Moving on to extraction, we define another model to capture multiple pieces of information, such as names and ages from a text. We then instruct the language model to parse these elements into a list of structured objects.\n",
    "\n",
    "Extraction is similar to tagging in that it extracts many pieces of information. We'll start by defining the bits of information we want to extract, and this is a person's theme, so we'll have information about a person, the name, which is a person's name, and the age. We'll go ahead and mark it as an optional integer. We want to extract a list of these objects, therefore we'll construct another class called information that contains only the information that we want to extract. We'll add a persons attribute, and this will be a list of the person's type. "
   ]
  },
  {
   "cell_type": "code",
   "execution_count": 28,
   "id": "97338dce-a61a-4f8b-912c-6108dcb86183",
   "metadata": {},
   "outputs": [],
   "source": [
    "from typing import Optional\n",
    "class Person(BaseModel):\n",
    "    \"\"\"Information about a person.\"\"\"\n",
    "    name: str = Field(description=\"person's name\")\n",
    "    age: Optional[int] = Field(description=\"person's age\")"
   ]
  },
  {
   "cell_type": "code",
   "execution_count": 29,
   "id": "f558fb45-f3a5-47be-8778-dddec2d00ba1",
   "metadata": {},
   "outputs": [],
   "source": [
    "class Information(BaseModel):\n",
    "    \"\"\"Information to extract.\"\"\"\n",
    "    people: List[Person] = Field(description=\"List of info about people\")"
   ]
  },
  {
   "cell_type": "markdown",
   "id": "7c039f7e-b3b8-4f3f-8230-c444d0a601b2",
   "metadata": {},
   "source": [
    "So we can convert that class to OpenAI functions here, and we can see that we have information, properties, the main property is people, and then we can see that we now have the person's description here if we look at the description of people. So, if we just convert the entity to the OpenAI function method, we take care of resolving any mentions and putting all of the essential information from the JavaScript zone block. So now we'll set up an extraction chain. "
   ]
  },
  {
   "cell_type": "code",
   "execution_count": 30,
   "id": "5eeb6028-0ade-46f6-a899-ca10f185bb24",
   "metadata": {},
   "outputs": [
    {
     "data": {
      "text/plain": [
       "{'name': 'Information',\n",
       " 'description': 'Information to extract.',\n",
       " 'parameters': {'title': 'Information',\n",
       "  'description': 'Information to extract.',\n",
       "  'type': 'object',\n",
       "  'properties': {'people': {'title': 'People',\n",
       "    'description': 'List of info about people',\n",
       "    'type': 'array',\n",
       "    'items': {'title': 'Person',\n",
       "     'description': 'Information about a person.',\n",
       "     'type': 'object',\n",
       "     'properties': {'name': {'title': 'Name',\n",
       "       'description': \"person's name\",\n",
       "       'type': 'string'},\n",
       "      'age': {'title': 'Age',\n",
       "       'description': \"person's age\",\n",
       "       'type': 'integer'}},\n",
       "     'required': ['name']}}},\n",
       "  'required': ['people']}}"
      ]
     },
     "execution_count": 30,
     "metadata": {},
     "output_type": "execute_result"
    }
   ],
   "source": [
    "convert_pydantic_to_openai_function(Information)"
   ]
  },
  {
   "cell_type": "markdown",
   "id": "765cf135-5d5b-4672-b99c-96ee71bc10cb",
   "metadata": {},
   "source": [
    "First, let's define some extraction functions. On this information block, we'll call convert_pydantic_to_openai_function to the information function. The extraction model will be built up next. So we'll bind functions equal to extraction functions because we want to use them, and then we'll bind function call with the name, so that equals information since the name of the function we want the model to call is information. "
   ]
  },
  {
   "cell_type": "code",
   "execution_count": 31,
   "id": "f16ce50e-bad7-4fbb-b9e2-0adae6fc55f2",
   "metadata": {},
   "outputs": [],
   "source": [
    "extraction_functions = [convert_pydantic_to_openai_function(Information)]\n",
    "extraction_model = model.bind(functions=extraction_functions, function_call={\"name\": \"Information\"})"
   ]
  },
  {
   "cell_type": "code",
   "execution_count": 32,
   "id": "3ed58069-3f7c-433e-93ed-5660d21435c9",
   "metadata": {},
   "outputs": [
    {
     "data": {
      "text/plain": [
       "AIMessage(content='', additional_kwargs={'function_call': {'name': 'Information', 'arguments': '{\\n  \"people\": [\\n    {\\n      \"name\": \"Joe\",\\n      \"age\": 30\\n    },\\n    {\\n      \"name\": \"Martha\",\\n      \"age\": 0\\n    }\\n  ]\\n}'}})"
      ]
     },
     "execution_count": 32,
     "metadata": {},
     "output_type": "execute_result"
    }
   ],
   "source": [
    "extraction_model.invoke(\"Joe is 30, his mom is Martha\")"
   ]
  },
  {
   "cell_type": "markdown",
   "id": "2772b4dc-0c47-4637-8ff1-6404a842279d",
   "metadata": {},
   "source": [
    "So let's put it to the test with a simple statement. We can see that it extracts the name Joe and his age of 30. This time, we receive the second person, Martha. It is zero. \n",
    "\n",
    "So we've obviously indicated Martha being here, and the model appears to believe that if it doesn't know the individual, it will simply put zero, which is definitely a way we can improve. We can compel the model to respond more intelligently. So what we're going to do is add a prompt that will instruct the language model to accomplish that. So we're adding a prompt now, and we've got a system that just says \"extract the relevant information.\" Do not get that extract partial information if it is not expressly provided. "
   ]
  },
  {
   "cell_type": "code",
   "execution_count": 33,
   "id": "172df097-250a-4813-b76d-21436c13056d",
   "metadata": {},
   "outputs": [],
   "source": [
    "prompt = ChatPromptTemplate.from_messages([\n",
    "    (\"system\", \"Extract the relevant information, if not explicitly provided do not guess. Extract partial info\"),\n",
    "    (\"human\", \"{input}\")\n",
    "])"
   ]
  },
  {
   "cell_type": "code",
   "execution_count": 34,
   "id": "dfec48d7-25a2-46d7-a7a2-33284b577dd3",
   "metadata": {},
   "outputs": [],
   "source": [
    "extraction_chain = prompt | extraction_model"
   ]
  },
  {
   "cell_type": "code",
   "execution_count": 35,
   "id": "f19622af-4b01-4145-ae5a-af15b551a182",
   "metadata": {},
   "outputs": [
    {
     "data": {
      "text/plain": [
       "AIMessage(content='', additional_kwargs={'function_call': {'name': 'Information', 'arguments': '{\\n  \"people\": [\\n    {\\n      \"name\": \"Joe\",\\n      \"age\": 30\\n    },\\n    {\\n      \"name\": \"Martha\"\\n    }\\n  ]\\n}'}})"
      ]
     },
     "execution_count": 35,
     "metadata": {},
     "output_type": "execute_result"
    }
   ],
   "source": [
    "extraction_chain.invoke({\"input\": \"Joe is 30, his mom is Martha\"})"
   ]
  },
  {
   "cell_type": "markdown",
   "id": "f981101c-7231-470c-bf16-d0815f544f29",
   "metadata": {},
   "source": [
    "So, hopefully, it will either compel the language model or allow the language model to not always answer with the name. It will not make up the value zero for age. As a result, we are free to extract. This prompt is followed by the extraction model. And if we call this extraction chain the same thing, we can see that in the argument we have, name, Martha, and there's nothing else to do about age, it's correctly thinking that it doesn't need to provide information on our age. Again, we're probably capable of doing better than this AI message. "
   ]
  },
  {
   "cell_type": "code",
   "execution_count": 36,
   "id": "38989431-9a61-461e-a86f-61a7dddab63c",
   "metadata": {},
   "outputs": [],
   "source": [
    "extraction_chain = prompt | extraction_model | JsonOutputFunctionsParser()"
   ]
  },
  {
   "cell_type": "code",
   "execution_count": 37,
   "id": "13ac89c9-1e8d-4e11-8bca-909a6c34d23c",
   "metadata": {},
   "outputs": [
    {
     "data": {
      "text/plain": [
       "{'people': [{'name': 'Joe', 'age': 30}, {'name': 'Martha'}]}"
      ]
     },
     "execution_count": 37,
     "metadata": {},
     "output_type": "execute_result"
    }
   ],
   "source": [
    "extraction_chain.invoke({\"input\": \"Joe is 30, his mom is Martha\"})"
   ]
  },
  {
   "cell_type": "markdown",
   "id": "ffd56109-1105-45dd-9671-fba7a4565553",
   "metadata": {},
   "source": [
    "### Streamlining the Extraction Process\n",
    "By employing a JSON key output function parser, we can extract specific data points without extraneous information. This refined output is not only cleaner but also more functional for subsequent data handling.\n",
    "\n",
    "And so, in this case, all we actually want is the value of the arguments, which is a JSON block, and it's quite convenient to have those parses with JSON because it's JSON in this JSON block. We want to be able to use the various elements individually. As a result, LangChain includes a handy small output parser that can assist with this. It's named JSONOutputFunctionsParser, and we'll import it from the OpenAI functions of LangChainOutputParser. Then we create our tagging chain, which we can do as a prompt, and we can connect it with the function model, and we'll now add this output parser into the final element. \n",
    "\n",
    "We can try to structure it by parsing it. So let's bring back the JSON assistance parser from previously. We can see that it's processed into this dictionary containing persons and then a list of names, as we call it again. However, there is some unnecessary information here that we don't actually need for extraction. We don't really care about this list of people since, as we defined it, information is merely a vehicle that allows us to extract many components from this person. What we truly care about is this list of individuals. \n",
    "\n",
    "For that, we can utilise a different assistance parser. We can use the function parser to import JSON keys. And what this will essentially do is look for a specific key, and the output will just contain that key. So we've slightly altered our extraction chain. We pass in our new helper parser, along with a key name and individuals to specify the field we wish to extract. Now, if we call it that, I'll rename it. As you can see, we now only have the list. So, while it's a tiny enhancement, it will make it easier to use downstream if extraction is indeed what we're after for this purpose. "
   ]
  },
  {
   "cell_type": "code",
   "execution_count": 38,
   "id": "f8db4b39-c28b-4c0e-8b9a-55ceb8ba817e",
   "metadata": {},
   "outputs": [],
   "source": [
    "from langchain.output_parsers.openai_functions import JsonKeyOutputFunctionsParser"
   ]
  },
  {
   "cell_type": "code",
   "execution_count": 39,
   "id": "2901d3ac-4dfc-4fb9-afd3-ab056489d3ae",
   "metadata": {},
   "outputs": [],
   "source": [
    "extraction_chain = prompt | extraction_model | JsonKeyOutputFunctionsParser(key_name=\"people\")"
   ]
  },
  {
   "cell_type": "code",
   "execution_count": 40,
   "id": "c7eff400-9f3a-42a8-ba4a-a3757e7939e2",
   "metadata": {},
   "outputs": [
    {
     "data": {
      "text/plain": [
       "[{'name': 'Joe', 'age': 30}, {'name': 'Martha'}]"
      ]
     },
     "execution_count": 40,
     "metadata": {},
     "output_type": "execute_result"
    }
   ],
   "source": [
    "extraction_chain.invoke({\"input\": \"Joe is 30, his mom is Martha\"})"
   ]
  },
  {
   "cell_type": "markdown",
   "id": "3b8524f3-a663-4007-ad59-52dfe00343e9",
   "metadata": {},
   "source": [
    "## Applying Tagging and Extraction to Real-World Data\n",
    "\n",
    "### Loading and Analyzing an Article\n",
    "We will demonstrate the application of our tagging and extraction models on an actual article, showcasing how to load the document, create the models, and execute the functions to retrieve structured data.\n",
    "\n",
    "So, first, we'll fill a load with a real article from the Internet. So we're going to employ a web-based loader from the Langchain document loaders, which we discussed in a [previous article](/posts/2023-06-04-question-answering-over-documents-with-langchain.html). So we'll enter this URL here, which leads to a fantastic blog post about autonomous agents. This is going to be called with load, and it will load a few documents. \n",
    "\n",
    "Because it will only load one document, we will create a single document object to represent it. Then, because this is a lengthy document, we're not going to print it all. So the first thing we're going to do is get the first 10,000 characters with this. If we publish the first few paragraphs of this page's content, we won't be able to print the entire thing because it's quite long. However, if we print the introduction, we can see that it is an article about empowering autonomous agents. "
   ]
  },
  {
   "cell_type": "code",
   "execution_count": 41,
   "id": "bc7c4a8c-d4c8-4400-b1d3-5c7c0c25786e",
   "metadata": {},
   "outputs": [],
   "source": [
    "from langchain.document_loaders import WebBaseLoader\n",
    "loader = WebBaseLoader(\"https://lilianweng.github.io/posts/2023-06-23-agent/\")\n",
    "documents = loader.load()"
   ]
  },
  {
   "cell_type": "code",
   "execution_count": 42,
   "id": "dbd2e910-e0e0-447a-8118-6fe792f04e15",
   "metadata": {},
   "outputs": [],
   "source": [
    "doc = documents[0]"
   ]
  },
  {
   "cell_type": "code",
   "execution_count": 43,
   "id": "b5e39f78-ff18-4016-a751-7d0e4c82bb36",
   "metadata": {},
   "outputs": [],
   "source": [
    "page_content = doc.page_content[:10000]"
   ]
  },
  {
   "cell_type": "code",
   "execution_count": 44,
   "id": "bb8d98ee-e9b2-4ce8-982a-c06dc006da76",
   "metadata": {
    "scrolled": true
   },
   "outputs": [
    {
     "name": "stdout",
     "output_type": "stream",
     "text": [
      "\n",
      "\n",
      "\n",
      "\n",
      "\n",
      "\n",
      "LLM Powered Autonomous Agents | Lil'Log\n",
      "\n",
      "\n",
      "\n",
      "\n",
      "\n",
      "\n",
      "\n",
      "\n",
      "\n",
      "\n",
      "\n",
      "\n",
      "\n",
      "\n",
      "\n",
      "\n",
      "\n",
      "\n",
      "\n",
      "\n",
      "\n",
      "\n",
      "\n",
      "\n",
      "\n",
      "\n",
      "\n",
      "\n",
      "\n",
      "\n",
      "\n",
      "\n",
      "\n",
      "\n",
      "\n",
      "\n",
      "\n",
      "\n",
      "\n",
      "Lil'Log\n",
      "\n",
      "\n",
      "\n",
      "\n",
      "\n",
      "\n",
      "\n",
      "\n",
      "\n",
      "\n",
      "\n",
      "\n",
      "\n",
      "\n",
      "\n",
      "\n",
      "\n",
      "\n",
      "\n",
      "\n",
      "\n",
      "\n",
      "Posts\n",
      "\n",
      "\n",
      "\n",
      "\n",
      "Archive\n",
      "\n",
      "\n",
      "\n",
      "\n",
      "Search\n",
      "\n",
      "\n",
      "\n",
      "\n",
      "Tags\n",
      "\n",
      "\n",
      "\n",
      "\n",
      "FAQ\n",
      "\n",
      "\n",
      "\n",
      "\n",
      "emojisearch.app\n",
      "\n",
      "\n",
      "\n",
      "\n",
      "\n",
      "\n",
      "\n",
      "\n",
      "\n",
      "      LLM Powered Autonomous Agents\n",
      "    \n",
      "Date: June 23, 2023  |  Estimated Reading Time: 31 min  |  Author: Lilian Weng\n",
      "\n",
      "\n",
      " \n",
      "\n",
      "\n",
      "Table of Contents\n",
      "\n",
      "\n",
      "\n",
      "Agent System Overview\n",
      "\n",
      "Component One: Planning\n",
      "\n",
      "Task Decomposition\n",
      "\n",
      "Self-Reflection\n",
      "\n",
      "\n",
      "Component Two: Memory\n",
      "\n",
      "Types of Memory\n",
      "\n",
      "Maximum Inner Product Search (MIPS)\n",
      "\n",
      "\n",
      "Component Three: Tool Use\n",
      "\n",
      "Case Studies\n",
      "\n",
      "Scientific Discovery Agent\n",
      "\n",
      "Generative Agents Simulation\n",
      "\n",
      "Proof-of-Concept Examples\n",
      "\n",
      "\n",
      "Challenges\n",
      "\n",
      "Citation\n",
      "\n",
      "References\n",
      "\n",
      "\n",
      "\n",
      "\n",
      "\n",
      "Building agents with LLM (large language model) as its core controller is a cool concept. Several proof-of-concepts demos, such as AutoGPT, GPT-Engineer and BabyAGI, serve as inspiring examples. The potentiality of LLM extends beyond generating well-written copies, stories, essays and programs; it can be framed as a powerful general\n"
     ]
    }
   ],
   "source": [
    "print(page_content[:1000])"
   ]
  },
  {
   "cell_type": "markdown",
   "id": "9654030b-ea77-4a03-ac77-d438c3b0e3a1",
   "metadata": {},
   "source": [
    "### Extracting Information from Large Texts\n",
    "For longer documents, we introduce text splitting to manage the size limitation of the language model. By dividing the text into smaller sections, we can apply our extraction model sequentially and then collate the results for a comprehensive output.\n",
    "\n",
    "First, we'll make a class that describes what we wish to tag. So we'd like to get a high-level overview of this post. So we'd like to get a synopsis, the language utilised, and any keywords. So we're going to build this great model to describe everything. Then we'll start a chain reaction. So we'll build the overview tagging function. Using this approach, you can transform one base model to an overview base model and then to an open-end function. We'll then develop our tagging model. So we'll identify the function we built before and compel it to call this overview. "
   ]
  },
  {
   "cell_type": "code",
   "execution_count": 45,
   "id": "9db0d107-5284-4253-b769-dfedb97ce95d",
   "metadata": {},
   "outputs": [],
   "source": [
    "class Overview(BaseModel):\n",
    "    \"\"\"Overview of a section of text.\"\"\"\n",
    "    summary: str = Field(description=\"Provide a concise summary of the content.\")\n",
    "    language: str = Field(description=\"Provide the language that the content is written in.\")\n",
    "    keywords: str = Field(description=\"Provide keywords related to the content.\")"
   ]
  },
  {
   "cell_type": "markdown",
   "id": "b15e8b17-606f-4300-b4a8-a3d762012b47",
   "metadata": {},
   "source": [
    "After that, we'll make a tagging chain. So we're doing a prompt, which is the prompt from earlier. A query about tagging a model to a neighbouring output function. "
   ]
  },
  {
   "cell_type": "code",
   "execution_count": 46,
   "id": "6bfe7fe6-a86d-416c-a7f2-373dc70fcba5",
   "metadata": {},
   "outputs": [],
   "source": [
    "overview_tagging_function = [\n",
    "    convert_pydantic_to_openai_function(Overview)\n",
    "]\n",
    "tagging_model = model.bind(\n",
    "    functions=overview_tagging_function,\n",
    "    function_call={\"name\":\"Overview\"}\n",
    ")\n",
    "tagging_chain = prompt | tagging_model | JsonOutputFunctionsParser()"
   ]
  },
  {
   "cell_type": "code",
   "execution_count": 47,
   "id": "518f2337-a8eb-4eff-b764-b70e48545d19",
   "metadata": {},
   "outputs": [
    {
     "data": {
      "text/plain": [
       "{'summary': 'This article discusses the concept of building autonomous agents powered by LLM (large language model) as their core controller. It explores the key components of such agent systems, including planning, memory, and tool use. It also covers various techniques for task decomposition and self-reflection in autonomous agents. The article provides examples of case studies and challenges in implementing LLM-powered agents.',\n",
       " 'language': 'English',\n",
       " 'keywords': 'LLM, autonomous agents, planning, memory, tool use, task decomposition, self-reflection, case studies, challenges'}"
      ]
     },
     "execution_count": 47,
     "metadata": {},
     "output_type": "execute_result"
    }
   ],
   "source": [
    "tagging_chain.invoke({\"input\": page_content})"
   ]
  },
  {
   "cell_type": "markdown",
   "id": "aff30361-63b5-472e-8c89-fc8ead61e211",
   "metadata": {},
   "source": [
    "Now we'll try to extract all of the papers referenced in this article. This piece is quite nice and highly intellectual, therefore it mentions a lot of papers, and we're very curious about what those papers are. So we'll start with some basic models. First, we want to know the title of the article, followed by the author, as we have done in the past. And then we'll post this here. And by another class called information, and we'll have papers, the elicited paper, so we can get a lot of things down. "
   ]
  },
  {
   "cell_type": "code",
   "execution_count": 48,
   "id": "5be5d604-3d95-476a-afe4-b46b021534fc",
   "metadata": {},
   "outputs": [],
   "source": [
    "class Paper(BaseModel):\n",
    "    \"\"\"Information about papers mentioned.\"\"\"\n",
    "    title: str\n",
    "    author: Optional[str]\n",
    "\n",
    "\n",
    "class Info(BaseModel):\n",
    "    \"\"\"Information to extract\"\"\"\n",
    "    papers: List[Paper]"
   ]
  },
  {
   "cell_type": "markdown",
   "id": "b86f46cb-be97-4e33-90c6-65e21001816a",
   "metadata": {},
   "source": [
    "Then we'll set up our extraction chain. So we're generating the functions that we'll pass in, which is basically information. We then bind that to the functions parameter, or we bind function call, and instead of designating it to the info, we force it to call this info function. Then we'll insert our chain, the extraction model, into this JSON for the function parser, which we'll have to rename to paper. So we're going to make it and then run it on the page content again. "
   ]
  },
  {
   "cell_type": "code",
   "execution_count": 49,
   "id": "8e56ca98-d05d-4199-a6ec-fe485b630da6",
   "metadata": {},
   "outputs": [],
   "source": [
    "paper_extraction_function = [\n",
    "    convert_pydantic_to_openai_function(Info)\n",
    "]\n",
    "extraction_model = model.bind(\n",
    "    functions=paper_extraction_function, \n",
    "    function_call={\"name\":\"Info\"}\n",
    ")\n",
    "extraction_chain = prompt | extraction_model | JsonKeyOutputFunctionsParser(key_name=\"papers\")"
   ]
  },
  {
   "cell_type": "code",
   "execution_count": 50,
   "id": "f082b7a0-b7ea-488a-923c-aba8e4b185a0",
   "metadata": {},
   "outputs": [
    {
     "data": {
      "text/plain": [
       "[{'title': 'LLM Powered Autonomous Agents', 'author': 'Lilian Weng'}]"
      ]
     },
     "execution_count": 50,
     "metadata": {},
     "output_type": "execute_result"
    }
   ],
   "source": [
    "extraction_chain.invoke({\"input\": page_content})"
   ]
  },
  {
   "cell_type": "markdown",
   "id": "d96ae0c9-ff9f-4fdf-89f8-46b268e31366",
   "metadata": {},
   "source": [
    "So far, we've just gotten one result: title, author, and the only one. And so this is a little perplexing, because this is both the title of the article and the author of the piece that we're passing in. It is the article itself that is mentioned, not the papers mentioned inside it. \n",
    "\n",
    "And so the language model is probably going to get confused, because if you remember the initial page, there's a lot of, this is the article title, this is the author, and we haven't really instructed the language model too clearly that it should be extracting the papers that are mentioned within, rather than the information about the article itself. So, in order to correct this, we're going to give it a little improved system message. \n",
    "\n",
    "So we'll say it more explicitly, an article we've passed snippets from all studies cited in this article. Do not remove any of the articles. If no papers are listed, that's alright; if you're turning the empty list, you don't need to remove it. You are not required to invent anything. Any additional information only extracts what you require. As a result, we're going to expand this prompt such that it's much more descriptive of how the language model should act. We'll utilise this prompt in our new chain; everything else is the same, so it's the same extraction model and output parser. \n",
    "\n",
    "And then we'll call this new chain on that page content, and we'll get back a list of articles with titles and authors, which will function much better. "
   ]
  },
  {
   "cell_type": "code",
   "execution_count": 51,
   "id": "2a8dcce7-7032-49a8-893d-1659e2f51f03",
   "metadata": {},
   "outputs": [],
   "source": [
    "template = \"\"\"A article will be passed to you. Extract from it all papers that are mentioned by this article. \n",
    "\n",
    "Do not extract the name of the article itself. If no papers are mentioned that's fine - you don't need to extract any! Just return an empty list.\n",
    "\n",
    "Do not make up or guess ANY extra information. Only extract what exactly is in the text.\"\"\"\n",
    "\n",
    "prompt = ChatPromptTemplate.from_messages([\n",
    "    (\"system\", template),\n",
    "    (\"human\", \"{input}\")\n",
    "])"
   ]
  },
  {
   "cell_type": "code",
   "execution_count": 52,
   "id": "a5f4c8cc-d9a4-4556-a89e-94ec981c6f5e",
   "metadata": {},
   "outputs": [],
   "source": [
    "extraction_chain = prompt | extraction_model | JsonKeyOutputFunctionsParser(key_name=\"papers\")"
   ]
  },
  {
   "cell_type": "code",
   "execution_count": 53,
   "id": "b63e00b6-0f06-4e74-948e-04805e66f40c",
   "metadata": {},
   "outputs": [
    {
     "data": {
      "text/plain": [
       "[{'title': 'Chain of thought (CoT; Wei et al. 2022)', 'author': 'Wei et al.'},\n",
       " {'title': 'Tree of Thoughts (Yao et al. 2023)', 'author': 'Yao et al.'},\n",
       " {'title': 'LLM+P (Liu et al. 2023)', 'author': 'Liu et al.'},\n",
       " {'title': 'ReAct (Yao et al. 2023)', 'author': 'Yao et al.'},\n",
       " {'title': 'Reflexion (Shinn & Labash 2023)', 'author': 'Shinn & Labash'},\n",
       " {'title': 'Chain of Hindsight (CoH; Liu et al. 2023)',\n",
       "  'author': 'Liu et al.'},\n",
       " {'title': 'Algorithm Distillation (AD; Laskin et al. 2023)',\n",
       "  'author': 'Laskin et al.'}]"
      ]
     },
     "execution_count": 53,
     "metadata": {},
     "output_type": "execute_result"
    }
   ],
   "source": [
    "extraction_chain.invoke({\"input\": page_content})"
   ]
  },
  {
   "cell_type": "markdown",
   "id": "634c78ae-12bc-4ec0-8a0c-8f4f7f2b08a8",
   "metadata": {},
   "source": [
    "As a result, these are all excellent papers in this field that are not the article itself, but rather the author's attempt to convey a point. We can also do some sanity checks to ensure that it's operating well, so we can pass in a simple message like, hello, we anticipate this to be a list and indeed it is, and so here are instructions for just returning empty lists if no papers are specified, that they're working properly. "
   ]
  },
  {
   "cell_type": "code",
   "execution_count": 54,
   "id": "365bfa5b-f0d2-4a19-8db1-1b4a0f51703d",
   "metadata": {},
   "outputs": [
    {
     "data": {
      "text/plain": [
       "[]"
      ]
     },
     "execution_count": 54,
     "metadata": {},
     "output_type": "execute_result"
    }
   ],
   "source": [
    "extraction_chain.invoke({\"input\": \"hi\"})"
   ]
  },
  {
   "cell_type": "markdown",
   "id": "41b8751e-ec0d-4919-9114-0ddd1a888e40",
   "metadata": {},
   "source": [
    "So it appears to be making a good pass here. But keep in mind that this is only the first ten-five new characters in the article. What if we want to do it on the entire article and reach all of the publications that are cited in it? To do this, we'll employ yet another notion, this time text splitting. So using a text splitter, and we'll use the first character text splitter, which we studied in the previous post. \n",
    "\n",
    "The thing we need to do is text split because this article is extremely long, and we try to pass that article if it's language model straight because it will be too large for the token limit of the model. So we're going to separate it into smaller parts of text, give those pieces of text to the language model individually, and then integrate all the results at the end. "
   ]
  },
  {
   "cell_type": "code",
   "execution_count": 55,
   "id": "7a3e18b5-0692-49dc-b589-5d4ae5a43fdd",
   "metadata": {},
   "outputs": [],
   "source": [
    "from langchain.text_splitter import RecursiveCharacterTextSplitter\n",
    "text_splitter = RecursiveCharacterTextSplitter(chunk_overlap=0)"
   ]
  },
  {
   "cell_type": "markdown",
   "id": "9134894d-f1ee-44f4-8719-563cab03c34f",
   "metadata": {},
   "source": [
    "So let's make some divides by calling split text on the document's page content, and when we look at how many splits we have, we see that we have 14 separate splits. So what we're going to try now is to establish a whole chain with link-in expression language. We'll start with the page content and divide it into parts. We'll then pass all of those individual splits to the extraction chain we described earlier, and then we'll merge all of the results together. "
   ]
  },
  {
   "cell_type": "code",
   "execution_count": 56,
   "id": "a851b07c-0f73-4cf1-801f-9832190db93a",
   "metadata": {},
   "outputs": [],
   "source": [
    "splits = text_splitter.split_text(doc.page_content)"
   ]
  },
  {
   "cell_type": "code",
   "execution_count": 57,
   "id": "fbd6fd3c-8fca-4f16-a256-a66577b48eb1",
   "metadata": {},
   "outputs": [
    {
     "data": {
      "text/plain": [
       "14"
      ]
     },
     "execution_count": 57,
     "metadata": {},
     "output_type": "execute_result"
    }
   ],
   "source": [
    "len(splits)"
   ]
  },
  {
   "cell_type": "markdown",
   "id": "ba1f9a35-5f02-458a-b503-5120909401e8",
   "metadata": {},
   "source": [
    "So, one thing we'll undoubtedly need to do is write a function that can concatinate lists of lists. So we're going to write this flatten function, which simply takes in a list of lists and flattens it. This is useful because we'll be extracting a list of papers mentioned for each division and then combining them together. "
   ]
  },
  {
   "cell_type": "code",
   "execution_count": 58,
   "id": "6f1309bf-16a5-43ef-aa8e-427cf5120938",
   "metadata": {},
   "outputs": [],
   "source": [
    "def flatten(matrix):\n",
    "    flat_list = []\n",
    "    for row in matrix:\n",
    "        flat_list += row\n",
    "    return flat_list"
   ]
  },
  {
   "cell_type": "code",
   "execution_count": 59,
   "id": "5af35566-8f5f-4e02-86d2-c1a97ca4e573",
   "metadata": {},
   "outputs": [
    {
     "data": {
      "text/plain": [
       "[1, 2, 3, 4]"
      ]
     },
     "execution_count": 59,
     "metadata": {},
     "output_type": "execute_result"
    }
   ],
   "source": [
    "flatten([[1, 2], [3, 4]])"
   ]
  },
  {
   "cell_type": "code",
   "execution_count": 60,
   "id": "b77be284-fca5-4ab0-ab36-b83b3ab53136",
   "metadata": {
    "scrolled": true
   },
   "outputs": [
    {
     "name": "stdout",
     "output_type": "stream",
     "text": [
      "LLM Powered Autonomous Agents | Lil'Log\n",
      "\n",
      "\n",
      "\n",
      "\n",
      "\n",
      "\n",
      "\n",
      "\n",
      "\n",
      "\n",
      "\n",
      "\n",
      "\n",
      "\n",
      "\n",
      "\n",
      "\n",
      "\n",
      "\n",
      "\n",
      "\n",
      "\n",
      "\n",
      "\n",
      "\n",
      "\n",
      "\n",
      "\n",
      "\n",
      "\n",
      "\n",
      "\n",
      "\n",
      "\n",
      "\n",
      "\n",
      "\n",
      "\n",
      "\n",
      "Lil'Log\n",
      "\n",
      "\n",
      "\n",
      "\n",
      "\n",
      "\n",
      "\n",
      "\n",
      "\n",
      "\n",
      "\n",
      "\n",
      "\n",
      "\n",
      "\n",
      "\n",
      "\n",
      "\n",
      "\n",
      "\n",
      "\n",
      "\n",
      "Posts\n",
      "\n",
      "\n",
      "\n",
      "\n",
      "Archive\n",
      "\n",
      "\n",
      "\n",
      "\n",
      "Search\n",
      "\n",
      "\n",
      "\n",
      "\n",
      "Tags\n",
      "\n",
      "\n",
      "\n",
      "\n",
      "FAQ\n",
      "\n",
      "\n",
      "\n",
      "\n",
      "emojisearch.app\n",
      "\n",
      "\n",
      "\n",
      "\n",
      "\n",
      "\n",
      "\n",
      "\n",
      "\n",
      "      LLM Powered Autonomous Agents\n",
      "    \n",
      "Date: June 23, 2023  |  Estimated Reading Time: 31 min  |  Author: Lilian Weng\n",
      "\n",
      "\n",
      " \n",
      "\n",
      "\n",
      "Table of Contents\n",
      "\n",
      "\n",
      "\n",
      "Agent System Overview\n",
      "\n",
      "Component One: Planning\n",
      "\n",
      "Task Decomposition\n",
      "\n",
      "Self-Reflection\n",
      "\n",
      "\n",
      "Component Two: Memory\n",
      "\n",
      "Types of Memory\n",
      "\n",
      "Maximum Inner Product Search (MIPS)\n",
      "\n",
      "\n",
      "Component Three: Tool Use\n",
      "\n",
      "Case Studies\n",
      "\n",
      "Scientific Discovery Agent\n",
      "\n",
      "Generative Agents Simulation\n",
      "\n",
      "Proof-of-Concept Examples\n",
      "\n",
      "\n",
      "Challenges\n",
      "\n",
      "Citation\n",
      "\n",
      "References\n",
      "\n",
      "\n",
      "\n",
      "\n",
      "\n",
      "Building agents with LLM (large language model) as its core controller is a cool concept. Several proof-of-concepts demos, such as AutoGPT, GPT-Engineer and BabyAGI, serve as inspiring examples. The potentiality of LLM extends beyond generating well-written copies, stories, essays and programs; it can be framed as a powerful general problem solver.\n",
      "Agent System Overview#\n",
      "In a LLM-powered autonomous agent system, LLM functions as the agent’s brain, complemented by several key components:\n",
      "\n",
      "Planning\n",
      "\n",
      "Subgoal and decomposition: The agent breaks down large tasks into smaller, manageable subgoals, enabling efficient handling of complex tasks.\n",
      "Reflection and refinement: The agent can do self-criticism and self-reflection over past actions, learn from mistakes and refine them for future steps, thereby improving the quality of final results.\n",
      "\n",
      "\n",
      "Memory\n",
      "\n",
      "Short-term memory: I would consider all the in-context learning (See Prompt Engineering) as utilizing short-term memory of the model to learn.\n",
      "Long-term memory: This provides the agent with the capability to retain and recall (infinite) information over extended periods, often by leveraging an external vector store and fast retrieval.\n",
      "\n",
      "\n",
      "Tool use\n",
      "\n",
      "The agent learns to call external APIs for extra information that is missing from the model weights (often hard to change after pre-training), including current information, code execution capability, access to proprietary information sources and more.\n"
     ]
    }
   ],
   "source": [
    "print(splits[0])"
   ]
  },
  {
   "cell_type": "markdown",
   "id": "e8986b3d-2b56-4db0-8c4d-077f06adbcfa",
   "metadata": {},
   "source": [
    "Another thing we'll need to do is have a technique for preparing the splits that you pass into the chain. So keep in mind that the chain fits in an input variable, namely a dictionary with an input key. If we look at the first split in this list, it's just text. So we'll need a method to turn this collection of text into a list of dictionaries where that text is now the input key. We'll accomplish this by declaring a function for it, because this will be the initial function in the chain. \n",
    "\n",
    "We'll encase it in a runnable lambda. So a runnable lambda is simply a langchain wrapper that accepts a function or a lambda and converts it to this runnable object. When you have functions that are the first member of the chain, you must perform this so that it can be correctly written together. So we'll define this preprocessing function right here. So we're building a runnable that takes an input and wants to pass the document as a rally and the page function as a document. "
   ]
  },
  {
   "cell_type": "code",
   "execution_count": 61,
   "id": "67bded5d-de85-488c-bd3f-d83acbcfea33",
   "metadata": {},
   "outputs": [],
   "source": [
    "from langchain.schema.runnable import RunnableLambda"
   ]
  },
  {
   "cell_type": "code",
   "execution_count": 62,
   "id": "04233d0a-fe44-45ed-9145-af3caaa86863",
   "metadata": {},
   "outputs": [],
   "source": [
    "prep = RunnableLambda(\n",
    "    lambda x: [{\"input\": doc} for doc in text_splitter.split_text(x)]\n",
    ")"
   ]
  },
  {
   "cell_type": "markdown",
   "id": "9bddce4c-6a7a-4fd8-9ebd-790669237026",
   "metadata": {},
   "source": [
    "So the x in this case will be a string. And what we're doing is writing a function that takes a string, splits it, and then creates a list of dictionaries, each of which is an input matching to the split. We can call it on a string and receive back a list of dictionaries if we play around with it and see what it does. Because the text splitter does not break it up, there is only one dictionary here. These x's are really short. So it's just taking this text, dividing it, and making a list of dictionaries. "
   ]
  },
  {
   "cell_type": "code",
   "execution_count": 63,
   "id": "fa8c2f1e-f3ac-4d9c-8ded-541778a32ef9",
   "metadata": {},
   "outputs": [
    {
     "data": {
      "text/plain": [
       "[{'input': 'hi'}]"
      ]
     },
     "execution_count": 63,
     "metadata": {},
     "output_type": "execute_result"
    }
   ],
   "source": [
    "prep.invoke(\"hi\")"
   ]
  },
  {
   "cell_type": "markdown",
   "id": "42d6a9db-bbae-4f89-8b19-cc1f7aa3e2d1",
   "metadata": {},
   "source": [
    "And the reason this isn't required is that this will be the input, so the following portion, the extraction chain, so we want to make a number of inputs there. So now we can start making our chain. So we'll have this preparation function. We'd like to then transmit this along to the extraction chain. Remember that the extraction chain operates on a single element, and we have a list of items to pass in here. So, on the extraction chain, we can refer to it as a dot map. "
   ]
  },
  {
   "cell_type": "code",
   "execution_count": 64,
   "id": "3f7d0255-4b58-42c9-a747-44768a866633",
   "metadata": {},
   "outputs": [],
   "source": [
    "chain = prep | extraction_chain.map() | flatten"
   ]
  },
  {
   "cell_type": "markdown",
   "id": "b0e56f2e-e5fa-4dd7-8e58-40e7e0cde16e",
   "metadata": {},
   "source": [
    "And this basically means to take the previous input, which is a list of elements in this case, and map this chain over them. So, once again, this extraction chain will return to the list as we specify it, resulting in a list of lists. As a result, we're going to call it flatten. And in this case, the usual function that we defined earlier can be used. Because it isn't the first in the series, we don't need to encapsulate it in a runable lambda. We could if we wanted to, but we don't have to. \n",
    "\n",
    "So we have this chain, and if we call chain.invoke, it will go through the entire page, content, and document. We can see that it will take some time, but it will eventually return with the answer. So it does two things: first, it limits it to 14 pieces, and then it passes that to the extraction chain. When it passes it to the extraction chain, it automatically parallelizes many of those calls. It parallelizes by default by five calls. "
   ]
  },
  {
   "cell_type": "code",
   "execution_count": 66,
   "id": "0dfa1f67-7246-4f4f-8967-4d7266df7b7a",
   "metadata": {},
   "outputs": [
    {
     "data": {
      "text/plain": [
       "[{'title': 'AutoGPT', 'author': ''},\n",
       " {'title': 'GPT-Engineer', 'author': ''},\n",
       " {'title': 'BabyAGI', 'author': ''},\n",
       " {'title': 'Chain of thought (CoT; Wei et al. 2022)', 'author': ''},\n",
       " {'title': 'Tree of Thoughts (Yao et al. 2023)', 'author': ''},\n",
       " {'title': 'LLM+P (Liu et al. 2023)', 'author': ''},\n",
       " {'title': 'ReAct (Yao et al. 2023)', 'author': ''},\n",
       " {'title': 'Reflexion (Shinn & Labash 2023)', 'author': ''},\n",
       " {'title': 'Reflexion framework', 'author': 'Shinn & Labash'},\n",
       " {'title': 'Chain of Hindsight', 'author': 'Liu et al.'},\n",
       " {'title': 'Algorithm Distillation', 'author': 'Laskin et al.'},\n",
       " {'title': 'Algorithm Distillation', 'author': 'Laskin et al. 2023'},\n",
       " {'title': 'ED (expert distillation)', 'author': ''},\n",
       " {'title': 'RL^2', 'author': 'Duan et al. 2017'},\n",
       " {'title': 'LSH: Locality-Sensitive Hashing', 'author': ''},\n",
       " {'title': 'ANNOY: Approximate Nearest Neighbors Oh Yeah', 'author': ''},\n",
       " {'title': 'HNSW: Hierarchical Navigable Small World', 'author': ''},\n",
       " {'title': 'FAISS: Facebook AI Similarity Search', 'author': ''},\n",
       " {'title': 'ScaNN: Scalable Nearest Neighbors', 'author': ''},\n",
       " {'title': 'MRKL: Modular Reasoning, Knowledge and Language',\n",
       "  'author': 'Karpas et al. 2022'},\n",
       " {'title': 'TALM: Tool Augmented Language Models',\n",
       "  'author': 'Parisi et al. 2022'},\n",
       " {'title': 'Toolformer', 'author': 'Schick et al. 2023'},\n",
       " {'title': 'HuggingGPT', 'author': 'Shen et al. 2023'},\n",
       " {'title': 'API-Bank: A Benchmark for Evaluating Tool-Augmented Language Models',\n",
       "  'author': 'Li et al. 2023'},\n",
       " {'title': 'ChemCrow: Augmenting Language Models with Expert-Designed Tools for Scientific Discovery',\n",
       "  'author': 'Bran et al. 2023'},\n",
       " {'title': 'Boiko et al. (2023)', 'author': 'Boiko et al.'},\n",
       " {'title': 'Generative Agents Simulation', 'author': 'Park, et al. 2023'},\n",
       " {'title': 'Park et al. 2023', 'author': ''},\n",
       " {'title': 'Super Mario: How Nintendo Conquered America',\n",
       "  'author': 'Jeff Ryan'},\n",
       " {'title': 'Model-View-Controller (MVC) Explained', 'author': 'Techopedia'},\n",
       " {'title': 'Python Game Development: Creating a Snake Game',\n",
       "  'author': 'Real Python'},\n",
       " {'title': 'Paper A', 'author': 'Author A'},\n",
       " {'title': 'Paper B', 'author': 'Author B'},\n",
       " {'title': 'Paper C', 'author': 'Author C'},\n",
       " {'title': 'Chain of thought prompting elicits reasoning in large language models.',\n",
       "  'author': 'Wei et al.'},\n",
       " {'title': 'Tree of Thoughts: Deliberate Problem Solving with Large Language Models.',\n",
       "  'author': 'Yao et al.'},\n",
       " {'title': 'Chain of Hindsight Aligns Language Models with Feedback',\n",
       "  'author': 'Liu et al.'},\n",
       " {'title': 'LLM+P: Empowering Large Language Models with Optimal Planning Proficiency',\n",
       "  'author': 'Liu et al.'},\n",
       " {'title': 'ReAct: Synergizing reasoning and acting in language models.',\n",
       "  'author': 'Yao et al.'},\n",
       " {'title': 'Reflexion: an autonomous agent with dynamic memory and self-reflection',\n",
       "  'author': 'Shinn & Labash'},\n",
       " {'title': 'In-context Reinforcement Learning with Algorithm Distillation',\n",
       "  'author': 'Laskin et al.'},\n",
       " {'title': 'MRKL Systems A modular, neuro-symbolic architecture that combines large language models, external knowledge sources and discrete reasoning.',\n",
       "  'author': 'Karpas et al.'},\n",
       " {'title': 'API-Bank: A Benchmark for Tool-Augmented LLMs',\n",
       "  'author': 'Li et al.'},\n",
       " {'title': 'HuggingGPT: Solving AI Tasks with ChatGPT and its Friends in HuggingFace',\n",
       "  'author': 'Shen et al.'},\n",
       " {'title': 'ChemCrow: Augmenting large-language models with chemistry tools.',\n",
       "  'author': 'Bran et al.'},\n",
       " {'title': 'Emergent autonomous scientific research capabilities of large language models.',\n",
       "  'author': 'Boiko et al.'},\n",
       " {'title': 'Generative Agents: Interactive Simulacra of Human Behavior.',\n",
       "  'author': 'Joon Sung Park, et al.'}]"
      ]
     },
     "execution_count": 66,
     "metadata": {},
     "output_type": "execute_result"
    }
   ],
   "source": [
    "chain.invoke(doc.page_content)"
   ]
  },
  {
   "cell_type": "markdown",
   "id": "5b2d5cad-c3cc-4e5b-9e2a-4b81df410cc3",
   "metadata": {},
   "source": [
    "So it isn't completely parallelizing, but it is speeding up the sequence in and out. When all of those calls have been completed, it will be handed to the final flatten function. And there we have it. It returns a list of extracted papers, so step the title and step the author. It had been skimmed through. For some of them, we can see that it leaves the author empty. \n",
    "\n",
    "If you look at these references you will see we have document A and author A. This looks to be incorrect, but if you look at the article that this is referencing, you will see that it gives itself article as examples in code in that artical, in which it includes, among other things, extraction and retrieval of the generation. So there's a lot of language in there that's emulating some false papers and getting a response like this. As a result, they're picking it up appropriately. \n",
    "\n",
    "## Conclusion: The Power of Structured Data Extraction\n",
    "\n",
    "Tagging and extraction are powerful methods for turning unstructured text into structured data, opening up numerous possibilities for data analysis and insight generation. By understanding and applying these techniques through OpenAI's functions and Langchain, developers can efficiently address common use cases and unlock the full potential of language models for data structuring tasks.\n",
    "\n",
    "## Acknowledgements\n",
    "\n",
    "I'd like to express my thanks to the wonderful [Functions, Tools and Agents with LangChain](https://www.deeplearning.ai/short-courses/functions-tools-agents-langchain/) by DeepLearning.ai - which i completed, and acknowledge the use of some images and other materials from the course in this article."
   ]
  },
  {
   "cell_type": "code",
   "execution_count": null,
   "id": "80cecde5-8328-4ebb-8abf-1e8da911d5d6",
   "metadata": {},
   "outputs": [],
   "source": []
  }
 ],
 "metadata": {
  "kernelspec": {
   "display_name": "Python 3 (ipykernel)",
   "language": "python",
   "name": "python3"
  },
  "language_info": {
   "codemirror_mode": {
    "name": "ipython",
    "version": 3
   },
   "file_extension": ".py",
   "mimetype": "text/x-python",
   "name": "python",
   "nbconvert_exporter": "python",
   "pygments_lexer": "ipython3",
   "version": "3.9.13"
  }
 },
 "nbformat": 4,
 "nbformat_minor": 5
}
