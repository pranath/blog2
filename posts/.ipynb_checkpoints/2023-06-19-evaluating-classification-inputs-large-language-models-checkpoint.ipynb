{
 "cells": [
  {
   "cell_type": "raw",
   "id": "bc8527f3-fcf0-42ba-8116-52d31ae4de92",
   "metadata": {},
   "source": [
    "---\n",
    "date: '2023-06-19'\n",
    "categories:\n",
    " - natural-language-processing\n",
    " - deep-learning\n",
    " - openai\n",
    "title: Evaluating Classification Inputs for Large Language Models \n",
    "description: Here we look at how you evaluate classiciation inputs to large language models, which is important when creating LLM applications that involve chains of multiple inputs and outputs to LLMs\n",
    "image: https://github.com/pranath/blog/raw/master/images/chatgpt2.jpg\n",
    "---"
   ]
  },
  {
   "cell_type": "markdown",
   "id": "26fd0696-18e6-4029-8738-fecba92851db",
   "metadata": {},
   "source": [
    "## Introduction\n",
    "\n",
    "Large language models such as [ChatGPT](https://openai.com/blog/chatgpt) can generate text responses based on a given prompt or input. Writing prompts allow users to guide the language model's output by providing a specific context or topic for the response. This feature has many practical applications, such as generating creative writing prompts, assisting in content creation, and even aiding in customer service chatbots. \n",
    "\n",
    "In [earlier articles](/#category=openai) i've looked at how you can use ChatGPT to solve some of these tasks with simple prompts. But in many use cases, what is required is not just one prompt but a sequence of prompts where we need to also consider the outputs at each stage, before providing a final output - for example with a customer service chatbot.\n",
    "\n",
    "In this article, we will look at how you evaluate classiciation inputs to large language models, which is important when creating LLM applications that involve chains of multiple inputs and outputs to LLMs.\n",
    "\n",
    "\n",
    "## Setup\n",
    "\n",
    "### Load the API key and relevant Python libaries.\n",
    "\n",
    "First we need to load certain python libs and connect the OpenAi api.\n",
    "\n",
    "The OpenAi api library needs to be configured with an account's secret key, which is available on the [website](https://platform.openai.com/account/api-keys). \n",
    "\n",
    "You can either set it as the `OPENAI_API_KEY` environment variable before using the library:\n",
    " ```\n",
    " !export OPENAI_API_KEY='sk-...'\n",
    " ```\n",
    "\n",
    "Or, set `openai.api_key` to its value:\n",
    "\n",
    "```\n",
    "import openai\n",
    "openai.api_key = \"sk-...\"\n",
    "```"
   ]
  },
  {
   "cell_type": "code",
   "execution_count": 1,
   "id": "87f647e2",
   "metadata": {},
   "outputs": [],
   "source": [
    "import os\n",
    "import openai\n",
    "from dotenv import load_dotenv, find_dotenv\n",
    "_ = load_dotenv(find_dotenv()) # read local .env file\n",
    "\n",
    "openai.api_key  = os.environ['OPENAI_API_KEY']"
   ]
  },
  {
   "cell_type": "code",
   "execution_count": 2,
   "id": "101624a2",
   "metadata": {},
   "outputs": [],
   "source": [
    "# Define helper function\n",
    "def get_completion_from_messages(messages, \n",
    "                                 model=\"gpt-3.5-turbo\", \n",
    "                                 temperature=0, \n",
    "                                 max_tokens=500):\n",
    "    response = openai.ChatCompletion.create(\n",
    "        model=model,\n",
    "        messages=messages,\n",
    "        temperature=temperature, \n",
    "        max_tokens=max_tokens,\n",
    "    )\n",
    "    return response.choices[0].message[\"content\"]"
   ]
  },
  {
   "cell_type": "markdown",
   "id": "d3db09d1-6253-4c9e-9ad1-5a6134df3e6c",
   "metadata": {},
   "source": [
    "## Classify customer queries to handle different cases\n",
    "\n",
    "It can be useful to first classify the type of query before using that categorization to decide which instructions to apply for tasks where many independent sets of instructions to LLMs are required to address various instances. \n",
    "This can be accomplished by establishing predefined categories and hard-coding instructions that are pertinent for managing tasks in a certain category. \n",
    "For instance, while designing a customer service assistant, it may be crucial to first categorise the sort of inquiry and then choose the appropriate instructions based on that categorization. \n",
    "\n",
    "Therefore, if a consumer asks to close their account rather than inquire about a particular product, you might provide alternative secondary instructions. Therefore, you might include further account closure instructions in the first scenario, and you might offer additional product details in the second one. Lets use an example to make it clearer. To do this, we are using a delimiter in our system message, which is an instruction for the entire system. \n",
    "A delimiter is merely a means of dividing several portions of an instruction or output, aiding the model in sort of identifying the various components.So, we'll utilise the hashtag delimiter in this case. And since it is actually encoded as a single character, this is a handy delimiter. \n",
    " \n",
    "So, this is the system message and the model request:\n",
    "\n",
    "> 'You will be provided with customer service queries. The customer \n",
    "service query will be delimited with these hashtag characters. Classify each query into a primary category and a secondary category.'\n",
    " \n",
    "And we provide the output in a JSON format with the keys primary and secondary, and then classify each query into a primary category and a secondary category. Our main categories are therefore included here. So billing, customer service, account management, or general enquiry. Following that comes a list of subcategories, options to upgrade or cancel, etc. \n",
    "\n",
    "So let's go ahead with the user message example now. We'll use the following for our first user message. \n",
    "\n",
    "> 'I want you to delete my \n",
    "profile and all of my user data.' \n",
    "\n",
    "And after that, we'll just format this into a series of messages with these hashtags serving as a separator between the system message and the user message. \n",
    "Let's take a look and speculate as to what this might be. \n",
    "So I want you to delete my profile. This looks like managing accounts, possibly closing accounts. Let's check the model's opinion now. \n",
    "Great, so account management is the major category according to the model, and closed accounts is the secondary.\n",
    "\n",
    "The benefit of requesting a structured output like a JSON is that you can easily read it into an object, such as a dictionary in Python or another type of object if you're using a different language, and then use it as the input for the next step. "
   ]
  },
  {
   "cell_type": "code",
   "execution_count": 3,
   "id": "8db30f42",
   "metadata": {},
   "outputs": [
    {
     "name": "stdout",
     "output_type": "stream",
     "text": [
      "{\n",
      "  \"primary\": \"Account Management\",\n",
      "  \"secondary\": \"Close account\"\n",
      "}\n"
     ]
    }
   ],
   "source": [
    "delimiter = \"####\"\n",
    "system_message = f\"\"\"\n",
    "You will be provided with customer service queries. \\\n",
    "The customer service query will be delimited with \\\n",
    "{delimiter} characters.\n",
    "Classify each query into a primary category \\\n",
    "and a secondary category. \n",
    "Provide your output in json format with the \\\n",
    "keys: primary and secondary.\n",
    "\n",
    "Primary categories: Billing, Technical Support, \\\n",
    "Account Management, or General Inquiry.\n",
    "\n",
    "Billing secondary categories:\n",
    "Unsubscribe or upgrade\n",
    "Add a payment method\n",
    "Explanation for charge\n",
    "Dispute a charge\n",
    "\n",
    "Technical Support secondary categories:\n",
    "General troubleshooting\n",
    "Device compatibility\n",
    "Software updates\n",
    "\n",
    "Account Management secondary categories:\n",
    "Password reset\n",
    "Update personal information\n",
    "Close account\n",
    "Account security\n",
    "\n",
    "General Inquiry secondary categories:\n",
    "Product information\n",
    "Pricing\n",
    "Feedback\n",
    "Speak to a human\n",
    "\n",
    "\"\"\"\n",
    "user_message = f\"\"\"\\\n",
    "I want you to delete my profile and all of my user data\"\"\"\n",
    "messages =  [  \n",
    "{'role':'system', \n",
    " 'content': system_message},    \n",
    "{'role':'user', \n",
    " 'content': f\"{delimiter}{user_message}{delimiter}\"},  \n",
    "] \n",
    "response = get_completion_from_messages(messages)\n",
    "print(response)"
   ]
  },
  {
   "cell_type": "markdown",
   "id": "f491b153-65f1-4f4a-a443-cfe0d17ea410",
   "metadata": {},
   "source": [
    "So here's another user message that reads, \"Tell me more about your flat screen TVs.\" We simply have the same messages list, the model's response, and then we'll print it. \n",
    "Here is our second classification, which appears to be accurate. "
   ]
  },
  {
   "cell_type": "code",
   "execution_count": 4,
   "id": "f9a5a790",
   "metadata": {},
   "outputs": [
    {
     "name": "stdout",
     "output_type": "stream",
     "text": [
      "{\n",
      "  \"primary\": \"General Inquiry\",\n",
      "  \"secondary\": \"Product information\"\n",
      "}\n"
     ]
    }
   ],
   "source": [
    "user_message = f\"\"\"\\\n",
    "Tell me more about your flat screen tvs\"\"\"\n",
    "messages =  [  \n",
    "{'role':'system', \n",
    " 'content': system_message},    \n",
    "{'role':'user', \n",
    " 'content': f\"{delimiter}{user_message}{delimiter}\"},  \n",
    "] \n",
    "response = get_completion_from_messages(messages)\n",
    "print(response)"
   ]
  },
  {
   "cell_type": "markdown",
   "id": "76d576c8-0832-4411-827f-09c1163a76b9",
   "metadata": {},
   "source": [
    "So in general, based on the classification of the client query, we can now offer a set of more detailed instructions to manage the next phases. \n",
    "\n",
    "Instead of providing a link to cancelling the account or anything similar, we might include a little extra information on the TVs in this example. "
   ]
  },
  {
   "cell_type": "markdown",
   "id": "026da0ab-18df-4d74-b216-10a12446d1b1",
   "metadata": {},
   "source": [
    "## Acknowledgements\n",
    "\n",
    "I'd like to express my thanks to the wonderful [Building Systems with the ChatGPT API Course](https://www.deeplearning.ai/short-courses/building-systems-with-chatgpt/) by DeepLearning.ai and OpenAI - which i completed, and acknowledge the use of some images and other materials from the course in this article."
   ]
  },
  {
   "cell_type": "code",
   "execution_count": null,
   "id": "8a7a92e9-837a-4f86-b90e-f5ba6a7e61ff",
   "metadata": {},
   "outputs": [],
   "source": []
  }
 ],
 "metadata": {
  "kernelspec": {
   "display_name": "Python 3 (ipykernel)",
   "language": "python",
   "name": "python3"
  },
  "language_info": {
   "codemirror_mode": {
    "name": "ipython",
    "version": 3
   },
   "file_extension": ".py",
   "mimetype": "text/x-python",
   "name": "python",
   "nbconvert_exporter": "python",
   "pygments_lexer": "ipython3",
   "version": "3.9.13"
  }
 },
 "nbformat": 4,
 "nbformat_minor": 5
}
