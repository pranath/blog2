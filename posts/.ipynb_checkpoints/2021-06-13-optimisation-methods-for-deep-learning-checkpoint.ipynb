{
 "cells": [
  {
   "cell_type": "raw",
   "metadata": {},
   "source": [
    "---\n",
    "aliases:\n",
    "- /deep-learning-theory/2021/06/13/optimisation-methods-for-deep-learning\n",
    "categories:\n",
    "- deep-learning\n",
    "date: '2021-06-13'\n",
    "description: In this article we will look at methods to improve gradient decent optimisation\n",
    "  for training neural networks beyond SGD including momentum, RMSProp and Adam.\n",
    "image: https://github.com/pranath/blog/raw/master/images/optimisation.jpeg\n",
    "output-file: 2021-06-13-optimisation-methods-for-deep-learning.html\n",
    "title: Optimisation Methods for Deep Learning\n",
    "toc: true\n",
    "\n",
    "---\n",
    "\n"
   ]
  },
  {
   "cell_type": "code",
   "execution_count": 17,
   "metadata": {
    "id": "iKlkaNapqAqK"
   },
   "outputs": [],
   "source": [
    "#| include: false\n",
    "!pip install -Uqq fastbook\n",
    "import fastbook\n",
    "fastbook.setup_book()\n",
    "from fastbook import *"
   ]
  },
  {
   "cell_type": "markdown",
   "metadata": {
    "id": "MIxIL2d1r1Fq"
   },
   "source": [
    "## Introduction\n",
    "\n",
    "In this article we will look at methods to improve gradient decent optimisation for training neural networks beyond SGD. These include momentum, RMSProp and Adam. We will also look at the fastai library system of callbacks which make changes to the training loop easier.\n",
    "\n",
    "This article is based on content from the [fastai deep learning course, chapter 16](https://github.com/fastai/fastbook/blob/master/16_accel_sgd.ipynb)."
   ]
  },
  {
   "cell_type": "markdown",
   "metadata": {
    "id": "y1H-yi-RtUFY"
   },
   "source": [
    "## Basic SGD\n",
    "\n",
    "We will first define a baseline using basic SGD to compare how further enhancements improve results. We will use the fastai curated *imagenette* dataset here."
   ]
  },
  {
   "cell_type": "code",
   "execution_count": 18,
   "metadata": {
    "id": "oJ8sfCu8vXhP"
   },
   "outputs": [],
   "source": [
    "#| echo: false\n",
    "def get_data(url, presize, resize):\n",
    "    path = untar_data(url)\n",
    "    return DataBlock(\n",
    "        blocks=(ImageBlock, CategoryBlock), get_items=get_image_files, \n",
    "        splitter=GrandparentSplitter(valid_name='val'),\n",
    "        get_y=parent_label, item_tfms=Resize(presize),\n",
    "        batch_tfms=[*aug_transforms(min_scale=0.5, size=resize),\n",
    "                    Normalize.from_stats(*imagenet_stats)],\n",
    "    ).dataloaders(path, bs=128)"
   ]
  },
  {
   "cell_type": "code",
   "execution_count": 19,
   "metadata": {
    "colab": {
     "base_uri": "https://localhost:8080/",
     "height": 51
    },
    "id": "IHuBLxe1varG",
    "outputId": "944e8ad2-4fac-4f7c-92bf-ddf75495da46"
   },
   "outputs": [
    {
     "name": "stdout",
     "output_type": "stream",
     "text": [
      "A new version of this dataset is available, downloading...\n"
     ]
    },
    {
     "data": {
      "text/html": [],
      "text/plain": [
       "<IPython.core.display.HTML object>"
      ]
     },
     "metadata": {
      "tags": []
     },
     "output_type": "display_data"
    },
    {
     "name": "stdout",
     "output_type": "stream",
     "text": [
      "File downloaded is broken. Remove /root/.fastai/archive/imagenette2-160.tgz and try again.\n"
     ]
    }
   ],
   "source": [
    "dls = get_data(URLs.IMAGENETTE_160, 160, 128)"
   ]
  },
  {
   "cell_type": "markdown",
   "metadata": {
    "id": "hC7kZKwWvhRW"
   },
   "source": [
    "We will also create an untrained ResNet-34 architecture for our model which we will train from scratch."
   ]
  },
  {
   "cell_type": "code",
   "execution_count": 20,
   "metadata": {
    "colab": {
     "base_uri": "https://localhost:8080/",
     "height": 142
    },
    "id": "dx2Qst6EvvDI",
    "outputId": "dfafe7be-191e-4143-a75c-7f00340d1501"
   },
   "outputs": [
    {
     "data": {
      "text/html": [
       "<table border=\"1\" class=\"dataframe\">\n",
       "  <thead>\n",
       "    <tr style=\"text-align: left;\">\n",
       "      <th>epoch</th>\n",
       "      <th>train_loss</th>\n",
       "      <th>valid_loss</th>\n",
       "      <th>accuracy</th>\n",
       "      <th>time</th>\n",
       "    </tr>\n",
       "  </thead>\n",
       "  <tbody>\n",
       "    <tr>\n",
       "      <td>0</td>\n",
       "      <td>2.611032</td>\n",
       "      <td>1.885956</td>\n",
       "      <td>0.362293</td>\n",
       "      <td>00:26</td>\n",
       "    </tr>\n",
       "    <tr>\n",
       "      <td>1</td>\n",
       "      <td>1.987230</td>\n",
       "      <td>1.666735</td>\n",
       "      <td>0.449172</td>\n",
       "      <td>00:26</td>\n",
       "    </tr>\n",
       "    <tr>\n",
       "      <td>2</td>\n",
       "      <td>1.615224</td>\n",
       "      <td>1.509878</td>\n",
       "      <td>0.567134</td>\n",
       "      <td>00:26</td>\n",
       "    </tr>\n",
       "  </tbody>\n",
       "</table>"
      ],
      "text/plain": [
       "<IPython.core.display.HTML object>"
      ]
     },
     "metadata": {
      "tags": []
     },
     "output_type": "display_data"
    }
   ],
   "source": [
    "def get_learner(**kwargs):\n",
    "    return cnn_learner(dls, resnet34, pretrained=False,\n",
    "                    metrics=accuracy, **kwargs).to_fp16()\n",
    "\n",
    "learn = get_learner()\n",
    "learn.fit_one_cycle(3, 0.003)"
   ]
  },
  {
   "cell_type": "markdown",
   "metadata": {
    "id": "p6SVZRP-v-sy"
   },
   "source": [
    "That was with all the default settings used by fastai. Lets explicitly use just basic SGD."
   ]
  },
  {
   "cell_type": "code",
   "execution_count": 21,
   "metadata": {
    "colab": {
     "base_uri": "https://localhost:8080/",
     "height": 300
    },
    "id": "I6AwSDt0wI20",
    "outputId": "ff3d4164-d90a-4b07-bea5-017caf268280"
   },
   "outputs": [
    {
     "data": {
      "text/html": [],
      "text/plain": [
       "<IPython.core.display.HTML object>"
      ]
     },
     "metadata": {
      "tags": []
     },
     "output_type": "display_data"
    },
    {
     "data": {
      "text/plain": [
       "SuggestedLRs(lr_min=0.005754399299621582, lr_steep=6.309573450380412e-07)"
      ]
     },
     "execution_count": 21,
     "metadata": {
      "tags": []
     },
     "output_type": "execute_result"
    },
    {
     "data": {
      "image/png": "[encoded data removed]",
      "text/plain": [
       "<Figure size 432x288 with 1 Axes>"
      ]
     },
     "metadata": {
      "needs_background": "light",
      "tags": []
     },
     "output_type": "display_data"
    }
   ],
   "source": [
    "learn = get_learner(opt_func=SGD)\n",
    "learn.lr_find()"
   ]
  },
  {
   "cell_type": "markdown",
   "metadata": {
    "id": "1mD8tLNkwdN8"
   },
   "source": [
    "So we will need to use a higher learning rate than we normally use. We will also need to explictly turn momentum off, as we are here trying to illustrate just using basic SGD."
   ]
  },
  {
   "cell_type": "code",
   "execution_count": 22,
   "metadata": {
    "colab": {
     "base_uri": "https://localhost:8080/",
     "height": 142
    },
    "id": "srj5VkLlwn1e",
    "outputId": "b37b678e-4c2a-4289-f8b7-02a1740cd060"
   },
   "outputs": [
    {
     "data": {
      "text/html": [
       "<table border=\"1\" class=\"dataframe\">\n",
       "  <thead>\n",
       "    <tr style=\"text-align: left;\">\n",
       "      <th>epoch</th>\n",
       "      <th>train_loss</th>\n",
       "      <th>valid_loss</th>\n",
       "      <th>accuracy</th>\n",
       "      <th>time</th>\n",
       "    </tr>\n",
       "  </thead>\n",
       "  <tbody>\n",
       "    <tr>\n",
       "      <td>0</td>\n",
       "      <td>2.869628</td>\n",
       "      <td>2.315048</td>\n",
       "      <td>0.284586</td>\n",
       "      <td>00:25</td>\n",
       "    </tr>\n",
       "    <tr>\n",
       "      <td>1</td>\n",
       "      <td>2.269993</td>\n",
       "      <td>1.699830</td>\n",
       "      <td>0.414522</td>\n",
       "      <td>00:25</td>\n",
       "    </tr>\n",
       "    <tr>\n",
       "      <td>2</td>\n",
       "      <td>1.978710</td>\n",
       "      <td>1.616934</td>\n",
       "      <td>0.444841</td>\n",
       "      <td>00:25</td>\n",
       "    </tr>\n",
       "  </tbody>\n",
       "</table>"
      ],
      "text/plain": [
       "<IPython.core.display.HTML object>"
      ]
     },
     "metadata": {
      "tags": []
     },
     "output_type": "display_data"
    }
   ],
   "source": [
    "learn.fit_one_cycle(3, 0.03, moms=(0,0,0))"
   ]
  },
  {
   "cell_type": "markdown",
   "metadata": {
    "id": "e3nzNAhQtdek"
   },
   "source": [
    "## Defining a generic optimiser\n",
    "\n",
    "The fastai library provides a flexible approach to optimisers that makes it easier to add custom changes using *optimiser callbacks*. A key part of this is the *Optimiser* class which includes these two methods."
   ]
  },
  {
   "cell_type": "code",
   "execution_count": 23,
   "metadata": {
    "id": "bdOn6lYeCZDo"
   },
   "outputs": [],
   "source": [
    "def zero_grad(self):\n",
    "    for p,*_ in self.all_params():\n",
    "        p.grad.detach_()\n",
    "        p.grad.zero_()\n",
    "\n",
    "def step(self):\n",
    "    for p,pg,state,hyper in self.all_params():\n",
    "        for cb in self.cbs:\n",
    "            state = _update(state, cb(p, **{**state, **hyper}))\n",
    "        self.state[p] = state"
   ]
  },
  {
   "cell_type": "markdown",
   "metadata": {
    "id": "G6UPw8DTCfPk"
   },
   "source": [
    "zero_grad is handy for clearing all the gradients. Note the step method loops through other potential callbacks which is how different aspects of optimisation old and new are done. Even basic SGD is one of these callbacks."
   ]
  },
  {
   "cell_type": "code",
   "execution_count": 24,
   "metadata": {
    "id": "KyB0YfWiC-mS"
   },
   "outputs": [],
   "source": [
    "def sgd_cb(p, lr, **kwargs): p.data.add_(-lr, p.grad.data)"
   ]
  },
  {
   "cell_type": "markdown",
   "metadata": {
    "id": "s7tLoOolDMh-"
   },
   "source": [
    "We can add this as a callback like this."
   ]
  },
  {
   "cell_type": "code",
   "execution_count": 25,
   "metadata": {
    "id": "4vzXBMG2DU15"
   },
   "outputs": [],
   "source": [
    "opt_func = partial(Optimizer, cbs=[sgd_cb])"
   ]
  },
  {
   "cell_type": "markdown",
   "metadata": {
    "id": "XjsdMGHeDXv3"
   },
   "source": [
    "Let's now train with this."
   ]
  },
  {
   "cell_type": "code",
   "execution_count": 26,
   "metadata": {
    "colab": {
     "base_uri": "https://localhost:8080/",
     "height": 142
    },
    "id": "y6qj8p6iDZ4Y",
    "outputId": "8bb3565c-9d03-4f23-f7bf-6fcff3a3fe79"
   },
   "outputs": [
    {
     "data": {
      "text/html": [
       "<table border=\"1\" class=\"dataframe\">\n",
       "  <thead>\n",
       "    <tr style=\"text-align: left;\">\n",
       "      <th>epoch</th>\n",
       "      <th>train_loss</th>\n",
       "      <th>valid_loss</th>\n",
       "      <th>accuracy</th>\n",
       "      <th>time</th>\n",
       "    </tr>\n",
       "  </thead>\n",
       "  <tbody>\n",
       "    <tr>\n",
       "      <td>0</td>\n",
       "      <td>2.663601</td>\n",
       "      <td>1.871811</td>\n",
       "      <td>0.344968</td>\n",
       "      <td>00:25</td>\n",
       "    </tr>\n",
       "    <tr>\n",
       "      <td>1</td>\n",
       "      <td>2.256670</td>\n",
       "      <td>1.914813</td>\n",
       "      <td>0.354650</td>\n",
       "      <td>00:25</td>\n",
       "    </tr>\n",
       "    <tr>\n",
       "      <td>2</td>\n",
       "      <td>1.995262</td>\n",
       "      <td>1.813828</td>\n",
       "      <td>0.442548</td>\n",
       "      <td>00:25</td>\n",
       "    </tr>\n",
       "  </tbody>\n",
       "</table>"
      ],
      "text/plain": [
       "<IPython.core.display.HTML object>"
      ]
     },
     "metadata": {
      "tags": []
     },
     "output_type": "display_data"
    }
   ],
   "source": [
    "learn = get_learner(opt_func=opt_func)\n",
    "learn.fit(3, 0.03)"
   ]
  },
  {
   "cell_type": "markdown",
   "metadata": {
    "id": "d5QaY2I5thpN"
   },
   "source": [
    "## Momentum\n",
    "\n",
    "So the idea of Momentum is we want to go faster in the direction we are going with gradient decent to get there sooner. We could for example use a moving average.\n",
    "\n",
    "weight.avg = beta * weight.avg + (1-beta) * weight.grad\n",
    "\n",
    "new_weight = weight - lr * weight.avg\n",
    "\n",
    "*beta* helps control how much momentum to use, so if its zero there is no momentum and we have just basic SGD. But if closer to 1 then the main direction is the average of the previous steps."
   ]
  },
  {
   "cell_type": "code",
   "execution_count": 27,
   "metadata": {
    "colab": {
     "base_uri": "https://localhost:8080/",
     "height": 265
    },
    "id": "YVPa_wYhD5ow",
    "outputId": "5071aa1b-4c45-4d64-cc92-c0f15433552b"
   },
   "outputs": [
    {
     "data": {
      "image/png": "[encoded data removed]",
      "text/plain": [
       "<Figure size 432x288 with 1 Axes>"
      ]
     },
     "metadata": {
      "needs_background": "light",
      "tags": []
     },
     "output_type": "display_data"
    }
   ],
   "source": [
    "#| echo: false\n",
    "#id img_momentum\n",
    "#caption An example of momentum\n",
    "#alt Graph showing an example of momentum\n",
    "x = np.linspace(-4, 4, 100)\n",
    "y = 1 - (x/3) ** 2\n",
    "x1 = x + np.random.randn(100) * 0.1\n",
    "y1 = y + np.random.randn(100) * 0.1\n",
    "plt.scatter(x1,y1)\n",
    "idx = x1.argsort()\n",
    "beta,avg,res = 0.7,0,[]\n",
    "for i in idx:\n",
    "    avg = beta * avg + (1-beta) * y1[i]\n",
    "    res.append(avg/(1-beta**(i+1)))\n",
    "plt.plot(x1[idx],np.array(res), color='red');"
   ]
  },
  {
   "cell_type": "markdown",
   "metadata": {
    "id": "pAiqKH7tEfVz"
   },
   "source": [
    "High beta can help us get over small 'bumps' in the loss landscape and keep going faster in the general direction of progress followed so far, but if too high can cause us to overshoot completly."
   ]
  },
  {
   "cell_type": "code",
   "execution_count": 28,
   "metadata": {
    "colab": {
     "base_uri": "https://localhost:8080/",
     "height": 499
    },
    "id": "gAHDC2lhFBJz",
    "outputId": "f4fb8738-29fc-4e2d-83e7-e3076963f298"
   },
   "outputs": [
    {
     "data": {
      "image/png": "[encoded data removed]",
      "text/plain": [
       "<Figure size 864x576 with 4 Axes>"
      ]
     },
     "metadata": {
      "needs_background": "light",
      "tags": []
     },
     "output_type": "display_data"
    }
   ],
   "source": [
    "#| echo: false\n",
    "#id img_betas\n",
    "#caption Momentum with different beta values\n",
    "#alt Graph showing how the beta value influences momentum\n",
    "x = np.linspace(-4, 4, 100)\n",
    "y = 1 - (x/3) ** 2\n",
    "x1 = x + np.random.randn(100) * 0.1\n",
    "y1 = y + np.random.randn(100) * 0.1\n",
    "_,axs = plt.subplots(2,2, figsize=(12,8))\n",
    "betas = [0.5,0.7,0.9,0.99]\n",
    "idx = x1.argsort()\n",
    "for beta,ax in zip(betas, axs.flatten()):\n",
    "    ax.scatter(x1,y1)\n",
    "    avg,res = 0,[]\n",
    "    for i in idx:\n",
    "        avg = beta * avg + (1-beta) * y1[i]\n",
    "        res.append(avg)#/(1-beta**(i+1)))\n",
    "    ax.plot(x1[idx],np.array(res), color='red');\n",
    "    ax.set_title(f'beta={beta}')"
   ]
  },
  {
   "cell_type": "markdown",
   "metadata": {
    "id": "BL2YtTWLFHed"
   },
   "source": [
    "Beta too high means we really miss important changes in direction.\n",
    "\n",
    "fit_one_cycle starts with a high beta of 0.95, going down to 0.85 then back up to 0.95.\n",
    "\n",
    "Let's add momentum, by keeping track of the moving average gradient, which we can do with another callback."
   ]
  },
  {
   "cell_type": "code",
   "execution_count": 29,
   "metadata": {
    "id": "jKFcvVUTFmrp"
   },
   "outputs": [],
   "source": [
    "def average_grad(p, mom, grad_avg=None, **kwargs):\n",
    "    if grad_avg is None: grad_avg = torch.zeros_like(p.grad.data)\n",
    "    return {'grad_avg': grad_avg*mom + p.grad.data}\n",
    "\n",
    "def momentum_step(p, lr, grad_avg, **kwargs): p.data.add_(-lr, grad_avg)\n",
    "\n",
    "opt_func = partial(Optimizer, cbs=[average_grad,momentum_step], mom=0.9)"
   ]
  },
  {
   "cell_type": "markdown",
   "metadata": {
    "id": "ojhvRuHqF01f"
   },
   "source": [
    "Note Learner will automatically schedule the momentum and learning rate mom and lr, so fit_one_cycle will even work with our custom Optimiser."
   ]
  },
  {
   "cell_type": "code",
   "execution_count": 30,
   "metadata": {
    "colab": {
     "base_uri": "https://localhost:8080/",
     "height": 142
    },
    "id": "SrkP0KstGCVs",
    "outputId": "96e004c1-7981-4924-84f1-090e1690daee"
   },
   "outputs": [
    {
     "data": {
      "text/html": [
       "<table border=\"1\" class=\"dataframe\">\n",
       "  <thead>\n",
       "    <tr style=\"text-align: left;\">\n",
       "      <th>epoch</th>\n",
       "      <th>train_loss</th>\n",
       "      <th>valid_loss</th>\n",
       "      <th>accuracy</th>\n",
       "      <th>time</th>\n",
       "    </tr>\n",
       "  </thead>\n",
       "  <tbody>\n",
       "    <tr>\n",
       "      <td>0</td>\n",
       "      <td>2.744289</td>\n",
       "      <td>2.736736</td>\n",
       "      <td>0.278471</td>\n",
       "      <td>00:25</td>\n",
       "    </tr>\n",
       "    <tr>\n",
       "      <td>1</td>\n",
       "      <td>2.402794</td>\n",
       "      <td>1.715736</td>\n",
       "      <td>0.425732</td>\n",
       "      <td>00:25</td>\n",
       "    </tr>\n",
       "    <tr>\n",
       "      <td>2</td>\n",
       "      <td>2.038843</td>\n",
       "      <td>1.557327</td>\n",
       "      <td>0.485096</td>\n",
       "      <td>00:25</td>\n",
       "    </tr>\n",
       "  </tbody>\n",
       "</table>"
      ],
      "text/plain": [
       "<IPython.core.display.HTML object>"
      ]
     },
     "metadata": {
      "tags": []
     },
     "output_type": "display_data"
    }
   ],
   "source": [
    "learn = get_learner(opt_func=opt_func)\n",
    "learn.fit_one_cycle(3, 0.03)"
   ]
  },
  {
   "cell_type": "code",
   "execution_count": 31,
   "metadata": {
    "colab": {
     "base_uri": "https://localhost:8080/",
     "height": 265
    },
    "id": "BXBV591kGG3X",
    "outputId": "161adce0-3e9f-4c86-d789-b2b4d7d67ac4"
   },
   "outputs": [
    {
     "data": {
      "image/png": "[encoded data removed]",
      "text/plain": [
       "<Figure size 864x288 with 2 Axes>"
      ]
     },
     "metadata": {
      "needs_background": "light",
      "tags": []
     },
     "output_type": "display_data"
    }
   ],
   "source": [
    "learn.recorder.plot_sched()"
   ]
  },
  {
   "cell_type": "markdown",
   "metadata": {
    "id": "cthSjwgUtkvq"
   },
   "source": [
    "## RMSProp\n",
    "\n",
    "RMSProp uses an adaptive learning rate, each parameter gets its own learning rate controlled by a global learning rate. The individual learning rate can be determined by looking at the gradients, for example if the gradients are close to zero for a while it might need a higher learning rate, and vice versa if the gradients are too high or unstable.\n",
    "\n",
    "We can use a moving average to get the general direction, specifically a moving average of the gradients squared.\n",
    "\n",
    "w.square_avg = alpha * w.square_avg + (1-alpha) * (w.grad ** 2)\n",
    "\n",
    "new_w = w - lr * w.grad / math.sqrt(w.square_avg + eps)\n",
    "\n",
    "The eps (epsilon) is added for numerical stability (usually set at 1e-8), and the default value for alpha is usually 0.99."
   ]
  },
  {
   "cell_type": "code",
   "execution_count": 32,
   "metadata": {
    "colab": {
     "base_uri": "https://localhost:8080/",
     "height": 142
    },
    "id": "pSEuqmiGNpqI",
    "outputId": "53ab9bd6-687b-41a3-b34e-c8602f3451c7"
   },
   "outputs": [
    {
     "data": {
      "text/html": [
       "<table border=\"1\" class=\"dataframe\">\n",
       "  <thead>\n",
       "    <tr style=\"text-align: left;\">\n",
       "      <th>epoch</th>\n",
       "      <th>train_loss</th>\n",
       "      <th>valid_loss</th>\n",
       "      <th>accuracy</th>\n",
       "      <th>time</th>\n",
       "    </tr>\n",
       "  </thead>\n",
       "  <tbody>\n",
       "    <tr>\n",
       "      <td>0</td>\n",
       "      <td>2.810043</td>\n",
       "      <td>nan</td>\n",
       "      <td>0.108535</td>\n",
       "      <td>00:26</td>\n",
       "    </tr>\n",
       "    <tr>\n",
       "      <td>1</td>\n",
       "      <td>2.242717</td>\n",
       "      <td>1.917789</td>\n",
       "      <td>0.354140</td>\n",
       "      <td>00:26</td>\n",
       "    </tr>\n",
       "    <tr>\n",
       "      <td>2</td>\n",
       "      <td>1.790359</td>\n",
       "      <td>1.510692</td>\n",
       "      <td>0.496815</td>\n",
       "      <td>00:26</td>\n",
       "    </tr>\n",
       "  </tbody>\n",
       "</table>"
      ],
      "text/plain": [
       "<IPython.core.display.HTML object>"
      ]
     },
     "metadata": {
      "tags": []
     },
     "output_type": "display_data"
    }
   ],
   "source": [
    "def average_sqr_grad(p, sqr_mom, sqr_avg=None, **kwargs):\n",
    "    if sqr_avg is None: sqr_avg = torch.zeros_like(p.grad.data)\n",
    "    return {'sqr_avg': sqr_mom*sqr_avg + (1-sqr_mom)*p.grad.data**2}\n",
    "\n",
    "def rms_prop_step(p, lr, sqr_avg, eps, grad_avg=None, **kwargs):\n",
    "    denom = sqr_avg.sqrt().add_(eps)\n",
    "    p.data.addcdiv_(-lr, p.grad, denom)\n",
    "\n",
    "opt_func = partial(Optimizer, cbs=[average_sqr_grad,rms_prop_step],\n",
    "                   sqr_mom=0.99, eps=1e-7)\n",
    "\n",
    "learn = get_learner(opt_func=opt_func)\n",
    "learn.fit_one_cycle(3, 0.003)"
   ]
  },
  {
   "cell_type": "markdown",
   "metadata": {
    "id": "PFAmHH8ftoGH"
   },
   "source": [
    "## Adam\n",
    "\n",
    "Adam combines SGD, momentum and RMSProp together. One difference is Adam uses an unbiased moving average.\n",
    "\n",
    "w.avg = beta * w.avg + (1-beta) * w.grad\n",
    "\n",
    "unbias_avg = w.avg / (1 - (beta**(i+1)))\n",
    "\n",
    "With all the steps combined we have:\n",
    "\n",
    "w.avg = beta1 * w.avg + (1-beta1) * w.grad\n",
    "\n",
    "unbias_avg = w.avg / (1 - (beta1**(i+1)))\n",
    "\n",
    "w.sqr_avg = beta2 * w.sqr_avg + (1-beta2) * (w.grad ** 2)\n",
    "\n",
    "new_w = w - lr * unbias_avg / sqrt(w.sqr_avg + eps)\n",
    "\n",
    "Adam is the default optimiser in fastai."
   ]
  },
  {
   "cell_type": "markdown",
   "metadata": {
    "id": "gqJ3BQb4tqgd"
   },
   "source": [
    "## Decoupled Weight Decay\n",
    "\n",
    "When using Adam, we need to use a different kind of weight decay. Recall basic weight decay.\n",
    "\n",
    "new_weight = weight - lr*weight.grad - lr*wd*weight\n",
    "\n",
    "And alternative formulation is:\n",
    "\n",
    "weight.grad += wd*weight\n",
    "\n",
    "With SGD these are the same, but not for Adam. So we need to use decoupled weight decay when using Adam."
   ]
  },
  {
   "cell_type": "markdown",
   "metadata": {
    "id": "gPBMJ_9WtvmL"
   },
   "source": [
    "## Fastai Callbacks\n",
    "\n",
    "Fastai callbacks allow you to add custom behaviour to the training loop at any point.\n",
    "\n",
    "\n",
    "![](https://github.com/pranath/blog/raw/master/images/fastai_loop.png \"The fastai layered API\")\n",
    "\n",
    "This has enabled easier adding of many new custom changes such as the below examples.\n",
    "\n",
    "![](https://github.com/pranath/blog/raw/master/images/fastai_callbacks.png \"The fastai layered API\")"
   ]
  },
  {
   "cell_type": "markdown",
   "metadata": {
    "id": "yF--asx9t30p"
   },
   "source": [
    "### Creating a Callback\n",
    "\n",
    "Let's try defining a model reset callback."
   ]
  },
  {
   "cell_type": "code",
   "execution_count": null,
   "metadata": {
    "id": "QjHmT3lvTxKx"
   },
   "outputs": [],
   "source": [
    "class ModelResetter(Callback):\n",
    "    def begin_train(self):    self.model.reset()\n",
    "    def begin_validate(self): self.model.reset()"
   ]
  },
  {
   "cell_type": "markdown",
   "metadata": {
    "id": "Q3wAMg4QT5BC"
   },
   "source": [
    "Here is another example RNN regulariser callback."
   ]
  },
  {
   "cell_type": "code",
   "execution_count": null,
   "metadata": {
    "id": "-v5ODNlbT87D"
   },
   "outputs": [],
   "source": [
    "class RNNRegularizer(Callback):\n",
    "    def __init__(self, alpha=0., beta=0.): self.alpha,self.beta = alpha,beta\n",
    "\n",
    "    def after_pred(self):\n",
    "        self.raw_out,self.out = self.pred[1],self.pred[2]\n",
    "        self.learn.pred = self.pred[0]\n",
    "\n",
    "    def after_loss(self):\n",
    "        if not self.training: return\n",
    "        if self.alpha != 0.:\n",
    "            self.learn.loss += self.alpha * self.out[-1].float().pow(2).mean()\n",
    "        if self.beta != 0.:\n",
    "            h = self.raw_out[-1]\n",
    "            if len(h)>1:\n",
    "                self.learn.loss += self.beta * (h[:,1:] - h[:,:-1]\n",
    "                                               ).float().pow(2).mean()"
   ]
  },
  {
   "cell_type": "markdown",
   "metadata": {
    "id": "lS5ujuI9UFVL"
   },
   "source": [
    "Inside the callback you can access global variables and objects such as self.model."
   ]
  },
  {
   "cell_type": "markdown",
   "metadata": {
    "id": "jHiNN_jXt98X"
   },
   "source": [
    "### Callback Ordering and Exceptions\n",
    "\n",
    "Callbacks can also interrupt any part of the training loop by using a system of exceptions, for example to skip a batch or stop training completely.\n",
    "\n",
    "This callback will stop training any time the loss becomes infinate."
   ]
  },
  {
   "cell_type": "code",
   "execution_count": null,
   "metadata": {
    "id": "H8sW1hQCUvla"
   },
   "outputs": [],
   "source": [
    "class TerminateOnNaNCallback(Callback):\n",
    "    run_before=Recorder\n",
    "    def after_batch(self):\n",
    "        if torch.isinf(self.loss) or torch.isnan(self.loss):\n",
    "            raise CancelFitException"
   ]
  },
  {
   "cell_type": "markdown",
   "metadata": {
    "id": "QdCOJD0fU069"
   },
   "source": [
    "Sometimes callbacks need to be called in a particular order. You can use *run_before* or *run_after* in the callback to set the ordering needed."
   ]
  },
  {
   "cell_type": "markdown",
   "metadata": {
    "id": "2U7L5w_suEPc"
   },
   "source": [
    "## Conclusion\n",
    "\n",
    "In this article we looked at standard SGD enhacements for optimisation, as well as looking at the fastai's library callbacks that help make changes easier."
   ]
  }
 ],
 "metadata": {
  "accelerator": "GPU",
  "colab": {
   "name": "optimisation_methods_for_deep_learning.ipynb",
   "provenance": []
  },
  "kernelspec": {
   "display_name": "Python 3 (ipykernel)",
   "language": "python",
   "name": "python3"
  },
  "language_info": {
   "codemirror_mode": {
    "name": "ipython",
    "version": 3
   },
   "file_extension": ".py",
   "mimetype": "text/x-python",
   "name": "python",
   "nbconvert_exporter": "python",
   "pygments_lexer": "ipython3",
   "version": "3.9.13"
  }
 },
 "nbformat": 4,
 "nbformat_minor": 4
}
