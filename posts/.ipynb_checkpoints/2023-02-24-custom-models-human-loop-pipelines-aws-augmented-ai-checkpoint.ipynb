{
 "cells": [
  {
   "cell_type": "raw",
   "metadata": {},
   "source": [
    "---\n",
    "date: '2023-02-24'\n",
    "categories:\n",
    " - aws\n",
    " - cloud-data-science\n",
    " - natural-language-processing\n",
    " - deep-learning\n",
    "description: In this project we will create our own human workforce, a human task UI, and then define the human review workflow to perform data labeling for an ML task.\n",
    "output-file: 2023-02-24-custom-models-human-loop-pipelines-aws-augmented-ai.html\n",
    "title: Custom Models and human-in-the-loop pipelines with AWS Augmented AI (A2I)\n",
    "image: https://github.com/pranath/blog/raw/master/images/aws4.jpg\n",
    "---\n",
    "\n"
   ]
  },
  {
   "cell_type": "markdown",
   "metadata": {},
   "source": [
    "## Introduction\n",
    "\n",
    "In [earlier articles we introduced AWS cloud services for data science](/#category=aws), and showed how it can help with different stages of the data science & machine learning workflow.\n",
    "\n",
    "![](https://github.com/pranath/blog/raw/master/images/aws_ds_workflow.png \"The AWS Data Science Workflow\")\n",
    "\n",
    "In this project we will create our own human workforce, a human task UI, and then define the human review workflow to perform data labeling for an ML task. We will make the original predictions of the labels with the custom ML model, and then create a human loop if the probability scores are lower than the preset threshold. After the completion of the human loop tasks, we will review the results and prepare data for re-training."
   ]
  },
  {
   "cell_type": "markdown",
   "metadata": {},
   "source": [
    "Let's install and import the required modules."
   ]
  },
  {
   "cell_type": "code",
   "execution_count": 9,
   "metadata": {
    "tags": []
   },
   "outputs": [
    {
     "name": "stdout",
     "output_type": "stream",
     "text": [
      "\u001b[33mWARNING: Running pip as the 'root' user can result in broken permissions and conflicting behaviour with the system package manager. It is recommended to use a virtual environment instead: https://pip.pypa.io/warnings/venv\u001b[0m\u001b[33m\n",
      "\u001b[0m"
     ]
    }
   ],
   "source": [
    "#| include: false\n",
    "# please ignore warning messages during the installation\n",
    "!pip install --disable-pip-version-check -q sagemaker==2.35.0"
   ]
  },
  {
   "cell_type": "code",
   "execution_count": 10,
   "metadata": {
    "tags": []
   },
   "outputs": [],
   "source": [
    "import boto3\n",
    "import sagemaker\n",
    "import pandas as pd\n",
    "from pprint import pprint\n",
    "import botocore\n",
    "\n",
    "config = botocore.config.Config(user_agent_extra='dlai-pds/c3/w3')\n",
    "\n",
    "# low-level service client of the boto3 session\n",
    "sm = boto3.client(service_name='sagemaker', \n",
    "                  config=config)\n",
    "\n",
    "sm_runtime = boto3.client('sagemaker-runtime',\n",
    "                          config=config)\n",
    "\n",
    "sess = sagemaker.Session(sagemaker_client=sm,\n",
    "                         sagemaker_runtime_client=sm_runtime)\n",
    "\n",
    "bucket = sess.default_bucket()\n",
    "role = sagemaker.get_execution_role()\n",
    "region = sess.boto_region_name\n",
    "\n",
    "s3 = boto3.Session().client(service_name='s3', \n",
    "                            config=config)\n",
    "cognito_idp = boto3.Session().client(service_name='cognito-idp', \n",
    "                                     config=config)\n",
    "a2i = boto3.Session().client(service_name='sagemaker-a2i-runtime', \n",
    "                             config=config)"
   ]
  },
  {
   "cell_type": "markdown",
   "metadata": {},
   "source": [
    "## Set up Amazon Cognito user pool and define human workforce\n",
    "\n",
    "The first step in the creation of the human-in-the-loop pipeline will be to create our own private workforce.\n",
    "\n",
    "![](https://github.com/pranath/blog/raw/master/images/human-loop-workflow-1-workforce.png \"Human in the loop workforce\")\n",
    "\n",
    "\n",
    "Amazon Cognito provides authentication, authorization, and user management for apps. This enables our workers to sign in directly to the labeling UI with a username and password. \n",
    "\n",
    "We will construct an Amazon Cognito user pool, setting up its client, domain, and group. Then we'll create a SageMaker workforce, linking it to the Cognito user pool. Followed by the creation of a SageMaker workteam, linking it to the Cognito user pool and group. And finally, we will create a pool user and add it to the group.\n",
    "\n",
    "To get started, let's construct the user pool and user pool client names."
   ]
  },
  {
   "cell_type": "code",
   "execution_count": 11,
   "metadata": {
    "tags": []
   },
   "outputs": [
    {
     "name": "stdout",
     "output_type": "stream",
     "text": [
      "Amazon Cognito user pool name: groundtruth-user-pool-1677153775\n",
      "Amazon Cognito user pool client name: groundtruth-user-pool-client-1677153775\n"
     ]
    }
   ],
   "source": [
    "import time\n",
    "timestamp = int(time.time())\n",
    "\n",
    "user_pool_name = 'groundtruth-user-pool-{}'.format(timestamp)\n",
    "user_pool_client_name = 'groundtruth-user-pool-client-{}'.format(timestamp)\n",
    "\n",
    "print(\"Amazon Cognito user pool name: {}\".format(user_pool_name))\n",
    "print(\"Amazon Cognito user pool client name: {}\".format(user_pool_client_name))"
   ]
  },
  {
   "cell_type": "markdown",
   "metadata": {},
   "source": [
    "### Create Amazon Cognito user pool\n",
    "\n",
    "The function `cognito_idp.create_user_pool` creates a new Amazon Cognito user pool. Passing the function result into a variable we can get the information about the response. The result is in dictionary format."
   ]
  },
  {
   "cell_type": "code",
   "execution_count": 12,
   "metadata": {
    "tags": []
   },
   "outputs": [
    {
     "name": "stdout",
     "output_type": "stream",
     "text": [
      "Amazon Cognito user pool ID: us-east-1_8s0SOCEPn\n"
     ]
    }
   ],
   "source": [
    "create_user_pool_response = cognito_idp.create_user_pool(PoolName=user_pool_name)\n",
    "user_pool_id = create_user_pool_response['UserPool']['Id']\n",
    "\n",
    "print(\"Amazon Cognito user pool ID: {}\".format(user_pool_id))"
   ]
  },
  {
   "cell_type": "markdown",
   "metadata": {},
   "source": [
    "Let's pull the Amazon Cognito user pool name from its description."
   ]
  },
  {
   "cell_type": "code",
   "execution_count": 13,
   "metadata": {
    "tags": []
   },
   "outputs": [
    {
     "name": "stdout",
     "output_type": "stream",
     "text": [
      "dict_keys(['Id', 'Name', 'Policies', 'DeletionProtection', 'LambdaConfig', 'LastModifiedDate', 'CreationDate', 'SchemaAttributes', 'VerificationMessageTemplate', 'UserAttributeUpdateSettings', 'MfaConfiguration', 'EstimatedNumberOfUsers', 'EmailConfiguration', 'AdminCreateUserConfig', 'Arn'])\n"
     ]
    }
   ],
   "source": [
    "print(create_user_pool_response['UserPool'].keys())"
   ]
  },
  {
   "cell_type": "code",
   "execution_count": 14,
   "metadata": {
    "tags": []
   },
   "outputs": [
    {
     "name": "stdout",
     "output_type": "stream",
     "text": [
      "Amazon Cognito user pool name: groundtruth-user-pool-1677153775\n"
     ]
    }
   ],
   "source": [
    "user_pool_name = create_user_pool_response['UserPool']['Name'] \n",
    "print('Amazon Cognito user pool name: {}'.format(user_pool_name))"
   ]
  },
  {
   "cell_type": "markdown",
   "metadata": {},
   "source": [
    "### Create Amazon Cognito user pool client"
   ]
  },
  {
   "cell_type": "markdown",
   "metadata": {},
   "source": [
    "Now let's set up the Amazon Cognito user pool client for the created above user pool. \n",
    "\n",
    "The Amazon Cognito user pool client implements an open standard for authorization framework, `OAuth`. The standard enables apps to obtain limited access (scopes) to a user’s data without giving away a user’s password. It decouples authentication from authorization and supports multiple use cases addressing different device capabilities."
   ]
  },
  {
   "cell_type": "markdown",
   "metadata": {},
   "source": [
    "Lets create the Amazon Cognito user pool client for the constructed user pool."
   ]
  },
  {
   "cell_type": "code",
   "execution_count": 16,
   "metadata": {
    "tags": []
   },
   "outputs": [
    {
     "name": "stdout",
     "output_type": "stream",
     "text": [
      "Amazon Cognito user pool client ID: 4ebq1ga0irfdvssomfjhbh5fgq\n"
     ]
    }
   ],
   "source": [
    "create_user_pool_client_response = cognito_idp.create_user_pool_client( # Replace None\n",
    "    UserPoolId=user_pool_id, \n",
    "    ClientName=user_pool_client_name, \n",
    "    GenerateSecret=True, # boolean to specify whether you want to generate a secret\n",
    "    # a list of provider names for the identity providers that are supported on this client, e.g. Cognito, Facebook, Google\n",
    "    SupportedIdentityProviders=[\n",
    "        'COGNITO' \n",
    "    ],\n",
    "    # a list of the allowed OAuth flows, e.g. code, implicit, client_credentials\n",
    "    AllowedOAuthFlows=[\n",
    "        'code',\n",
    "        'implicit'\n",
    "    ],\n",
    "    # a list of the allowed OAuth scopes, e.g. phone, email, openid, and profile\n",
    "    AllowedOAuthScopes=[\n",
    "        'email',\n",
    "        'openid',\n",
    "        'profile'\n",
    "    ],\n",
    "    # a list of allowed redirect (callback) URLs for the identity providers\n",
    "    CallbackURLs=[\n",
    "        'https://datascienceonaws.com', \n",
    "    ],\n",
    "    # set to true if the client is allowed to follow the OAuth protocol when interacting with Cognito user pools\n",
    "    AllowedOAuthFlowsUserPoolClient=True\n",
    ")\n",
    "\n",
    "client_id = create_user_pool_client_response['UserPoolClient']['ClientId']\n",
    "print('Amazon Cognito user pool client ID: {}'.format(client_id))"
   ]
  },
  {
   "cell_type": "markdown",
   "metadata": {},
   "source": [
    "### Create Amazon Cognito user pool domain and group"
   ]
  },
  {
   "cell_type": "markdown",
   "metadata": {},
   "source": [
    "Now we set up the Amazon Cognito user pool domain for the constructed user pool."
   ]
  },
  {
   "cell_type": "code",
   "execution_count": 17,
   "metadata": {
    "tags": []
   },
   "outputs": [
    {
     "name": "stdout",
     "output_type": "stream",
     "text": [
      "Created Amazon Cognito user pool domain: groundtruth-user-pool-domain-1677153775\n"
     ]
    }
   ],
   "source": [
    "user_pool_domain_name = 'groundtruth-user-pool-domain-{}'.format(timestamp)\n",
    "\n",
    "try:\n",
    "    cognito_idp.create_user_pool_domain( \n",
    "        UserPoolId=user_pool_id, \n",
    "        Domain=user_pool_domain_name \n",
    "    )\n",
    "    print(\"Created Amazon Cognito user pool domain: {}\".format(user_pool_domain_name))\n",
    "except:\n",
    "    print(\"Amazon Cognito user pool domain {} already exists\".format(user_pool_domain_name))"
   ]
  },
  {
   "cell_type": "markdown",
   "metadata": {},
   "source": [
    "We will use the following function to check if the Amazon Cognito user group already exists."
   ]
  },
  {
   "cell_type": "code",
   "execution_count": 18,
   "metadata": {
    "tags": []
   },
   "outputs": [],
   "source": [
    "def check_user_pool_group_existence(user_pool_id, user_pool_group_name):  \n",
    "    for group in cognito_idp.list_groups(UserPoolId=user_pool_id)['Groups']:\n",
    "        if user_pool_group_name == group['GroupName']:\n",
    "            return True\n",
    "    return False"
   ]
  },
  {
   "cell_type": "markdown",
   "metadata": {},
   "source": [
    "Now we will set up the Amazon Cognito user group."
   ]
  },
  {
   "cell_type": "code",
   "execution_count": 19,
   "metadata": {
    "tags": []
   },
   "outputs": [
    {
     "name": "stdout",
     "output_type": "stream",
     "text": [
      "Created Amazon Cognito user group: groundtruth-user-pool-group-1677153775\n"
     ]
    }
   ],
   "source": [
    "user_pool_group_name = 'groundtruth-user-pool-group-{}'.format(timestamp)\n",
    "\n",
    "if not check_user_pool_group_existence(user_pool_id, user_pool_group_name):\n",
    "    cognito_idp.create_group( \n",
    "        UserPoolId=user_pool_id, \n",
    "        GroupName=user_pool_group_name\n",
    "    )\n",
    "    print(\"Created Amazon Cognito user group: {}\".format(user_pool_group_name))\n",
    "else:\n",
    "    print(\"Amazon Cognito user group {} already exists\".format(user_pool_group_name))"
   ]
  },
  {
   "cell_type": "markdown",
   "metadata": {},
   "source": [
    "### Create workforce and workteam\n",
    "\n",
    "We can use the following function to check if the workforce already exists. We can only create one workforce per region, therefore we'll have to delete any other existing workforce, together with all of the related workteams."
   ]
  },
  {
   "cell_type": "code",
   "execution_count": 20,
   "metadata": {
    "tags": []
   },
   "outputs": [],
   "source": [
    "def check_workforce_existence(workforce_name):  \n",
    "    for workforce in sm.list_workforces()['Workforces']:\n",
    "        if workforce_name == workforce['WorkforceName']:\n",
    "            return True\n",
    "        else:\n",
    "            for workteam in sm.list_workteams()['Workteams']:\n",
    "                sm.delete_workteam(WorkteamName=workteam['WorkteamName'])\n",
    "            sm.delete_workforce(WorkforceName=workforce['WorkforceName'])\n",
    "    return False"
   ]
  },
  {
   "cell_type": "markdown",
   "metadata": {},
   "source": [
    "Lets create a workforce."
   ]
  },
  {
   "cell_type": "code",
   "execution_count": 21,
   "metadata": {
    "tags": []
   },
   "outputs": [
    {
     "name": "stdout",
     "output_type": "stream",
     "text": [
      "Workforce name: groundtruth-workforce-name-1677153775\n",
      "{'ResponseMetadata': {'HTTPHeaders': {'content-length': '107',\n",
      "                                      'content-type': 'application/x-amz-json-1.1',\n",
      "                                      'date': 'Thu, 23 Feb 2023 12:04:42 GMT',\n",
      "                                      'x-amzn-requestid': '8e749026-4d1e-4758-949a-ab78fdfaafbe'},\n",
      "                      'HTTPStatusCode': 200,\n",
      "                      'RequestId': '8e749026-4d1e-4758-949a-ab78fdfaafbe',\n",
      "                      'RetryAttempts': 0},\n",
      " 'WorkforceArn': 'arn:aws:sagemaker:us-east-1:753124839657:workforce/groundtruth-workforce-name-1677153775'}\n"
     ]
    }
   ],
   "source": [
    "workforce_name = 'groundtruth-workforce-name-{}'.format(timestamp)\n",
    "\n",
    "if not check_workforce_existence(workforce_name):\n",
    "    create_workforce_response = sm.create_workforce(\n",
    "        WorkforceName=workforce_name,\n",
    "        CognitoConfig={\n",
    "            'UserPool': user_pool_id, \n",
    "            'ClientId': client_id\n",
    "        }\n",
    "    )\n",
    "    print(\"Workforce name: {}\".format(workforce_name))\n",
    "    pprint(create_workforce_response)\n",
    "else:\n",
    "    print(\"Workforce {} already exists\".format(workforce_name))"
   ]
  },
  {
   "cell_type": "markdown",
   "metadata": {},
   "source": [
    "You can use the `sm.describe_workforce` function to get the information about the workforce."
   ]
  },
  {
   "cell_type": "code",
   "execution_count": null,
   "metadata": {},
   "outputs": [],
   "source": [
    "describe_workforce_response = sm.describe_workforce(WorkforceName=workforce_name)\n",
    "describe_workforce_response"
   ]
  },
  {
   "cell_type": "markdown",
   "metadata": {},
   "source": [
    "We use the following function to check if the workteam already exists. If there are no workteams in the list, we will give some time for the workforce to set up."
   ]
  },
  {
   "cell_type": "code",
   "execution_count": 22,
   "metadata": {
    "tags": []
   },
   "outputs": [],
   "source": [
    "def check_workteam_existence(workteam_name):  \n",
    "    if sm.list_workteams()['Workteams']:\n",
    "        for workteam in sm.list_workteams()['Workteams']:\n",
    "            if workteam_name == workteam['WorkteamName']:\n",
    "                return True\n",
    "    else:\n",
    "        time.sleep(60)\n",
    "        return False\n",
    "    return False"
   ]
  },
  {
   "cell_type": "markdown",
   "metadata": {},
   "source": [
    "Now lets create a workteam."
   ]
  },
  {
   "cell_type": "code",
   "execution_count": 23,
   "metadata": {
    "tags": []
   },
   "outputs": [
    {
     "name": "stdout",
     "output_type": "stream",
     "text": [
      "{'ResponseMetadata': {'HTTPHeaders': {'content-length': '113',\n",
      "                                      'content-type': 'application/x-amz-json-1.1',\n",
      "                                      'date': 'Thu, 23 Feb 2023 12:06:06 GMT',\n",
      "                                      'x-amzn-requestid': 'bd89c3fa-45bb-439b-aa33-f2c685e69d8a'},\n",
      "                      'HTTPStatusCode': 200,\n",
      "                      'RequestId': 'bd89c3fa-45bb-439b-aa33-f2c685e69d8a',\n",
      "                      'RetryAttempts': 0},\n",
      " 'WorkteamArn': 'arn:aws:sagemaker:us-east-1:753124839657:workteam/private-crowd/groundtruth-workteam-1677153775'}\n"
     ]
    }
   ],
   "source": [
    "workteam_name = 'groundtruth-workteam-{}'.format(timestamp)\n",
    "\n",
    "if not check_workteam_existence(workteam_name):\n",
    "    create_workteam_response = sm.create_workteam(\n",
    "        Description='groundtruth workteam',\n",
    "        WorkforceName=workforce_name,\n",
    "        WorkteamName=workteam_name,\n",
    "        # objects that identify the workers that make up the work team\n",
    "        MemberDefinitions=[{\n",
    "            'CognitoMemberDefinition': {\n",
    "                'UserPool': user_pool_id, \n",
    "                'ClientId': client_id, \n",
    "                'UserGroup': user_pool_group_name \n",
    "            }\n",
    "        }]\n",
    "    )\n",
    "    pprint(create_workteam_response)\n",
    "else:\n",
    "    print(\"Workteam {} already exists\".format(workteam_name))"
   ]
  },
  {
   "cell_type": "markdown",
   "metadata": {},
   "source": [
    "We can use the `sm.describe_workteam` function to get information about the workteam."
   ]
  },
  {
   "cell_type": "code",
   "execution_count": 24,
   "metadata": {
    "tags": []
   },
   "outputs": [
    {
     "data": {
      "text/plain": [
       "{'Workteam': {'WorkteamName': 'groundtruth-workteam-1677153775',\n",
       "  'MemberDefinitions': [{'CognitoMemberDefinition': {'UserPool': 'us-east-1_8s0SOCEPn',\n",
       "     'UserGroup': 'groundtruth-user-pool-group-1677153775',\n",
       "     'ClientId': '4ebq1ga0irfdvssomfjhbh5fgq'}}],\n",
       "  'WorkteamArn': 'arn:aws:sagemaker:us-east-1:753124839657:workteam/private-crowd/groundtruth-workteam-1677153775',\n",
       "  'Description': 'groundtruth workteam',\n",
       "  'SubDomain': 'aqa042udc1.labeling.us-east-1.sagemaker.aws',\n",
       "  'CreateDate': datetime.datetime(2023, 2, 23, 12, 6, 5, 715000, tzinfo=tzlocal()),\n",
       "  'LastUpdatedDate': datetime.datetime(2023, 2, 23, 12, 6, 7, 175000, tzinfo=tzlocal()),\n",
       "  'NotificationConfiguration': {}},\n",
       " 'ResponseMetadata': {'RequestId': '615a618f-d243-4c27-a8d5-f94290f6c790',\n",
       "  'HTTPStatusCode': 200,\n",
       "  'HTTPHeaders': {'x-amzn-requestid': '615a618f-d243-4c27-a8d5-f94290f6c790',\n",
       "   'content-type': 'application/x-amz-json-1.1',\n",
       "   'content-length': '544',\n",
       "   'date': 'Thu, 23 Feb 2023 12:06:06 GMT'},\n",
       "  'RetryAttempts': 0}}"
      ]
     },
     "execution_count": 24,
     "metadata": {},
     "output_type": "execute_result"
    }
   ],
   "source": [
    "describe_workteam_response = sm.describe_workteam(WorkteamName=workteam_name)\n",
    "describe_workteam_response"
   ]
  },
  {
   "cell_type": "markdown",
   "metadata": {},
   "source": [
    "Now we can pull the workteam ARN either from `create_workteam_response` or `describe_workteam_response`."
   ]
  },
  {
   "cell_type": "code",
   "execution_count": 25,
   "metadata": {
    "tags": []
   },
   "outputs": [
    {
     "data": {
      "text/plain": [
       "'arn:aws:sagemaker:us-east-1:753124839657:workteam/private-crowd/groundtruth-workteam-1677153775'"
      ]
     },
     "execution_count": 25,
     "metadata": {},
     "output_type": "execute_result"
    }
   ],
   "source": [
    "workteam_arn = describe_workteam_response['Workteam']['WorkteamArn']\n",
    "workteam_arn"
   ]
  },
  {
   "cell_type": "markdown",
   "metadata": {},
   "source": [
    "### Create an Amazon Cognito user and add the user to the group\n",
    "\n",
    "We will use the following function to check if the Amazon Cognito user already exists."
   ]
  },
  {
   "cell_type": "code",
   "execution_count": 27,
   "metadata": {
    "tags": []
   },
   "outputs": [],
   "source": [
    "def check_user_existence(user_pool_id, user_name):  \n",
    "    for user in cognito_idp.list_users(UserPoolId=user_pool_id)['Users']:\n",
    "        if user_name == user['Username']:\n",
    "            return True\n",
    "    return False"
   ]
  },
  {
   "cell_type": "markdown",
   "metadata": {},
   "source": [
    "Now we create a user passing the username, temporary password, and the Amazon Cognito user pool ID."
   ]
  },
  {
   "cell_type": "code",
   "execution_count": 28,
   "metadata": {
    "tags": []
   },
   "outputs": [
    {
     "name": "stdout",
     "output_type": "stream",
     "text": [
      "{'ResponseMetadata': {'HTTPHeaders': {'connection': 'keep-alive',\n",
      "                                      'content-length': '242',\n",
      "                                      'content-type': 'application/x-amz-json-1.1',\n",
      "                                      'date': 'Thu, 23 Feb 2023 12:06:07 GMT',\n",
      "                                      'x-amzn-requestid': '9799ecf1-9400-4385-a696-f3067a8ee4ab'},\n",
      "                      'HTTPStatusCode': 200,\n",
      "                      'RequestId': '9799ecf1-9400-4385-a696-f3067a8ee4ab',\n",
      "                      'RetryAttempts': 0},\n",
      " 'User': {'Attributes': [{'Name': 'sub',\n",
      "                          'Value': '7e22b0c1-059a-45b4-b69a-e1b378950097'}],\n",
      "          'Enabled': True,\n",
      "          'UserCreateDate': datetime.datetime(2023, 2, 23, 12, 6, 7, 848000, tzinfo=tzlocal()),\n",
      "          'UserLastModifiedDate': datetime.datetime(2023, 2, 23, 12, 6, 7, 848000, tzinfo=tzlocal()),\n",
      "          'UserStatus': 'FORCE_CHANGE_PASSWORD',\n",
      "          'Username': 'user-1677153775'}}\n"
     ]
    }
   ],
   "source": [
    "user_name = 'user-{}'.format(timestamp)\n",
    "\n",
    "temporary_password = 'Password@420'\n",
    "\n",
    "if not check_user_existence(user_pool_id, user_name):\n",
    "    create_user_response=cognito_idp.admin_create_user(\n",
    "        Username=user_name,\n",
    "        UserPoolId=user_pool_id,\n",
    "        TemporaryPassword=temporary_password,\n",
    "        MessageAction='SUPPRESS' # suppress sending the invitation message to a user that already exists\n",
    "    )\n",
    "    pprint(create_user_response)\n",
    "else:\n",
    "    print(\"Amazon Cognito user {} already exists\".format(user_name))"
   ]
  },
  {
   "cell_type": "markdown",
   "metadata": {},
   "source": [
    "Add the user into the Amazon Cognito user group."
   ]
  },
  {
   "cell_type": "code",
   "execution_count": 29,
   "metadata": {
    "tags": []
   },
   "outputs": [
    {
     "data": {
      "text/plain": [
       "{'ResponseMetadata': {'RequestId': '18dd685f-63f6-4d5b-8f81-cd22d9304a5e',\n",
       "  'HTTPStatusCode': 200,\n",
       "  'HTTPHeaders': {'date': 'Thu, 23 Feb 2023 12:06:08 GMT',\n",
       "   'content-type': 'application/x-amz-json-1.1',\n",
       "   'content-length': '0',\n",
       "   'connection': 'keep-alive',\n",
       "   'x-amzn-requestid': '18dd685f-63f6-4d5b-8f81-cd22d9304a5e'},\n",
       "  'RetryAttempts': 0}}"
      ]
     },
     "execution_count": 29,
     "metadata": {},
     "output_type": "execute_result"
    }
   ],
   "source": [
    "cognito_idp.admin_add_user_to_group(\n",
    "    UserPoolId=user_pool_id,\n",
    "    Username=user_name,\n",
    "    GroupName=user_pool_group_name\n",
    ")"
   ]
  },
  {
   "cell_type": "markdown",
   "metadata": {},
   "source": [
    "## Create Human Task UI\n",
    "\n",
    "![](https://github.com/pranath/blog/raw/master/images/human-loop-workflow-2-taskUI.png \"Human in the loop Workflow\")\n",
    "\n",
    "We will create a Human Task UI resource, using a worker task UI template.  This template will be rendered to the human workers whenever human interaction is required.\n",
    "\n",
    "Below there is a simple template, that is compatible with the current use case of classifying product reviews into the three sentiment classes. For other pre-built UIs (there are 70+), check: https://github.com/aws-samples/amazon-a2i-sample-task-uis"
   ]
  },
  {
   "cell_type": "code",
   "execution_count": 30,
   "metadata": {
    "tags": []
   },
   "outputs": [],
   "source": [
    "template = r\"\"\"\n",
    "<script src=\"https://assets.crowd.aws/crowd-html-elements.js\"></script>\n",
    "\n",
    "<crowd-form>\n",
    "    <crowd-classifier name=\"sentiment\"\n",
    "                      categories=\"['-1', '0', '1']\"\n",
    "                      initial-value=\"{{ task.input.initialValue }}\"\n",
    "                      header=\"Classify Reviews into Sentiment:  -1 (negative), 0 (neutral), and 1 (positive)\">\n",
    "      \n",
    "        <classification-target>\n",
    "            {{ task.input.taskObject }}\n",
    "        </classification-target>\n",
    "      \n",
    "        <full-instructions header=\"Classify reviews into sentiment:  -1 (negative), 0 (neutral), and 1 (positive)\">\n",
    "            <p><strong>1</strong>: joy, excitement, delight</p>       \n",
    "            <p><strong>0</strong>: neither positive or negative, such as stating a fact</p>\n",
    "            <p><strong>-1</strong>: anger, sarcasm, anxiety</p>\n",
    "        </full-instructions>\n",
    "\n",
    "        <short-instructions>\n",
    "            Classify reviews into sentiment:  -1 (negative), 0 (neutral), and 1 (positive)\n",
    "        </short-instructions>\n",
    "    </crowd-classifier>\n",
    "</crowd-form>\n",
    "\"\"\""
   ]
  },
  {
   "cell_type": "markdown",
   "metadata": {},
   "source": [
    "We will now create a human task UI resource."
   ]
  },
  {
   "cell_type": "code",
   "execution_count": 31,
   "metadata": {
    "tags": []
   },
   "outputs": [
    {
     "data": {
      "text/plain": [
       "{'HumanTaskUiArn': 'arn:aws:sagemaker:us-east-1:753124839657:human-task-ui/ui-1677153775',\n",
       " 'ResponseMetadata': {'RequestId': 'a3561000-dec3-44de-b527-1c26ea8b443d',\n",
       "  'HTTPStatusCode': 200,\n",
       "  'HTTPHeaders': {'x-amzn-requestid': 'a3561000-dec3-44de-b527-1c26ea8b443d',\n",
       "   'content-type': 'application/x-amz-json-1.1',\n",
       "   'content-length': '89',\n",
       "   'date': 'Thu, 23 Feb 2023 12:06:08 GMT'},\n",
       "  'RetryAttempts': 0}}"
      ]
     },
     "execution_count": 31,
     "metadata": {},
     "output_type": "execute_result"
    }
   ],
   "source": [
    "# Task UI name - this value is unique per account and region. \n",
    "task_ui_name = 'ui-{}'.format(timestamp)\n",
    "\n",
    "human_task_ui_response = sm.create_human_task_ui(\n",
    "    HumanTaskUiName=task_ui_name,\n",
    "    UiTemplate={\n",
    "        \"Content\": template  \n",
    "    }\n",
    ")\n",
    "human_task_ui_response"
   ]
  },
  {
   "cell_type": "markdown",
   "metadata": {},
   "source": [
    "Pull the ARN of the human task UI:"
   ]
  },
  {
   "cell_type": "code",
   "execution_count": 32,
   "metadata": {
    "tags": []
   },
   "outputs": [
    {
     "name": "stdout",
     "output_type": "stream",
     "text": [
      "arn:aws:sagemaker:us-east-1:753124839657:human-task-ui/ui-1677153775\n"
     ]
    }
   ],
   "source": [
    "human_task_ui_arn = human_task_ui_response[\"HumanTaskUiArn\"]\n",
    "print(human_task_ui_arn)"
   ]
  },
  {
   "cell_type": "markdown",
   "metadata": {},
   "source": [
    "## Define human review workflow\n",
    "\n",
    "![](https://github.com/pranath/blog/raw/master/images/human-loop-workflow-3-review.png \"Human in the loop Workflow\")\n"
   ]
  },
  {
   "cell_type": "markdown",
   "metadata": {},
   "source": [
    "In this section, we are going to create a Flow Definition. A flow Definitions allows you to specify:\n",
    "\n",
    "- The workforce (in fact, it is a workteam) that our tasks will be sent to.\n",
    "- The instructions that our workforce will receive (worker task template).\n",
    "- The configuration of our worker tasks, including the number of workers that receive a task and time limits to complete tasks.\n",
    "- Where our output data will be stored.\n",
    "\n",
    "Here we are going to use the API, but we can optionally create this workflow definition in the console as well. \n",
    "\n",
    "For more details and instructions, see: https://docs.aws.amazon.com/sagemaker/latest/dg/a2i-create-flow-definition.html.\n",
    "\n",
    "Let's construct the S3 bucket output path."
   ]
  },
  {
   "cell_type": "code",
   "execution_count": 33,
   "metadata": {
    "tags": []
   },
   "outputs": [
    {
     "name": "stdout",
     "output_type": "stream",
     "text": [
      "s3://sagemaker-us-east-1-753124839657/a2i-results-1677153775\n"
     ]
    }
   ],
   "source": [
    "output_path = 's3://{}/a2i-results-{}'.format(bucket, timestamp)\n",
    "print(output_path)"
   ]
  },
  {
   "cell_type": "markdown",
   "metadata": {},
   "source": [
    "Lets construct the Flow Definition with the workteam and human task UI in the human loop configurations that we created above."
   ]
  },
  {
   "cell_type": "code",
   "execution_count": 34,
   "metadata": {
    "tags": []
   },
   "outputs": [],
   "source": [
    "# Flow definition name - this value is unique per account and region\n",
    "flow_definition_name = 'fd-{}'.format(timestamp)\n",
    "\n",
    "create_workflow_definition_response = sm.create_flow_definition(\n",
    "    FlowDefinitionName=flow_definition_name,\n",
    "    RoleArn=role,\n",
    "    HumanLoopConfig={\n",
    "        \"WorkteamArn\": workteam_arn, \n",
    "        \"HumanTaskUiArn\": human_task_ui_arn, \n",
    "        \"TaskCount\": 1, # the number of workers that receive a task\n",
    "        \"TaskDescription\": \"Classify Reviews into sentiment:  -1 (negative), 0 (neutral), 1 (positive)\",\n",
    "        \"TaskTitle\": \"Classify Reviews into sentiment:  -1 (negative), 0 (neutral), 1 (positive)\",\n",
    "    },\n",
    "    OutputConfig={\"S3OutputPath\": output_path},\n",
    ")\n",
    "\n",
    "augmented_ai_flow_definition_arn = create_workflow_definition_response[\"FlowDefinitionArn\"]"
   ]
  },
  {
   "cell_type": "markdown",
   "metadata": {},
   "source": [
    "You can pull information about the Flow Definition with the function `sm.describe_flow_definition` and wait for its status value `FlowDefinitionStatus` to become `Active`."
   ]
  },
  {
   "cell_type": "code",
   "execution_count": 35,
   "metadata": {
    "scrolled": true,
    "tags": []
   },
   "outputs": [
    {
     "name": "stdout",
     "output_type": "stream",
     "text": [
      "Active\n",
      "Flow Definition is active\n"
     ]
    }
   ],
   "source": [
    "for _ in range(60):\n",
    "    describe_flow_definition_response = sm.describe_flow_definition(FlowDefinitionName=flow_definition_name)\n",
    "    print(describe_flow_definition_response[\"FlowDefinitionStatus\"])\n",
    "    if describe_flow_definition_response[\"FlowDefinitionStatus\"] == \"Active\":\n",
    "        print(\"Flow Definition is active\")\n",
    "        break\n",
    "    time.sleep(2)"
   ]
  },
  {
   "cell_type": "markdown",
   "metadata": {},
   "source": [
    "## Start human loop with custom ML model"
   ]
  },
  {
   "cell_type": "markdown",
   "metadata": {},
   "source": [
    "![](https://github.com/pranath/blog/raw/master/images/human-loop-workflow-4-start.png \"Human in the loop Workflow\")\n",
    "\n",
    "\n",
    "We will now deploy a custom ML model into an endpoint and call it to predict labels for some sample reviews. We need to check the confidence score for each prediction. If it is smaller than the threshold, we will engage our workforce for a human review, starting a human loop. We can fix the labels by completing the human loop tasks and review the results.\n",
    "\n",
    "![](https://github.com/pranath/blog/raw/master/images/augmented-ai-loop.png \"Human in the loop Workflow\")"
   ]
  },
  {
   "cell_type": "markdown",
   "metadata": {},
   "source": [
    "Lets set up a sentiment predictor class to be wrapped later into the PyTorch Model."
   ]
  },
  {
   "cell_type": "code",
   "execution_count": 36,
   "metadata": {
    "tags": []
   },
   "outputs": [],
   "source": [
    "from sagemaker.predictor import Predictor\n",
    "from sagemaker.serializers import JSONLinesSerializer\n",
    "from sagemaker.deserializers import JSONLinesDeserializer\n",
    "\n",
    "class SentimentPredictor(Predictor):\n",
    "    def __init__(self, endpoint_name, sagemaker_session):\n",
    "        super().__init__(\n",
    "            endpoint_name, \n",
    "            sagemaker_session=sagemaker_session,\n",
    "            serializer=JSONLinesSerializer(), \n",
    "            deserializer=JSONLinesDeserializer() \n",
    "        )"
   ]
  },
  {
   "cell_type": "markdown",
   "metadata": {},
   "source": [
    "Now we create a SageMaker model based on the model artifact saved in the S3 bucket."
   ]
  },
  {
   "cell_type": "code",
   "execution_count": 37,
   "metadata": {
    "tags": []
   },
   "outputs": [],
   "source": [
    "from sagemaker.pytorch.model import PyTorchModel\n",
    "\n",
    "pytorch_model_name = 'model-{}'.format(timestamp)\n",
    "\n",
    "model = PyTorchModel(name=pytorch_model_name,\n",
    "                     model_data='s3://dlai-practical-data-science/models/ab/variant_a/model.tar.gz',\n",
    "                     predictor_cls=SentimentPredictor,\n",
    "                     entry_point='inference.py',\n",
    "                     source_dir='src',\n",
    "                     framework_version='1.6.0',\n",
    "                     py_version='py3',\n",
    "                     role=role)"
   ]
  },
  {
   "cell_type": "markdown",
   "metadata": {},
   "source": [
    "Now we will create a SageMaker Endpoint from the model. For the purposes of this project, we will use a relatively small instance type. Please refer to [this link](https://aws.amazon.com/sagemaker/pricing/) for additional instance types that may work for your use cases outside of this lab."
   ]
  },
  {
   "cell_type": "code",
   "execution_count": 38,
   "metadata": {
    "tags": []
   },
   "outputs": [
    {
     "name": "stdout",
     "output_type": "stream",
     "text": [
      "----------!CPU times: user 2min 15s, sys: 9.67 s, total: 2min 24s\n",
      "Wall time: 7min 24s\n"
     ]
    }
   ],
   "source": [
    "%%time\n",
    "\n",
    "pytorch_endpoint_name = 'endpoint-{}'.format(timestamp)\n",
    "\n",
    "predictor = model.deploy(initial_instance_count=1, \n",
    "                         instance_type='ml.m5.large', \n",
    "                         endpoint_name=pytorch_endpoint_name)"
   ]
  },
  {
   "cell_type": "markdown",
   "metadata": {},
   "source": [
    "### Start the human loop"
   ]
  },
  {
   "cell_type": "markdown",
   "metadata": {},
   "source": [
    "Let's create a list of sample reviews."
   ]
  },
  {
   "cell_type": "code",
   "execution_count": 40,
   "metadata": {
    "tags": []
   },
   "outputs": [],
   "source": [
    "reviews = [\"I enjoy this product\", \n",
    "           \"I am unhappy with this product\", \n",
    "           \"It is okay\", \n",
    "           \"sometimes it works\"]"
   ]
  },
  {
   "cell_type": "markdown",
   "metadata": {},
   "source": [
    "Now we can send each of the sample reviews to the model via the `predictor.predict()` API call. Note that we need to pass the reviews in the JSON format that model expects as input. Then, we parse the model's response to obtain the predicted label and the confidence score. \n",
    "\n",
    "After that, we check the condition for when you want to engage a human for review. We can check whether the returned confidence score is under the defined threshold of 90%, which would mean that we would want to start the human loop with the predicted label and the review as inputs. Finally, we start the human loop passing the input content and Flow Definition defined above."
   ]
  },
  {
   "cell_type": "code",
   "execution_count": 41,
   "metadata": {
    "tags": []
   },
   "outputs": [
    {
     "name": "stdout",
     "output_type": "stream",
     "text": [
      "[{'probability': 0.9376369118690491, 'predicted_label': 1}]\n",
      "Checking prediction confidence 0.9376369118690491 for sample review: \"I enjoy this product\"\n",
      "Confidence score of 93.76369118690491% for star rating of 1 is above threshold of 90.0%\n",
      "Human loop not needed. \n",
      "\n",
      "[{'probability': 0.6340296864509583, 'predicted_label': -1}]\n",
      "Checking prediction confidence 0.6340296864509583 for sample review: \"I am unhappy with this product\"\n",
      "Confidence score of 63.402968645095825% for prediction of -1 is less than the threshold of 90.0%\n",
      "*** ==> Starting human loop with name: 1677154445-9813657  \n",
      "\n",
      "[{'probability': 0.5422114729881287, 'predicted_label': 1}]\n",
      "Checking prediction confidence 0.5422114729881287 for sample review: \"It is okay\"\n",
      "Confidence score of 54.221147298812866% for prediction of 1 is less than the threshold of 90.0%\n",
      "*** ==> Starting human loop with name: 1677154446-4558146  \n",
      "\n",
      "[{'probability': 0.3931102454662323, 'predicted_label': 1}]\n",
      "Checking prediction confidence 0.3931102454662323 for sample review: \"sometimes it works\"\n",
      "Confidence score of 39.31102454662323% for prediction of 1 is less than the threshold of 90.0%\n",
      "*** ==> Starting human loop with name: 1677154446-8940263  \n",
      "\n"
     ]
    }
   ],
   "source": [
    "import json\n",
    "\n",
    "human_loops_started = []\n",
    "\n",
    "CONFIDENCE_SCORE_THRESHOLD = 0.90\n",
    "\n",
    "for review in reviews:\n",
    "    inputs = [\n",
    "        {\"features\": [review]},\n",
    "    ]\n",
    "\n",
    "    response = predictor.predict(inputs)\n",
    "    print(response)\n",
    "    prediction = response[0]['predicted_label']\n",
    "    confidence_score = response[0]['probability']\n",
    "\n",
    "    print('Checking prediction confidence {} for sample review: \"{}\"'.format(confidence_score, review))\n",
    "\n",
    "    # condition for when we want to engage a human for review\n",
    "    if confidence_score < CONFIDENCE_SCORE_THRESHOLD:\n",
    "        human_loop_name = str(time.time()).replace('.', '-') # using milliseconds\n",
    "        input_content = {\n",
    "            \"initialValue\": prediction, \n",
    "            \"taskObject\": review \n",
    "        }\n",
    "        start_loop_response = a2i.start_human_loop(\n",
    "            HumanLoopName=human_loop_name,\n",
    "            FlowDefinitionArn=augmented_ai_flow_definition_arn,\n",
    "            HumanLoopInput={\"InputContent\": json.dumps(input_content)},\n",
    "        )\n",
    "\n",
    "        human_loops_started.append(human_loop_name)\n",
    "\n",
    "        print(\n",
    "            f\"Confidence score of {confidence_score * 100}% for prediction of {prediction} is less than the threshold of {CONFIDENCE_SCORE_THRESHOLD * 100}%\"\n",
    "        )\n",
    "        print(f\"*** ==> Starting human loop with name: {human_loop_name}  \\n\")\n",
    "    else:\n",
    "        print(\n",
    "            f\"Confidence score of {confidence_score * 100}% for star rating of {prediction} is above threshold of {CONFIDENCE_SCORE_THRESHOLD * 100}%\"\n",
    "        )\n",
    "        print(\"Human loop not needed. \\n\")"
   ]
  },
  {
   "cell_type": "markdown",
   "metadata": {},
   "source": [
    "Three of the sample reviews with the probability scores lower than the threshold went into the human loop. The original predicted labels are passed together with the review text and will be seen in the task."
   ]
  },
  {
   "cell_type": "markdown",
   "metadata": {},
   "source": [
    "### Check status of the human loop\n",
    "\n",
    "Function `a2i.describe_human_loop` can be used to pull the information about the human loop."
   ]
  },
  {
   "cell_type": "code",
   "execution_count": 42,
   "metadata": {
    "tags": []
   },
   "outputs": [
    {
     "name": "stdout",
     "output_type": "stream",
     "text": [
      "HumanLoop Name: 1677154445-9813657\n",
      "HumanLoop Status: InProgress\n",
      "HumanLoop Output Destination: {'OutputS3Uri': 's3://sagemaker-us-east-1-753124839657/a2i-results-1677153775/fd-1677153775/2023/02/23/12/14/06/1677154445-9813657/output.json'}\n",
      "\n",
      "HumanLoop Name: 1677154446-4558146\n",
      "HumanLoop Status: InProgress\n",
      "HumanLoop Output Destination: {'OutputS3Uri': 's3://sagemaker-us-east-1-753124839657/a2i-results-1677153775/fd-1677153775/2023/02/23/12/14/06/1677154446-4558146/output.json'}\n",
      "\n",
      "HumanLoop Name: 1677154446-8940263\n",
      "HumanLoop Status: InProgress\n",
      "HumanLoop Output Destination: {'OutputS3Uri': 's3://sagemaker-us-east-1-753124839657/a2i-results-1677153775/fd-1677153775/2023/02/23/12/14/06/1677154446-8940263/output.json'}\n",
      "\n"
     ]
    }
   ],
   "source": [
    "completed_human_loops = []\n",
    "for human_loop_name in human_loops_started:\n",
    "    resp = a2i.describe_human_loop(HumanLoopName=human_loop_name)\n",
    "    print(f\"HumanLoop Name: {human_loop_name}\")\n",
    "    print(f'HumanLoop Status: {resp[\"HumanLoopStatus\"]}')\n",
    "    print(f'HumanLoop Output Destination: {resp[\"HumanLoopOutput\"]}')\n",
    "    print(\"\")\n",
    "\n",
    "    if resp[\"HumanLoopStatus\"] == \"Completed\":\n",
    "        completed_human_loops.append(resp)"
   ]
  },
  {
   "cell_type": "markdown",
   "metadata": {},
   "source": [
    "### Complete the human loop tasks\n",
    "\n",
    "Now we will pull the labeling UI from the workteam information to get into the human loop tasks in the AWS console."
   ]
  },
  {
   "cell_type": "code",
   "execution_count": 43,
   "metadata": {
    "tags": []
   },
   "outputs": [
    {
     "name": "stdout",
     "output_type": "stream",
     "text": [
      "aqa042udc1.labeling.us-east-1.sagemaker.aws\n"
     ]
    }
   ],
   "source": [
    "labeling_ui = sm.describe_workteam(WorkteamName=workteam_name)[\"Workteam\"][\"SubDomain\"]\n",
    "print(labeling_ui)"
   ]
  },
  {
   "cell_type": "markdown",
   "metadata": {},
   "source": [
    "We will navigate to a link and login with the defined username and password. "
   ]
  },
  {
   "cell_type": "markdown",
   "metadata": {},
   "source": [
    "![](https://github.com/pranath/blog/raw/master/images/label-data-job-instructions.png \"Human in the loop Workflow\")"
   ]
  },
  {
   "cell_type": "markdown",
   "metadata": {},
   "source": [
    "### Verify that the human loops were completed by the workforce"
   ]
  },
  {
   "cell_type": "code",
   "execution_count": 45,
   "metadata": {
    "tags": []
   },
   "outputs": [
    {
     "name": "stdout",
     "output_type": "stream",
     "text": [
      "HumanLoop Name: 1677154445-9813657\n",
      "HumanLoop Status: InProgress\n",
      "HumanLoop Output Destination: {'OutputS3Uri': 's3://sagemaker-us-east-1-753124839657/a2i-results-1677153775/fd-1677153775/2023/02/23/12/14/06/1677154445-9813657/output.json'}\n",
      "\n",
      "Waiting for HumanLoop to complete.\n",
      "Waiting for HumanLoop to complete.\n",
      "Waiting for HumanLoop to complete.\n",
      "Waiting for HumanLoop to complete.\n",
      "Waiting for HumanLoop to complete.\n",
      "Waiting for HumanLoop to complete.\n",
      "Waiting for HumanLoop to complete.\n",
      "Waiting for HumanLoop to complete.\n",
      "Waiting for HumanLoop to complete.\n",
      "Waiting for HumanLoop to complete.\n",
      "Waiting for HumanLoop to complete.\n",
      "Waiting for HumanLoop to complete.\n",
      "Waiting for HumanLoop to complete.\n",
      "Waiting for HumanLoop to complete.\n",
      "Waiting for HumanLoop to complete.\n",
      "Completed!\n",
      "\n",
      "HumanLoop Name: 1677154446-4558146\n",
      "HumanLoop Status: Completed\n",
      "HumanLoop Output Destination: {'OutputS3Uri': 's3://sagemaker-us-east-1-753124839657/a2i-results-1677153775/fd-1677153775/2023/02/23/12/14/06/1677154446-4558146/output.json'}\n",
      "\n",
      "Completed!\n",
      "\n",
      "HumanLoop Name: 1677154446-8940263\n",
      "HumanLoop Status: Completed\n",
      "HumanLoop Output Destination: {'OutputS3Uri': 's3://sagemaker-us-east-1-753124839657/a2i-results-1677153775/fd-1677153775/2023/02/23/12/14/06/1677154446-8940263/output.json'}\n",
      "\n",
      "Completed!\n",
      "\n"
     ]
    }
   ],
   "source": [
    "import time\n",
    "\n",
    "completed_human_loops = []\n",
    "for human_loop_name in human_loops_started:\n",
    "    resp = a2i.describe_human_loop(HumanLoopName=human_loop_name)\n",
    "    print(f\"HumanLoop Name: {human_loop_name}\")\n",
    "    print(f'HumanLoop Status: {resp[\"HumanLoopStatus\"]}')\n",
    "    print(f'HumanLoop Output Destination: {resp[\"HumanLoopOutput\"]}')\n",
    "    print(\"\")\n",
    "    while resp[\"HumanLoopStatus\"] != \"Completed\":\n",
    "        print(f\"Waiting for HumanLoop to complete.\")\n",
    "        time.sleep(10)\n",
    "        resp = a2i.describe_human_loop(HumanLoopName=human_loop_name)\n",
    "    if resp[\"HumanLoopStatus\"] == \"Completed\":\n",
    "        completed_human_loops.append(resp)\n",
    "        print(f\"Completed!\")\n",
    "        print(\"\")"
   ]
  },
  {
   "cell_type": "markdown",
   "metadata": {},
   "source": [
    "**This process ^^ above ^^ will not complete until we label the data following the instructions above.**"
   ]
  },
  {
   "cell_type": "markdown",
   "metadata": {},
   "source": [
    "### View human labels and prepare the data for re-training"
   ]
  },
  {
   "cell_type": "markdown",
   "metadata": {},
   "source": [
    "Once the work is complete, Amazon A2I stores the results in the specified S3 bucket and sends a Cloudwatch Event.  Let's check the S3 contents."
   ]
  },
  {
   "cell_type": "code",
   "execution_count": 46,
   "metadata": {
    "scrolled": true,
    "tags": []
   },
   "outputs": [
    {
     "name": "stdout",
     "output_type": "stream",
     "text": [
      "{'flowDefinitionArn': 'arn:aws:sagemaker:us-east-1:753124839657:flow-definition/fd-1677153775',\n",
      " 'humanAnswers': [{'acceptanceTime': '2023-02-23T12:16:28.736Z',\n",
      "                   'answerContent': {'sentiment': {'label': '-1'}},\n",
      "                   'submissionTime': '2023-02-23T12:16:33.547Z',\n",
      "                   'timeSpentInSeconds': 4.811,\n",
      "                   'workerId': '0e31fea759d04da1',\n",
      "                   'workerMetadata': {'identityData': {'identityProviderType': 'Cognito',\n",
      "                                                       'issuer': 'https://cognito-idp.us-east-1.amazonaws.com/us-east-1_8s0SOCEPn',\n",
      "                                                       'sub': '7e22b0c1-059a-45b4-b69a-e1b378950097'}}}],\n",
      " 'humanLoopName': '1677154445-9813657',\n",
      " 'inputContent': {'initialValue': -1,\n",
      "                  'taskObject': 'I am unhappy with this product'}}\n",
      "{'flowDefinitionArn': 'arn:aws:sagemaker:us-east-1:753124839657:flow-definition/fd-1677153775',\n",
      " 'humanAnswers': [{'acceptanceTime': '2023-02-23T12:16:06.376Z',\n",
      "                   'answerContent': {'sentiment': {'label': '0'}},\n",
      "                   'submissionTime': '2023-02-23T12:16:23.626Z',\n",
      "                   'timeSpentInSeconds': 17.25,\n",
      "                   'workerId': '0e31fea759d04da1',\n",
      "                   'workerMetadata': {'identityData': {'identityProviderType': 'Cognito',\n",
      "                                                       'issuer': 'https://cognito-idp.us-east-1.amazonaws.com/us-east-1_8s0SOCEPn',\n",
      "                                                       'sub': '7e22b0c1-059a-45b4-b69a-e1b378950097'}}}],\n",
      " 'humanLoopName': '1677154446-4558146',\n",
      " 'inputContent': {'initialValue': 1, 'taskObject': 'It is okay'}}\n",
      "{'flowDefinitionArn': 'arn:aws:sagemaker:us-east-1:753124839657:flow-definition/fd-1677153775',\n",
      " 'humanAnswers': [{'acceptanceTime': '2023-02-23T12:16:23.694Z',\n",
      "                   'answerContent': {'sentiment': {'label': '0'}},\n",
      "                   'submissionTime': '2023-02-23T12:16:28.668Z',\n",
      "                   'timeSpentInSeconds': 4.974,\n",
      "                   'workerId': '0e31fea759d04da1',\n",
      "                   'workerMetadata': {'identityData': {'identityProviderType': 'Cognito',\n",
      "                                                       'issuer': 'https://cognito-idp.us-east-1.amazonaws.com/us-east-1_8s0SOCEPn',\n",
      "                                                       'sub': '7e22b0c1-059a-45b4-b69a-e1b378950097'}}}],\n",
      " 'humanLoopName': '1677154446-8940263',\n",
      " 'inputContent': {'initialValue': 1, 'taskObject': 'sometimes it works'}}\n"
     ]
    }
   ],
   "source": [
    "import re\n",
    "from pprint import pprint\n",
    "\n",
    "fixed_items = []\n",
    "\n",
    "for resp in completed_human_loops:\n",
    "    split_string = re.split(\"s3://\" + bucket + \"/\", resp[\"HumanLoopOutput\"][\"OutputS3Uri\"])\n",
    "    output_bucket_key = split_string[1]\n",
    "\n",
    "    response = s3.get_object(Bucket=bucket, Key=output_bucket_key)\n",
    "    content = response[\"Body\"].read().decode(\"utf-8\")\n",
    "    json_output = json.loads(content)\n",
    "    pprint(json_output)\n",
    "\n",
    "    input_content = json_output[\"inputContent\"]\n",
    "    human_answer = json_output[\"humanAnswers\"][0][\"answerContent\"]\n",
    "    fixed_item = {\"input_content\": input_content, \"human_answer\": human_answer}\n",
    "    fixed_items.append(fixed_item)"
   ]
  },
  {
   "cell_type": "markdown",
   "metadata": {},
   "source": [
    "Now we can prepare the data for re-training."
   ]
  },
  {
   "cell_type": "code",
   "execution_count": 47,
   "metadata": {
    "tags": []
   },
   "outputs": [
    {
     "data": {
      "text/html": [
       "<div>\n",
       "<style scoped>\n",
       "    .dataframe tbody tr th:only-of-type {\n",
       "        vertical-align: middle;\n",
       "    }\n",
       "\n",
       "    .dataframe tbody tr th {\n",
       "        vertical-align: top;\n",
       "    }\n",
       "\n",
       "    .dataframe thead th {\n",
       "        text-align: right;\n",
       "    }\n",
       "</style>\n",
       "<table border=\"1\" class=\"dataframe\">\n",
       "  <thead>\n",
       "    <tr style=\"text-align: right;\">\n",
       "      <th></th>\n",
       "      <th>input_content</th>\n",
       "      <th>human_answer</th>\n",
       "    </tr>\n",
       "  </thead>\n",
       "  <tbody>\n",
       "    <tr>\n",
       "      <th>0</th>\n",
       "      <td>{'initialValue': -1, 'taskObject': 'I am unhap...</td>\n",
       "      <td>{'sentiment': {'label': '-1'}}</td>\n",
       "    </tr>\n",
       "    <tr>\n",
       "      <th>1</th>\n",
       "      <td>{'initialValue': 1, 'taskObject': 'It is okay'}</td>\n",
       "      <td>{'sentiment': {'label': '0'}}</td>\n",
       "    </tr>\n",
       "    <tr>\n",
       "      <th>2</th>\n",
       "      <td>{'initialValue': 1, 'taskObject': 'sometimes i...</td>\n",
       "      <td>{'sentiment': {'label': '0'}}</td>\n",
       "    </tr>\n",
       "  </tbody>\n",
       "</table>\n",
       "</div>"
      ],
      "text/plain": [
       "                                       input_content  \\\n",
       "0  {'initialValue': -1, 'taskObject': 'I am unhap...   \n",
       "1    {'initialValue': 1, 'taskObject': 'It is okay'}   \n",
       "2  {'initialValue': 1, 'taskObject': 'sometimes i...   \n",
       "\n",
       "                     human_answer  \n",
       "0  {'sentiment': {'label': '-1'}}  \n",
       "1   {'sentiment': {'label': '0'}}  \n",
       "2   {'sentiment': {'label': '0'}}  "
      ]
     },
     "execution_count": 47,
     "metadata": {},
     "output_type": "execute_result"
    }
   ],
   "source": [
    "df_fixed_items = pd.DataFrame(fixed_items)  \n",
    "df_fixed_items.head()"
   ]
  },
  {
   "cell_type": "markdown",
   "metadata": {},
   "source": [
    "## Acknowledgements\n",
    "\n",
    "I'd like to express my thanks to the great [Deep Learning AI Practical Data Science on AWS Specialisation Course](https://www.deeplearning.ai/courses/practical-data-science-specialization/) which i completed, and acknowledge the use of some images and other materials from the training course in this article."
   ]
  }
 ],
 "metadata": {
  "availableInstances": [
   {
    "_defaultOrder": 0,
    "_isFastLaunch": true,
    "category": "General purpose",
    "gpuNum": 0,
    "memoryGiB": 4,
    "name": "ml.t3.medium",
    "vcpuNum": 2
   },
   {
    "_defaultOrder": 1,
    "_isFastLaunch": false,
    "category": "General purpose",
    "gpuNum": 0,
    "memoryGiB": 8,
    "name": "ml.t3.large",
    "vcpuNum": 2
   },
   {
    "_defaultOrder": 2,
    "_isFastLaunch": false,
    "category": "General purpose",
    "gpuNum": 0,
    "memoryGiB": 16,
    "name": "ml.t3.xlarge",
    "vcpuNum": 4
   },
   {
    "_defaultOrder": 3,
    "_isFastLaunch": false,
    "category": "General purpose",
    "gpuNum": 0,
    "memoryGiB": 32,
    "name": "ml.t3.2xlarge",
    "vcpuNum": 8
   },
   {
    "_defaultOrder": 4,
    "_isFastLaunch": true,
    "category": "General purpose",
    "gpuNum": 0,
    "memoryGiB": 8,
    "name": "ml.m5.large",
    "vcpuNum": 2
   },
   {
    "_defaultOrder": 5,
    "_isFastLaunch": false,
    "category": "General purpose",
    "gpuNum": 0,
    "memoryGiB": 16,
    "name": "ml.m5.xlarge",
    "vcpuNum": 4
   },
   {
    "_defaultOrder": 6,
    "_isFastLaunch": false,
    "category": "General purpose",
    "gpuNum": 0,
    "memoryGiB": 32,
    "name": "ml.m5.2xlarge",
    "vcpuNum": 8
   },
   {
    "_defaultOrder": 7,
    "_isFastLaunch": false,
    "category": "General purpose",
    "gpuNum": 0,
    "memoryGiB": 64,
    "name": "ml.m5.4xlarge",
    "vcpuNum": 16
   },
   {
    "_defaultOrder": 8,
    "_isFastLaunch": false,
    "category": "General purpose",
    "gpuNum": 0,
    "memoryGiB": 128,
    "name": "ml.m5.8xlarge",
    "vcpuNum": 32
   },
   {
    "_defaultOrder": 9,
    "_isFastLaunch": false,
    "category": "General purpose",
    "gpuNum": 0,
    "memoryGiB": 192,
    "name": "ml.m5.12xlarge",
    "vcpuNum": 48
   },
   {
    "_defaultOrder": 10,
    "_isFastLaunch": false,
    "category": "General purpose",
    "gpuNum": 0,
    "memoryGiB": 256,
    "name": "ml.m5.16xlarge",
    "vcpuNum": 64
   },
   {
    "_defaultOrder": 11,
    "_isFastLaunch": false,
    "category": "General purpose",
    "gpuNum": 0,
    "memoryGiB": 384,
    "name": "ml.m5.24xlarge",
    "vcpuNum": 96
   },
   {
    "_defaultOrder": 12,
    "_isFastLaunch": false,
    "category": "General purpose",
    "gpuNum": 0,
    "memoryGiB": 8,
    "name": "ml.m5d.large",
    "vcpuNum": 2
   },
   {
    "_defaultOrder": 13,
    "_isFastLaunch": false,
    "category": "General purpose",
    "gpuNum": 0,
    "memoryGiB": 16,
    "name": "ml.m5d.xlarge",
    "vcpuNum": 4
   },
   {
    "_defaultOrder": 14,
    "_isFastLaunch": false,
    "category": "General purpose",
    "gpuNum": 0,
    "memoryGiB": 32,
    "name": "ml.m5d.2xlarge",
    "vcpuNum": 8
   },
   {
    "_defaultOrder": 15,
    "_isFastLaunch": false,
    "category": "General purpose",
    "gpuNum": 0,
    "memoryGiB": 64,
    "name": "ml.m5d.4xlarge",
    "vcpuNum": 16
   },
   {
    "_defaultOrder": 16,
    "_isFastLaunch": false,
    "category": "General purpose",
    "gpuNum": 0,
    "memoryGiB": 128,
    "name": "ml.m5d.8xlarge",
    "vcpuNum": 32
   },
   {
    "_defaultOrder": 17,
    "_isFastLaunch": false,
    "category": "General purpose",
    "gpuNum": 0,
    "memoryGiB": 192,
    "name": "ml.m5d.12xlarge",
    "vcpuNum": 48
   },
   {
    "_defaultOrder": 18,
    "_isFastLaunch": false,
    "category": "General purpose",
    "gpuNum": 0,
    "memoryGiB": 256,
    "name": "ml.m5d.16xlarge",
    "vcpuNum": 64
   },
   {
    "_defaultOrder": 19,
    "_isFastLaunch": false,
    "category": "General purpose",
    "gpuNum": 0,
    "memoryGiB": 384,
    "name": "ml.m5d.24xlarge",
    "vcpuNum": 96
   },
   {
    "_defaultOrder": 20,
    "_isFastLaunch": true,
    "category": "Compute optimized",
    "gpuNum": 0,
    "memoryGiB": 4,
    "name": "ml.c5.large",
    "vcpuNum": 2
   },
   {
    "_defaultOrder": 21,
    "_isFastLaunch": false,
    "category": "Compute optimized",
    "gpuNum": 0,
    "memoryGiB": 8,
    "name": "ml.c5.xlarge",
    "vcpuNum": 4
   },
   {
    "_defaultOrder": 22,
    "_isFastLaunch": false,
    "category": "Compute optimized",
    "gpuNum": 0,
    "memoryGiB": 16,
    "name": "ml.c5.2xlarge",
    "vcpuNum": 8
   },
   {
    "_defaultOrder": 23,
    "_isFastLaunch": false,
    "category": "Compute optimized",
    "gpuNum": 0,
    "memoryGiB": 32,
    "name": "ml.c5.4xlarge",
    "vcpuNum": 16
   },
   {
    "_defaultOrder": 24,
    "_isFastLaunch": false,
    "category": "Compute optimized",
    "gpuNum": 0,
    "memoryGiB": 72,
    "name": "ml.c5.9xlarge",
    "vcpuNum": 36
   },
   {
    "_defaultOrder": 25,
    "_isFastLaunch": false,
    "category": "Compute optimized",
    "gpuNum": 0,
    "memoryGiB": 96,
    "name": "ml.c5.12xlarge",
    "vcpuNum": 48
   },
   {
    "_defaultOrder": 26,
    "_isFastLaunch": false,
    "category": "Compute optimized",
    "gpuNum": 0,
    "memoryGiB": 144,
    "name": "ml.c5.18xlarge",
    "vcpuNum": 72
   },
   {
    "_defaultOrder": 27,
    "_isFastLaunch": false,
    "category": "Compute optimized",
    "gpuNum": 0,
    "memoryGiB": 192,
    "name": "ml.c5.24xlarge",
    "vcpuNum": 96
   },
   {
    "_defaultOrder": 28,
    "_isFastLaunch": true,
    "category": "Accelerated computing",
    "gpuNum": 1,
    "memoryGiB": 16,
    "name": "ml.g4dn.xlarge",
    "vcpuNum": 4
   },
   {
    "_defaultOrder": 29,
    "_isFastLaunch": false,
    "category": "Accelerated computing",
    "gpuNum": 1,
    "memoryGiB": 32,
    "name": "ml.g4dn.2xlarge",
    "vcpuNum": 8
   },
   {
    "_defaultOrder": 30,
    "_isFastLaunch": false,
    "category": "Accelerated computing",
    "gpuNum": 1,
    "memoryGiB": 64,
    "name": "ml.g4dn.4xlarge",
    "vcpuNum": 16
   },
   {
    "_defaultOrder": 31,
    "_isFastLaunch": false,
    "category": "Accelerated computing",
    "gpuNum": 1,
    "memoryGiB": 128,
    "name": "ml.g4dn.8xlarge",
    "vcpuNum": 32
   },
   {
    "_defaultOrder": 32,
    "_isFastLaunch": false,
    "category": "Accelerated computing",
    "gpuNum": 4,
    "memoryGiB": 192,
    "name": "ml.g4dn.12xlarge",
    "vcpuNum": 48
   },
   {
    "_defaultOrder": 33,
    "_isFastLaunch": false,
    "category": "Accelerated computing",
    "gpuNum": 1,
    "memoryGiB": 256,
    "name": "ml.g4dn.16xlarge",
    "vcpuNum": 64
   },
   {
    "_defaultOrder": 34,
    "_isFastLaunch": false,
    "category": "Accelerated computing",
    "gpuNum": 1,
    "memoryGiB": 61,
    "name": "ml.p3.2xlarge",
    "vcpuNum": 8
   },
   {
    "_defaultOrder": 35,
    "_isFastLaunch": false,
    "category": "Accelerated computing",
    "gpuNum": 4,
    "memoryGiB": 244,
    "name": "ml.p3.8xlarge",
    "vcpuNum": 32
   },
   {
    "_defaultOrder": 36,
    "_isFastLaunch": false,
    "category": "Accelerated computing",
    "gpuNum": 8,
    "memoryGiB": 488,
    "name": "ml.p3.16xlarge",
    "vcpuNum": 64
   },
   {
    "_defaultOrder": 37,
    "_isFastLaunch": false,
    "category": "Accelerated computing",
    "gpuNum": 8,
    "memoryGiB": 768,
    "name": "ml.p3dn.24xlarge",
    "vcpuNum": 96
   },
   {
    "_defaultOrder": 38,
    "_isFastLaunch": false,
    "category": "Memory Optimized",
    "gpuNum": 0,
    "memoryGiB": 16,
    "name": "ml.r5.large",
    "vcpuNum": 2
   },
   {
    "_defaultOrder": 39,
    "_isFastLaunch": false,
    "category": "Memory Optimized",
    "gpuNum": 0,
    "memoryGiB": 32,
    "name": "ml.r5.xlarge",
    "vcpuNum": 4
   },
   {
    "_defaultOrder": 40,
    "_isFastLaunch": false,
    "category": "Memory Optimized",
    "gpuNum": 0,
    "memoryGiB": 64,
    "name": "ml.r5.2xlarge",
    "vcpuNum": 8
   },
   {
    "_defaultOrder": 41,
    "_isFastLaunch": false,
    "category": "Memory Optimized",
    "gpuNum": 0,
    "memoryGiB": 128,
    "name": "ml.r5.4xlarge",
    "vcpuNum": 16
   },
   {
    "_defaultOrder": 42,
    "_isFastLaunch": false,
    "category": "Memory Optimized",
    "gpuNum": 0,
    "memoryGiB": 256,
    "name": "ml.r5.8xlarge",
    "vcpuNum": 32
   },
   {
    "_defaultOrder": 43,
    "_isFastLaunch": false,
    "category": "Memory Optimized",
    "gpuNum": 0,
    "memoryGiB": 384,
    "name": "ml.r5.12xlarge",
    "vcpuNum": 48
   },
   {
    "_defaultOrder": 44,
    "_isFastLaunch": false,
    "category": "Memory Optimized",
    "gpuNum": 0,
    "memoryGiB": 512,
    "name": "ml.r5.16xlarge",
    "vcpuNum": 64
   },
   {
    "_defaultOrder": 45,
    "_isFastLaunch": false,
    "category": "Memory Optimized",
    "gpuNum": 0,
    "memoryGiB": 768,
    "name": "ml.r5.24xlarge",
    "vcpuNum": 96
   },
   {
    "_defaultOrder": 46,
    "_isFastLaunch": false,
    "category": "Accelerated computing",
    "gpuNum": 1,
    "memoryGiB": 16,
    "name": "ml.g5.xlarge",
    "vcpuNum": 4
   },
   {
    "_defaultOrder": 47,
    "_isFastLaunch": false,
    "category": "Accelerated computing",
    "gpuNum": 1,
    "memoryGiB": 32,
    "name": "ml.g5.2xlarge",
    "vcpuNum": 8
   },
   {
    "_defaultOrder": 48,
    "_isFastLaunch": false,
    "category": "Accelerated computing",
    "gpuNum": 1,
    "memoryGiB": 64,
    "name": "ml.g5.4xlarge",
    "vcpuNum": 16
   },
   {
    "_defaultOrder": 49,
    "_isFastLaunch": false,
    "category": "Accelerated computing",
    "gpuNum": 1,
    "memoryGiB": 128,
    "name": "ml.g5.8xlarge",
    "vcpuNum": 32
   },
   {
    "_defaultOrder": 50,
    "_isFastLaunch": false,
    "category": "Accelerated computing",
    "gpuNum": 1,
    "memoryGiB": 256,
    "name": "ml.g5.16xlarge",
    "vcpuNum": 64
   },
   {
    "_defaultOrder": 51,
    "_isFastLaunch": false,
    "category": "Accelerated computing",
    "gpuNum": 4,
    "memoryGiB": 192,
    "name": "ml.g5.12xlarge",
    "vcpuNum": 48
   },
   {
    "_defaultOrder": 52,
    "_isFastLaunch": false,
    "category": "Accelerated computing",
    "gpuNum": 4,
    "memoryGiB": 384,
    "name": "ml.g5.24xlarge",
    "vcpuNum": 96
   },
   {
    "_defaultOrder": 53,
    "_isFastLaunch": false,
    "category": "Accelerated computing",
    "gpuNum": 8,
    "memoryGiB": 768,
    "name": "ml.g5.48xlarge",
    "vcpuNum": 192
   }
  ],
  "instance_type": "ml.t3.medium",
  "kernelspec": {
   "display_name": "Python 3 (ipykernel)",
   "language": "python",
   "name": "python3"
  },
  "language_info": {
   "codemirror_mode": {
    "name": "ipython",
    "version": 3
   },
   "file_extension": ".py",
   "mimetype": "text/x-python",
   "name": "python",
   "nbconvert_exporter": "python",
   "pygments_lexer": "ipython3",
   "version": "3.9.13"
  }
 },
 "nbformat": 4,
 "nbformat_minor": 4
}
