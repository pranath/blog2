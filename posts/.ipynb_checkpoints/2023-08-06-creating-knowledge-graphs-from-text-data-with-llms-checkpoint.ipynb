{
 "cells": [
  {
   "cell_type": "raw",
   "metadata": {},
   "source": [
    "---\n",
    "date: '2023-08-06'\n",
    "categories:\n",
    " - natural-language-processing\n",
    " - deep-learning\n",
    " - langchain\n",
    " - activeloop\n",
    " - openai\n",
    " - prompt-engineering\n",
    " - network-analysis\n",
    "title: Creating Knowledge Graphs from Textual Data and LLM's\n",
    "description: Here we walk through a simple workflow for creating a knowledge graph from textual data, making complex information more accessible and easier to understand\n",
    "image: https://github.com/pranath/blog/raw/master/images/langchain-deeplake2.png\n",
    "---"
   ]
  },
  {
   "cell_type": "markdown",
   "metadata": {},
   "source": [
    "## Introduction\n",
    "\n",
    "Understanding the connections between various types of information is essential in today's data-driven environment. Unstructured text may now be transformed into a structured network of items and their relationships using knowledge graphs, which have evolved as a potent tool for visualising and exploring these connections. We will walk you through a straightforward method for converting textual data into a knowledge graph, making complex content more approachable and understandable.\n",
    "\n",
    "## Import Libs & Setup"
   ]
  },
  {
   "cell_type": "code",
   "execution_count": 6,
   "metadata": {
    "colab": {
     "base_uri": "https://localhost:8080/"
    },
    "id": "8jFmPv7qAk-h",
    "outputId": "b1295ed9-6be8-4771-c866-8d57dcfc6f7c"
   },
   "outputs": [],
   "source": [
    "#| include: false\n",
    "!pip install -q langchain==0.0.208 openai python-dotenv pyvis"
   ]
  },
  {
   "cell_type": "code",
   "execution_count": 7,
   "metadata": {
    "colab": {
     "base_uri": "https://localhost:8080/"
    },
    "id": "fdhPiWF1CbhM",
    "outputId": "116ac638-6587-4e2f-ef86-7a9b0de10e94"
   },
   "outputs": [],
   "source": [
    "import os\n",
    "import openai\n",
    "import sys\n",
    "sys.path.append('../..')\n",
    "from dotenv import load_dotenv, find_dotenv\n",
    "_ = load_dotenv(find_dotenv()) # read local .env file\n",
    "\n",
    "openai.api_key  = os.environ['OPENAI_API_KEY']"
   ]
  },
  {
   "cell_type": "markdown",
   "metadata": {},
   "source": [
    "## Workflow for Creating Knowledge Graphs from Textual Data\n",
    "\n",
    "Here’s what we are going to do in this post.\n",
    "\n",
    "<img src=\"https://github.com/pranath/blog/raw/master/images/knowledge-graph-text-workflow.png\" width=\"800\"/>\n",
    "\n",
    "## Knowledge Graphs and Knowledge Bases: know the difference\n",
    "\n",
    "It's crucial to understand the distinction between knowledge bases and knowledge graphs before continuing.\n",
    "\n",
    "Although the phrases \"knowledge base\" and \"knowledge graph\" are sometimes used interchangeably, they have slight variations. A knowledge base (KB) is a collection of organised data about a certain topic. A knowledge graph, on the other hand, is a knowledge base that is organised like a graph, with nodes denoting entities and edges denoting relationships between those things. For instance, we can extract the triplet of relations from the sentence \"Fabio lives in Italy,\" where \"Fabio\" and \"Italy\" are entities and \"lives in\" is their relationship.\n",
    "\n",
    "A specific kind of information base is a knowledge graph. A knowledge graph is not required to be a knowledge base.\n",
    "\n",
    "## Building a Knowledge Graph\n",
    "\n",
    "The process of building a knowledge graph usually consists of two sequential steps:\n",
    "\n",
    "1. Named Entity Recognition (NER): This step involves extracting entities from the text, which will eventually become the nodes of the knowledge graph.\n",
    "2. Relation Classification (RC): In this step, relations between entities are extracted, forming the edges of the knowledge graph.\n",
    "\n",
    "The knowledge graph is then frequently displayed using tools like pyvis.\n",
    "\n",
    "Usually, adding extra phases to the process of constructing a knowledge base from the text might improve it. For example:\n",
    "\n",
    "- Entity Linking: This involves normalizing entities to the same entity, such as “Napoleon” and “Napoleon Bonapart.” This is usually done by linking them to a canonical source, like a Wikipedia page.\n",
    "- Source Tracking: Keeping track of the origin of each relation, such as the article URL and text span. Keeping track of the sources allows us to gather insights into the reliability of the extracted information (e.g., a relation is accurate if it can be extracted from several sources considered accurate).\n",
    "\n",
    "We'll do the tasks of Named Entity Recognition and Relation Classification simultaneously in this project while using the relevant prompt. Relation Extraction (RE) is the popular name for this collaborative effort.\n",
    "\n",
    "## Building a Knowledge Graph with LangChain\n",
    "\n",
    "We may use the KNOWLEDGE_TRIPLE_EXTRACTION_PROMPT prompt as a starting point to show an example of using a prompt to extract relations from the text in LangChain. From a given word input, this prompt is intended to extract knowledge triples (subject, predicate, and object).\n",
    "\n",
    "The ConversationEntityMemory class from the LangChain library, which allows chatbots to maintain a memory of the previous messages in a conversation by storing the relations retrieved from the previous messages, can use this prompt. In a subsequent course, memory classes will be explained. In this example, we don't employ a memory class; instead, we only use this prompt to extract relationships from texts.\n",
    "\n",
    "Let's examine the KNOWLEDGE_TRIPLE_EXTRACTION_PROMPT's structure. The input variable text is used to create an instance of the PromptTemplate class for this prompt. The template is a string that gives the language model guidelines to follow when extracting knowledge triples from the input text along with a few sample examples. The OPENAI_API_KEY key from the environment variable where your OpenAI API key is saved is needed by the following code. Keep in mind to use the following command to install the necessary packages: pip install deeplake openai tiktoken langchain==0.0.208."
   ]
  },
  {
   "cell_type": "code",
   "execution_count": 8,
   "metadata": {
    "colab": {
     "base_uri": "https://localhost:8080/"
    },
    "id": "9XvgMXSRCeNE",
    "outputId": "03ef0f44-20d9-4092-86d7-910bf0c331d8"
   },
   "outputs": [
    {
     "name": "stdout",
     "output_type": "stream",
     "text": [
      " (Paris, is the capital of, France)<|>(Paris, is the most populous city of, France)<|>(Paris, has, Eiffel Tower)<|>(Eiffel Tower, is a, landmark)<|>(Eiffel Tower, is in, Paris)\n"
     ]
    }
   ],
   "source": [
    "from langchain.prompts import PromptTemplate\n",
    "from langchain.llms import OpenAI\n",
    "from langchain.chains import LLMChain\n",
    "from langchain.graphs.networkx_graph import KG_TRIPLE_DELIMITER\n",
    "\n",
    "# Prompt template for knowledge triple extraction\n",
    "_DEFAULT_KNOWLEDGE_TRIPLE_EXTRACTION_TEMPLATE = (\n",
    "    \"You are a networked intelligence helping a human track knowledge triples\"\n",
    "    \" about all relevant people, things, concepts, etc. and integrating\"\n",
    "    \" them with your knowledge stored within your weights\"\n",
    "    \" as well as that stored in a knowledge graph.\"\n",
    "    \" Extract all of the knowledge triples from the text.\"\n",
    "    \" A knowledge triple is a clause that contains a subject, a predicate,\"\n",
    "    \" and an object. The subject is the entity being described,\"\n",
    "    \" the predicate is the property of the subject that is being\"\n",
    "    \" described, and the object is the value of the property.\\n\\n\"\n",
    "    \"EXAMPLE\\n\"\n",
    "    \"It's a state in the US. It's also the number 1 producer of gold in the US.\\n\\n\"\n",
    "    f\"Output: (Nevada, is a, state){KG_TRIPLE_DELIMITER}(Nevada, is in, US)\"\n",
    "    f\"{KG_TRIPLE_DELIMITER}(Nevada, is the number 1 producer of, gold)\\n\"\n",
    "    \"END OF EXAMPLE\\n\\n\"\n",
    "    \"EXAMPLE\\n\"\n",
    "    \"I'm going to the store.\\n\\n\"\n",
    "    \"Output: NONE\\n\"\n",
    "    \"END OF EXAMPLE\\n\\n\"\n",
    "    \"EXAMPLE\\n\"\n",
    "    \"Oh huh. I know Descartes likes to drive antique scooters and play the mandolin.\\n\"\n",
    "    f\"Output: (Descartes, likes to drive, antique scooters){KG_TRIPLE_DELIMITER}(Descartes, plays, mandolin)\\n\"\n",
    "    \"END OF EXAMPLE\\n\\n\"\n",
    "    \"EXAMPLE\\n\"\n",
    "    \"{text}\"\n",
    "    \"Output:\"\n",
    ")\n",
    "\n",
    "KNOWLEDGE_TRIPLE_EXTRACTION_PROMPT = PromptTemplate(\n",
    "    input_variables=[\"text\"],\n",
    "    template=_DEFAULT_KNOWLEDGE_TRIPLE_EXTRACTION_TEMPLATE,\n",
    ")\n",
    "\n",
    "# Instantiate the OpenAI model\n",
    "llm = OpenAI(model_name=\"text-davinci-003\", temperature=0.9)\n",
    "\n",
    "# Create an LLMChain using the knowledge triple extraction prompt\n",
    "chain = LLMChain(llm=llm, prompt=KNOWLEDGE_TRIPLE_EXTRACTION_PROMPT)\n",
    "\n",
    "# Run the chain with the specified text\n",
    "text = \"The city of Paris is the capital and most populous city of France. The Eiffel Tower is a famous landmark in Paris.\"\n",
    "triples = chain.run(text)\n",
    "\n",
    "print(triples)"
   ]
  },
  {
   "cell_type": "markdown",
   "metadata": {},
   "source": [
    "Using few-shot samples, we used the prompt in the preceding code to extract related triplets from text. The created triplets will then be parsed and compiled into a list.\n",
    "\n",
    "The knowledge triplets that were taken from the text will be in triples_response at this point. To parse the response and compile the triplets into a list, do the following:"
   ]
  },
  {
   "cell_type": "code",
   "execution_count": 9,
   "metadata": {
    "colab": {
     "base_uri": "https://localhost:8080/"
    },
    "id": "17DGISoLDkCt",
    "outputId": "cb379dcd-b798-4c2a-dd32-d59d62f41f5d"
   },
   "outputs": [
    {
     "name": "stdout",
     "output_type": "stream",
     "text": [
      "[' (Paris, is the capital of, France)', '(Paris, is the most populous city of, France)', '(Paris, has, Eiffel Tower)', '(Eiffel Tower, is a, landmark)', '(Eiffel Tower, is in, Paris)']\n"
     ]
    }
   ],
   "source": [
    "def parse_triples(response, delimiter=KG_TRIPLE_DELIMITER):\n",
    "    if not response:\n",
    "        return []\n",
    "    return response.split(delimiter)\n",
    "\n",
    "triples_list = parse_triples(triples)\n",
    "\n",
    "# Print the extracted relation triplets\n",
    "print(triples_list)"
   ]
  },
  {
   "cell_type": "markdown",
   "metadata": {},
   "source": [
    "In order to produce and visualise a knowledge graph from a list of related triplets, we first develop two functions; then, we utilised the triples_list to generate a list of cleaned triplets, which generates a NetworkX graph and converts it to a PyVis network. Edge concealing on drag, removing physics, and changing edge smoothing to \"discrete\" are additional ways it alters the graph's visual appearance.\n",
    "\n",
    "By using that method, we were able to create an interactive HTML file called knowledge_graph.html that contained the knowledge graph visualisation based on the extracted relation triplets:"
   ]
  },
  {
   "cell_type": "code",
   "execution_count": 10,
   "metadata": {
    "colab": {
     "base_uri": "https://localhost:8080/",
     "height": 639
    },
    "id": "l93_tobPEAvs",
    "outputId": "6a3bf1ad-bbed-48ae-a497-98c93bd9fb90"
   },
   "outputs": [
    {
     "name": "stdout",
     "output_type": "stream",
     "text": [
      "knowledge_graph.html\n"
     ]
    },
    {
     "data": {
      "text/html": [
       "\n",
       "        <iframe\n",
       "            width=\"100%\"\n",
       "            height=\"600px\"\n",
       "            src=\"knowledge_graph.html\"\n",
       "            frameborder=\"0\"\n",
       "            allowfullscreen\n",
       "            \n",
       "        ></iframe>\n",
       "        "
      ],
      "text/plain": [
       "<IPython.lib.display.IFrame at 0x7f80b436ca60>"
      ]
     },
     "execution_count": 10,
     "metadata": {},
     "output_type": "execute_result"
    }
   ],
   "source": [
    "from pyvis.network import Network\n",
    "import networkx as nx\n",
    "\n",
    "# Create a NetworkX graph from the extracted relation triplets\n",
    "def create_graph_from_triplets(triplets):\n",
    "    G = nx.DiGraph()\n",
    "    for triplet in triplets:\n",
    "        subject, predicate, obj = triplet.strip().split(',')\n",
    "        G.add_edge(subject.strip(), obj.strip(), label=predicate.strip())\n",
    "    return G\n",
    "\n",
    "# Convert the NetworkX graph to a PyVis network\n",
    "def nx_to_pyvis(networkx_graph):\n",
    "    pyvis_graph = Network(notebook=True, cdn_resources='remote')\n",
    "    for node in networkx_graph.nodes():\n",
    "        pyvis_graph.add_node(node)\n",
    "    for edge in networkx_graph.edges(data=True):\n",
    "        pyvis_graph.add_edge(edge[0], edge[1], label=edge[2][\"label\"])\n",
    "    return pyvis_graph\n",
    "\n",
    "triplets = [t.strip() for t in triples_list if t.strip()]\n",
    "graph = create_graph_from_triplets(triplets)\n",
    "pyvis_network = nx_to_pyvis(graph)\n",
    "\n",
    "# Customize the appearance of the graph\n",
    "pyvis_network.toggle_hide_edges_on_drag(True)\n",
    "pyvis_network.toggle_physics(False)\n",
    "pyvis_network.set_edge_smooth('discrete')\n",
    "\n",
    "# Show the interactive knowledge graph visualization\n",
    "pyvis_network.show(\"knowledge_graph.html\")"
   ]
  },
  {
   "cell_type": "markdown",
   "metadata": {},
   "source": [
    "## Conclusion\n",
    "\n",
    "In this post, we've shown a simple yet effective method for generating knowledge graphs from textual input. To make complex information more accessible and understandable, we turned unstructured text into a structured network of things and their interactions.\n",
    "\n",
    "It is important to point out that LangChain provides the GraphIndexCreator class, which automates the extraction of connection triplets and integrates neatly with question-answering chains. Future articles will go into greater detail about this useful feature and demonstrate how it can improve your ability to create and analyse knowledge graphs.\n",
    "\n",
    "As a useful tool for visualising intricate relationships, the knowledge graph produced by this approach also provides access to further investigation, pattern identification, and data-driven decision-making.\n",
    "\n",
    "Further reading:\n",
    "\n",
    "[https://medium.com/nlplanet/building-a-knowledge-base-from-texts-a-full-practical-example-8dbbffb912fa](https://medium.com/nlplanet/building-a-knowledge-base-from-texts-a-full-practical-example-8dbbffb912fa)\n",
    "\n",
    "[https://apex974.com/articles/explore-langchain-support-for-knowledge-graph](https://apex974.com/articles/explore-langchain-support-for-knowledge-graph)\n",
    "\n",
    "## Acknowledgements\n",
    "\n",
    "I'd like to express my thanks to the wonderful [LangChain & Vector Databases in Production Course](https://learn.activeloop.ai/courses/langchain) by Activeloop - which i completed, and acknowledge the use of some images and other materials from the course in this article."
   ]
  },
  {
   "cell_type": "code",
   "execution_count": null,
   "metadata": {},
   "outputs": [],
   "source": []
  }
 ],
 "metadata": {
  "colab": {
   "provenance": []
  },
  "kernelspec": {
   "display_name": "Python 3 (ipykernel)",
   "language": "python",
   "name": "python3"
  },
  "language_info": {
   "codemirror_mode": {
    "name": "ipython",
    "version": 3
   },
   "file_extension": ".py",
   "mimetype": "text/x-python",
   "name": "python",
   "nbconvert_exporter": "python",
   "pygments_lexer": "ipython3",
   "version": "3.9.13"
  }
 },
 "nbformat": 4,
 "nbformat_minor": 4
}
