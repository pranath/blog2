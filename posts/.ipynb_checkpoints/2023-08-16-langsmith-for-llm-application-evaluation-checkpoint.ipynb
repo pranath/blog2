{
 "cells": [
  {
   "cell_type": "raw",
   "id": "7f2f96bb-e287-4212-8a47-213ed836737e",
   "metadata": {},
   "source": [
    "---\n",
    "date: '2023-08-16'\n",
    "categories:\n",
    " - natural-language-processing\n",
    " - deep-learning\n",
    " - langchain\n",
    " - openai\n",
    " - llm-evaluation\n",
    "title: Langsmith for LLM Application Evaluation & Monitoring\n",
    "description: Developing LLM based applications is now possible using libraries such as Langchain, but taking these applications into production can involve many challenges such as evaluation & monitoring. Langsmith is a new tool that can help with these challenges of taking LLMs into production.\n",
    "image: https://github.com/pranath/blog/raw/master/images/ai-eval1.png\n",
    "---"
   ]
  },
  {
   "cell_type": "markdown",
   "id": "be7baf0b-b7d5-4940-a4d0-e007fec354d0",
   "metadata": {},
   "source": [
    "## Introduction\n",
    "\n",
    "LangChain simplifies the development of LLM apps and Agents. However, getting LLM applications into production can be tricky. To produce a high-quality result, you will most likely need to heavily customise and iterate on your prompts, chains, and other components.\n",
    "\n",
    "LangSmith is a unified platform that supports debugging, testing, and monitoring of your LLM applications.\n",
    "\n",
    "In particular it can help with the following:\n",
    "\n",
    "- Debug a new chain, agent, or collection of tools quickly.\n",
    "- Visualise and utilise components (chains, llms, retrievers, etc.) \n",
    "- Evaluate multiple prompts and LLMs for a single component - Run a given chain several times over a dataset to ensure it consistently meets a quality bar\n",
    "- Capture use traces and generate insights using LLMs or analytics pipelines\n",
    "\n",
    "## Langsmith Overview\n",
    "\n",
    "This graphic by [Harry Zhang](https://twitter.com/zhanghaili0610) gives a good overview of where Langsmith fits into the overall LLM application eco-system at date of writing this article:\n",
    "\n",
    "<img src=\"https://github.com/pranath/blog/raw/master/images/langsmith-overview.jpg\" width=\"800\"/>\n",
    "\n",
    "Let's now examine in a bit more detail each of these use-cases for Langsmith.\n",
    "\n",
    "### Debugging\n",
    "\n",
    "It can be difficult to debug LLMs, chains, and agents. LangSmith assists in resolving the following issues:\n",
    "\n",
    "#### What was the exact input to the LLM?\n",
    "\n",
    "LLM calls are frequently difficult and non-deterministic. The inputs/outputs may appear simple because they are technically string string (or chat messages chat message), but this can be misleading because the input string is typically produced from a combination of user input and auxiliary functions.\n",
    "\n",
    "The majority of inputs to an LLM call are a combination of a set template and input variables. These input variables could be generated directly by user input or by an auxiliary function (such as retrieval). These input variables will have been transformed to a string format by the time they enter the LLM, but they are not always naturally expressed as a string. It is critical to have visibility into the final string entering the LLM. \n",
    "\n",
    "This is also true, to a lesser extent, of the output of an LLM. The output of an LLM is frequently a string, but that string may have some structure (json, yaml) that is meant to be processed into a structured form. Understanding the actual result can help determine whether different parsing is required.\n",
    "\n",
    "LangSmith visualises the specific inputs and outputs of all LLM calls so that you can readily comprehend them.\n",
    "\n",
    "#### If I edit the prompt, how does that affect the output?\n",
    "\n",
    "So you see a poor output and go into LangSmith to investigate. You locate the erroneous LLM call and are now inspecting the actual input. What if you want to experiment with modifying a word or phrase to see what happens?\n",
    "\n",
    "When evaluating an LLM call, you may visit this playground by clicking the Open in Playground button. Here, you can adjust the prompt and re-run it to see how the output changes - as many times as you need!\n",
    "\n",
    "Currently, this feature supports only OpenAI and Anthropic models and works for LLM and Chat Model calls\n",
    "\n",
    "#### What is the exact sequence of events?\n",
    "\n",
    "It can be difficult to understand what is going on under the hood of complex chains and agents. What kinds of calls are being made? What is the order? What are each call's inputs and outputs?\n",
    "\n",
    "LangSmith's built-in tracing tool provides a visual representation of these sequences. This tool is quite useful for comprehending complex and extensive chains and agents. It can shed light on the sequencing of calls and how they interact in chains. It helps visualise the precise sequence for a given run for agents when the sequence of calls is non-deterministic – something that is impossible to anticipate ahead of time.\n",
    "\n",
    "#### Why did my chain take much longer than expected?\n",
    "\n",
    "If a chain takes longer than intended, you must determine the root cause. LangSmith identifies and potentially eliminates the slowest components by tracking the latency of each step.\n",
    "\n",
    "#### What was the total number of tokens used? \n",
    "\n",
    "Developing and prototyping LLM apps can be costly. LangSmith keeps track of a chain's total token usage as well as the token usage of each step. This makes identifying potentially costly elements of the chain simple.\n",
    "\n",
    "#### Debugging collaboratively\n",
    "Sharing a defective chain with a coworker for debugging was previously difficult when done locally. We've introduced a \"Share\" button to LangSmith, which makes the chain and LLM runs available to anyone with the shared URL.\n",
    "\n",
    "### Collecting examples\n",
    "\n",
    "The majority of the time, we go to debug because something awful or unexpected has happened in our programme. These failures provide crucial information. We can test future chain versions against these known vulnerabilities by identifying how our chain can fail and monitoring these failures.\n",
    "\n",
    "Why is this so powerful? When developing LLM apps, it is typical to begin without any form of dataset. This is one of the benefits of LLMs. They are fantastic zero-shot learners, allowing you to get started as quickly as possible. But this can also be a burden, as you're blindly adjusting the prompt. You don't have any examples to compare your modifications against.\n",
    "\n",
    "LangSmith solves this issue by having a \"Add to Dataset\" button for each run, making it simple to add input/output samples from a selected dataset. Before adding the example to the dataset, you can change it to include the desired result, which is very useful for poor examples.\n",
    "\n",
    "This functionality is available at every level of a layered chain, allowing you to add examples for an end-to-end chain, an intermediary chain (such as an LLM Chain), or the LLM or Chat Model.\n",
    "\n",
    "End-to-end chain examples are good for evaluating the overall flow, whereas single, modular LLM Chain or LLM/Chat Model examples are good for testing the simplest and most directly modifiable components.\n",
    "\n",
    "### Testing & evaluation\n",
    "\n",
    "Initially, we perform the majority of our evaluations manually and ad hoc. We experiment with various inputs to see what happens. But, at some time, our application will be running well, and we will want to be more stringent about testing updates. We can make use of a dataset that we created along the route. Alternatively, we may spend some time manually building a small dataset. LangSmith makes dataset uploading easier in these instances.\n",
    "\n",
    "How can we utilise a dataset to test modifications to a prompt or chain after we get it? The simplest method is to run the chain over the data points and visualise the results. Despite technological developments, there is still no replacement for inspecting outputs by hand. Currently, the chain must be executed client-side over the data points. The LangSmith client makes it simple to download a dataset and then run a chain over it, logging the results to a new project linked to the dataset. You can then go over them. Langsmith it simple to assign feedback to runs and label them as correct or incorrect directly in the web app, and aggregate data for each test project are displayed.\n",
    "\n",
    "Langsmith provided a set of evaluators to the open-source LangChain library to make evaluating these runs easier. When a test run is started, certain evaluators are provided, and the results are evaluated once the test run is over. To be honest, most of these evaluators aren't flawless. We do not recommend blindly trusting them. However, we believe they are beneficial for directing your attention to cases that you should look at. This becomes especially useful as the quantity of data points grows and it becomes impossible to examine each one individually.\n",
    "\n",
    "### Monitoring\n",
    "\n",
    "After all of this, your app may be ready to go into production. LangSmith can be used to monitor your programme in the same way as it can be used to debug it. All traces can be logged, latency and token consumption data can be viewed, and individual issues may be troubleshooted as they emerge. String tags or key-value metadata can be supplied to each run, allowing you to attach correlation ids or AB test variants and filter runs accordingly.\n",
    "\n",
    "Langsmith has made it easy to programmatically associate feedback with runs. This implies that if your app has a thumbs up/down button, you may use it to send feedback to LangSmith. This can be used to track performance over time and identify underperforming data points, which can then be added to a dataset for future testing – similar to how debug mode works.\n",
    "\n",
    "In the LangSmith documentation, they presented various examples of deriving insights from logged runs. In addition to leading you through the process of executing this assignment yourself, we will also show you examples of interfacing with third parties for this reason. \n",
    "\n",
    "### Exporting datasets\n",
    "\n",
    "LangSmith simplifies the process of curating datasets. These, however, are not only valuable within LangSmith; they can also be exported for usage in other settings. Exporting for usage in OpenAI Evals or fine-tuning, such as using FireworksAI, are notable applications. This also ensures one does'nt become too tied-in on this platform, as you can export the datasets created.\n",
    "\n",
    "## Import Libs & Setup\n",
    "\n",
    "To use Langsmith you first need to [create an account](https://smith.langchain.com/) which is free - but at time of writing is in beta development so it might take some time to get an account (I had to wait a couple of weeks). \n",
    "\n",
    "To begin, set your environment variables to instruct LangChain to log traces. Set the LANGCHAIN_TRACING_V2 environment variable to true to accomplish this. Set the LANGCHAIN_PROJECT environment variable to instruct LangChain which project to log to (if not set, runs will be recorded to the default project). If the project does not exist, this will create it for you. The LANGCHAIN_ENDPOINT and LANGCHAIN_API_KEY environment variables must also be configured.\n",
    "\n",
    "Please see the [LangSmith documentation](https://docs.smith.langchain.com/) for more information on different methods of configuring tracing.\n",
    "\n",
    "To run this project, you must set the OPENAI_API_KEY and SERPAPI_API_KEY environment variables."
   ]
  },
  {
   "cell_type": "code",
   "execution_count": 1,
   "id": "3c28ab44-cf9a-46f2-9e7c-986f6581fc58",
   "metadata": {},
   "outputs": [
    {
     "name": "stdout",
     "output_type": "stream",
     "text": [
      "Requirement already satisfied: google-search-results in /Users/pranathfernando/opt/anaconda3/lib/python3.9/site-packages (2.4.2)\n",
      "Requirement already satisfied: requests in /Users/pranathfernando/opt/anaconda3/lib/python3.9/site-packages (from google-search-results) (2.28.1)\n",
      "Requirement already satisfied: charset-normalizer<3,>=2 in /Users/pranathfernando/opt/anaconda3/lib/python3.9/site-packages (from requests->google-search-results) (2.0.4)\n",
      "Requirement already satisfied: urllib3<1.27,>=1.21.1 in /Users/pranathfernando/opt/anaconda3/lib/python3.9/site-packages (from requests->google-search-results) (1.26.11)\n",
      "Requirement already satisfied: idna<4,>=2.5 in /Users/pranathfernando/opt/anaconda3/lib/python3.9/site-packages (from requests->google-search-results) (3.3)\n",
      "Requirement already satisfied: certifi>=2017.4.17 in /Users/pranathfernando/opt/anaconda3/lib/python3.9/site-packages (from requests->google-search-results) (2023.5.7)\n",
      "Requirement already satisfied: langchain in /Users/pranathfernando/opt/anaconda3/lib/python3.9/site-packages (0.0.270)\n",
      "Requirement already satisfied: langsmith in /Users/pranathfernando/opt/anaconda3/lib/python3.9/site-packages (0.0.25)\n",
      "Requirement already satisfied: numexpr<3.0.0,>=2.8.4 in /Users/pranathfernando/opt/anaconda3/lib/python3.9/site-packages (from langchain) (2.8.4)\n",
      "Requirement already satisfied: pydantic<3,>=1 in /Users/pranathfernando/opt/anaconda3/lib/python3.9/site-packages (from langchain) (1.10.8)\n",
      "Requirement already satisfied: aiohttp<4.0.0,>=3.8.3 in /Users/pranathfernando/opt/anaconda3/lib/python3.9/site-packages (from langchain) (3.8.4)\n",
      "Requirement already satisfied: async-timeout<5.0.0,>=4.0.0 in /Users/pranathfernando/opt/anaconda3/lib/python3.9/site-packages (from langchain) (4.0.2)\n",
      "Requirement already satisfied: dataclasses-json<0.6.0,>=0.5.7 in /Users/pranathfernando/opt/anaconda3/lib/python3.9/site-packages (from langchain) (0.5.7)\n",
      "Requirement already satisfied: numpy<2,>=1 in /Users/pranathfernando/opt/anaconda3/lib/python3.9/site-packages (from langchain) (1.21.6)\n",
      "Requirement already satisfied: requests<3,>=2 in /Users/pranathfernando/opt/anaconda3/lib/python3.9/site-packages (from langchain) (2.28.1)\n",
      "Requirement already satisfied: SQLAlchemy<3,>=1.4 in /Users/pranathfernando/opt/anaconda3/lib/python3.9/site-packages (from langchain) (1.4.39)\n",
      "Requirement already satisfied: tenacity<9.0.0,>=8.1.0 in /Users/pranathfernando/opt/anaconda3/lib/python3.9/site-packages (from langchain) (8.2.2)\n",
      "Requirement already satisfied: PyYAML>=5.3 in /Users/pranathfernando/opt/anaconda3/lib/python3.9/site-packages (from langchain) (6.0)\n",
      "Requirement already satisfied: yarl<2.0,>=1.0 in /Users/pranathfernando/opt/anaconda3/lib/python3.9/site-packages (from aiohttp<4.0.0,>=3.8.3->langchain) (1.9.2)\n",
      "Requirement already satisfied: charset-normalizer<4.0,>=2.0 in /Users/pranathfernando/opt/anaconda3/lib/python3.9/site-packages (from aiohttp<4.0.0,>=3.8.3->langchain) (2.0.4)\n",
      "Requirement already satisfied: aiosignal>=1.1.2 in /Users/pranathfernando/opt/anaconda3/lib/python3.9/site-packages (from aiohttp<4.0.0,>=3.8.3->langchain) (1.3.1)\n",
      "Requirement already satisfied: multidict<7.0,>=4.5 in /Users/pranathfernando/opt/anaconda3/lib/python3.9/site-packages (from aiohttp<4.0.0,>=3.8.3->langchain) (6.0.4)\n",
      "Requirement already satisfied: attrs>=17.3.0 in /Users/pranathfernando/opt/anaconda3/lib/python3.9/site-packages (from aiohttp<4.0.0,>=3.8.3->langchain) (21.4.0)\n",
      "Requirement already satisfied: frozenlist>=1.1.1 in /Users/pranathfernando/opt/anaconda3/lib/python3.9/site-packages (from aiohttp<4.0.0,>=3.8.3->langchain) (1.3.3)\n",
      "Requirement already satisfied: typing-inspect>=0.4.0 in /Users/pranathfernando/opt/anaconda3/lib/python3.9/site-packages (from dataclasses-json<0.6.0,>=0.5.7->langchain) (0.9.0)\n",
      "Requirement already satisfied: marshmallow<4.0.0,>=3.3.0 in /Users/pranathfernando/opt/anaconda3/lib/python3.9/site-packages (from dataclasses-json<0.6.0,>=0.5.7->langchain) (3.19.0)\n",
      "Requirement already satisfied: marshmallow-enum<2.0.0,>=1.5.1 in /Users/pranathfernando/opt/anaconda3/lib/python3.9/site-packages (from dataclasses-json<0.6.0,>=0.5.7->langchain) (1.5.1)\n",
      "Requirement already satisfied: typing-extensions>=4.2.0 in /Users/pranathfernando/opt/anaconda3/lib/python3.9/site-packages (from pydantic<3,>=1->langchain) (4.6.3)\n",
      "Requirement already satisfied: certifi>=2017.4.17 in /Users/pranathfernando/opt/anaconda3/lib/python3.9/site-packages (from requests<3,>=2->langchain) (2023.5.7)\n",
      "Requirement already satisfied: urllib3<1.27,>=1.21.1 in /Users/pranathfernando/opt/anaconda3/lib/python3.9/site-packages (from requests<3,>=2->langchain) (1.26.11)\n",
      "Requirement already satisfied: idna<4,>=2.5 in /Users/pranathfernando/opt/anaconda3/lib/python3.9/site-packages (from requests<3,>=2->langchain) (3.3)\n",
      "Requirement already satisfied: greenlet!=0.4.17 in /Users/pranathfernando/opt/anaconda3/lib/python3.9/site-packages (from SQLAlchemy<3,>=1.4->langchain) (1.1.1)\n",
      "Requirement already satisfied: packaging>=17.0 in /Users/pranathfernando/opt/anaconda3/lib/python3.9/site-packages (from marshmallow<4.0.0,>=3.3.0->dataclasses-json<0.6.0,>=0.5.7->langchain) (21.3)\n",
      "Requirement already satisfied: mypy-extensions>=0.3.0 in /Users/pranathfernando/opt/anaconda3/lib/python3.9/site-packages (from typing-inspect>=0.4.0->dataclasses-json<0.6.0,>=0.5.7->langchain) (0.4.3)\n",
      "Requirement already satisfied: pyparsing!=3.0.5,>=2.0.2 in /Users/pranathfernando/opt/anaconda3/lib/python3.9/site-packages (from packaging>=17.0->marshmallow<4.0.0,>=3.3.0->dataclasses-json<0.6.0,>=0.5.7->langchain) (3.0.9)\n"
     ]
    }
   ],
   "source": [
    "#| include: false\n",
    "!pip install google-search-results\n",
    "!pip install -U langchain langsmith"
   ]
  },
  {
   "cell_type": "code",
   "execution_count": 2,
   "id": "ee5f452e-6240-4236-9cea-4e7500ed5cde",
   "metadata": {},
   "outputs": [],
   "source": [
    "import os\n",
    "from uuid import uuid4\n",
    "from dotenv import load_dotenv\n",
    "load_dotenv()\n",
    "\n",
    "OPENAI_API_KEY = os.getenv(\"OPENAI_API_KEY\")\n",
    "\n",
    "unique_id = uuid4().hex[0:8]\n",
    "os.environ[\"LANGCHAIN_TRACING_V2\"] = \"true\"\n",
    "os.environ[\"LANGCHAIN_PROJECT\"] = f\"Tracing Test Walkthrough - {unique_id}\"\n",
    "os.environ[\"LANGCHAIN_ENDPOINT\"] = \"https://api.smith.langchain.com\"\n",
    "os.environ[\"LANGCHAIN_API_KEY\"] = os.getenv(\"LANGCHAIN_API_KEY\")  # Update to your API key\n",
    "\n",
    "# Used by the agent in this tutorial\n",
    "os.environ[\"OPENAI_API_KEY\"] = os.getenv(\"OPENAI_API_KEY\")\n",
    "os.environ[\"SERPAPI_API_KEY\"] = os.getenv(\"SERPAPI_API_KEY\")"
   ]
  },
  {
   "cell_type": "markdown",
   "id": "f602c2a8-81bb-469a-b573-c961e75d71ff",
   "metadata": {},
   "source": [
    "## Using Langsmith to Log Run Information\n",
    "\n",
    "We are going to use a simple example of using an Agent to answer a few questions, and we want to log the outputs in Langsmith.\n",
    "\n",
    "First we need to create the langsmith client to interact with the API"
   ]
  },
  {
   "cell_type": "code",
   "execution_count": 3,
   "id": "347ec16a-fc70-4096-827b-9a166541f712",
   "metadata": {},
   "outputs": [],
   "source": [
    "from langsmith import Client\n",
    "\n",
    "client = Client()"
   ]
  },
  {
   "cell_type": "markdown",
   "id": "2356b7cb-ce21-4e70-b5fa-ccfcc9e4ec77",
   "metadata": {},
   "source": [
    "Following that, we build a LangChain component and log runs to the platform. In this example, we will develop a ReAct-style agent that has access to the tools Search and Calculator. LangSmith works with any LangChain component (LLMs, Chat Models, Tools, Retrievers, and Agents are all supported)."
   ]
  },
  {
   "cell_type": "code",
   "execution_count": 4,
   "id": "2cb91cd4-116a-4f08-9d30-b0e9ef9549f2",
   "metadata": {},
   "outputs": [],
   "source": [
    "from langchain.chat_models import ChatOpenAI\n",
    "from langchain.agents import AgentType, initialize_agent, load_tools\n",
    "\n",
    "llm = ChatOpenAI(temperature=0)\n",
    "tools = load_tools([\"serpapi\", \"llm-math\"], llm=llm)\n",
    "agent = initialize_agent(\n",
    "    tools, llm, agent=AgentType.ZERO_SHOT_REACT_DESCRIPTION, verbose=False\n",
    ")"
   ]
  },
  {
   "cell_type": "markdown",
   "id": "93cdff86-7abe-4792-b861-a7daeca078c3",
   "metadata": {},
   "source": [
    "We are running the agent concurrently on multiple inputs to reduce latency. Runs get logged to LangSmith in the background so execution latency is unaffected."
   ]
  },
  {
   "cell_type": "code",
   "execution_count": 5,
   "id": "4899789c-1498-4cef-a948-3a1782fc1ae6",
   "metadata": {},
   "outputs": [],
   "source": [
    "import asyncio\n",
    "\n",
    "inputs = [\n",
    "    \"How many people live in canada as of 2023?\",\n",
    "    \"who is dua lipa's boyfriend? what is his age raised to the .43 power?\",\n",
    "    \"what is dua lipa's boyfriend age raised to the .43 power?\",\n",
    "    \"how far is it from paris to boston in miles\",\n",
    "    \"what was the total number of points scored in the 2023 super bowl? what is that number raised to the .23 power?\",\n",
    "    \"what was the total number of points scored in the 2023 super bowl raised to the .23 power?\",\n",
    "    \"how many more points were scored in the 2023 super bowl than in the 2022 super bowl?\",\n",
    "    \"what is 153 raised to .1312 power?\",\n",
    "    \"who is kendall jenner's boyfriend? what is his height (in inches) raised to .13 power?\",\n",
    "    \"what is 1213 divided by 4345?\",\n",
    "]\n",
    "results = []\n",
    "\n",
    "\n",
    "async def arun(agent, input_example):\n",
    "    try:\n",
    "        return await agent.arun(input_example)\n",
    "    except Exception as e:\n",
    "        # The agent sometimes makes mistakes! These will be captured by the tracing.\n",
    "        return e\n",
    "\n",
    "\n",
    "for input_example in inputs:\n",
    "    results.append(arun(agent, input_example))\n",
    "results = await asyncio.gather(*results)"
   ]
  },
  {
   "cell_type": "code",
   "execution_count": 6,
   "id": "abbd1d80-44ad-4708-953f-5e2107c21306",
   "metadata": {},
   "outputs": [],
   "source": [
    "from langchain.callbacks.tracers.langchain import wait_for_all_tracers\n",
    "\n",
    "# Logs are submitted in a background thread to avoid blocking execution.\n",
    "# For the sake of this tutorial, we want to make sure\n",
    "# they've been submitted before moving on. This is also\n",
    "# useful for serverless deployments.\n",
    "wait_for_all_tracers()"
   ]
  },
  {
   "cell_type": "markdown",
   "id": "c29a543f-8ab1-4ac2-adc4-6dd45157bd1c",
   "metadata": {},
   "source": [
    "Our agent traces should show up in the Projects section of Langsmith, as we can see below in the drill through screenshots."
   ]
  },
  {
   "cell_type": "markdown",
   "id": "36c335e6-270b-4147-b09c-5c40f74652b9",
   "metadata": {},
   "source": [
    "<img src=\"https://github.com/pranath/blog/raw/master/images/langsmith1.png\" width=\"800\"/>"
   ]
  },
  {
   "cell_type": "markdown",
   "id": "01443091-68ce-4c54-baa2-8a67fe96c361",
   "metadata": {},
   "source": [
    "<img src=\"https://github.com/pranath/blog/raw/master/images/langsmith2.png\" width=\"800\"/>"
   ]
  },
  {
   "cell_type": "markdown",
   "id": "41679b82-ede4-403c-9a68-7924691bf9a0",
   "metadata": {},
   "source": [
    "<img src=\"https://github.com/pranath/blog/raw/master/images/langsmith3.png\" width=\"800\"/>"
   ]
  },
  {
   "cell_type": "markdown",
   "id": "3a52a9e9-2bbf-4765-8e84-a57c653bf4cd",
   "metadata": {},
   "source": [
    "## Evaluate another agent implementation\n",
    "\n",
    "LangSmith allows you to test and assess your LLM apps in addition to logging runs.\n",
    "\n",
    "We will use LangSmith in this part to construct a benchmark dataset and run AI-assisted assessors on an agent. We will accomplish this in a few steps:\n",
    "\n",
    "1. Make a dataset from previously ran inputs and outputs.\n",
    "2. Create a new agent for benchmarking.\n",
    "3. Set up evaluators to grade the output of an agent.\n",
    "4. Run the agent through the dataset and assess the outcomes\n",
    "\n",
    "### Create a LangSmith dataset\n",
    "\n",
    "The LangSmith client is used to construct a dataset from the agent runs you just logged above. These will be used subsequently to assess the performance of a new agent. This is basically recording the inputs and results of the runs to a dataset as examples. A dataset is a collection of samples, which are simply input-output pairs that you may use to test your application.\n",
    "\n",
    "Please keep in mind that this is a simple walkthrough example. In practise, you should test the outputs before adding them to a benchmark dataset to be used to evaluate other agents.\n",
    "\n",
    "Please see the LangSmith documentation for additional information about datasets."
   ]
  },
  {
   "cell_type": "code",
   "execution_count": 7,
   "id": "ab5ca0df-528d-44d9-ad94-5f27238705ca",
   "metadata": {},
   "outputs": [],
   "source": [
    "dataset_name = f\"calculator-example-dataset-{unique_id}\"\n",
    "\n",
    "dataset = client.create_dataset(\n",
    "    dataset_name, description=\"A calculator example dataset\"\n",
    ")\n",
    "\n",
    "runs = client.list_runs(\n",
    "    project_name=os.environ[\"LANGCHAIN_PROJECT\"],\n",
    "    execution_order=1,  # Only return the top-level runs\n",
    "    error=False,  # Only runs that succeed\n",
    ")\n",
    "for run in runs:\n",
    "    client.create_example(inputs=run.inputs, outputs=run.outputs, dataset_id=dataset.id)"
   ]
  },
  {
   "cell_type": "markdown",
   "id": "2f88c873-9017-499a-817f-bd475ec85a09",
   "metadata": {},
   "source": [
    "### Initialize a new agent to benchmark\n",
    "\n",
    "Any LLM, chain, or agent can be evaluated. Because chains might have memory, we will give a chain_factory (aka a constructor) function to each call to initialise it. In this scenario, we'll put OpenAI's function calling endpoints to the test."
   ]
  },
  {
   "cell_type": "code",
   "execution_count": 8,
   "id": "ec0640c1-db85-40e1-8eb5-1173e6f152a6",
   "metadata": {},
   "outputs": [],
   "source": [
    "from langchain.chat_models import ChatOpenAI\n",
    "from langchain.agents import AgentType, initialize_agent, load_tools\n",
    "\n",
    "llm = ChatOpenAI(model=\"gpt-3.5-turbo-0613\", temperature=0)\n",
    "tools = load_tools([\"serpapi\", \"llm-math\"], llm=llm)\n",
    "\n",
    "\n",
    "# Since chains can be stateful (e.g. they can have memory), we provide\n",
    "# a way to initialize a new chain for each row in the dataset. This is done\n",
    "# by passing in a factory function that returns a new chain for each row.\n",
    "def agent_factory():\n",
    "    return initialize_agent(tools, llm, agent=AgentType.OPENAI_FUNCTIONS, verbose=False)\n",
    "\n",
    "\n",
    "# If your chain is NOT stateful, your factory can return the object directly\n",
    "# to improve runtime performance. For example:\n",
    "# chain_factory = lambda: agent"
   ]
  },
  {
   "cell_type": "markdown",
   "id": "aa23f76b-080a-47ab-b069-9641092eb056",
   "metadata": {},
   "source": [
    "### Configure evaluation\n",
    "\n",
    "Manually comparing chain results in the UI is effective, but time consuming. To analyse the performance of your component, you can use automated metrics and AI-assisted feedback.\n",
    "\n",
    "In the following sections, we will develop several pre-implemented run evaluators that do the following:\n",
    "\n",
    "- Contrast results with ground truth labels. (You did this using the debug outputs mentioned above.)\n",
    "- Using embedding distance, assess semantic (dis)similarity.\n",
    "- In a reference, evaluate 'aspects' of the agent's response.-free method employing custom criteria\n",
    "\n",
    "Please see the LangSmith documentation for a more in-depth discussion of how to choose an acceptable evaluator for your use case and how to develop your own custom evaluators."
   ]
  },
  {
   "cell_type": "code",
   "execution_count": 9,
   "id": "a316ec83-b157-4be1-bbcc-c70ca98b1bee",
   "metadata": {},
   "outputs": [],
   "source": [
    "from langchain.evaluation import EvaluatorType\n",
    "from langchain.smith import RunEvalConfig\n",
    "\n",
    "evaluation_config = RunEvalConfig(\n",
    "    # Evaluators can either be an evaluator type (e.g., \"qa\", \"criteria\", \"embedding_distance\", etc.) or a configuration for that evaluator\n",
    "    evaluators=[\n",
    "        # Measures whether a QA response is \"Correct\", based on a reference answer\n",
    "        # You can also select via the raw string \"qa\"\n",
    "        EvaluatorType.QA,\n",
    "        # Measure the embedding distance between the output and the reference answer\n",
    "        # Equivalent to: EvalConfig.EmbeddingDistance(embeddings=OpenAIEmbeddings())\n",
    "        EvaluatorType.EMBEDDING_DISTANCE,\n",
    "        # Grade whether the output satisfies the stated criteria. You can select a default one such as \"helpfulness\" or provide your own.\n",
    "        RunEvalConfig.LabeledCriteria(\"helpfulness\"),\n",
    "        # Both the Criteria and LabeledCriteria evaluators can be configured with a dictionary of custom criteria.\n",
    "        RunEvalConfig.Criteria(\n",
    "            {\n",
    "                \"fifth-grader-score\": \"Do you have to be smarter than a fifth grader to answer this question?\"\n",
    "            }\n",
    "        ),\n",
    "    ],\n",
    "    # You can add custom StringEvaluator or RunEvaluator objects here as well, which will automatically be\n",
    "    # applied to each prediction. Check out the docs for examples.\n",
    "    custom_evaluators=[],\n",
    ")"
   ]
  },
  {
   "cell_type": "markdown",
   "id": "e16d1a5d-3d26-4fd5-9ada-b8e06662b0e6",
   "metadata": {},
   "source": [
    "### Run the agent and evaluators\n",
    "\n",
    "To evaluate your model, use the [arun_on_dataset](https://api.python.langchain.com/en/latest/smith/langchain.smith.evaluation.runner_utils.arun_on_dataset.html#langchain.smith.evaluation.runner_utils.arun_on_dataset) (or synchronous [run_on_dataset](https://api.python.langchain.com/en/latest/smith/langchain.smith.evaluation.runner_utils.run_on_dataset.html#langchain.smith.evaluation.runner_utils.run_on_dataset)) function. This will result in:\n",
    "\n",
    "1. Retrieve an example row from the provided dataset.\n",
    "2. Execute your llm or chain on each of the examples.\n",
    "3. To create automated feedback, apply evaluators to the resultant run traces and accompanying reference instances.\n",
    "\n",
    "The outcomes will be displayed in the LangSmith app."
   ]
  },
  {
   "cell_type": "code",
   "execution_count": 10,
   "id": "2bb999df-38a6-4e0a-a3cf-81c5f1d6aa3c",
   "metadata": {},
   "outputs": [
    {
     "name": "stdout",
     "output_type": "stream",
     "text": [
      "View the evaluation results for project '0eadab4e465c49ad874acc2bce4007e5-AgentExecutor' at:\n",
      "https://smith.langchain.com/projects/p/5cbabd18-19f5-4153-a2aa-b329b3ca3da6?eval=true\n",
      "Processed examples: 1\r"
     ]
    },
    {
     "name": "stderr",
     "output_type": "stream",
     "text": [
      "Chain failed for example 05d50196-3735-4510-a4b0-ef91248e32cd. Error: LLMMathChain._evaluate(\"\n",
      "age_of_Dua_Lipa_boyfriend ** 0.43\n",
      "\") raised error: 'age_of_Dua_Lipa_boyfriend'. Please try again with a valid numerical expression\n"
     ]
    },
    {
     "name": "stdout",
     "output_type": "stream",
     "text": [
      "Processed examples: 2\r"
     ]
    },
    {
     "name": "stderr",
     "output_type": "stream",
     "text": [
      "Chain failed for example bd1d5389-b01f-4cac-9600-260c78f99e47. Error: LLMMathChain._evaluate(\"\n",
      "age ** 0.43\n",
      "\") raised error: 'age'. Please try again with a valid numerical expression\n"
     ]
    },
    {
     "name": "stdout",
     "output_type": "stream",
     "text": [
      "Processed examples: 6\r"
     ]
    },
    {
     "name": "stderr",
     "output_type": "stream",
     "text": [
      "Chain failed for example 5262e85a-3ee9-442d-86e8-dc4cce55267c. Error: Too many arguments to single-input tool Calculator. Args: ['height ^ 0.13', {'height': 70}]\n"
     ]
    },
    {
     "name": "stdout",
     "output_type": "stream",
     "text": [
      "Processed examples: 9\r"
     ]
    }
   ],
   "source": [
    "from langchain.smith import (\n",
    "    arun_on_dataset,\n",
    "    run_on_dataset,  # Available if your chain doesn't support async calls.\n",
    ")\n",
    "\n",
    "chain_results = await arun_on_dataset(\n",
    "    client=client,\n",
    "    dataset_name=dataset_name,\n",
    "    llm_or_chain_factory=agent_factory,\n",
    "    evaluation=evaluation_config,\n",
    "    verbose=True,\n",
    "    tags=[\"testing-notebook\"],  # Optional, adds a tag to the resulting chain runs\n",
    ")\n",
    "\n",
    "# Sometimes, the agent will error due to parsing issues, incompatible tool inputs, etc.\n",
    "# These are logged as warnings here and captured as errors in the tracing UI."
   ]
  },
  {
   "cell_type": "markdown",
   "id": "91c9bdfb-4dd1-4cc0-8eb2-782d212955e4",
   "metadata": {},
   "source": [
    "### Review the test results\n",
    "\n",
    "You may see the test results tracing UI below by going to the \"Datasets & Testing\" page, picking the \"calculator-example-dataset-*\" dataset, clicking on the Test Runs tab, and inspecting the runs in the appropriate project.\n",
    "\n",
    "<img src=\"https://github.com/pranath/blog/raw/master/images/langsmith4.png\" width=\"800\"/>\n",
    "\n",
    "This will display the fresh runs as well as the feedback logged from the specified evaluators. Runs that fail will not receive feedback.\n",
    "\n",
    "<img src=\"https://github.com/pranath/blog/raw/master/images/langsmith5.png\" width=\"800\"/>\n",
    "\n",
    "<img src=\"https://github.com/pranath/blog/raw/master/images/langsmith6.png\" width=\"800\"/>"
   ]
  },
  {
   "cell_type": "markdown",
   "id": "92033389-c62d-4779-b7d3-6fdb3fb21ad9",
   "metadata": {},
   "source": [
    "## Exporting datasets and runs\n",
    "\n",
    "LangSmith's online interface allows you to instantly export data to common formats such as CSV or JSONL. The client can also be used to retrieve runs for additional analysis, storage in your own database, or sharing with others. Let's get the evaluation run's run traces."
   ]
  },
  {
   "cell_type": "code",
   "execution_count": 11,
   "id": "f8815c05-3f2a-4c70-8afc-cff8e259a929",
   "metadata": {},
   "outputs": [
    {
     "data": {
      "text/plain": [
       "Run(id=UUID('5a09233f-8a51-4ec8-a1ea-096caf45469b'), name='AgentExecutor', start_time=datetime.datetime(2023, 8, 21, 17, 48, 49, 539515), run_type='chain', end_time=datetime.datetime(2023, 8, 21, 17, 48, 54, 191896), extra={'runtime': {'library': 'langchain', 'runtime': 'python', 'platform': 'macOS-10.16-x86_64-i386-64bit', 'sdk_version': '0.0.25', 'library_version': '0.0.270', 'runtime_version': '3.9.13', 'langchain_version': '0.0.270'}, 'total_tokens': 512, 'prompt_tokens': 451, 'completion_tokens': 61}, error=None, serialized=None, events=[{'name': 'start', 'time': '2023-08-21T17:48:49.539515'}, {'name': 'end', 'time': '2023-08-21T17:48:54.191896'}], inputs={'input': 'what is 1213 divided by 4345?'}, outputs={'output': '1213 divided by 4345 is approximately 0.2792.'}, reference_example_id=UUID('8459f7e6-55e4-43cf-8999-86d48dea2635'), parent_run_id=None, tags=['testing-notebook', 'openai-functions'], execution_order=1, session_id=UUID('5cbabd18-19f5-4153-a2aa-b329b3ca3da6'), child_run_ids=[UUID('74380efc-3a56-48f8-bd07-d21e5cde23cb'), UUID('d4799bc4-47ae-4474-b524-ff202239befe'), UUID('0b30cbd9-2c61-4302-bf52-5a2762158a23'), UUID('25c15cf9-354e-411c-898c-8ee99c249e8d'), UUID('0fdae1e0-919e-45db-8d01-6e22348e1f8c'), UUID('71627b18-91c9-4655-a832-978fbc775b0a')], child_runs=None, feedback_stats={'correctness': {'n': 1, 'avg': 1.0, 'mode': 1}, 'helpfulness': {'n': 1, 'avg': 1.0, 'mode': 1}, 'fifth-grader-score': {'n': 1, 'avg': 0.0, 'mode': 0}, 'embedding_cosine_distance': {'n': 1, 'avg': 0.1442128576232, 'mode': 0.1442128576232}}, app_path='/projects/p/5cbabd18-19f5-4153-a2aa-b329b3ca3da6/r/5a09233f-8a51-4ec8-a1ea-096caf45469b')"
      ]
     },
     "execution_count": 11,
     "metadata": {},
     "output_type": "execute_result"
    }
   ],
   "source": [
    "runs = list(client.list_runs(dataset_name=dataset_name))\n",
    "runs[0]"
   ]
  },
  {
   "cell_type": "code",
   "execution_count": 12,
   "id": "56f9add9-6be0-4376-b9db-2f712ff1cb59",
   "metadata": {},
   "outputs": [
    {
     "data": {
      "text/plain": [
       "{'correctness': {'n': 6, 'avg': 0.8333333333333334, 'mode': 1},\n",
       " 'helpfulness': {'n': 6, 'avg': 1.0, 'mode': 1},\n",
       " 'fifth-grader-score': {'n': 6, 'avg': 0.6666666666666666, 'mode': 1},\n",
       " 'embedding_cosine_distance': {'n': 6, 'avg': 0.09463849470261249, 'mode': 0}}"
      ]
     },
     "execution_count": 12,
     "metadata": {},
     "output_type": "execute_result"
    }
   ],
   "source": [
    "client.read_project(project_id=runs[0].session_id).feedback_stats"
   ]
  },
  {
   "cell_type": "markdown",
   "id": "73dbdbd1-6b29-4680-b39e-f175f18d9405",
   "metadata": {},
   "source": [
    "So in this post, we have introduced Langsmith and succesfully traced and evaluated an agent using it.\n",
    "\n",
    "## Langsmith Hub\n",
    "\n",
    "The Hub was added to Langsmith on September 5th 2023 and is described well in [this article](https://blog.langchain.dev/langchain-prompt-hub/).\n",
    "\n",
    "In essence, Langsmith Hub lets you discover, share, and version control prompts for LangChain and LLMs in general. It's a great place to find inspiration for your own prompts, or to share your own prompts with the world. More documentation can be found [here](https://docs.smith.langchain.com/hub/quickstart).\n",
    "\n",
    "In the article the Langchain team explain the reasons for developing the hub and what they hope it will provide:\n",
    "\n",
    ">*As LangChain and the broader ecosystem has evolved, the role of prompting has only become more important to the LLM development process. As Ethan Mollick recently wrote in a [FANTASTIC article](https://www.oneusefulthing.org/p/now-is-the-time-for-grimoires?ref=blog.langchain.dev) on the topic, \"now is the time for grimoires.\" By \"grimoires\" he means \"prompt libraries that encode the expertise of their best practices into forms that anyone can use.\" We whole-heartedly agree–the value of a Hub extends beyond individual applications. It's about advancing our collective wisdom and translating that into knowledge we can all put to use now. We want to help make this easier on an individual, team, and organization scale, across any use-case and every industry. Our goal for LangChain Hub is that it becomes the go-to place for developers to discover new use cases and polished prompts.*\n",
    "\n",
    "## Acknowledgements\n",
    "\n",
    "I'd like to express my thanks to the wonderful [Langsmith Documentation](https://docs.smith.langchain.com/) and acknowledge the use of some images and other materials from the documentation in this article."
   ]
  },
  {
   "cell_type": "code",
   "execution_count": null,
   "id": "1edae454-ca9d-4e86-a2c4-786fdc09346b",
   "metadata": {},
   "outputs": [],
   "source": []
  }
 ],
 "metadata": {
  "kernelspec": {
   "display_name": "Python 3 (ipykernel)",
   "language": "python",
   "name": "python3"
  },
  "language_info": {
   "codemirror_mode": {
    "name": "ipython",
    "version": 3
   },
   "file_extension": ".py",
   "mimetype": "text/x-python",
   "name": "python",
   "nbconvert_exporter": "python",
   "pygments_lexer": "ipython3",
   "version": "3.9.13"
  }
 },
 "nbformat": 4,
 "nbformat_minor": 5
}
