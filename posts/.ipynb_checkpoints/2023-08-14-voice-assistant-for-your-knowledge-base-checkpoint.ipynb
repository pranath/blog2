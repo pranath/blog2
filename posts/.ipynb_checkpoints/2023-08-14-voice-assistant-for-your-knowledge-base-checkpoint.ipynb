{
 "cells": [
  {
   "cell_type": "raw",
   "id": "a294b5af-9fef-43da-94d0-d70ae31ba768",
   "metadata": {},
   "source": [
    "---\n",
    "date: '2023-08-14'\n",
    "categories:\n",
    " - natural-language-processing\n",
    " - deep-learning\n",
    " - langchain\n",
    " - activeloop\n",
    " - openai\n",
    "title: Creating a Voice Assistant for your Knowledge Base\n",
    "description: In this article we are going to create a voice assistant for your knowledge base! This will outline how you can develop your very own voice assistant employing state-of-the-art artificial intelligence tools\n",
    "image: https://github.com/pranath/blog/raw/master/images/langchain-deeplake1.png\n",
    "---"
   ]
  },
  {
   "cell_type": "markdown",
   "id": "a360403e-17f7-4d34-b737-7f9ade4ed0de",
   "metadata": {},
   "source": [
    "## Introduction\n",
    "\n",
    "Here we plan to build a voice assistant for a knowledge base. This post will explain how to create your own voice assistant using cutting-edge artificial intelligence tools. OpenAI's Whisper, a sophisticated automatic speech recognition (ASR) algorithm, is used by the voice assistant. Whisper efficiently converts our vocal inputs to text. After we've transcribed our speech inputs into text, we'll focus on creating voice outputs. We use Eleven Labs to accomplish this, which allows the voice assistant to reply to users in an engaging and natural manner.\n",
    "\n",
    "The project's heart is centred on a reliable question-answering mechanism. This procedure begins by loading the vector database, a repository containing several documents relevant to our possible searches. When a question is posed, the system pulls the papers from this database and feeds them to the LLM along with the question. The LLM then generates the response depending on the documents that have been retrieved.\n",
    "\n",
    "We want to build a voice assistant that can rapidly navigate a knowledge base and provide precise and timely solutions to a user's inquiries. We're going to use GitHub's ['JarvisBase'](https://github.com/peterw/JarvisBase) repository for this experiment.\n",
    "\n",
    "## Import Libs & Setup\n",
    "\n",
    "We'd begin by installing the prerequisites. These are the libraries that will be required. While we strongly advise installing the most recent versions of these packages, please keep in mind that the codes have only been tested using the versions shown in brackets.\n",
    "\n",
    "langchain==0.0.208\n",
    "deeplake==3.6.5\n",
    "openai==0.27.8\n",
    "tiktoken==0.4.0\n",
    "elevenlabs==0.2.18\n",
    "streamlit==1.23.1\n",
    "beautifulsoup4==4.11.2\n",
    "audio-recorder-streamlit==0.0.8\n",
    "streamlit-chat==0.0.2.2\n",
    "\n",
    "For this experiment, you’d need to obtain several API keys and tokens. They need to be set in the environment variable as described below."
   ]
  },
  {
   "cell_type": "code",
   "execution_count": null,
   "id": "e0c1ed1d-576d-46cf-9026-6e384dbb9791",
   "metadata": {},
   "outputs": [],
   "source": [
    "import os\n",
    "\n",
    "os.environ['OPENAI_API_KEY']='<your-openai-api-key>'\n",
    "os.environ['ELEVEN_API_KEY']='<your-eleven-api-key>'\n",
    "os.environ['ACTIVELOOP_TOKEN']='<your-activeloop-token>'"
   ]
  },
  {
   "cell_type": "markdown",
   "id": "fd762319-e9b3-4d38-9ff1-b4dcc02bfe99",
   "metadata": {},
   "source": [
    "To access OpenAI's services, you must first obtain credentials by signing up on their website, completing the registration process, and creating an API key from your dashboard. This enables you to leverage OpenAI's powerful capabilities in your projects.\n",
    "\n",
    "If you don't have an account yet, create one by going to https://platform.openai.com/. If you already have an account, skip to step 5.\n",
    "Fill out the registration form with your name, email address, and desired password.\n",
    "OpenAI will send you a confirmation email with a link. Click on the link to confirm your account.\n",
    "Please note that you'll need to verify your email account and provide a phone number for verification.\n",
    "Log in to https://platform.openai.com/.\n",
    "Navigate to the API key section at https://platform.openai.com/account/api-keys.\n",
    "Click \"Create new secret key\" and give the key a recognizable name or ID.\n",
    "\n",
    "To get the ELEVEN_API_KEY, follow these steps:\n",
    "\n",
    "1. Go to https://elevenlabs.io/ and click on \"Sign Up\" to create an account.\n",
    "2. Once you have created an account, log in and navigate to the \"API\" section.\n",
    "3. Click the \"Create API key\" button and follow the prompts to generate a new API key.\n",
    "4. Copy the API key and paste it into your code where it says \"your-eleven-api-key\" in the ELEVEN_API_KEY variable.\n",
    "\n",
    "\n",
    "For ACTIVELOOP TOKEN, follow these easy steps:\n",
    "\n",
    "Go to https://www.activeloop.ai/ and click on “Sign Up” to create an account.\n",
    "  2. Once you have an Activeloop account, you can create tokens in the Deep Lake App (Organization Details -> API Tokens)\n",
    "\n",
    " 3. Click the \"Create API key\" button and generate a new API Token.\n",
    "\n",
    "Copy the API key and paste it as your environment variable: ACTIVELOOP_TOKEN='your-Activeloop-token'"
   ]
  },
  {
   "cell_type": "markdown",
   "id": "198e32bd-c8fd-406a-8e5e-92cd0126ff71",
   "metadata": {},
   "source": [
    "## Sourcing Content from Hugging Face Hub\n",
    "\n",
    "Now that everything is in place, let's start by gathering all Python library articles from the Hugging Face Hub, an open platform for sharing, collaborating, and progressing in machine learning. These articles will serve as our voice assistant's knowledge base. We'll do some web scraping to gather some knowledge docs.\n",
    "\n",
    "Let's look at and run the script.py file (python scrape.py). This script contains all of the code included in the \"Sourcing Content from Hugging Face Hub\" and \"Embedding and Storing in Deep Lake\" sections of this tutorial. You can run the files by forking or downloading the given repository.\n",
    "\n",
    "We begin by importing the required modules, loading environment variables, and establishing the path for Deep Lake, a vector database. It also creates an instance of OpenAIEmbeddings, which will be used later to embed the scraped articles:"
   ]
  },
  {
   "cell_type": "code",
   "execution_count": null,
   "id": "54e8c1fc-d0f8-481b-83be-46e2352c3b62",
   "metadata": {},
   "outputs": [],
   "source": [
    "import os\n",
    "import requests\n",
    "from bs4 import BeautifulSoup\n",
    "from langchain.embeddings.openai import OpenAIEmbeddings\n",
    "from langchain.vectorstores import DeepLake\n",
    "from langchain.text_splitter import CharacterTextSplitter\n",
    "from langchain.document_loaders import TextLoader\n",
    "import re\n",
    "\n",
    "# TODO: use your organization id here. (by default, org id is your username)\n",
    "my_activeloop_org_id = \"<YOUR-ACTIVELOOP-ORG-ID>\"\n",
    "my_activeloop_dataset_name = \"langchain_course_jarvis_assistant\"\n",
    "dataset_path= 'hub://{active_loop_username}/{dataset_name}'\n",
    "\n",
    "embeddings =  OpenAIEmbeddings(model_name=\"text-embedding-ada-002\")"
   ]
  },
  {
   "cell_type": "markdown",
   "id": "1773b12e-3f1b-4a08-822f-312335f7a46b",
   "metadata": {},
   "source": [
    "We begin by compiling a list of relative URLs that lead to knowledge documents hosted on the Hugging Face Hub. To accomplish this, we define the function get_documentation_urls(). We then attach these relative URLs to the base URL of the Hugging Face Hub using another function, construct_full_url(), to create full URLs that we may access directly."
   ]
  },
  {
   "cell_type": "code",
   "execution_count": null,
   "id": "b6671204-0237-46d8-99f9-b7190b385e05",
   "metadata": {},
   "outputs": [],
   "source": [
    "def get_documentation_urls():\n",
    "    # List of relative URLs for Hugging Face documentation pages, commented a lot of these because it would take too long to scrape all of them\n",
    "    return [\n",
    "\t\t    '/docs/huggingface_hub/guides/overview',\n",
    "\t\t    '/docs/huggingface_hub/guides/download',\n",
    "\t\t    '/docs/huggingface_hub/guides/upload',\n",
    "\t\t    '/docs/huggingface_hub/guides/hf_file_system',\n",
    "\t\t    '/docs/huggingface_hub/guides/repository',\n",
    "\t\t    '/docs/huggingface_hub/guides/search',\n",
    "\t\t    # You may add additional URLs here or replace all of them\n",
    "    ]\n",
    "\n",
    "def construct_full_url(base_url, relative_url):\n",
    "    # Construct the full URL by appending the relative URL to the base URL\n",
    "    return base_url + relative_url"
   ]
  },
  {
   "cell_type": "markdown",
   "id": "4a6e89d1-0ee4-40be-80fc-4c86f60846fb",
   "metadata": {},
   "source": [
    "The script then aggregates all of the URL collected content. The scrape_all_content() function accomplishes this by recursively calling scrape_page_content() for each URL and extracting its text. The text that has been gathered is subsequently stored to a file."
   ]
  },
  {
   "cell_type": "code",
   "execution_count": null,
   "id": "fbc27b2d-1c50-436c-baef-4cc1ab50413b",
   "metadata": {},
   "outputs": [],
   "source": [
    "def scrape_page_content(url):\n",
    "    # Send a GET request to the URL and parse the HTML response using BeautifulSoup\n",
    "    response = requests.get(url)\n",
    "    soup = BeautifulSoup(response.text, 'html.parser')\n",
    "    # Extract the desired content from the page (in this case, the body text)\n",
    "    text=soup.body.text.strip()\n",
    "    # Remove non-ASCII characters\n",
    "    text = re.sub(r'[\\x00-\\x08\\x0b-\\x0c\\x0e-\\x1f\\x7f-\\xff]', '', text)\n",
    "    # Remove extra whitespace and newlines\n",
    "    text = re.sub(r'\\s+', ' ', text)\n",
    "    return text.strip()\n",
    "\n",
    "def scrape_all_content(base_url, relative_urls, filename):\n",
    "    # Loop through the list of URLs, scrape content and add it to the content list\n",
    "    content = []\n",
    "    for relative_url in relative_urls:\n",
    "        full_url = construct_full_url(base_url, relative_url)\n",
    "        scraped_content = scrape_page_content(full_url)\n",
    "        content.append(scraped_content.rstrip('\\n'))\n",
    "\n",
    "    # Write the scraped content to a file\n",
    "    with open(filename, 'w', encoding='utf-8') as file:\n",
    "        for item in content:\n",
    "            file.write(\"%s\\n\" % item)\n",
    "    \n",
    "    return content"
   ]
  },
  {
   "cell_type": "markdown",
   "id": "8958596d-5f4f-4fe2-ab60-47d0a5ff5152",
   "metadata": {},
   "source": [
    "## Loading and splitting texts\n",
    "\n",
    "We load the information from the file and break it into distinct documents using the load_docs() function to prepare the collected text for embedding into our vector database. We break the content into individual chunks to further enhance it using split_docs(). We'd see a Text loader and a text_splitter in action here. \n",
    "\n",
    "Character = instructiontext_splitterTextSplitter(chunk_size=1000, chunk_overlap=0) produces a text splitter object that divides the text into pieces based on characters. Each document in documents is divided into portions of about 1000 characters, with no overlap between them."
   ]
  },
  {
   "cell_type": "code",
   "execution_count": null,
   "id": "128a91e4-7645-42e5-bc14-152cc6a87ed8",
   "metadata": {},
   "outputs": [],
   "source": [
    "# Define a function to load documents from a file\n",
    "def load_docs(root_dir,filename):\n",
    "    # Create an empty list to hold the documents\n",
    "    docs = []\n",
    "    try:\n",
    "        # Load the file using the TextLoader class and UTF-8 encoding\n",
    "        loader = TextLoader(os.path.join(\n",
    "            root_dir, filename), encoding='utf-8')\n",
    "        # Split the loaded file into separate documents and add them to the list of documents\n",
    "        docs.extend(loader.load_and_split())\n",
    "    except Exception as e:\n",
    "        # If an error occurs during loading, ignore it and return an empty list of documents\n",
    "        pass\n",
    "    # Return the list of documents\n",
    "    return docs\n",
    "  \n",
    "def split_docs(docs):\n",
    "    text_splitter = CharacterTextSplitter(chunk_size=1000, chunk_overlap=0)\n",
    "    return text_splitter.split_documents(docs)"
   ]
  },
  {
   "cell_type": "markdown",
   "id": "cb5502b5-15db-4413-8acc-cb1d0b4ef83b",
   "metadata": {},
   "source": [
    "## Embedding and storing in Deep Lake\n",
    "\n",
    "After gathering the required articles, the next step is to embed them using Deep Lake. Deep Lake is an effective tool for developing searchable vector databases. It will allow us to efficiently index and retrieve the information included in our Python library articles in this context.\n",
    "\n",
    "Finally, we can begin populating our vector database.\n",
    "\n",
    "The Deep Lake integration creates a database instance using the specified dataset path and the OpenAIEmbeddings function. OpenAIEmbeddings is transforming the text chunks into embedding vectors, a vector database-compatible format. The.add_documents method will parse the texts and save them in the database."
   ]
  },
  {
   "cell_type": "code",
   "execution_count": null,
   "id": "5ee5dcd0-b72c-4275-962f-275de64b7519",
   "metadata": {},
   "outputs": [],
   "source": [
    "# Define the main function\n",
    "def main():\n",
    "    base_url = 'https://huggingface.co'\n",
    "    # Set the name of the file to which the scraped content will be saved\n",
    "    filename='content.txt'\n",
    "    # Set the root directory where the content file will be saved\n",
    "    root_dir ='./'\n",
    "    relative_urls = get_documentation_urls()\n",
    "    # Scrape all the content from the relative URLs and save it to the content file\n",
    "    content = scrape_all_content(base_url, relative_urls,filename)\n",
    "    # Load the content from the file\n",
    "    docs = load_docs(root_dir,filename)\n",
    "    # Split the content into individual documents\n",
    "    texts = split_docs(docs)\n",
    "    # Create a DeepLake database with the given dataset path and embedding function\n",
    "    db = DeepLake(dataset_path=dataset_path, embedding_function=embeddings)\n",
    "    # Add the individual documents to the database\n",
    "    db.add_documents(texts)\n",
    "    # Clean up by deleting the content file\n",
    "    os.remove(filename)\n",
    "\n",
    "# Call the main function if this script is being run as the main program\n",
    "if __name__ == '__main__':\n",
    "    main()"
   ]
  },
  {
   "cell_type": "markdown",
   "id": "53282d97-4751-4722-a8a1-dfc1b149086f",
   "metadata": {},
   "source": [
    "All of these stages are conveniently bundled into our primary function. This defines the parameters, calls the functions we've written, and manages the entire process of scraping stuff from the web and loading it into the Deep Lake database. It then deletes the content file as a final step to clean up.\n",
    "\n",
    "## Voice Assistant\n",
    "\n",
    "We're ready to use this data in our chatbot now that we've successfully put all of the essential data in the vector database, in this case Deep Lake by Activeloop.\n",
    "\n",
    "Without further ado, let's get started on the coding portion of our chatbot. The following code can be found in the directory's chat.py file. Run streamlit run chat.py to give it a shot.\n",
    "\n",
    "These libraries will assist us in developing web apps with Streamlit, processing audio input, generating text responses, and efficiently collecting information from Deep Lake:"
   ]
  },
  {
   "cell_type": "code",
   "execution_count": null,
   "id": "33fba78a-c1bc-4ba8-bb5a-e4892d01acf9",
   "metadata": {},
   "outputs": [],
   "source": [
    "import os\n",
    "import openai\n",
    "import streamlit as st\n",
    "from audio_recorder_streamlit import audio_recorder\n",
    "from elevenlabs import generate\n",
    "from langchain.chains import RetrievalQA\n",
    "from langchain.chat_models import ChatOpenAI\n",
    "from langchain.embeddings.openai import OpenAIEmbeddings\n",
    "from langchain.vectorstores import DeepLake\n",
    "from streamlit_chat import message\n",
    "\n",
    "# Constants\n",
    "TEMP_AUDIO_PATH = \"temp_audio.wav\"\n",
    "AUDIO_FORMAT = \"audio/wav\"\n",
    "\n",
    "# Load environment variables from .env file and return the keys\n",
    "openai.api_key = os.environ.get('OPENAI_API_KEY')\n",
    "eleven_api_key = os.environ.get('ELEVEN_API_KEY')"
   ]
  },
  {
   "cell_type": "markdown",
   "id": "7cd08942-fb8e-4003-b706-15e6adbc56bf",
   "metadata": {},
   "source": [
    "We then create an instance that points to our Deep Lake vector database.\n",
    "\n"
   ]
  },
  {
   "cell_type": "code",
   "execution_count": null,
   "id": "a9eedb60-54ac-4edf-a4ad-78679602225d",
   "metadata": {},
   "outputs": [],
   "source": [
    "def load_embeddings_and_database(active_loop_data_set_path):\n",
    "    embeddings = OpenAIEmbeddings()\n",
    "    db = DeepLake(\n",
    "        dataset_path=active_loop_data_set_path,\n",
    "        read_only=True,\n",
    "        embedding_function=embeddings\n",
    "    )\n",
    "    return db"
   ]
  },
  {
   "cell_type": "markdown",
   "id": "341cd41a-439f-45a6-9f29-e454c6f4aa0a",
   "metadata": {},
   "source": [
    "Next, we prepare the code for transcribing audio."
   ]
  },
  {
   "cell_type": "code",
   "execution_count": null,
   "id": "18b5b249-9ff5-451d-a07b-3eabcffc3cdc",
   "metadata": {},
   "outputs": [],
   "source": [
    "# Transcribe audio using OpenAI Whisper API\n",
    "def transcribe_audio(audio_file_path, openai_key):\n",
    "    openai.api_key = openai_key\n",
    "    try:\n",
    "        with open(audio_file_path, \"rb\") as audio_file:\n",
    "            response = openai.Audio.transcribe(\"whisper-1\", audio_file)\n",
    "        return response[\"text\"]\n",
    "    except Exception as e:\n",
    "        print(f\"Error calling Whisper API: {str(e)}\")\n",
    "        return NoneCopy"
   ]
  },
  {
   "cell_type": "markdown",
   "id": "c022ee77-558c-4129-890b-3fa524f03a8f",
   "metadata": {},
   "source": [
    "This transcribes an audio file into text using the OpenAI Whisper API, requiring the path of the audio file and the OpenAI key as input parameters."
   ]
  },
  {
   "cell_type": "code",
   "execution_count": null,
   "id": "20f5ee1a-eada-482e-8a76-943b908c926d",
   "metadata": {},
   "outputs": [],
   "source": [
    "# Record audio using audio_recorder and transcribe using transcribe_audio\n",
    "def record_and_transcribe_audio():\n",
    "    audio_bytes = audio_recorder()\n",
    "    transcription = None\n",
    "    if audio_bytes:\n",
    "        st.audio(audio_bytes, format=AUDIO_FORMAT)\n",
    "\n",
    "        with open(TEMP_AUDIO_PATH, \"wb\") as f:\n",
    "            f.write(audio_bytes)\n",
    "\n",
    "        if st.button(\"Transcribe\"):\n",
    "            transcription = transcribe_audio(TEMP_AUDIO_PATH, openai.api_key)\n",
    "            os.remove(TEMP_AUDIO_PATH)\n",
    "            display_transcription(transcription)\n",
    "\n",
    "    return transcription\n",
    "\n",
    "# Display the transcription of the audio on the app\n",
    "def display_transcription(transcription):\n",
    "    if transcription:\n",
    "        st.write(f\"Transcription: {transcription}\")\n",
    "        with open(\"audio_transcription.txt\", \"w+\") as f:\n",
    "            f.write(transcription)\n",
    "    else:\n",
    "        st.write(\"Error transcribing audio.\")\n",
    "\n",
    "# Get user input from Streamlit text input field\n",
    "def get_user_input(transcription):\n",
    "    return st.text_input(\"\", value=transcription if transcription else \"\", key=\"input\")"
   ]
  },
  {
   "cell_type": "markdown",
   "id": "e8cc29f2-c360-435c-b5ac-1b135703adcd",
   "metadata": {},
   "source": [
    "This part of the code allows users to record audio directly within the application. The recorded audio is then transcribed into text using the Whisper API, and the transcribed text is displayed on the application. If any issues occur during the transcription process, an error message will be shown to the user."
   ]
  },
  {
   "cell_type": "code",
   "execution_count": null,
   "id": "1a271b79-f787-4b46-8604-6ac57dd4b232",
   "metadata": {},
   "outputs": [],
   "source": [
    "# Search the database for a response based on the user's query\n",
    "def search_db(user_input, db):\n",
    "    print(user_input)\n",
    "    retriever = db.as_retriever()\n",
    "    retriever.search_kwargs['distance_metric'] = 'cos'\n",
    "    retriever.search_kwargs['fetch_k'] = 100\n",
    "    retriever.search_kwargs['maximal_marginal_relevance'] = True\n",
    "    retriever.search_kwargs['k'] = 4\n",
    "    model = ChatOpenAI(model_name='gpt-3.5-turbo')\n",
    "    qa = RetrievalQA.from_llm(model, retriever=retriever, return_source_documents=True)\n",
    "    return qa({'query': user_input})"
   ]
  },
  {
   "cell_type": "markdown",
   "id": "23de2611-cc02-4b49-adb8-f289e49db113",
   "metadata": {},
   "source": [
    "This section of code searches the vector database for the most appropriate answers to the user's inquiry. It initially turns the database into a retriever, which is a tool that searches the vector space for the closest embeddings. It then configures various search parameters, such as the metric to use when measuring distance in the embedding space, the number of documents to fetch initially, whether to use maximal marginal relevance to balance the diversity and relevance of the results, and how many results to return. The obtained results are then processed by the language model, which in this case is GPT-3.5 Turbo, to provide the most relevant response to the user's inquiry.\n",
    "\n",
    "## Streamlit\n",
    "\n",
    "Streamlit is a Python framework for developing web-based data visualisation applications, which I have used in earlier [projects](https://livingdatalab.com/projects.html). It allows you to easily construct interactive web apps for machine learning and data science projects.\n",
    "\n",
    "The part with the conversation history between the user and the chatbot using Streamlit's messaging feature is now complete. It scrolls through the previous messages in the conversation, displaying each user message and the matching chatbot response. It makes use of the Eleven Labs API to translate the chatbot's text response to speech and give it a voice. This MP3-formatted speech output is then played back on the Streamlit interface, giving an audio component to the conversation:"
   ]
  },
  {
   "cell_type": "code",
   "execution_count": null,
   "id": "ebdaf2ad-15a4-42d4-9615-f48f107c9af6",
   "metadata": {},
   "outputs": [],
   "source": [
    "# Display conversation history using Streamlit messages\n",
    "def display_conversation(history):\n",
    "    for i in range(len(history[\"generated\"])):\n",
    "        message(history[\"past\"][i], is_user=True, key=str(i) + \"_user\")\n",
    "        message(history[\"generated\"][i],key=str(i))\n",
    "        #Voice using Eleven API\n",
    "        voice= \"Bella\"\n",
    "        text= history[\"generated\"][i]\n",
    "        audio = generate(text=text, voice=voice,api_key=eleven_api_key)\n",
    "        st.audio(audio, format='audio/mp3')"
   ]
  },
  {
   "cell_type": "markdown",
   "id": "cecc8bc6-df2b-4cf5-b3b1-a89f072d8899",
   "metadata": {},
   "source": [
    "## User Interaction\n",
    "\n",
    "After the knowledge base is set up, the next stage is user interaction. The voice assistant is designed to accept queries either in the form of voice recordings or typed text."
   ]
  },
  {
   "cell_type": "code",
   "execution_count": null,
   "id": "0d10eaed-b38b-4f48-85d7-eb2dc1caf553",
   "metadata": {},
   "outputs": [],
   "source": [
    "# Main function to run the app\n",
    "def main():\n",
    "    # Initialize Streamlit app with a title\n",
    "    st.write(\"# JarvisBase 🧙\")\n",
    "   \n",
    "    # Load embeddings and the DeepLake database\n",
    "    db = load_embeddings_and_database(dataset_path)\n",
    "\n",
    "    # Record and transcribe audio\n",
    "    transcription = record_and_transcribe_audio()\n",
    "\n",
    "    # Get user input from text input or audio transcription\n",
    "    user_input = get_user_input(transcription)\n",
    "\n",
    "    # Initialize session state for generated responses and past messages\n",
    "    if \"generated\" not in st.session_state:\n",
    "        st.session_state[\"generated\"] = [\"I am ready to help you\"]\n",
    "    if \"past\" not in st.session_state:\n",
    "        st.session_state[\"past\"] = [\"Hey there!\"]\n",
    "        \n",
    "    # Search the database for a response based on user input and update the session state\n",
    "    if user_input:\n",
    "        output = search_db(user_input, db)\n",
    "        print(output['source_documents'])\n",
    "        st.session_state.past.append(user_input)\n",
    "        response = str(output[\"result\"])\n",
    "        st.session_state.generated.append(response)\n",
    "\n",
    "    #Display conversation history using Streamlit messages\n",
    "    if st.session_state[\"generated\"]:\n",
    "        display_conversation(st.session_state)\n",
    "\n",
    "# Run the main function when the script is executed\n",
    "if __name__ == \"__main__\":\n",
    "    main()"
   ]
  },
  {
   "cell_type": "markdown",
   "id": "9ec41315-ed94-4d5a-af05-2757f0168a8a",
   "metadata": {},
   "source": [
    "This is the main driving force for the entire application. It first launches the Streamlit programme and loads the Deep Lake vector database and its embeddings. It then provides two means for user input: text or audio recording, which is later transcribed.\n",
    "\n",
    "In a session state, the programme stores a record of previous user inputs and generated responses. When a new user input is received, the programme examines the database for the best possible response. This response is then saved to the session state.\n",
    "\n",
    "Finally, the software displays the whole conversation history, including both user inputs and chatbot responses. If the input was voice, the chatbot's responses are also generated in audio format utilising the Eleven Labs API.\n",
    "\n",
    "You should now run the following command in your terminal:\n",
    "\n",
    "**streamlit run chat.py**\n",
    "\n",
    "When you execute your programme with the Streamlit command, it will launch a local web server and provide you with a URL where your application can be browsed using a web browser. You have two URLs in your case: a Network URL and an External URL.\n",
    "\n",
    "Your application will run as long as the command in your terminal is active, and it will terminate when you stop the command (ctrl+Z) or close the terminal.\n",
    "\n",
    "## Trying Out the UI\n",
    "\n",
    "We have now described the key code components and are ready to test the Streamlit app!\n",
    "\n",
    "This is how it looks.\n",
    "\n",
    "<img src=\"https://github.com/pranath/blog/raw/master/images/activeloop-voice1.png\" width=\"800\"/>\n",
    "\n",
    "By clicking on the microphone icon, you will activate your microphone for a few seconds and be able to ask a question. Consider the question \"How do I search for models in the Hugging Face Hub?\"\n",
    "\n",
    "After a few seconds, the app will display an audio player where you can listen to your registered audio. Then, select the \"Transcribe\" option.\n",
    "\n",
    "<img src=\"https://github.com/pranath/blog/raw/master/images/activeloop-voice2.png\" width=\"800\"/>\n",
    "\n",
    "This button will send a request to the Whisper API, which will transcribe your audio. The generated text will be quickly put beneath the chat text submission.\n",
    "\n",
    "<img src=\"https://github.com/pranath/blog/raw/master/images/activeloop-voice3.png\" width=\"800\"/>\n",
    "\n",
    "Here we see that the Whisper API didn’t do a perfect job at transcribing “Hugging Face” correctly and instead wrote “Huggy Face”. This is unwanted, but let’s see if ChatGPT is still able to understand the query and give it an appropriate answer by leveraging the knowledge documents stored in Deep Lake.\n",
    "\n",
    "After a few more seconds, the underlying chat will be populated with your audio transcription, along with the chatbot's textual response and its audio version, generated by calling the ElevenLabs API. As we can see, ChatGPT was smart enough to understand that “Huggy Face” was a misspelling of “Hugging Face” and was still able to give an appropriate answer.\n",
    "\n",
    "<img src=\"https://github.com/pranath/blog/raw/master/images/activeloop-voice4.png\" width=\"800\"/>\n",
    "\n",
    "## Conclusion\n",
    "\n",
    "We combined many popular generative AI tools and models in this post, including OpenAI Whisper and ElevenLabs text-to-speech.\n",
    "\n",
    "## Acknowledgements\n",
    "\n",
    "I'd like to express my thanks to the wonderful [LangChain & Vector Databases in Production Course](https://learn.activeloop.ai/courses/langchain) by Activeloop - which i completed, and acknowledge the use of some images and other materials from the course in this article."
   ]
  },
  {
   "cell_type": "code",
   "execution_count": null,
   "id": "4e6b793b-0e04-47d1-bab5-04f3be22a1b1",
   "metadata": {},
   "outputs": [],
   "source": []
  }
 ],
 "metadata": {
  "kernelspec": {
   "display_name": "Python 3 (ipykernel)",
   "language": "python",
   "name": "python3"
  },
  "language_info": {
   "codemirror_mode": {
    "name": "ipython",
    "version": 3
   },
   "file_extension": ".py",
   "mimetype": "text/x-python",
   "name": "python",
   "nbconvert_exporter": "python",
   "pygments_lexer": "ipython3",
   "version": "3.9.13"
  }
 },
 "nbformat": 4,
 "nbformat_minor": 5
}
