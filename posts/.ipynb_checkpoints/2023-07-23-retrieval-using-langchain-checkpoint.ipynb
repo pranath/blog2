{
 "cells": [
  {
   "cell_type": "raw",
   "id": "c65869e0-9ccc-4b4c-b688-1cd7d6339270",
   "metadata": {},
   "source": [
    "---\n",
    "date: '2023-07-23'\n",
    "categories:\n",
    " - natural-language-processing\n",
    " - deep-learning\n",
    " - langchain\n",
    "title: Advanced Vectorstore Retrieval using LangChain\n",
    "description: In this article we look at how you can retrieve content from a vectorstore using state-of-the-art methods to ensure only the most relevant content is made available for Large Language Models.\n",
    "image: https://github.com/pranath/blog/raw/master/images/langchain3.jpg\n",
    "---"
   ]
  },
  {
   "cell_type": "markdown",
   "id": "0689733d",
   "metadata": {},
   "source": [
    "## Introduction\n",
    "\n",
    "In this article we look at how you can retrieve content from a vectorstore using state-of-the-art methods to ensure only the most relevant content is made available for Large Language Models.\n",
    "\n",
    "These methods include:\n",
    "\n",
    "- Maximum Marginal Relevance\n",
    "- Metadata\n",
    "- Metadata using a Self-Query retriever\n",
    "- Compression\n",
    "- Combining all the above\n",
    "\n",
    "Retrieval is the centerpiece of our retrieval augmented generation (RAG) flow. \n",
    "\n",
    "<img src=\"https://github.com/pranath/blog/raw/master/images/lc-data1.jpg\" width=\"800\"/>\n",
    "\n",
    "In [previous articles](/#category=langchain) we covered the basics \n",
    "of semantic search and saw that it worked \n",
    "pretty well for a good amount of use cases. \n",
    "But we also saw some edge cases and saw how \n",
    "things could go a little bit wrong. In this article, we're going to deep \n",
    "dive on retrieval and cover a few more advanced methods for overcoming \n",
    "those edge cases. "
   ]
  },
  {
   "cell_type": "markdown",
   "id": "ed2569c6",
   "metadata": {},
   "source": [
    "## Load Libs & Setup"
   ]
  },
  {
   "cell_type": "code",
   "execution_count": 1,
   "id": "51b15e5c-9b92-4d40-a149-b56335d330d9",
   "metadata": {
    "tags": []
   },
   "outputs": [],
   "source": [
    "import os\n",
    "import openai\n",
    "import sys\n",
    "sys.path.append('../..')\n",
    "\n",
    "from dotenv import load_dotenv, find_dotenv\n",
    "_ = load_dotenv(find_dotenv()) # read local .env file\n",
    "\n",
    "openai.api_key  = os.environ['OPENAI_API_KEY']"
   ]
  },
  {
   "cell_type": "code",
   "execution_count": 2,
   "id": "c18f8a7b-62af-403e-9877-18d1c2265b4f",
   "metadata": {
    "tags": []
   },
   "outputs": [
    {
     "name": "stdout",
     "output_type": "stream",
     "text": [
      "Requirement already satisfied: lark in /Users/pranathfernando/opt/anaconda3/lib/python3.9/site-packages (1.1.7)\n"
     ]
    }
   ],
   "source": [
    "!pip install lark"
   ]
  },
  {
   "cell_type": "code",
   "execution_count": 3,
   "id": "fe368042",
   "metadata": {
    "tags": []
   },
   "outputs": [],
   "source": [
    "from langchain.vectorstores import Chroma\n",
    "from langchain.embeddings.openai import OpenAIEmbeddings\n",
    "persist_directory = 'docs/chroma/'"
   ]
  },
  {
   "cell_type": "markdown",
   "id": "c2d552e1",
   "metadata": {},
   "source": [
    "## Addressing Diversity: Maximum marginal relevance\n",
    "\n",
    "Semantic similarity search was discussed in a [previous article](2023-07-22-vectorstores-and-embeddings-with-langchain.html) but in this article we'll discuss a few other, more sophisticated approaches. The first one \n",
    "we're going to cover is Maximum Marginal Relevance, or MMR. \n",
    "\n",
    "In my previous articles we introduced one problem: how to enforce diversity in the search results?\n",
    " \n",
    "`Maximum marginal relevance` strives to achieve both relevance to the query *and diversity* among the results.\n",
    "\n",
    "The reasoning behind this is that, as we observed in one of the edge instances, if you always choose the documents in the embedding space that are most comparable to the query, you might actually miss out on different information. \n",
    "\n",
    "Lets setup our embeddings and vector database."
   ]
  },
  {
   "cell_type": "code",
   "execution_count": 4,
   "id": "a0189dc5",
   "metadata": {
    "tags": []
   },
   "outputs": [],
   "source": [
    "embedding = OpenAIEmbeddings()\n",
    "vectordb = Chroma(\n",
    "    persist_directory=persist_directory,\n",
    "    embedding_function=embedding\n",
    ")"
   ]
  },
  {
   "cell_type": "code",
   "execution_count": 5,
   "id": "3659e0f7",
   "metadata": {
    "tags": []
   },
   "outputs": [
    {
     "name": "stdout",
     "output_type": "stream",
     "text": [
      "209\n"
     ]
    }
   ],
   "source": [
    "print(vectordb._collection.count())"
   ]
  },
  {
   "cell_type": "markdown",
   "id": "12097829-d18a-4919-9d4b-daa52de091f5",
   "metadata": {},
   "source": [
    "In this instance, a chef is inquiring on only white mushrooms. \n",
    "The first two documents, which have a lot of material that is comparable to the query concerning a fruiting body and being entirely white, would thus be the ones with the most similar results when we look at the search results. But we really want to make sure that we also learn other things, like how dangerous it is. "
   ]
  },
  {
   "cell_type": "code",
   "execution_count": 6,
   "id": "a807c758",
   "metadata": {
    "tags": []
   },
   "outputs": [],
   "source": [
    "texts = [\n",
    "    \"\"\"The Amanita phalloides has a large and imposing epigeous (aboveground) fruiting body (basidiocarp).\"\"\",\n",
    "    \"\"\"A mushroom with a large fruiting body is the Amanita phalloides. Some varieties are all-white.\"\"\",\n",
    "    \"\"\"A. phalloides, a.k.a Death Cap, is one of the most poisonous of all known mushrooms.\"\"\",\n",
    "]"
   ]
  },
  {
   "cell_type": "markdown",
   "id": "04eff91c-5479-48e9-862b-5a924cb18ed2",
   "metadata": {},
   "source": [
    "We'll make a modest database for this example so we can use it purely as a plaything. With our question in hand, we can now perform a similarity search. \n",
    "We'll set \"k=2\" to only show the top two papers. Furthermore, it is clear that the fact that it is dangerous is not mentioned. \n",
    "Let's try it now using MMR. While \"k=2\" is being sent, we still want to return two documents, but let's set \"fetch_k=3,\" where we initially fetched all three documents. "
   ]
  },
  {
   "cell_type": "code",
   "execution_count": 7,
   "id": "715d54f3",
   "metadata": {
    "tags": []
   },
   "outputs": [],
   "source": [
    "smalldb = Chroma.from_texts(texts, embedding=embedding)"
   ]
  },
  {
   "cell_type": "code",
   "execution_count": 8,
   "id": "9a37b5a5",
   "metadata": {
    "tags": []
   },
   "outputs": [],
   "source": [
    "question = \"Tell me about all-white mushrooms with large fruiting bodies\""
   ]
  },
  {
   "cell_type": "code",
   "execution_count": 9,
   "id": "24e3b025",
   "metadata": {
    "tags": []
   },
   "outputs": [
    {
     "data": {
      "text/plain": [
       "[Document(page_content='A mushroom with a large fruiting body is the Amanita phalloides. Some varieties are all-white.', metadata={}),\n",
       " Document(page_content='The Amanita phalloides has a large and imposing epigeous (aboveground) fruiting body (basidiocarp).', metadata={})]"
      ]
     },
     "execution_count": 9,
     "metadata": {},
     "output_type": "execute_result"
    }
   ],
   "source": [
    "smalldb.similarity_search(question, k=2)"
   ]
  },
  {
   "cell_type": "code",
   "execution_count": 10,
   "id": "4daa6c0d",
   "metadata": {
    "tags": []
   },
   "outputs": [
    {
     "data": {
      "text/plain": [
       "[Document(page_content='A mushroom with a large fruiting body is the Amanita phalloides. Some varieties are all-white.', metadata={}),\n",
       " Document(page_content='A. phalloides, a.k.a Death Cap, is one of the most poisonous of all known mushrooms.', metadata={})]"
      ]
     },
     "execution_count": 10,
     "metadata": {},
     "output_type": "execute_result"
    }
   ],
   "source": [
    "smalldb.max_marginal_relevance_search(question,k=2, fetch_k=3)"
   ]
  },
  {
   "cell_type": "markdown",
   "id": "5a29e8c9",
   "metadata": {},
   "source": [
    "Let's revisit an instance from a previous article in which we requested information on MATLAB and received documents that contained redundant data. \n",
    "In order to refresh your memory, we can look at the first two documents and verify that they are identical by focusing only on the first few characters because the rest of the documents are lengthy. Since the first result is the most comparable to the previous one, we can see that it is the same when we run MMR on these results. "
   ]
  },
  {
   "cell_type": "code",
   "execution_count": 11,
   "id": "9bb2c0a9",
   "metadata": {
    "tags": []
   },
   "outputs": [],
   "source": [
    "question = \"what did they say about matlab?\"\n",
    "docs_ss = vectordb.similarity_search(question,k=3)"
   ]
  },
  {
   "cell_type": "code",
   "execution_count": 12,
   "id": "f07f8793",
   "metadata": {
    "tags": []
   },
   "outputs": [
    {
     "data": {
      "text/plain": [
       "'those homeworks will be done in either MATLA B or in Octave, which is sort of — I \\nknow some people '"
      ]
     },
     "execution_count": 12,
     "metadata": {},
     "output_type": "execute_result"
    }
   ],
   "source": [
    "docs_ss[0].page_content[:100]"
   ]
  },
  {
   "cell_type": "code",
   "execution_count": 13,
   "id": "e9f7e165",
   "metadata": {
    "tags": []
   },
   "outputs": [
    {
     "data": {
      "text/plain": [
       "'those homeworks will be done in either MATLA B or in Octave, which is sort of — I \\nknow some people '"
      ]
     },
     "execution_count": 13,
     "metadata": {},
     "output_type": "execute_result"
    }
   ],
   "source": [
    "docs_ss[1].page_content[:100]"
   ]
  },
  {
   "cell_type": "markdown",
   "id": "4c4ca1b6",
   "metadata": {},
   "source": [
    "Note the difference in results with `MMR`."
   ]
  },
  {
   "cell_type": "code",
   "execution_count": 14,
   "id": "222234c5",
   "metadata": {
    "tags": []
   },
   "outputs": [],
   "source": [
    "docs_mmr = vectordb.max_marginal_relevance_search(question,k=3)"
   ]
  },
  {
   "cell_type": "code",
   "execution_count": 15,
   "id": "93b20226",
   "metadata": {
    "tags": []
   },
   "outputs": [
    {
     "data": {
      "text/plain": [
       "'those homeworks will be done in either MATLA B or in Octave, which is sort of — I \\nknow some people '"
      ]
     },
     "execution_count": 15,
     "metadata": {},
     "output_type": "execute_result"
    }
   ],
   "source": [
    "docs_mmr[0].page_content[:100]"
   ]
  },
  {
   "cell_type": "code",
   "execution_count": 16,
   "id": "17d39762",
   "metadata": {
    "tags": []
   },
   "outputs": [
    {
     "data": {
      "text/plain": [
       "\"mathematical work, he feels like he's disc overing truth and beauty in the universe. And \\nhe says it\""
      ]
     },
     "execution_count": 16,
     "metadata": {},
     "output_type": "execute_result"
    }
   ],
   "source": [
    "docs_mmr[1].page_content[:100]"
   ]
  },
  {
   "cell_type": "markdown",
   "id": "b2b909bc",
   "metadata": {},
   "source": [
    "This is when using MMR is useful because it will choose from a wide variety of documents. \n",
    "The principle behind MMR is that after sending a query, we first receive a series of responses, with the number of responses we receive ultimately being controlled by a parameter called \"fetch_k\". The only basis for this is semantic similarity. Then, using that smaller group of texts, we try to optimise for both the diverse and the most relevant materials based on semantic similarity. And we select a final \"k\" to give the user from that collection of papers. \n",
    "\n",
    "You can read more about MMR in this [langchain documentation](https://python.langchain.com/docs/modules/model_io/prompts/example_selectors/mmr) and this [medium article](https://medium.com/tech-that-works/maximal-marginal-relevance-to-rerank-results-in-unsupervised-keyphrase-extraction-22d95015c7c5)\n",
    "\n",
    "## Addressing Specificity: Working with Metadata\n",
    "\n",
    "In a [previous article](2023-07-22-vectorstores-and-embeddings-with-langchain.html) we showed that a question about the third lecture can include results from other lectures as well. To address this, many vectorstores support operations on `metadata` which provides context for each embedded chunk.\n",
    "\n",
    "What we can do is divide the original query into two distinct components, a filter and a search term, using a language model itself. A metadata filter is supported by most vector storage. As a result, you may simply filter records according on metadata, such as 1980. In our case, we will filter by document as we only want to include context that relates to the third lecture pdf."
   ]
  },
  {
   "cell_type": "code",
   "execution_count": 17,
   "id": "3c1a60b2",
   "metadata": {
    "tags": []
   },
   "outputs": [],
   "source": [
    "question = \"what did they say about regression in the third lecture?\""
   ]
  },
  {
   "cell_type": "code",
   "execution_count": 18,
   "id": "a8612840",
   "metadata": {
    "tags": []
   },
   "outputs": [],
   "source": [
    "docs = vectordb.similarity_search(\n",
    "    question,\n",
    "    k=3,\n",
    "    filter={\"source\":\"docs/MachineLearning-Lecture03.pdf\"}\n",
    ")"
   ]
  },
  {
   "cell_type": "code",
   "execution_count": 19,
   "id": "97031876",
   "metadata": {
    "tags": []
   },
   "outputs": [
    {
     "name": "stdout",
     "output_type": "stream",
     "text": [
      "{'source': 'docs/MachineLearning-Lecture03.pdf', 'page': 0}\n",
      "{'source': 'docs/MachineLearning-Lecture03.pdf', 'page': 14}\n",
      "{'source': 'docs/MachineLearning-Lecture03.pdf', 'page': 4}\n"
     ]
    }
   ],
   "source": [
    "for d in docs:\n",
    "    print(d.metadata)"
   ]
  },
  {
   "cell_type": "markdown",
   "id": "ccc2d784",
   "metadata": {},
   "source": [
    "## Addressing Specificity: Working with Metadata using a Self-Query retriever\n",
    "\n",
    "But we have an interesting challenge: we often want to infer the metadata from the query itself.\n",
    "\n",
    "To address this, we can use `SelfQueryRetriever`, which uses an LLM to extract:\n",
    " \n",
    "1. The `query` string to use for vector search\n",
    "2. A metadata filter to pass in as well\n",
    "\n",
    "Most vector databases support metadata filters, so this doesn't require any new databases or indexes.\n",
    "\n",
    "Now let's move on to the example of the self-query. What was said concerning regression in the third lecture was a concern of ours during this one. \n",
    "And it also included the first and second lectures in the results it returned. If we were manually repairing this, we would choose a metadata filter. \n",
    "Therefore, we would include this information that we want the source to be the same as the PDF of the third lecture. \n",
    "The documents that would then be found would all be from that particular lecture, if we were to look at them. \n",
    "\n",
    "We don't need to manually describe that because a language model can take care of it for us. \n",
    "We'll import the OpenAI language model to accomplish this. A retriever called the self-query retriever will be imported, and after that, attribute info, which allows us to identify specific fields in the metadata and what they correspond to, will be imported. \n",
    "The metadata only contains the fields source and page. \n",
    "For each of these attributes, we fill out a description of the name, the description, and the type. \n",
    "Making this information as descriptive as feasible is crucial because it will really be transmitted to the language model. \n",
    "Next, we'll provide some details regarding the contents of this document store. "
   ]
  },
  {
   "cell_type": "code",
   "execution_count": 20,
   "id": "b1d06084",
   "metadata": {
    "tags": []
   },
   "outputs": [],
   "source": [
    "from langchain.llms import OpenAI\n",
    "from langchain.retrievers.self_query.base import SelfQueryRetriever\n",
    "from langchain.chains.query_constructor.base import AttributeInfo"
   ]
  },
  {
   "cell_type": "code",
   "execution_count": 21,
   "id": "0aa5e698",
   "metadata": {
    "tags": []
   },
   "outputs": [],
   "source": [
    "metadata_field_info = [\n",
    "    AttributeInfo(\n",
    "        name=\"source\",\n",
    "        description=\"The lecture the chunk is from, should be one of `docs/MachineLearning-Lecture01.pdf`, `docs/MachineLearning-Lecture02.pdf`, or `docs/MachineLearning-Lecture03.pdf`\",\n",
    "        type=\"string\",\n",
    "    ),\n",
    "    AttributeInfo(\n",
    "        name=\"page\",\n",
    "        description=\"The page from the lecture\",\n",
    "        type=\"integer\",\n",
    "    ),\n",
    "]"
   ]
  },
  {
   "cell_type": "markdown",
   "id": "b37a2a50-32db-4750-9b26-972a5c741b58",
   "metadata": {},
   "source": [
    "We will initialise the language model, and then we will initialise the self-query retriever using the \"from_llm\" method and passing in the language model, the underlying vector database that we're going to query, the details regarding the description and the metadata, and finally we will pass in \"verbose=True.\" \n",
    " \n",
    "When \"verbose=True\" is set, we can see the inner workings of how the LLM determines which query should be passed along with any metadata filters. \n",
    "Because \"verbose=True\" is set when the self-query retriever is used with this query, we can see that we are printing out the inside workings of the query.\n",
    "\n",
    "The semantic portion of the process starts with a regression query, which is followed by a filter with a comparator of equals between the source attribute and a value of documents, and finally this path, which leads to the third machine learning lesson. \n",
    "Thus, this essentially instructs us to perform a regression lookup in the semantic space and then a filter where we only consider articles that contain a source value for this value. \n",
    "Therefore, we should be able to tell that they are all from this third lecture if we loop through the papers and print the metadata. "
   ]
  },
  {
   "cell_type": "code",
   "execution_count": 22,
   "id": "e7906c15",
   "metadata": {
    "tags": []
   },
   "outputs": [],
   "source": [
    "document_content_description = \"Lecture notes\"\n",
    "llm = OpenAI(temperature=0)\n",
    "retriever = SelfQueryRetriever.from_llm(\n",
    "    llm,\n",
    "    vectordb,\n",
    "    document_content_description,\n",
    "    metadata_field_info,\n",
    "    verbose=True\n",
    ")"
   ]
  },
  {
   "cell_type": "code",
   "execution_count": 23,
   "id": "79d781b9",
   "metadata": {
    "tags": []
   },
   "outputs": [],
   "source": [
    "question = \"what did they say about regression in the third lecture?\""
   ]
  },
  {
   "cell_type": "markdown",
   "id": "c51778b0-1fcd-40a4-bd6b-0f13fec8acb1",
   "metadata": {},
   "source": [
    "**You will receive a warning** about predict_and_parse being deprecated the first time you executing the next line. This can be safely ignored."
   ]
  },
  {
   "cell_type": "code",
   "execution_count": 24,
   "id": "1d4f9f7d",
   "metadata": {
    "tags": []
   },
   "outputs": [
    {
     "name": "stderr",
     "output_type": "stream",
     "text": [
      "/Users/pranathfernando/opt/anaconda3/lib/python3.9/site-packages/langchain/chains/llm.py:275: UserWarning: The predict_and_parse method is deprecated, instead pass an output parser directly to LLMChain.\n",
      "  warnings.warn(\n"
     ]
    },
    {
     "name": "stdout",
     "output_type": "stream",
     "text": [
      "query='regression' filter=Comparison(comparator=<Comparator.EQ: 'eq'>, attribute='source', value='docs/MachineLearning-Lecture03.pdf') limit=None\n"
     ]
    }
   ],
   "source": [
    "docs = retriever.get_relevant_documents(question)"
   ]
  },
  {
   "cell_type": "code",
   "execution_count": 25,
   "id": "db04374e",
   "metadata": {
    "tags": []
   },
   "outputs": [
    {
     "name": "stdout",
     "output_type": "stream",
     "text": [
      "{'source': 'docs/MachineLearning-Lecture03.pdf', 'page': 14}\n",
      "{'source': 'docs/MachineLearning-Lecture03.pdf', 'page': 0}\n",
      "{'source': 'docs/MachineLearning-Lecture03.pdf', 'page': 10}\n",
      "{'source': 'docs/MachineLearning-Lecture03.pdf', 'page': 10}\n"
     ]
    }
   ],
   "source": [
    "for d in docs:\n",
    "    print(d.metadata)"
   ]
  },
  {
   "cell_type": "markdown",
   "id": "297b8168",
   "metadata": {},
   "source": [
    "You can read more about using Metadata and a Self-Query retiever in [this langchain documentation that uses Pinecone](https://python.langchain.com/docs/modules/data_connection/retrievers/self_query/pinecone) as well as this [medium article that uses PaLM](https://medium.com/@kamaljp/deep-dive-into-self-query-retriever-in-langchain-exploring-pros-of-building-sq-retriever-with-cf12f3eed1f3).\n",
    "\n",
    "This is also a good article from Pinecone describing the [filtering issue with vector stores and metadata](https://www.pinecone.io/learn/vector-search-filtering/) \n",
    "\n",
    "## Additional tricks: Compression\n",
    "\n",
    "Contextual compression is the final retrieval method we will discuss. \n",
    "So let's load the contextual compression retriever and then an LLM chain extractor into this location. \n",
    " \n",
    "Only the key information from each document will be extracted, and that information will be sent as the final return result. \n",
    "Since documents are frequently lengthy and confusing, we'll build a little function to beautifully print them out so that it's easier to understand what's going on. \n",
    "\n",
    "Information most relevant to a query may be buried in a document with a lot of irrelevant text. Passing that full document through your application can lead to more expensive LLM calls and poorer responses. Contextual compression is meant to fix this. \n",
    "\n",
    "With compression, you can then run \n",
    "all those documents through a language model and extract the most relevant \n",
    "segments and then pass only the most relevant segments \n",
    "into a final language model call. This \n",
    "comes at the cost of making more calls \n",
    "to the language model, but it's also really good for focusing the final \n",
    "answer on only the most important things. And so it's a bit \n",
    "of a tradeoff. Let's see these different techniques in action. We're going to \n",
    "start by loading the environment variables as we always do. "
   ]
  },
  {
   "cell_type": "code",
   "execution_count": 26,
   "id": "a060cf74",
   "metadata": {
    "tags": []
   },
   "outputs": [],
   "source": [
    "from langchain.retrievers import ContextualCompressionRetriever\n",
    "from langchain.retrievers.document_compressors import LLMChainExtractor"
   ]
  },
  {
   "cell_type": "code",
   "execution_count": 27,
   "id": "038649c8",
   "metadata": {
    "tags": []
   },
   "outputs": [],
   "source": [
    "def pretty_print_docs(docs):\n",
    "    print(f\"\\n{'-' * 100}\\n\".join([f\"Document {i+1}:\\n\\n\" + d.page_content for i, d in enumerate(docs)]))\n"
   ]
  },
  {
   "cell_type": "code",
   "execution_count": 28,
   "id": "fc686cf2",
   "metadata": {
    "tags": []
   },
   "outputs": [],
   "source": [
    "# Wrap our vectorstore\n",
    "llm = OpenAI(temperature=0)\n",
    "compressor = LLMChainExtractor.from_llm(llm)"
   ]
  },
  {
   "cell_type": "code",
   "execution_count": 29,
   "id": "82794397",
   "metadata": {
    "tags": []
   },
   "outputs": [],
   "source": [
    "compression_retriever = ContextualCompressionRetriever(\n",
    "    base_compressor=compressor,\n",
    "    base_retriever=vectordb.as_retriever()\n",
    ")"
   ]
  },
  {
   "cell_type": "markdown",
   "id": "2c4910e1-8cba-4f2c-a549-825f32786623",
   "metadata": {},
   "source": [
    "Subsequently, using the LLM chain extractor, we can make a compressor. Then, using the compressor and the vector store's base retriever, we can develop a contextual compression retriever. \n",
    " \n",
    "If we look at the documents we receive back after passing in the question, \"What did they say about MATLAB,\" and the compressed documents, we can observe two things. \n",
    "One is that they are much shorter than typical documents. \n",
    "However, since we're using the semantic search technique behind the scenes, there is still some of this duplicated content there. "
   ]
  },
  {
   "cell_type": "code",
   "execution_count": 30,
   "id": "cde86848",
   "metadata": {
    "tags": []
   },
   "outputs": [
    {
     "name": "stdout",
     "output_type": "stream",
     "text": [
      "Document 1:\n",
      "\n",
      "\"MATLAB is I guess part of the programming language that makes it very easy to write codes using matrices, to write code for numerical routines, to move data around, to plot data. And it's sort of an extremely easy to learn tool to use for implementing a lot of learning algorithms.\"\n",
      "----------------------------------------------------------------------------------------------------\n",
      "Document 2:\n",
      "\n",
      "\"MATLAB is I guess part of the programming language that makes it very easy to write codes using matrices, to write code for numerical routines, to move data around, to plot data. And it's sort of an extremely easy to learn tool to use for implementing a lot of learning algorithms.\"\n",
      "----------------------------------------------------------------------------------------------------\n",
      "Document 3:\n",
      "\n",
      "\"And the student said, \"Oh, it was the MATLAB.\" So for those of you that don't know MATLAB yet, I hope you do learn it. It's not hard, and we'll actually have a short MATLAB tutorial in one of the discussion sections for those of you that don't know it.\"\n",
      "----------------------------------------------------------------------------------------------------\n",
      "Document 4:\n",
      "\n",
      "\"And the student said, \"Oh, it was the MATLAB.\" So for those of you that don't know MATLAB yet, I hope you do learn it. It's not hard, and we'll actually have a short MATLAB tutorial in one of the discussion sections for those of you that don't know it.\"\n"
     ]
    }
   ],
   "source": [
    "question = \"what did they say about matlab?\"\n",
    "compressed_docs = compression_retriever.get_relevant_documents(question)\n",
    "pretty_print_docs(compressed_docs)"
   ]
  },
  {
   "cell_type": "markdown",
   "id": "82c4fc4d",
   "metadata": {},
   "source": [
    "You can read more about contextual compression from this [langchain documentation](https://python.langchain.com/docs/modules/data_connection/retrievers/contextual_compression/)\n",
    "\n",
    "## Combining various techniques\n",
    "\n",
    "Here is an illustration of how you might mix several strategies to achieve the greatest outcomes. \n",
    "We can set the search type to MMR in order to accomplish that while building the retriever from the vector database, also using contextual compression. \n",
    "Then we can execute this and observe that we receive a filtered set of results devoid of any duplicate data. \n",
    "Up until now, a vector database has served as the foundation for all extra retrieval methods that we have outlined. \n",
    "It's important to note that there are other retrieval methods that employ more conventional NLP approaches rather than vector databases at all. "
   ]
  },
  {
   "cell_type": "code",
   "execution_count": 31,
   "id": "161ae1ad",
   "metadata": {
    "tags": []
   },
   "outputs": [],
   "source": [
    "compression_retriever = ContextualCompressionRetriever(\n",
    "    base_compressor=compressor,\n",
    "    base_retriever=vectordb.as_retriever(search_type = \"mmr\")\n",
    ")"
   ]
  },
  {
   "cell_type": "code",
   "execution_count": 32,
   "id": "e77ccae1",
   "metadata": {
    "tags": []
   },
   "outputs": [
    {
     "name": "stdout",
     "output_type": "stream",
     "text": [
      "Document 1:\n",
      "\n",
      "\"MATLAB is I guess part of the programming language that makes it very easy to write codes using matrices, to write code for numerical routines, to move data around, to plot data. And it's sort of an extremely easy to learn tool to use for implementing a lot of learning algorithms.\"\n",
      "----------------------------------------------------------------------------------------------------\n",
      "Document 2:\n",
      "\n",
      "\"And the student said, \"Oh, it was the MATLAB.\" So for those of you that don't know MATLAB yet, I hope you do learn it. It's not hard, and we'll actually have a short MATLAB tutorial in one of the discussion sections for those of you that don't know it.\"\n"
     ]
    }
   ],
   "source": [
    "question = \"what did they say about matlab?\"\n",
    "compressed_docs = compression_retriever.get_relevant_documents(question)\n",
    "pretty_print_docs(compressed_docs)"
   ]
  },
  {
   "cell_type": "markdown",
   "id": "6c2b63e1",
   "metadata": {},
   "source": [
    "## Other Types of Retrieval\n",
    "\n",
    "It's worth noting that vectordb as not the only kind of tool to retrieve documents. The `LangChain` retriever abstraction includes other ways to retrieve documents, such as TF-IDF or SVM.\n",
    "\n",
    "An SVM retriever and a TF-IDF retriever will be used to recreate a retrieval pipeline here. \n",
    "It's good if you are familiar with this terminology from conventional NLP or conventional machine learning. This is only one of many different methods that are available."
   ]
  },
  {
   "cell_type": "code",
   "execution_count": 33,
   "id": "83d2e808",
   "metadata": {
    "tags": []
   },
   "outputs": [],
   "source": [
    "from langchain.retrievers import SVMRetriever\n",
    "from langchain.retrievers import TFIDFRetriever\n",
    "from langchain.document_loaders import PyPDFLoader\n",
    "from langchain.text_splitter import RecursiveCharacterTextSplitter"
   ]
  },
  {
   "cell_type": "code",
   "execution_count": 34,
   "id": "bcf5b760",
   "metadata": {
    "tags": []
   },
   "outputs": [],
   "source": [
    "# Load PDF\n",
    "loader = PyPDFLoader(\"docs/MachineLearning-Lecture01.pdf\")\n",
    "pages = loader.load()\n",
    "all_page_text=[p.page_content for p in pages]\n",
    "joined_page_text=\" \".join(all_page_text)\n",
    "\n",
    "# Split\n",
    "text_splitter = RecursiveCharacterTextSplitter(chunk_size = 1500,chunk_overlap = 150)\n",
    "splits = text_splitter.split_text(joined_page_text)\n"
   ]
  },
  {
   "cell_type": "code",
   "execution_count": 35,
   "id": "9bb0d781",
   "metadata": {
    "tags": []
   },
   "outputs": [],
   "source": [
    "# Retrieve\n",
    "svm_retriever = SVMRetriever.from_texts(splits,embedding)\n",
    "tfidf_retriever = TFIDFRetriever.from_texts(splits)"
   ]
  },
  {
   "cell_type": "code",
   "execution_count": 36,
   "id": "0b1cc35f",
   "metadata": {
    "tags": []
   },
   "outputs": [
    {
     "data": {
      "text/plain": [
       "Document(page_content=\"let me just check what questions you have righ t now. So if there are no questions, I'll just \\nclose with two reminders, which are after class today or as you start to talk with other \\npeople in this class, I just encourage you again to start to form project partners, to try to \\nfind project partners to do your project with. And also, this is a good time to start forming \\nstudy groups, so either talk to your friends  or post in the newsgroup, but we just \\nencourage you to try to star t to do both of those today, okay? Form study groups, and try \\nto find two other project partners.  \\nSo thank you. I'm looking forward to teaching this class, and I'll see you in a couple of \\ndays.   [End of Audio]  \\nDuration: 69 minutes\", metadata={})"
      ]
     },
     "execution_count": 36,
     "metadata": {},
     "output_type": "execute_result"
    }
   ],
   "source": [
    "question = \"What are major topics for this class?\"\n",
    "docs_svm=svm_retriever.get_relevant_documents(question)\n",
    "docs_svm[0]"
   ]
  },
  {
   "cell_type": "markdown",
   "id": "188cc49d-5ab7-4c11-a5da-e2576cbd21f1",
   "metadata": {},
   "source": [
    "We can complete the standard pipeline of loading and dividing rather quickly. \n",
    "The TF-IDF retriever just accepts the splits directly, but the SVM retriever also accepts an embedding module. \n",
    "We can now make use of the other retrievers. \n",
    "Let's give the SVM retriever some information on what others have said about MATLAB. When we look at the top document that it returns, we can see that it makes numerous references to MATLAB, indicating that it is pulling up some solid findings in that area. \n",
    "We can test this out on the TF-IDF retriever as well and find that the outcomes are a little bit less favourable. "
   ]
  },
  {
   "cell_type": "code",
   "execution_count": 37,
   "id": "2a1659c0",
   "metadata": {
    "tags": []
   },
   "outputs": [
    {
     "data": {
      "text/plain": [
       "Document(page_content=\"Saxena and Min Sun here did, wh ich is given an image like this, right? This is actually a \\npicture taken of the Stanford campus. You can apply that sort of cl ustering algorithm and \\ngroup the picture into regions. Let me actually blow that up so that you can see it more \\nclearly. Okay. So in the middle, you see the lines sort of groupi ng the image together, \\ngrouping the image into [inaudible] regions.  \\nAnd what Ashutosh and Min did was they then  applied the learning algorithm to say can \\nwe take this clustering and us e it to build a 3D model of the world? And so using the \\nclustering, they then had a lear ning algorithm try to learn what the 3D structure of the \\nworld looks like so that they could come up with a 3D model that you can sort of fly \\nthrough, okay? Although many people used to th ink it's not possible to take a single \\nimage and build a 3D model, but using a lear ning algorithm and that sort of clustering \\nalgorithm is the first step. They were able to.  \\nI'll just show you one more example. I like this  because it's a picture of Stanford with our \\nbeautiful Stanford campus. So again, taking th e same sort of clustering algorithms, taking \\nthe same sort of unsupervised learning algor ithm, you can group the pixels into different \\nregions. And using that as a pre-processing step, they eventually built this sort of 3D model of Stanford campus in a single picture.  You can sort of walk  into the ceiling, look\", metadata={})"
      ]
     },
     "execution_count": 37,
     "metadata": {},
     "output_type": "execute_result"
    }
   ],
   "source": [
    "question = \"what did they say about matlab?\"\n",
    "docs_tfidf=tfidf_retriever.get_relevant_documents(question)\n",
    "docs_tfidf[0]"
   ]
  },
  {
   "cell_type": "markdown",
   "id": "81be674d-de2f-425a-bec4-1f163cd1dd10",
   "metadata": {},
   "source": [
    "You'll probably see that some of these approaches are superior to others in a number of different situations. \n",
    " \n",
    "The self query retriever seems especially neat. \n",
    "So I would advise doing that with increasingly complicated metadata filters. \n",
    "Even if you make up some metadata, you could try to trick the LLM into thinking it has nested metadata structures. \n",
    "\n",
    "## Acknowledgements\n",
    "\n",
    "I'd like to express my thanks to the wonderful [LangChain: Chat with your data course](https://www.deeplearning.ai/short-courses/langchain-chat-with-your-data/) by DeepLearning.ai and LangChain - which i completed, and acknowledge the use of some images and other materials from the course in this article."
   ]
  },
  {
   "cell_type": "code",
   "execution_count": null,
   "id": "b5ccb2e5-ab05-484c-be47-b0f4b7de656c",
   "metadata": {},
   "outputs": [],
   "source": []
  }
 ],
 "metadata": {
  "kernelspec": {
   "display_name": "Python 3 (ipykernel)",
   "language": "python",
   "name": "python3"
  },
  "language_info": {
   "codemirror_mode": {
    "name": "ipython",
    "version": 3
   },
   "file_extension": ".py",
   "mimetype": "text/x-python",
   "name": "python",
   "nbconvert_exporter": "python",
   "pygments_lexer": "ipython3",
   "version": "3.9.13"
  }
 },
 "nbformat": 4,
 "nbformat_minor": 5
}
