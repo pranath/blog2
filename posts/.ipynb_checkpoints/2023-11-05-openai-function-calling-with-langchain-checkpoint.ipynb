{
 "cells": [
  {
   "cell_type": "raw",
   "id": "2e1a27be-e0b1-40d4-a0e4-fd76defb97d1",
   "metadata": {},
   "source": [
    "---\n",
    "date: '2023-11-05'\n",
    "categories:\n",
    " - natural-language-processing\n",
    " - langchain\n",
    " - openai\n",
    "title: OpenAI Function Calling In LangChain\n",
    "description: This article focuses on the integration of OpenAI functions with Langchain's expression language and how this makes applications quicker to produce. We will also delve into the utility of PyDantic, a Python library that simplifies the construction of OpenAI functions.\n",
    "image: https://github.com/pranath/blog/raw/master/images/langchain2.jpg\n",
    "---"
   ]
  },
  {
   "cell_type": "markdown",
   "id": "16de7336",
   "metadata": {},
   "source": [
    "## Introduction\n",
    "\n",
    "In our ongoing exploration of artificial intelligence tools, this article synthesizes insights from our previous articles, focusing on the integration of OpenAI functions with Langchain's expression language. We will also delve into the utility of PyDantic, a Python library that simplifies the construction of OpenAI functions.\n",
    "\n",
    "## Understanding PyDantic\n",
    "\n",
    "**What is PyDantic?**\n",
    "PyDantic is a robust data validation library in Python that enhances the functionality of Python's data classes. This library facilitates the definition of data structures with stringent type enforcement and validation, offering an efficient means to manage data integrity. Moreover, PyDantic is especially useful for converting data structures to JSON format, which is instrumental in constructing OpenAI function descriptions. It offers a concise way to define data structures while ensuring that the data adheres to specified types and constraints. it also makes it really easy to export those structures to JSON.\n",
    "\n",
    "That will be useful because we can utilise the PyDantic object to generate OpenAI function descriptions. [Remember how those OpenAI function descriptions](/posts/2023-11-03-openai-function-calling-a-step-by-step-guide.html) were a large chunk of JSON with a variety of different coding? We can use PyDantic to avoid having to think about all of that. We'll accomplish this by creating a PyDantic class.\n",
    "\n",
    "**Implementing PyDantic Classes**\n",
    "The implementation of PyDantic involves defining classes with typed attributes instead of the traditional `__init__` method. These classes serve as templates for generating JSON schemas for OpenAI functions, bypassing the intricacies of manual JSON crafting.\n",
    "\n",
    "It's fairly similar to a standard Python class, so you can compare them here. The primary difference is that instead of an init function, we'll simply specify the attributes and their types in the class declaration. We're not going to do anything with these classes. We'll just use it to write the OpenAI function in JSON.\n",
    "\n",
    "## Practical Application of PyDantic\n",
    "\n",
    "**Setting Up the Environment**\n",
    "We begin by setting up our working environment, importing necessary PyDantic classes, and preparing the usual Python class for comparison."
   ]
  },
  {
   "cell_type": "code",
   "execution_count": 58,
   "id": "8c2fb141-c98b-4b94-b328-f7a456ad6a77",
   "metadata": {},
   "outputs": [
    {
     "name": "stdout",
     "output_type": "stream",
     "text": [
      "Requirement already satisfied: langchain in /Users/pranathfernando/opt/anaconda3/lib/python3.9/site-packages (0.0.331)\n",
      "Requirement already satisfied: aiohttp<4.0.0,>=3.8.3 in /Users/pranathfernando/opt/anaconda3/lib/python3.9/site-packages (from langchain) (3.8.4)\n",
      "Requirement already satisfied: tenacity<9.0.0,>=8.1.0 in /Users/pranathfernando/opt/anaconda3/lib/python3.9/site-packages (from langchain) (8.2.2)\n",
      "Requirement already satisfied: async-timeout<5.0.0,>=4.0.0 in /Users/pranathfernando/opt/anaconda3/lib/python3.9/site-packages (from langchain) (4.0.2)\n",
      "Requirement already satisfied: langsmith<0.1.0,>=0.0.52 in /Users/pranathfernando/opt/anaconda3/lib/python3.9/site-packages (from langchain) (0.0.60)\n",
      "Requirement already satisfied: anyio<4.0 in /Users/pranathfernando/opt/anaconda3/lib/python3.9/site-packages (from langchain) (3.5.0)\n",
      "Requirement already satisfied: SQLAlchemy<3,>=1.4 in /Users/pranathfernando/opt/anaconda3/lib/python3.9/site-packages (from langchain) (1.4.39)\n",
      "Requirement already satisfied: numpy<2,>=1 in /Users/pranathfernando/opt/anaconda3/lib/python3.9/site-packages (from langchain) (1.21.6)\n",
      "Requirement already satisfied: jsonpatch<2.0,>=1.33 in /Users/pranathfernando/opt/anaconda3/lib/python3.9/site-packages (from langchain) (1.33)\n",
      "Requirement already satisfied: PyYAML>=5.3 in /Users/pranathfernando/opt/anaconda3/lib/python3.9/site-packages (from langchain) (6.0.1)\n",
      "Requirement already satisfied: dataclasses-json<0.7,>=0.5.7 in /Users/pranathfernando/opt/anaconda3/lib/python3.9/site-packages (from langchain) (0.5.7)\n",
      "Requirement already satisfied: requests<3,>=2 in /Users/pranathfernando/opt/anaconda3/lib/python3.9/site-packages (from langchain) (2.28.1)\n",
      "Requirement already satisfied: pydantic<3,>=1 in /Users/pranathfernando/opt/anaconda3/lib/python3.9/site-packages (from langchain) (1.10.8)\n",
      "Requirement already satisfied: aiosignal>=1.1.2 in /Users/pranathfernando/opt/anaconda3/lib/python3.9/site-packages (from aiohttp<4.0.0,>=3.8.3->langchain) (1.3.1)\n",
      "Requirement already satisfied: frozenlist>=1.1.1 in /Users/pranathfernando/opt/anaconda3/lib/python3.9/site-packages (from aiohttp<4.0.0,>=3.8.3->langchain) (1.3.3)\n",
      "Requirement already satisfied: charset-normalizer<4.0,>=2.0 in /Users/pranathfernando/opt/anaconda3/lib/python3.9/site-packages (from aiohttp<4.0.0,>=3.8.3->langchain) (2.0.4)\n",
      "Requirement already satisfied: attrs>=17.3.0 in /Users/pranathfernando/opt/anaconda3/lib/python3.9/site-packages (from aiohttp<4.0.0,>=3.8.3->langchain) (21.4.0)\n",
      "Requirement already satisfied: yarl<2.0,>=1.0 in /Users/pranathfernando/opt/anaconda3/lib/python3.9/site-packages (from aiohttp<4.0.0,>=3.8.3->langchain) (1.9.2)\n",
      "Requirement already satisfied: multidict<7.0,>=4.5 in /Users/pranathfernando/opt/anaconda3/lib/python3.9/site-packages (from aiohttp<4.0.0,>=3.8.3->langchain) (6.0.4)\n",
      "Requirement already satisfied: sniffio>=1.1 in /Users/pranathfernando/opt/anaconda3/lib/python3.9/site-packages (from anyio<4.0->langchain) (1.2.0)\n",
      "Requirement already satisfied: idna>=2.8 in /Users/pranathfernando/opt/anaconda3/lib/python3.9/site-packages (from anyio<4.0->langchain) (3.3)\n",
      "Requirement already satisfied: marshmallow<4.0.0,>=3.3.0 in /Users/pranathfernando/opt/anaconda3/lib/python3.9/site-packages (from dataclasses-json<0.7,>=0.5.7->langchain) (3.19.0)\n",
      "Requirement already satisfied: marshmallow-enum<2.0.0,>=1.5.1 in /Users/pranathfernando/opt/anaconda3/lib/python3.9/site-packages (from dataclasses-json<0.7,>=0.5.7->langchain) (1.5.1)\n",
      "Requirement already satisfied: typing-inspect>=0.4.0 in /Users/pranathfernando/opt/anaconda3/lib/python3.9/site-packages (from dataclasses-json<0.7,>=0.5.7->langchain) (0.9.0)\n",
      "Requirement already satisfied: jsonpointer>=1.9 in /Users/pranathfernando/opt/anaconda3/lib/python3.9/site-packages (from jsonpatch<2.0,>=1.33->langchain) (2.3)\n",
      "Requirement already satisfied: typing-extensions>=4.2.0 in /Users/pranathfernando/opt/anaconda3/lib/python3.9/site-packages (from pydantic<3,>=1->langchain) (4.6.3)\n",
      "Requirement already satisfied: urllib3<1.27,>=1.21.1 in /Users/pranathfernando/opt/anaconda3/lib/python3.9/site-packages (from requests<3,>=2->langchain) (1.26.11)\n",
      "Requirement already satisfied: certifi>=2017.4.17 in /Users/pranathfernando/opt/anaconda3/lib/python3.9/site-packages (from requests<3,>=2->langchain) (2023.5.7)\n",
      "Requirement already satisfied: greenlet!=0.4.17 in /Users/pranathfernando/opt/anaconda3/lib/python3.9/site-packages (from SQLAlchemy<3,>=1.4->langchain) (2.0.2)\n",
      "Requirement already satisfied: packaging>=17.0 in /Users/pranathfernando/opt/anaconda3/lib/python3.9/site-packages (from marshmallow<4.0.0,>=3.3.0->dataclasses-json<0.7,>=0.5.7->langchain) (21.3)\n",
      "Requirement already satisfied: mypy-extensions>=0.3.0 in /Users/pranathfernando/opt/anaconda3/lib/python3.9/site-packages (from typing-inspect>=0.4.0->dataclasses-json<0.7,>=0.5.7->langchain) (0.4.3)\n",
      "Requirement already satisfied: pyparsing!=3.0.5,>=2.0.2 in /Users/pranathfernando/opt/anaconda3/lib/python3.9/site-packages (from packaging>=17.0->marshmallow<4.0.0,>=3.3.0->dataclasses-json<0.7,>=0.5.7->langchain) (3.0.9)\n"
     ]
    }
   ],
   "source": [
    "#| include: false\n",
    "!pip install -U langchain"
   ]
  },
  {
   "cell_type": "code",
   "execution_count": 18,
   "id": "cb41f5f4-df8d-4d04-9eaa-193b8c29b00b",
   "metadata": {
    "tags": []
   },
   "outputs": [],
   "source": [
    "import os\n",
    "import openai\n",
    "\n",
    "from dotenv import load_dotenv, find_dotenv\n",
    "_ = load_dotenv(find_dotenv()) # read local .env file\n",
    "openai.api_key = os.environ['OPENAI_API_KEY']"
   ]
  },
  {
   "cell_type": "code",
   "execution_count": 19,
   "id": "aa1dddf9-8e44-4454-9d44-f8372cccf5ac",
   "metadata": {},
   "outputs": [],
   "source": [
    "from typing import List\n",
    "from pydantic import BaseModel, Field\n",
    "import warnings\n",
    "warnings.filterwarnings('ignore')"
   ]
  },
  {
   "cell_type": "markdown",
   "id": "ad68931a-f806-4ea9-969c-93b3902baf9b",
   "metadata": {},
   "source": [
    "## Pydantic Syntax\n",
    "\n",
    "**Python vs. PyDantic Classes**\n",
    "A conventional Python class, equipped with an `__init__` method, allows for the instantiation of objects with attributes like name, age, and email. However, this approach lacks built-in validation. Conversely, a PyDantic class automatically validates input data, raising errors when invalid data is supplied, ensuring data integrity.\n",
    "\n",
    "We'll begin with the most basic Python class. So we'll have the standard Python class producer, which has an init function to which we supply the name, age, and email. So, if we make an instance of this, we can see that we have a standard Python class and that we can access the elements based on them. So, if age is an incorrect value, we have bar, which is a string, and we accept the init term. We can see that it produces it properly. And if we look at the element, we can see that it is active. And that's not good because we need some validation of that."
   ]
  },
  {
   "cell_type": "code",
   "execution_count": 20,
   "id": "e1557226-36e2-484b-a2fb-bb7e3180342c",
   "metadata": {},
   "outputs": [],
   "source": [
    "class User:\n",
    "    def __init__(self, name: str, age: int, email: str):\n",
    "        self.name = name\n",
    "        self.age = age\n",
    "        self.email = email"
   ]
  },
  {
   "cell_type": "code",
   "execution_count": 21,
   "id": "11b9b584-74dc-49b8-a7fe-3865368774e9",
   "metadata": {},
   "outputs": [],
   "source": [
    "foo = User(name=\"Joe\",age=32, email=\"joe@gmail.com\")"
   ]
  },
  {
   "cell_type": "code",
   "execution_count": 22,
   "id": "0f6f9e9c-b83a-4859-8e65-e6488e05a071",
   "metadata": {},
   "outputs": [
    {
     "data": {
      "text/plain": [
       "'Joe'"
      ]
     },
     "execution_count": 22,
     "metadata": {},
     "output_type": "execute_result"
    }
   ],
   "source": [
    "foo.name"
   ]
  },
  {
   "cell_type": "code",
   "execution_count": 23,
   "id": "10a6a0de-d7dc-414d-baaf-fa43c6d1f410",
   "metadata": {},
   "outputs": [],
   "source": [
    "foo = User(name=\"Joe\",age=\"bar\", email=\"joe@gmail.com\")"
   ]
  },
  {
   "cell_type": "code",
   "execution_count": 24,
   "id": "613b7b12-f061-44bc-989d-433cab609164",
   "metadata": {},
   "outputs": [
    {
     "data": {
      "text/plain": [
       "'bar'"
      ]
     },
     "execution_count": 24,
     "metadata": {},
     "output_type": "execute_result"
    }
   ],
   "source": [
    "foo.age"
   ]
  },
  {
   "cell_type": "markdown",
   "id": "c463a7be-8027-4db5-af0c-61f8139a14de",
   "metadata": {},
   "source": [
    "We can now have our class in character for the base model, which is imported from PyDantic, and we can define our attributes using various techniques right under the class definition. So name is a string, pages is an integer, and we also have a string. We can construct an object as usual, and if we inspect it, we can see that it looks good in all the different aspects, but this is a wonderful benefit. We can also access individual pieces in this manner."
   ]
  },
  {
   "cell_type": "code",
   "execution_count": 25,
   "id": "c541cb8d-fc55-4c94-a04f-a877cccf10ec",
   "metadata": {},
   "outputs": [],
   "source": [
    "# Pydantic Version\n",
    "class pUser(BaseModel):\n",
    "    name: str\n",
    "    age: int\n",
    "    email: str"
   ]
  },
  {
   "cell_type": "code",
   "execution_count": 26,
   "id": "27394d22-73e3-4918-9bdf-18cd7c973942",
   "metadata": {},
   "outputs": [],
   "source": [
    "foo_p = pUser(name=\"Jane\", age=32, email=\"jane@gmail.com\")"
   ]
  },
  {
   "cell_type": "code",
   "execution_count": 27,
   "id": "49f25241-ff47-454f-bac4-ba20ab937d70",
   "metadata": {},
   "outputs": [
    {
     "data": {
      "text/plain": [
       "'Jane'"
      ]
     },
     "execution_count": 27,
     "metadata": {},
     "output_type": "execute_result"
    }
   ],
   "source": [
    "foo_p.name"
   ]
  },
  {
   "cell_type": "markdown",
   "id": "a206355b-fdf8-4c50-a5d0-dc13c7754718",
   "metadata": {},
   "source": [
    "Now, if we try to pass in a invalid age argument, such as a string or a value bar, we can see that it raises a validation error. PyDantic is doing something similar behind the scenes. It is actually performing further validation on the difference that we have passed in. This is yet another advantageous feature of PyDantic. "
   ]
  },
  {
   "cell_type": "code",
   "execution_count": 28,
   "id": "37030df3-ec11-4523-ac66-b88f90099d1b",
   "metadata": {},
   "outputs": [
    {
     "ename": "ValidationError",
     "evalue": "1 validation error for pUser\nage\n  value is not a valid integer (type=type_error.integer)",
     "output_type": "error",
     "traceback": [
      "\u001b[0;31m---------------------------------------------------------------------------\u001b[0m",
      "\u001b[0;31mValidationError\u001b[0m                           Traceback (most recent call last)",
      "\u001b[0;32m/var/folders/nx/h0vy791n1cj763xzkg85h0940000gn/T/ipykernel_1279/3003212700.py\u001b[0m in \u001b[0;36m<module>\u001b[0;34m\u001b[0m\n\u001b[0;32m----> 1\u001b[0;31m \u001b[0mfoo_p\u001b[0m \u001b[0;34m=\u001b[0m \u001b[0mpUser\u001b[0m\u001b[0;34m(\u001b[0m\u001b[0mname\u001b[0m\u001b[0;34m=\u001b[0m\u001b[0;34m\"Jane\"\u001b[0m\u001b[0;34m,\u001b[0m \u001b[0mage\u001b[0m\u001b[0;34m=\u001b[0m\u001b[0;34m\"bar\"\u001b[0m\u001b[0;34m,\u001b[0m \u001b[0memail\u001b[0m\u001b[0;34m=\u001b[0m\u001b[0;34m\"jane@gmail.com\"\u001b[0m\u001b[0;34m)\u001b[0m\u001b[0;34m\u001b[0m\u001b[0;34m\u001b[0m\u001b[0m\n\u001b[0m",
      "\u001b[0;32m~/opt/anaconda3/lib/python3.9/site-packages/pydantic/main.cpython-39-darwin.so\u001b[0m in \u001b[0;36mpydantic.main.BaseModel.__init__\u001b[0;34m()\u001b[0m\n",
      "\u001b[0;31mValidationError\u001b[0m: 1 validation error for pUser\nage\n  value is not a valid integer (type=type_error.integer)"
     ]
    }
   ],
   "source": [
    "# Should throw an error as pydantic detects age is a string rather than and int\n",
    "foo_p = pUser(name=\"Jane\", age=\"bar\", email=\"jane@gmail.com\")"
   ]
  },
  {
   "cell_type": "markdown",
   "id": "e8e0d9d7-53a1-456c-8d56-9e768e168980",
   "metadata": {},
   "source": [
    "By using Pydantic, validation is done for us on the data types.\n",
    "\n",
    "**Nested Data Structures with PyDantic**\n",
    "PyDantic's capabilities extend to constructing nested data structures. By defining a class with attributes as lists of other PyDantic classes, we can create complex and validated JSON-compatible objects.\n",
    "\n",
    "So we're going to define class type here, and since this is a PyDantic model, it inherits from this model. And the only element in this class will be students, and students will be a list of keys as stated before. And we can now make an object with this precise structure. So we pass in a list of students, in this example, and we get an object back, which we print. And to the point here is that you can nest PyDantic's objects. "
   ]
  },
  {
   "cell_type": "code",
   "execution_count": 29,
   "id": "911e7677-cc5d-4957-b6c3-b3ba1493de33",
   "metadata": {},
   "outputs": [],
   "source": [
    "class Class(BaseModel):\n",
    "    students: List[pUser]"
   ]
  },
  {
   "cell_type": "code",
   "execution_count": 30,
   "id": "14920e50-688e-4dd4-9207-9b59c6b018c6",
   "metadata": {},
   "outputs": [],
   "source": [
    "obj = Class(\n",
    "    students=[pUser(name=\"Jane\", age=32, email=\"jane@gmail.com\")]\n",
    ")"
   ]
  },
  {
   "cell_type": "code",
   "execution_count": 31,
   "id": "cede1035-7581-4203-bab7-b8e6363c931f",
   "metadata": {},
   "outputs": [
    {
     "data": {
      "text/plain": [
       "Class(students=[pUser(name='Jane', age=32, email='jane@gmail.com')])"
      ]
     },
     "execution_count": 31,
     "metadata": {},
     "output_type": "execute_result"
    }
   ],
   "source": [
    "obj"
   ]
  },
  {
   "cell_type": "markdown",
   "id": "b9c12cef-3a2d-46da-9c45-9a117e10f4a4",
   "metadata": {},
   "source": [
    "## Creating OpenAI Function Definitions with PyDantic\n",
    "\n",
    "**Designing OpenAI Function Definitions**\n",
    "The transition from PyDantic objects to OpenAI function definitions involves creating a PyDantic class that encapsulates the desired function schema. We then employ PyDantic's `BaseModel` to define parameters and utilize docstrings for descriptive purposes.\n",
    "\n",
    "**Converting PyDantic to OpenAI JSON Schema**\n",
    "We convert our PyDantic class into an OpenAI-compatible JSON schema, which includes names, descriptions, and parameter details. This schema adheres to our established function definitions and includes mandatory descriptions, ensuring clarity and usability.\n",
    "\n",
    "So what we're going to do is create a PyDantic object that we can then feed to the schema we discussed earlier. Importantly, here is a PyDantic object that we generated that will not do anything. We're only utilising it to build this schema. We'll make a class called weather search, which corresponds to the function we made earlier, where I'm inheriting from base model. You can also notice that we're inserting doc string here. Then there's a single argument named airport code, which we enter as a string. Then, to get the weather search, we add this field description for airport code."
   ]
  },
  {
   "cell_type": "code",
   "execution_count": 32,
   "id": "617ceea9-009f-4325-adae-85ab29fccd68",
   "metadata": {},
   "outputs": [],
   "source": [
    "class WeatherSearch(BaseModel):\n",
    "    \"\"\"Call this with an airport code to get the weather at that airport\"\"\"\n",
    "    airport_code: str = Field(description=\"airport code to get weather for\")"
   ]
  },
  {
   "cell_type": "markdown",
   "id": "04a95ed9-1ae0-48e8-8c00-a50e3f0a9963",
   "metadata": {},
   "source": [
    "This function will do exactly what it says on the tin. It will convert a PyDantic object to the JSON structure required by an open AI function. So, if we pass the class in here, and notice that we're only passing in the class's name, we're not giving it an object. We send in the class type, and we get back the weather function. When we look at what the weather function is, we can see that it is the same JSON schema that we passed in open AI earlier."
   ]
  },
  {
   "cell_type": "code",
   "execution_count": 33,
   "id": "b22a438c-6692-47f9-9e00-1a95d04c6dd3",
   "metadata": {},
   "outputs": [],
   "source": [
    "from langchain.utils.openai_functions import convert_pydantic_to_openai_function"
   ]
  },
  {
   "cell_type": "code",
   "execution_count": 34,
   "id": "97e152c4-8d04-4a02-b363-ee7691f60e31",
   "metadata": {},
   "outputs": [],
   "source": [
    "weather_function = convert_pydantic_to_openai_function(WeatherSearch)"
   ]
  },
  {
   "cell_type": "code",
   "execution_count": 35,
   "id": "f36b041e-bd28-4e25-a0c1-fbeeeee4ae53",
   "metadata": {},
   "outputs": [
    {
     "data": {
      "text/plain": [
       "{'name': 'WeatherSearch',\n",
       " 'description': 'Call this with an airport code to get the weather at that airport',\n",
       " 'parameters': {'title': 'WeatherSearch',\n",
       "  'description': 'Call this with an airport code to get the weather at that airport',\n",
       "  'type': 'object',\n",
       "  'properties': {'airport_code': {'title': 'Airport Code',\n",
       "    'description': 'airport code to get weather for',\n",
       "    'type': 'string'}},\n",
       "  'required': ['airport_code']}}"
      ]
     },
     "execution_count": 35,
     "metadata": {},
     "output_type": "execute_result"
    }
   ],
   "source": [
    "weather_function"
   ]
  },
  {
   "cell_type": "markdown",
   "id": "50cf62bc-163b-47c3-8e89-dcc25dd2f971",
   "metadata": {},
   "source": [
    "We can see that it has the name weather search, which indicates that this is the name of the Python class. We can also see that it has a description, which is extracted from the doc string. We can see in the parameters that it has a list of attributes, one of which is Airport Code, or the only one, and this is extracted from the argument that it will see here. Airport Code has a description, which is taken from the field description above, and a type, which is string.\n",
    "\n",
    "So one thing in particular that LangChain have done is made this doc string here mandatory so that it can put in the function description. As previously said, functions are essentially prompts, thus if you're sending in a function, you should include a description of what that function does. Langchain implemented several tests to ensure that you're entering the description correctly. They don't enforce descriptions for everywhere though."
   ]
  },
  {
   "cell_type": "code",
   "execution_count": 36,
   "id": "c5d7c573-2f84-441d-ab73-a3dd263318d4",
   "metadata": {},
   "outputs": [],
   "source": [
    "class WeatherSearch1(BaseModel):\n",
    "    airport_code: str = Field(description=\"airport code to get weather for\")"
   ]
  },
  {
   "cell_type": "markdown",
   "id": "3d99b688-a9a7-4446-977f-07918a5d93e1",
   "metadata": {},
   "source": [
    "Note: The next cell is expected to generate an error."
   ]
  },
  {
   "cell_type": "code",
   "execution_count": 37,
   "id": "bb08f095-8190-41c5-b49c-e3580cedf992",
   "metadata": {},
   "outputs": [
    {
     "ename": "KeyError",
     "evalue": "'description'",
     "output_type": "error",
     "traceback": [
      "\u001b[0;31m---------------------------------------------------------------------------\u001b[0m",
      "\u001b[0;31mKeyError\u001b[0m                                  Traceback (most recent call last)",
      "\u001b[0;32m/var/folders/nx/h0vy791n1cj763xzkg85h0940000gn/T/ipykernel_1279/91992219.py\u001b[0m in \u001b[0;36m<module>\u001b[0;34m\u001b[0m\n\u001b[0;32m----> 1\u001b[0;31m \u001b[0mconvert_pydantic_to_openai_function\u001b[0m\u001b[0;34m(\u001b[0m\u001b[0mWeatherSearch1\u001b[0m\u001b[0;34m)\u001b[0m\u001b[0;34m\u001b[0m\u001b[0;34m\u001b[0m\u001b[0m\n\u001b[0m",
      "\u001b[0;32m~/opt/anaconda3/lib/python3.9/site-packages/langchain/utils/openai_functions.py\u001b[0m in \u001b[0;36mconvert_pydantic_to_openai_function\u001b[0;34m(model, name, description)\u001b[0m\n\u001b[1;32m     27\u001b[0m     return {\n\u001b[1;32m     28\u001b[0m         \u001b[0;34m\"name\"\u001b[0m\u001b[0;34m:\u001b[0m \u001b[0mname\u001b[0m \u001b[0;32mor\u001b[0m \u001b[0mschema\u001b[0m\u001b[0;34m[\u001b[0m\u001b[0;34m\"title\"\u001b[0m\u001b[0;34m]\u001b[0m\u001b[0;34m,\u001b[0m\u001b[0;34m\u001b[0m\u001b[0;34m\u001b[0m\u001b[0m\n\u001b[0;32m---> 29\u001b[0;31m         \u001b[0;34m\"description\"\u001b[0m\u001b[0;34m:\u001b[0m \u001b[0mdescription\u001b[0m \u001b[0;32mor\u001b[0m \u001b[0mschema\u001b[0m\u001b[0;34m[\u001b[0m\u001b[0;34m\"description\"\u001b[0m\u001b[0;34m]\u001b[0m\u001b[0;34m,\u001b[0m\u001b[0;34m\u001b[0m\u001b[0;34m\u001b[0m\u001b[0m\n\u001b[0m\u001b[1;32m     30\u001b[0m         \u001b[0;34m\"parameters\"\u001b[0m\u001b[0;34m:\u001b[0m \u001b[0mschema\u001b[0m\u001b[0;34m,\u001b[0m\u001b[0;34m\u001b[0m\u001b[0;34m\u001b[0m\u001b[0m\n\u001b[1;32m     31\u001b[0m     }\n",
      "\u001b[0;31mKeyError\u001b[0m: 'description'"
     ]
    }
   ],
   "source": [
    "convert_pydantic_to_openai_function(WeatherSearch1)"
   ]
  },
  {
   "cell_type": "code",
   "execution_count": 38,
   "id": "ed22668a-e188-45a5-844e-deee62f9bf51",
   "metadata": {},
   "outputs": [],
   "source": [
    "class WeatherSearch2(BaseModel):\n",
    "    \"\"\"Call this with an airport code to get the weather at that airport\"\"\"\n",
    "    airport_code: str"
   ]
  },
  {
   "cell_type": "code",
   "execution_count": 39,
   "id": "9e001e87-4338-4720-99b3-9dc4cb3e4faf",
   "metadata": {},
   "outputs": [
    {
     "data": {
      "text/plain": [
       "{'name': 'WeatherSearch2',\n",
       " 'description': 'Call this with an airport code to get the weather at that airport',\n",
       " 'parameters': {'title': 'WeatherSearch2',\n",
       "  'description': 'Call this with an airport code to get the weather at that airport',\n",
       "  'type': 'object',\n",
       "  'properties': {'airport_code': {'title': 'Airport Code', 'type': 'string'}},\n",
       "  'required': ['airport_code']}}"
      ]
     },
     "execution_count": 39,
     "metadata": {},
     "output_type": "execute_result"
    }
   ],
   "source": [
    "convert_pydantic_to_openai_function(WeatherSearch2)"
   ]
  },
  {
   "cell_type": "code",
   "execution_count": 40,
   "id": "a35261e8-2d36-43a8-a051-a79bef35c8dd",
   "metadata": {},
   "outputs": [],
   "source": [
    "from langchain.chat_models import ChatOpenAI"
   ]
  },
  {
   "cell_type": "code",
   "execution_count": 41,
   "id": "93bda0a6-9206-407a-b0da-966f9442a40c",
   "metadata": {},
   "outputs": [],
   "source": [
    "model = ChatOpenAI()"
   ]
  },
  {
   "cell_type": "code",
   "execution_count": 42,
   "id": "afe342d4-a7ef-49cd-b760-aa9a176d64d5",
   "metadata": {},
   "outputs": [
    {
     "data": {
      "text/plain": [
       "AIMessage(content='', additional_kwargs={'function_call': {'name': 'WeatherSearch', 'arguments': '{\\n  \"airport_code\": \"SFO\"\\n}'}}, example=False)"
      ]
     },
     "execution_count": 42,
     "metadata": {},
     "output_type": "execute_result"
    }
   ],
   "source": [
    "model.invoke(\"what is the weather in SF today?\", functions=[weather_function])"
   ]
  },
  {
   "cell_type": "code",
   "execution_count": 43,
   "id": "511e12b6-bcfb-4862-b377-4251de9969ea",
   "metadata": {},
   "outputs": [],
   "source": [
    "model_with_function = model.bind(functions=[weather_function])"
   ]
  },
  {
   "cell_type": "code",
   "execution_count": 44,
   "id": "de6241d9-667c-4b97-a50f-95c046fa640c",
   "metadata": {},
   "outputs": [
    {
     "data": {
      "text/plain": [
       "AIMessage(content='', additional_kwargs={'function_call': {'name': 'WeatherSearch', 'arguments': '{\\n  \"airport_code\": \"SFO\"\\n}'}}, example=False)"
      ]
     },
     "execution_count": 44,
     "metadata": {},
     "output_type": "execute_result"
    }
   ],
   "source": [
    "model_with_function.invoke(\"what is the weather in sf?\")"
   ]
  },
  {
   "cell_type": "markdown",
   "id": "ae78d6dd-bb38-4e55-9b65-0ef9005a52b9",
   "metadata": {},
   "source": [
    "## Forcing it to use a function\n",
    "\n",
    "We can force the model to use a function"
   ]
  },
  {
   "cell_type": "code",
   "execution_count": 45,
   "id": "e7d2fbc0-df39-4e93-a22f-39a6285272b4",
   "metadata": {},
   "outputs": [],
   "source": [
    "model_with_forced_function = model.bind(functions=[weather_function], function_call={\"name\":\"WeatherSearch\"})"
   ]
  },
  {
   "cell_type": "code",
   "execution_count": 46,
   "id": "cd9f4063-9e15-41d7-9cf9-253548534176",
   "metadata": {},
   "outputs": [
    {
     "data": {
      "text/plain": [
       "AIMessage(content='', additional_kwargs={'function_call': {'name': 'WeatherSearch', 'arguments': '{\\n  \"airport_code\": \"SFO\"\\n}'}}, example=False)"
      ]
     },
     "execution_count": 46,
     "metadata": {},
     "output_type": "execute_result"
    }
   ],
   "source": [
    "model_with_forced_function.invoke(\"what is the weather in sf?\")"
   ]
  },
  {
   "cell_type": "code",
   "execution_count": 47,
   "id": "314ca7e6-b77c-4b9d-9c93-da6ef3c9c6f8",
   "metadata": {},
   "outputs": [
    {
     "data": {
      "text/plain": [
       "AIMessage(content='', additional_kwargs={'function_call': {'name': 'WeatherSearch', 'arguments': '{\\n  \"airport_code\": \"JFK\"\\n}'}}, example=False)"
      ]
     },
     "execution_count": 47,
     "metadata": {},
     "output_type": "execute_result"
    }
   ],
   "source": [
    "model_with_forced_function.invoke(\"hi!\")"
   ]
  },
  {
   "cell_type": "markdown",
   "id": "5ac391c3-cd81-4423-a33e-6583ec534850",
   "metadata": {},
   "source": [
    "## Integrating OpenAI Functions with Langchain Expression Language\n",
    "\n",
    "**Direct Interaction with Langchain**\n",
    "By importing Langchain's model, we can directly interact with OpenAI functions. This interaction is demonstrated through the instantiation of a model and the execution of queries requiring the defined functions.\n",
    "\n",
    "**Model Binding and Function Invocation**\n",
    "Binding functions to a model streamlines the process of function invocation, enabling straightforward integration into a chain. This technique allows the model to recognize and utilize the relevant functions based on the input context.\n",
    "\n",
    "Let's ask a question that will necessitate the use of the weather function. So, how is the weather and SF today? Then we can include keyword arguments. So we'll pass in the weather function we defined earlier. So we'll have a content message, and then in the additional quotations field, we'll have this function called parameter, which returns a function named weather search and then arguments Airport Code SFR. So it's utilising both of their functions. "
   ]
  },
  {
   "cell_type": "code",
   "execution_count": 48,
   "id": "c12c86df-d628-4176-9f4e-24fb5a953a5d",
   "metadata": {},
   "outputs": [],
   "source": [
    "from langchain.prompts import ChatPromptTemplate"
   ]
  },
  {
   "cell_type": "code",
   "execution_count": 49,
   "id": "83f00dc6-5d22-44a5-a0a0-4fe1ab8167ac",
   "metadata": {},
   "outputs": [],
   "source": [
    "prompt = ChatPromptTemplate.from_messages([\n",
    "    (\"system\", \"You are a helpful assistant\"),\n",
    "    (\"user\", \"{input}\")\n",
    "])"
   ]
  },
  {
   "cell_type": "code",
   "execution_count": 50,
   "id": "1eee3f5f-2176-4777-8c8a-2a197acc47a7",
   "metadata": {},
   "outputs": [],
   "source": [
    "chain = prompt | model_with_function"
   ]
  },
  {
   "cell_type": "code",
   "execution_count": 51,
   "id": "8587907e-b4c3-4acd-9e58-1137047d0fee",
   "metadata": {},
   "outputs": [
    {
     "data": {
      "text/plain": [
       "AIMessage(content='', additional_kwargs={'function_call': {'name': 'WeatherSearch', 'arguments': '{\\n  \"airport_code\": \"SFO\"\\n}'}}, example=False)"
      ]
     },
     "execution_count": 51,
     "metadata": {},
     "output_type": "execute_result"
    }
   ],
   "source": [
    "chain.invoke({\"input\": \"what is the weather in sf?\"})"
   ]
  },
  {
   "cell_type": "markdown",
   "id": "f317408d-de5e-4774-993e-a8ac31a2f5fe",
   "metadata": {},
   "source": [
    "## Using multiple functions\n",
    "\n",
    "Even better, we can pass a set of functions and let the LLM decide which to use based on the question context. We can also associate the functions with the model. And one reason for doing so is so that we can simply pass that model plus functions surrounding it without worrying about what we pass in. These are functions that take keyword parameters. So, if we do model with function and set that equal to model.bind, functions with weather function, we can now directly call this model function. And we only need to pass in weather and SF. Now we can see that it responds and continues to use the function call. That's because it still knows the function calls exist because we discovered them in the model in this manner.\n",
    "\n",
    "The next step is to pass in a list of functions, and the model will pick which one to employ based on the context of the query. So we're going to make another identity model class called artist search here. And we'll include a description named this condition of the name so song by a specific artist. We'll add two arguments: the artist's name and N, an integer proportional to the number of results to check up. We'll then make a fresh set of functions, and the time will be two. "
   ]
  },
  {
   "cell_type": "code",
   "execution_count": 52,
   "id": "48c8e42e-f84e-4822-b1ee-a9955fa301c4",
   "metadata": {},
   "outputs": [],
   "source": [
    "class ArtistSearch(BaseModel):\n",
    "    \"\"\"Call this to get the names of songs by a particular artist\"\"\"\n",
    "    artist_name: str = Field(description=\"name of artist to look up\")\n",
    "    n: int = Field(description=\"number of results\")"
   ]
  },
  {
   "cell_type": "code",
   "execution_count": 53,
   "id": "9a51599b-ee32-4f74-9925-b6264bf43242",
   "metadata": {},
   "outputs": [],
   "source": [
    "functions = [\n",
    "    convert_pydantic_to_openai_function(WeatherSearch),\n",
    "    convert_pydantic_to_openai_function(ArtistSearch),\n",
    "]"
   ]
  },
  {
   "cell_type": "markdown",
   "id": "93e924b6-fde6-4795-92e2-42530be51abc",
   "metadata": {},
   "source": [
    "We'll utilise openai functions to perform weather and artist searches, and we'll create a new object called model with functions. And then we'll use model.bind. And now let's check what happens when we invoke this with different inputs. "
   ]
  },
  {
   "cell_type": "code",
   "execution_count": 54,
   "id": "e0cc9e3b-ba38-4eff-b285-d02ee5963725",
   "metadata": {},
   "outputs": [],
   "source": [
    "model_with_functions = model.bind(functions=functions)"
   ]
  },
  {
   "cell_type": "code",
   "execution_count": 55,
   "id": "d01cd501-03b4-4207-b1be-0c33c12a0fa5",
   "metadata": {},
   "outputs": [
    {
     "data": {
      "text/plain": [
       "AIMessage(content='', additional_kwargs={'function_call': {'name': 'WeatherSearch', 'arguments': '{\\n  \"airport_code\": \"SFO\"\\n}'}}, example=False)"
      ]
     },
     "execution_count": 55,
     "metadata": {},
     "output_type": "execute_result"
    }
   ],
   "source": [
    "model_with_functions.invoke(\"what is the weather in sf?\")"
   ]
  },
  {
   "cell_type": "code",
   "execution_count": 56,
   "id": "31599518-7387-4d08-9d68-8f5ba7282e8b",
   "metadata": {},
   "outputs": [
    {
     "data": {
      "text/plain": [
       "AIMessage(content='', additional_kwargs={'function_call': {'name': 'ArtistSearch', 'arguments': '{\\n  \"artist_name\": \"Taylor Swift\",\\n  \"n\": 3\\n}'}}, example=False)"
      ]
     },
     "execution_count": 56,
     "metadata": {},
     "output_type": "execute_result"
    }
   ],
   "source": [
    "model_with_functions.invoke(\"what are three songs by taylor swift?\")"
   ]
  },
  {
   "cell_type": "code",
   "execution_count": 57,
   "id": "4e6df989-6ea3-48af-b2c0-10978e0f4142",
   "metadata": {},
   "outputs": [
    {
     "data": {
      "text/plain": [
       "AIMessage(content='Hello! How can I assist you today?', additional_kwargs={}, example=False)"
      ]
     },
     "execution_count": 57,
     "metadata": {},
     "output_type": "execute_result"
    }
   ],
   "source": [
    "model_with_functions.invoke(\"hi!\")"
   ]
  },
  {
   "cell_type": "markdown",
   "id": "6ad1b4c5-5fb2-4148-a266-98cd7e57f71c",
   "metadata": {},
   "source": [
    "## Conclusion: Advancing with OpenAI and Langchain\n",
    "\n",
    "We've ventured through the process of using PyDantic for structuring OpenAI functions and integrating these with Langchain's expression language. The power of PyDantic to enforce data integrity and facilitate JSON schema creation is evident, as is the flexibility of Langchain in handling dynamic function calls. \n",
    "\n",
    "## Acknowledgements\n",
    "\n",
    "I'd like to express my thanks to the wonderful [Functions, Tools and Agents with LangChain](https://www.deeplearning.ai/short-courses/functions-tools-agents-langchain/) by DeepLearning.ai - which i completed, and acknowledge the use of some images and other materials from the course in this article."
   ]
  }
 ],
 "metadata": {
  "kernelspec": {
   "display_name": "Python 3 (ipykernel)",
   "language": "python",
   "name": "python3"
  },
  "language_info": {
   "codemirror_mode": {
    "name": "ipython",
    "version": 3
   },
   "file_extension": ".py",
   "mimetype": "text/x-python",
   "name": "python",
   "nbconvert_exporter": "python",
   "pygments_lexer": "ipython3",
   "version": "3.9.13"
  }
 },
 "nbformat": 4,
 "nbformat_minor": 5
}
