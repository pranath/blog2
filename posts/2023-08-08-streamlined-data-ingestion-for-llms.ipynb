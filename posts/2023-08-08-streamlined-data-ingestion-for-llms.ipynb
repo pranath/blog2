{
 "cells": [
  {
   "cell_type": "raw",
   "id": "2c1214f4-6a84-466a-940e-8c19659b1ba1",
   "metadata": {},
   "source": [
    "---\n",
    "date: '2023-08-08'\n",
    "categories:\n",
    " - natural-language-processing\n",
    " - deep-learning\n",
    " - langchain\n",
    " - activeloop\n",
    " - openai\n",
    " - retrievers\n",
    "title: Streamlined Data Ingestion for LLMs\n",
    "description: The LangChain library provides a number of assistance classes that are intended to make it easier to load and extract data from various sources which we will cover in this post\n",
    "image: https://github.com/pranath/blog/raw/master/images/langchain-deeplake4.png\n",
    "---"
   ]
  },
  {
   "cell_type": "markdown",
   "id": "d71f5589-e47a-4cf1-905c-2d9d0875c8f0",
   "metadata": {},
   "source": [
    "## Introduction\n",
    "\n",
    "The LangChain library provides a number of assistance classes that are intended to make it easier to load and extract data from various sources. These classes simplify managing various data formats, regardless of whether the information came from a PDF file or online content.\n",
    "\n",
    "The PyPDFLoader handles PDF files and offers quick access to content and metadata, whereas the TextLoader handles plain text files. SeleniumURLLoader is made to load HTML files from URLs that need to render JavaScript. Last but not least, the Google Drive Loader offers smooth Google Drive connectivity, enabling the import of data from Google Docs or folders.\n",
    "\n",
    "## Import Libs & Setup"
   ]
  },
  {
   "cell_type": "code",
   "execution_count": 1,
   "id": "96a5bb13-e7a7-467d-bab3-019804f53fa4",
   "metadata": {},
   "outputs": [
    {
     "name": "stdout",
     "output_type": "stream",
     "text": [
      "Requirement already satisfied: langchain==0.0.208 in /Users/pranathfernando/opt/anaconda3/lib/python3.9/site-packages (0.0.208)\n",
      "Requirement already satisfied: deeplake in /Users/pranathfernando/opt/anaconda3/lib/python3.9/site-packages (3.6.17)\n",
      "Requirement already satisfied: openai in /Users/pranathfernando/opt/anaconda3/lib/python3.9/site-packages (0.27.7)\n",
      "Requirement already satisfied: tiktoken in /Users/pranathfernando/opt/anaconda3/lib/python3.9/site-packages (0.4.0)\n",
      "Requirement already satisfied: pypdf in /Users/pranathfernando/opt/anaconda3/lib/python3.9/site-packages (3.9.1)\n",
      "Requirement already satisfied: unstructured in /Users/pranathfernando/opt/anaconda3/lib/python3.9/site-packages (0.7.1)\n",
      "Requirement already satisfied: selenium in /Users/pranathfernando/opt/anaconda3/lib/python3.9/site-packages (4.11.2)\n",
      "Requirement already satisfied: langchainplus-sdk>=0.0.13 in /Users/pranathfernando/opt/anaconda3/lib/python3.9/site-packages (from langchain==0.0.208) (0.0.20)\n",
      "Requirement already satisfied: tenacity<9.0.0,>=8.1.0 in /Users/pranathfernando/opt/anaconda3/lib/python3.9/site-packages (from langchain==0.0.208) (8.2.2)\n",
      "Requirement already satisfied: PyYAML>=5.4.1 in /Users/pranathfernando/opt/anaconda3/lib/python3.9/site-packages (from langchain==0.0.208) (6.0)\n",
      "Requirement already satisfied: requests<3,>=2 in /Users/pranathfernando/opt/anaconda3/lib/python3.9/site-packages (from langchain==0.0.208) (2.28.1)\n",
      "Requirement already satisfied: aiohttp<4.0.0,>=3.8.3 in /Users/pranathfernando/opt/anaconda3/lib/python3.9/site-packages (from langchain==0.0.208) (3.8.4)\n",
      "Requirement already satisfied: numpy<2,>=1 in /Users/pranathfernando/opt/anaconda3/lib/python3.9/site-packages (from langchain==0.0.208) (1.23.5)\n",
      "Requirement already satisfied: pydantic<2,>=1 in /Users/pranathfernando/opt/anaconda3/lib/python3.9/site-packages (from langchain==0.0.208) (1.10.8)\n",
      "Requirement already satisfied: numexpr<3.0.0,>=2.8.4 in /Users/pranathfernando/opt/anaconda3/lib/python3.9/site-packages (from langchain==0.0.208) (2.8.4)\n",
      "Requirement already satisfied: SQLAlchemy<3,>=1.4 in /Users/pranathfernando/opt/anaconda3/lib/python3.9/site-packages (from langchain==0.0.208) (1.4.39)\n",
      "Requirement already satisfied: openapi-schema-pydantic<2.0,>=1.2 in /Users/pranathfernando/opt/anaconda3/lib/python3.9/site-packages (from langchain==0.0.208) (1.2.4)\n",
      "Requirement already satisfied: dataclasses-json<0.6.0,>=0.5.7 in /Users/pranathfernando/opt/anaconda3/lib/python3.9/site-packages (from langchain==0.0.208) (0.5.7)\n",
      "Requirement already satisfied: async-timeout<5.0.0,>=4.0.0 in /Users/pranathfernando/opt/anaconda3/lib/python3.9/site-packages (from langchain==0.0.208) (4.0.2)\n",
      "Requirement already satisfied: boto3 in /Users/pranathfernando/opt/anaconda3/lib/python3.9/site-packages (from deeplake) (1.26.76)\n",
      "Requirement already satisfied: pyjwt in /Users/pranathfernando/opt/anaconda3/lib/python3.9/site-packages (from deeplake) (2.4.0)\n",
      "Requirement already satisfied: numcodecs in /Users/pranathfernando/opt/anaconda3/lib/python3.9/site-packages (from deeplake) (0.11.0)\n",
      "Requirement already satisfied: click in /Users/pranathfernando/opt/anaconda3/lib/python3.9/site-packages (from deeplake) (8.0.4)\n",
      "Requirement already satisfied: tqdm in /Users/pranathfernando/opt/anaconda3/lib/python3.9/site-packages (from deeplake) (4.65.0)\n",
      "Requirement already satisfied: nest-asyncio in /Users/pranathfernando/opt/anaconda3/lib/python3.9/site-packages (from deeplake) (1.5.5)\n",
      "Requirement already satisfied: humbug>=0.3.1 in /Users/pranathfernando/opt/anaconda3/lib/python3.9/site-packages (from deeplake) (0.3.2)\n",
      "Requirement already satisfied: pillow in /Users/pranathfernando/opt/anaconda3/lib/python3.9/site-packages (from deeplake) (9.2.0)\n",
      "Requirement already satisfied: aioboto3>=10.4.0 in /Users/pranathfernando/opt/anaconda3/lib/python3.9/site-packages (from deeplake) (11.2.0)\n",
      "Requirement already satisfied: pathos in /Users/pranathfernando/opt/anaconda3/lib/python3.9/site-packages (from deeplake) (0.3.1)\n",
      "Requirement already satisfied: regex>=2022.1.18 in /Users/pranathfernando/opt/anaconda3/lib/python3.9/site-packages (from tiktoken) (2022.7.9)\n",
      "Requirement already satisfied: typing_extensions>=3.10.0.0 in /Users/pranathfernando/opt/anaconda3/lib/python3.9/site-packages (from pypdf) (4.6.3)\n",
      "Requirement already satisfied: chardet in /Users/pranathfernando/opt/anaconda3/lib/python3.9/site-packages (from unstructured) (4.0.0)\n",
      "Requirement already satisfied: pandas in /Users/pranathfernando/opt/anaconda3/lib/python3.9/site-packages (from unstructured) (1.4.4)\n",
      "Requirement already satisfied: python-magic in /Users/pranathfernando/opt/anaconda3/lib/python3.9/site-packages (from unstructured) (0.4.27)\n",
      "Requirement already satisfied: python-pptx in /Users/pranathfernando/opt/anaconda3/lib/python3.9/site-packages (from unstructured) (0.6.21)\n",
      "Requirement already satisfied: lxml in /Users/pranathfernando/opt/anaconda3/lib/python3.9/site-packages (from unstructured) (4.9.1)\n",
      "Requirement already satisfied: msg-parser in /Users/pranathfernando/opt/anaconda3/lib/python3.9/site-packages (from unstructured) (1.2.0)\n",
      "Requirement already satisfied: pdfminer.six in /Users/pranathfernando/opt/anaconda3/lib/python3.9/site-packages (from unstructured) (20221105)\n",
      "Requirement already satisfied: nltk in /Users/pranathfernando/opt/anaconda3/lib/python3.9/site-packages (from unstructured) (3.7)\n",
      "Requirement already satisfied: openpyxl in /Users/pranathfernando/opt/anaconda3/lib/python3.9/site-packages (from unstructured) (3.0.10)\n",
      "Requirement already satisfied: markdown in /Users/pranathfernando/opt/anaconda3/lib/python3.9/site-packages (from unstructured) (3.3.4)\n",
      "Requirement already satisfied: python-docx in /Users/pranathfernando/opt/anaconda3/lib/python3.9/site-packages (from unstructured) (0.8.11)\n",
      "Requirement already satisfied: xlrd in /Users/pranathfernando/opt/anaconda3/lib/python3.9/site-packages (from unstructured) (2.0.1)\n",
      "Requirement already satisfied: pypandoc in /Users/pranathfernando/opt/anaconda3/lib/python3.9/site-packages (from unstructured) (1.11)\n",
      "Requirement already satisfied: argilla in /Users/pranathfernando/opt/anaconda3/lib/python3.9/site-packages (from unstructured) (1.8.0)\n",
      "Requirement already satisfied: trio~=0.17 in /Users/pranathfernando/opt/anaconda3/lib/python3.9/site-packages (from selenium) (0.22.2)\n",
      "Requirement already satisfied: trio-websocket~=0.9 in /Users/pranathfernando/opt/anaconda3/lib/python3.9/site-packages (from selenium) (0.10.3)\n",
      "Requirement already satisfied: certifi>=2021.10.8 in /Users/pranathfernando/opt/anaconda3/lib/python3.9/site-packages (from selenium) (2023.5.7)\n",
      "Requirement already satisfied: urllib3[socks]<3,>=1.26 in /Users/pranathfernando/opt/anaconda3/lib/python3.9/site-packages (from selenium) (1.26.11)\n",
      "Requirement already satisfied: aiobotocore[boto3]==2.5.0 in /Users/pranathfernando/opt/anaconda3/lib/python3.9/site-packages (from aioboto3>=10.4.0->deeplake) (2.5.0)\n",
      "Requirement already satisfied: botocore<1.29.77,>=1.29.76 in /Users/pranathfernando/opt/anaconda3/lib/python3.9/site-packages (from aiobotocore[boto3]==2.5.0->aioboto3>=10.4.0->deeplake) (1.29.76)\n",
      "Requirement already satisfied: aioitertools>=0.5.1 in /Users/pranathfernando/opt/anaconda3/lib/python3.9/site-packages (from aiobotocore[boto3]==2.5.0->aioboto3>=10.4.0->deeplake) (0.11.0)\n",
      "Requirement already satisfied: wrapt>=1.10.10 in /Users/pranathfernando/opt/anaconda3/lib/python3.9/site-packages (from aiobotocore[boto3]==2.5.0->aioboto3>=10.4.0->deeplake) (1.14.1)\n",
      "Requirement already satisfied: yarl<2.0,>=1.0 in /Users/pranathfernando/opt/anaconda3/lib/python3.9/site-packages (from aiohttp<4.0.0,>=3.8.3->langchain==0.0.208) (1.9.2)\n",
      "Requirement already satisfied: aiosignal>=1.1.2 in /Users/pranathfernando/opt/anaconda3/lib/python3.9/site-packages (from aiohttp<4.0.0,>=3.8.3->langchain==0.0.208) (1.3.1)\n",
      "Requirement already satisfied: charset-normalizer<4.0,>=2.0 in /Users/pranathfernando/opt/anaconda3/lib/python3.9/site-packages (from aiohttp<4.0.0,>=3.8.3->langchain==0.0.208) (2.0.4)\n",
      "Requirement already satisfied: frozenlist>=1.1.1 in /Users/pranathfernando/opt/anaconda3/lib/python3.9/site-packages (from aiohttp<4.0.0,>=3.8.3->langchain==0.0.208) (1.3.3)\n",
      "Requirement already satisfied: attrs>=17.3.0 in /Users/pranathfernando/opt/anaconda3/lib/python3.9/site-packages (from aiohttp<4.0.0,>=3.8.3->langchain==0.0.208) (21.4.0)\n",
      "Requirement already satisfied: multidict<7.0,>=4.5 in /Users/pranathfernando/opt/anaconda3/lib/python3.9/site-packages (from aiohttp<4.0.0,>=3.8.3->langchain==0.0.208) (6.0.4)\n",
      "Requirement already satisfied: s3transfer<0.7.0,>=0.6.0 in /Users/pranathfernando/opt/anaconda3/lib/python3.9/site-packages (from boto3->deeplake) (0.6.0)\n",
      "Requirement already satisfied: jmespath<2.0.0,>=0.7.1 in /Users/pranathfernando/opt/anaconda3/lib/python3.9/site-packages (from boto3->deeplake) (0.10.0)\n",
      "Requirement already satisfied: marshmallow-enum<2.0.0,>=1.5.1 in /Users/pranathfernando/opt/anaconda3/lib/python3.9/site-packages (from dataclasses-json<0.6.0,>=0.5.7->langchain==0.0.208) (1.5.1)\n",
      "Requirement already satisfied: typing-inspect>=0.4.0 in /Users/pranathfernando/opt/anaconda3/lib/python3.9/site-packages (from dataclasses-json<0.6.0,>=0.5.7->langchain==0.0.208) (0.9.0)\n",
      "Requirement already satisfied: marshmallow<4.0.0,>=3.3.0 in /Users/pranathfernando/opt/anaconda3/lib/python3.9/site-packages (from dataclasses-json<0.6.0,>=0.5.7->langchain==0.0.208) (3.19.0)\n",
      "Requirement already satisfied: idna<4,>=2.5 in /Users/pranathfernando/opt/anaconda3/lib/python3.9/site-packages (from requests<3,>=2->langchain==0.0.208) (3.3)\n",
      "Requirement already satisfied: greenlet!=0.4.17 in /Users/pranathfernando/opt/anaconda3/lib/python3.9/site-packages (from SQLAlchemy<3,>=1.4->langchain==0.0.208) (1.1.1)\n",
      "Requirement already satisfied: outcome in /Users/pranathfernando/opt/anaconda3/lib/python3.9/site-packages (from trio~=0.17->selenium) (1.2.0)\n",
      "Requirement already satisfied: exceptiongroup>=1.0.0rc9 in /Users/pranathfernando/opt/anaconda3/lib/python3.9/site-packages (from trio~=0.17->selenium) (1.1.2)\n",
      "Requirement already satisfied: sniffio in /Users/pranathfernando/opt/anaconda3/lib/python3.9/site-packages (from trio~=0.17->selenium) (1.2.0)\n",
      "Requirement already satisfied: sortedcontainers in /Users/pranathfernando/opt/anaconda3/lib/python3.9/site-packages (from trio~=0.17->selenium) (2.4.0)\n",
      "Requirement already satisfied: wsproto>=0.14 in /Users/pranathfernando/opt/anaconda3/lib/python3.9/site-packages (from trio-websocket~=0.9->selenium) (1.2.0)\n",
      "Requirement already satisfied: PySocks!=1.5.7,<2.0,>=1.5.6 in /Users/pranathfernando/opt/anaconda3/lib/python3.9/site-packages (from urllib3[socks]<3,>=1.26->selenium) (1.7.1)\n",
      "Requirement already satisfied: httpx<0.24,>=0.15 in /Users/pranathfernando/opt/anaconda3/lib/python3.9/site-packages (from argilla->unstructured) (0.23.3)\n",
      "Requirement already satisfied: typer<1.0.0,>=0.6.0 in /Users/pranathfernando/opt/anaconda3/lib/python3.9/site-packages (from argilla->unstructured) (0.9.0)\n",
      "Requirement already satisfied: packaging>=20.0 in /Users/pranathfernando/opt/anaconda3/lib/python3.9/site-packages (from argilla->unstructured) (21.3)\n",
      "Requirement already satisfied: backoff in /Users/pranathfernando/opt/anaconda3/lib/python3.9/site-packages (from argilla->unstructured) (2.2.1)\n",
      "Requirement already satisfied: monotonic in /Users/pranathfernando/opt/anaconda3/lib/python3.9/site-packages (from argilla->unstructured) (1.6)\n",
      "Requirement already satisfied: deprecated~=1.2.0 in /Users/pranathfernando/opt/anaconda3/lib/python3.9/site-packages (from argilla->unstructured) (1.2.14)\n",
      "Requirement already satisfied: rich<=13.0.1 in /Users/pranathfernando/opt/anaconda3/lib/python3.9/site-packages (from argilla->unstructured) (13.0.1)\n",
      "Requirement already satisfied: python-dateutil>=2.8.1 in /Users/pranathfernando/opt/anaconda3/lib/python3.9/site-packages (from pandas->unstructured) (2.8.2)\n",
      "Requirement already satisfied: pytz>=2020.1 in /Users/pranathfernando/opt/anaconda3/lib/python3.9/site-packages (from pandas->unstructured) (2022.1)\n",
      "Requirement already satisfied: olefile>=0.46 in /Users/pranathfernando/opt/anaconda3/lib/python3.9/site-packages (from msg-parser->unstructured) (0.46)\n",
      "Requirement already satisfied: joblib in /Users/pranathfernando/opt/anaconda3/lib/python3.9/site-packages (from nltk->unstructured) (1.1.0)\n",
      "Requirement already satisfied: entrypoints in /Users/pranathfernando/opt/anaconda3/lib/python3.9/site-packages (from numcodecs->deeplake) (0.4)\n",
      "Requirement already satisfied: et_xmlfile in /Users/pranathfernando/opt/anaconda3/lib/python3.9/site-packages (from openpyxl->unstructured) (1.1.0)\n",
      "Requirement already satisfied: pox>=0.3.3 in /Users/pranathfernando/opt/anaconda3/lib/python3.9/site-packages (from pathos->deeplake) (0.3.3)\n",
      "Requirement already satisfied: dill>=0.3.7 in /Users/pranathfernando/opt/anaconda3/lib/python3.9/site-packages (from pathos->deeplake) (0.3.7)\n",
      "Requirement already satisfied: ppft>=1.7.6.7 in /Users/pranathfernando/opt/anaconda3/lib/python3.9/site-packages (from pathos->deeplake) (1.7.6.7)\n",
      "Requirement already satisfied: multiprocess>=0.70.15 in /Users/pranathfernando/opt/anaconda3/lib/python3.9/site-packages (from pathos->deeplake) (0.70.15)\n",
      "Requirement already satisfied: cryptography>=36.0.0 in /Users/pranathfernando/opt/anaconda3/lib/python3.9/site-packages (from pdfminer.six->unstructured) (37.0.1)\n",
      "Requirement already satisfied: XlsxWriter>=0.5.7 in /Users/pranathfernando/opt/anaconda3/lib/python3.9/site-packages (from python-pptx->unstructured) (3.0.3)\n",
      "Requirement already satisfied: cffi>=1.12 in /Users/pranathfernando/opt/anaconda3/lib/python3.9/site-packages (from cryptography>=36.0.0->pdfminer.six->unstructured) (1.15.1)\n",
      "Requirement already satisfied: httpcore<0.17.0,>=0.15.0 in /Users/pranathfernando/opt/anaconda3/lib/python3.9/site-packages (from httpx<0.24,>=0.15->argilla->unstructured) (0.16.3)\n",
      "Requirement already satisfied: rfc3986[idna2008]<2,>=1.3 in /Users/pranathfernando/opt/anaconda3/lib/python3.9/site-packages (from httpx<0.24,>=0.15->argilla->unstructured) (1.5.0)\n",
      "Requirement already satisfied: pyparsing!=3.0.5,>=2.0.2 in /Users/pranathfernando/opt/anaconda3/lib/python3.9/site-packages (from packaging>=20.0->argilla->unstructured) (3.0.9)\n",
      "Requirement already satisfied: six>=1.5 in /Users/pranathfernando/opt/anaconda3/lib/python3.9/site-packages (from python-dateutil>=2.8.1->pandas->unstructured) (1.16.0)\n",
      "Requirement already satisfied: pygments<3.0.0,>=2.6.0 in /Users/pranathfernando/opt/anaconda3/lib/python3.9/site-packages (from rich<=13.0.1->argilla->unstructured) (2.15.1)\n",
      "Requirement already satisfied: commonmark<0.10.0,>=0.9.0 in /Users/pranathfernando/opt/anaconda3/lib/python3.9/site-packages (from rich<=13.0.1->argilla->unstructured) (0.9.1)\n",
      "Requirement already satisfied: mypy-extensions>=0.3.0 in /Users/pranathfernando/opt/anaconda3/lib/python3.9/site-packages (from typing-inspect>=0.4.0->dataclasses-json<0.6.0,>=0.5.7->langchain==0.0.208) (0.4.3)\n",
      "Requirement already satisfied: h11<1,>=0.9.0 in /Users/pranathfernando/opt/anaconda3/lib/python3.9/site-packages (from wsproto>=0.14->trio-websocket~=0.9->selenium) (0.14.0)\n",
      "Requirement already satisfied: pycparser in /Users/pranathfernando/opt/anaconda3/lib/python3.9/site-packages (from cffi>=1.12->cryptography>=36.0.0->pdfminer.six->unstructured) (2.21)\n",
      "Requirement already satisfied: anyio<5.0,>=3.0 in /Users/pranathfernando/opt/anaconda3/lib/python3.9/site-packages (from httpcore<0.17.0,>=0.15.0->httpx<0.24,>=0.15->argilla->unstructured) (3.5.0)\n"
     ]
    }
   ],
   "source": [
    "#| include: false\n",
    "!pip install langchain==0.0.208 deeplake openai tiktoken pypdf unstructured selenium"
   ]
  },
  {
   "cell_type": "code",
   "execution_count": 1,
   "id": "b9ed2bcc-f32b-4287-bbe3-093ac8e46cbf",
   "metadata": {},
   "outputs": [],
   "source": [
    "from langchain.document_loaders import TextLoader\n",
    "import os\n",
    "import openai\n",
    "import sys\n",
    "sys.path.append('../..')\n",
    "from dotenv import load_dotenv, find_dotenv\n",
    "_ = load_dotenv(find_dotenv()) # read local .env file\n",
    "\n",
    "openai.api_key  = os.environ['OPENAI_API_KEY']"
   ]
  },
  {
   "cell_type": "markdown",
   "id": "df4dc3e5-1762-404f-9e21-4f4e28ca48b2",
   "metadata": {},
   "source": [
    "## TextLoader\n",
    "\n",
    "From langchain.document_loaders, import the LangChain and any required loaders. Keep in mind to use the following command to install the necessary packages: pip Install deeplake openai langchain==0.0.208 tiktoken.\n",
    "\n",
    "You can use the encoding argument to change the encoding type. (For example:  encoding=\"ISO-8859-1\")"
   ]
  },
  {
   "cell_type": "code",
   "execution_count": 3,
   "id": "5330c7a0-1484-4372-a5dd-a568b87bc035",
   "metadata": {},
   "outputs": [],
   "source": [
    "loader = TextLoader('docs/my_file.txt')\n",
    "documents = loader.load()"
   ]
  },
  {
   "cell_type": "markdown",
   "id": "d4b5a939-81fe-41ab-81c4-2303b29f525b",
   "metadata": {},
   "source": [
    "## PyPDFLoader (PDF)\n",
    "\n",
    "PyPDFLoader and PDFMinerLoader are two methods offered by the LangChain library for loading and processing PDF files. The former, which is used to load PDF files into an array of documents, is what we mostly concentrate on. Each document in the array comprises the page content and metadata with the page number. Install the package first using PIP, the Python Package Manager.\n",
    "\n",
    "Here is some code that uses PyPDFLoader to load and split a PDF file:"
   ]
  },
  {
   "cell_type": "code",
   "execution_count": 4,
   "id": "a203f5d8-88a3-4378-9c27-83e264a72d6b",
   "metadata": {},
   "outputs": [
    {
     "name": "stdout",
     "output_type": "stream",
     "text": [
      "page_content='MachineLearning-Lecture01  \\nInstructor (Andrew Ng):  Okay. Good morning. Welcome to CS229, the machine \\nlearning class. So what I wanna do today is ju st spend a little time going over the logistics \\nof the class, and then we\\'ll start to  talk a bit about machine learning.  \\nBy way of introduction, my name\\'s  Andrew Ng and I\\'ll be instru ctor for this class. And so \\nI personally work in machine learning, and I\\' ve worked on it for about 15 years now, and \\nI actually think that machine learning is th e most exciting field of all the computer \\nsciences. So I\\'m actually always excited about  teaching this class. Sometimes I actually \\nthink that machine learning is not only the most exciting thin g in computer science, but \\nthe most exciting thing in all of human e ndeavor, so maybe a little bias there.  \\nI also want to introduce the TAs, who are all graduate students doing research in or \\nrelated to the machine learni ng and all aspects of machin e learning. Paul Baumstarck \\nworks in machine learning and computer vision.  Catie Chang is actually a neuroscientist \\nwho applies machine learning algorithms to try to understand the human brain. Tom Do \\nis another PhD student, works in computa tional biology and in sort of the basic \\nfundamentals of human learning. Zico Kolter is  the head TA — he\\'s head TA two years \\nin a row now — works in machine learning a nd applies them to a bunch of robots. And \\nDaniel Ramage is — I guess he\\'s not here  — Daniel applies l earning algorithms to \\nproblems in natural language processing.  \\nSo you\\'ll get to know the TAs and me much be tter throughout this quarter, but just from \\nthe sorts of things the TA\\'s do, I hope you can  already tell that machine learning is a \\nhighly interdisciplinary topic in which just the TAs find l earning algorithms to problems \\nin computer vision and biology and robots a nd language. And machine learning is one of \\nthose things that has and is having a large impact on many applications.  \\nSo just in my own daily work, I actually frequently end up talking to people like \\nhelicopter pilots to biologists to people in  computer systems or databases to economists \\nand sort of also an unending stream of  people from industry coming to Stanford \\ninterested in applying machine learni ng methods to their own problems.  \\nSo yeah, this is fun. A couple of weeks ago, a student actually forwar ded to me an article \\nin \"Computer World\" about the 12 IT skills th at employers can\\'t say no to. So it\\'s about \\nsort of the 12 most desirabl e skills in all of IT and all of information technology, and \\ntopping the list was actually machine lear ning. So I think this is a good time to be \\nlearning this stuff and learning algorithms and having a large impact on many segments \\nof science and industry.  \\nI\\'m actually curious about something. Learni ng algorithms is one of the things that \\ntouches many areas of science and industrie s, and I\\'m just kind of curious. How many \\npeople here are computer science majors, are in the computer science department? Okay. \\nAbout half of you. How many people are from  EE? Oh, okay, maybe about a fifth. How' metadata={'source': 'docs/MachineLearning-Lecture01.pdf', 'page': 0}\n"
     ]
    }
   ],
   "source": [
    "from langchain.document_loaders import PyPDFLoader\n",
    "loader = PyPDFLoader(\"docs/MachineLearning-Lecture01.pdf\")\n",
    "pages = loader.load_and_split()\n",
    "\n",
    "print(pages[0])"
   ]
  },
  {
   "cell_type": "markdown",
   "id": "721beabf-cf95-40b6-846a-4bc9a7f37b58",
   "metadata": {},
   "source": [
    "Benefits of using PyPDFLoader include easy access to page content and structured metadata, such as page numbers, as well as simple, clear usage. However, it has drawbacks, such as less effective text extraction than PDFMinerLoader.\n",
    "\n",
    "## SeleniumURLLoader (URL)\n",
    "\n",
    "A powerful yet simple method for loading HTML documents from a list of URLs that need JavaScript rendering is provided by the SeleniumURLLoader module. The Python Package Manager (PIP) is used to install the package in the following tutorial and example of how to use this class. The codes have been tested with 0.7.7 and 4.10.0 of the Selenium libraries, respectively. However, you're welcome to set up the most recent versions.\n",
    "\n",
    "Instantiate the SeleniumURLLoader class by providing a list of URLs to load, for example:"
   ]
  },
  {
   "cell_type": "code",
   "execution_count": 5,
   "id": "2b7c30d7-b1b3-4353-93c3-7977763ed553",
   "metadata": {},
   "outputs": [
    {
     "name": "stdout",
     "output_type": "stream",
     "text": [
      "page_content=\"Make this year more efficient with monday.com\\n\\nInfo\\n\\nShopping\\n\\nWatch Later\\n\\nShare\\n\\nCopy link\\n\\nTap to unmute\\n\\nIf playback doesn't begin shortly, try restarting your device.\\n\\nYou're signed out\\n\\nVideos that you watch may be added to the TV's watch history and influence TV recommendations. To avoid this, cancel and sign in to YouTube on your computer.\\n\\nSwitch camera\\n\\nShare\\n\\nAn error occurred while retrieving sharing information. Please try again later.\\n\\n0:00\\n\\n0:00 / 0:47\\n\\nWatch full video\\n\\n•\\n\\nScroll for details\\n\\nAbout\\n\\nPress\\n\\nCopyright\\n\\nContact us\\n\\nCreator\\n\\nAdvertise\\n\\nDevelopers\\n\\nTerms\\n\\nPrivacy\\n\\nPolicy & Safety\\n\\nHow YouTube works\\n\\nTest new features\\n\\n© 2023 Google LLC\" metadata={'source': 'https://www.youtube.com/watch?v=TFa539R09EQ&t=139s'}\n"
     ]
    }
   ],
   "source": [
    "from langchain.document_loaders import SeleniumURLLoader\n",
    "\n",
    "urls = [\n",
    "    \"https://www.youtube.com/watch?v=TFa539R09EQ&t=139s\",\n",
    "    \"https://www.youtube.com/watch?v=6Zv6A_9urh4&t=112s\"\n",
    "]\n",
    "\n",
    "loader = SeleniumURLLoader(urls=urls)\n",
    "data = loader.load()\n",
    "\n",
    "print(data[0])"
   ]
  },
  {
   "cell_type": "markdown",
   "id": "1c2267cc-b180-44be-9a2d-5041324dd73c",
   "metadata": {},
   "source": [
    "The SeleniumURLLoader class includes the following attributes:\n",
    "\n",
    "- URLs (List): List of URLs to load.\n",
    "- continue_on_failure (bool, default=True): Continues loading other URLs on failure if True.\n",
    "- browser (str, default=\"chrome\"): Browser selection, either 'Chrome' or 'Firefox'.\n",
    "- executable_path (Optional, default=None): Browser executable path.\n",
    "- headless (bool, default=True): Browser runs in headless mode if True.\n",
    "\n",
    "Customize these attributes during SeleniumURLLoader instance initialization, such as using Firefox instead of Chrome by setting the browser to \"firefox\":"
   ]
  },
  {
   "cell_type": "code",
   "execution_count": 6,
   "id": "fdb583d7-65c8-4ccc-b169-6fe7ebef855e",
   "metadata": {},
   "outputs": [],
   "source": [
    "loader = SeleniumURLLoader(urls=urls, browser=\"firefox\")"
   ]
  },
  {
   "cell_type": "markdown",
   "id": "b8e65a53-8c7d-4a53-951a-9835ca338b4e",
   "metadata": {},
   "source": [
    "Upon invoking the load() method, a list of Document instances containing the loaded content is returned. Each Document instance includes a page_content attribute with the extracted text from the HTML and a metadata attribute containing the source URL.\n",
    "\n",
    "Bear in mind that SeleniumURLLoader may be slower than other loaders since it initializes a browser instance for each URL. Nevertheless, it is advantageous for loading pages necessitating JavaScript rendering.\n",
    "\n",
    "## Conclusion\n",
    "\n",
    "In conclusion, the combination of numerous potent loaders, such as TextLoader, PyPDFLoader, and SeleniumURLLoader, has greatly improved the process of efficient data input. Each of these tools is designed to work with particular file types and data sources, resulting in effective and thorough data management.\n",
    "\n",
    "## Acknowledgements\n",
    "\n",
    "I'd like to express my thanks to the wonderful [LangChain & Vector Databases in Production Course](https://learn.activeloop.ai/courses/langchain) by Activeloop - which i completed, and acknowledge the use of some images and other materials from the course in this article."
   ]
  },
  {
   "cell_type": "code",
   "execution_count": null,
   "id": "358cd2e8-3e72-48a8-a63b-dad6cf8d6675",
   "metadata": {},
   "outputs": [],
   "source": []
  }
 ],
 "metadata": {
  "kernelspec": {
   "display_name": "Python 3 (ipykernel)",
   "language": "python",
   "name": "python3"
  },
  "language_info": {
   "codemirror_mode": {
    "name": "ipython",
    "version": 3
   },
   "file_extension": ".py",
   "mimetype": "text/x-python",
   "name": "python",
   "nbconvert_exporter": "python",
   "pygments_lexer": "ipython3",
   "version": "3.9.13"
  }
 },
 "nbformat": 4,
 "nbformat_minor": 5
}
