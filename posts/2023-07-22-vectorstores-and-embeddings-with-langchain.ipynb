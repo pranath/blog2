{
 "cells": [
  {
   "cell_type": "raw",
   "id": "a37956a0-58a6-43da-8fd0-cf542f27b437",
   "metadata": {},
   "source": [
    "---\n",
    "date: '2023-07-22'\n",
    "categories:\n",
    " - natural-language-processing\n",
    " - deep-learning\n",
    " - langchain\n",
    "title: Vectorstores and Embeddings with LangChain\n",
    "description: In this article we look at how to convert documents into vector stores an embeddings as an important step in making content available for Large Language Models.\n",
    "image: https://github.com/pranath/blog/raw/master/images/langchain2.jpg\n",
    "---"
   ]
  },
  {
   "cell_type": "markdown",
   "id": "0d647f70",
   "metadata": {},
   "source": [
    "## Introduction\n",
    "\n",
    "In this article we look at how to convert documents into vector stores an embeddings as an important step in making content available for Large Language Models.\n",
    "\n",
    "## Vectorstores and Embeddings\n",
    "\n",
    "If our document has been divided into manageable, semantically meaningful parts, we need to index these chunks so we can quickly retrieve them when we need to respond to inquiries about this corpus of information. We'll use vector storage and embeddings to accomplish it. Let's find out what they are. \n",
    "\n",
    "First off, these are crucial for creating chatbots using your data. Second, we'll delve a little deeper and discuss edge cases, when this general approach may really fall short. \n",
    "\n",
    "Recall the overall workflow for retrieval augmented generation (RAG):\n",
    "\n",
    "<img src=\"https://github.com/pranath/blog/raw/master/images/lc-data1.jpg\" width=\"800\"/>\n",
    "\n",
    "## Load Libs & Setup\n",
    "\n",
    "A few documents will be loaded at this point. After the documents have loaded, chunks can be made using the recursive character text splitter. It is evident that we have now produced more than 200 distinct chunks. These embeddings will be produced using OpenAI."
   ]
  },
  {
   "cell_type": "code",
   "execution_count": 1,
   "id": "7f8d2266-4a35-4904-ae9d-c89790c5ae61",
   "metadata": {
    "tags": []
   },
   "outputs": [],
   "source": [
    "import os\n",
    "import openai\n",
    "import sys\n",
    "sys.path.append('../..')\n",
    "\n",
    "from dotenv import load_dotenv, find_dotenv\n",
    "_ = load_dotenv(find_dotenv()) # read local .env file\n",
    "\n",
    "openai.api_key  = os.environ['OPENAI_API_KEY']"
   ]
  },
  {
   "cell_type": "markdown",
   "id": "460a54b0",
   "metadata": {},
   "source": [
    "We discussed `Document Loading` and `Splitting` in a previous article."
   ]
  },
  {
   "cell_type": "code",
   "execution_count": 2,
   "id": "2437469e",
   "metadata": {
    "tags": []
   },
   "outputs": [],
   "source": [
    "from langchain.document_loaders import PyPDFLoader\n",
    "\n",
    "# Load PDF\n",
    "loaders = [\n",
    "    # Duplicate documents on purpose - messy data\n",
    "    PyPDFLoader(\"docs/MachineLearning-Lecture01.pdf\"),\n",
    "    PyPDFLoader(\"docs/MachineLearning-Lecture01.pdf\"),\n",
    "    PyPDFLoader(\"docs/MachineLearning-Lecture02.pdf\"),\n",
    "    PyPDFLoader(\"docs/MachineLearning-Lecture03.pdf\")\n",
    "]\n",
    "docs = []\n",
    "for loader in loaders:\n",
    "    docs.extend(loader.load())"
   ]
  },
  {
   "cell_type": "code",
   "execution_count": 3,
   "id": "eb44bf0d",
   "metadata": {
    "tags": []
   },
   "outputs": [],
   "source": [
    "# Split\n",
    "from langchain.text_splitter import RecursiveCharacterTextSplitter\n",
    "text_splitter = RecursiveCharacterTextSplitter(\n",
    "    chunk_size = 1500,\n",
    "    chunk_overlap = 150\n",
    ")"
   ]
  },
  {
   "cell_type": "code",
   "execution_count": 4,
   "id": "b71e46cc",
   "metadata": {
    "tags": []
   },
   "outputs": [],
   "source": [
    "splits = text_splitter.split_documents(docs)"
   ]
  },
  {
   "cell_type": "code",
   "execution_count": 5,
   "id": "e061f22d",
   "metadata": {
    "tags": []
   },
   "outputs": [
    {
     "data": {
      "text/plain": [
       "209"
      ]
     },
     "execution_count": 5,
     "metadata": {},
     "output_type": "execute_result"
    }
   ],
   "source": [
    "len(splits)"
   ]
  },
  {
   "cell_type": "markdown",
   "id": "848e26fd",
   "metadata": {},
   "source": [
    "## Embeddings\n",
    "\n",
    "What exactly are embeddings? A numerical representation of a text is made using the text as the source. Similar vectors will exist in this numerical space for texts with similar content. By comparing those vectors, we may identify text passages that are comparable. Therefore, it is clear from the example below that two statements about pets are quite similar, but not as similar as a sentence about a pet and a sentence about the weather."
   ]
  },
  {
   "cell_type": "code",
   "execution_count": 6,
   "id": "d9dca7a8",
   "metadata": {
    "tags": []
   },
   "outputs": [],
   "source": [
    "from langchain.embeddings.openai import OpenAIEmbeddings\n",
    "embedding = OpenAIEmbeddings()"
   ]
  },
  {
   "cell_type": "code",
   "execution_count": 7,
   "id": "c4099521",
   "metadata": {
    "tags": []
   },
   "outputs": [],
   "source": [
    "sentence1 = \"i like dogs\"\n",
    "sentence2 = \"i like canines\"\n",
    "sentence3 = \"the weather is ugly outside\""
   ]
  },
  {
   "cell_type": "code",
   "execution_count": 8,
   "id": "d553549a",
   "metadata": {
    "tags": []
   },
   "outputs": [],
   "source": [
    "embedding1 = embedding.embed_query(sentence1)\n",
    "embedding2 = embedding.embed_query(sentence2)\n",
    "embedding3 = embedding.embed_query(sentence3)"
   ]
  },
  {
   "cell_type": "code",
   "execution_count": 9,
   "id": "0cbe9a9e",
   "metadata": {
    "tags": []
   },
   "outputs": [],
   "source": [
    "import numpy as np"
   ]
  },
  {
   "cell_type": "code",
   "execution_count": 10,
   "id": "49fc0f8f",
   "metadata": {
    "tags": []
   },
   "outputs": [
    {
     "data": {
      "text/plain": [
       "0.9631853877103518"
      ]
     },
     "execution_count": 10,
     "metadata": {},
     "output_type": "execute_result"
    }
   ],
   "source": [
    "np.dot(embedding1, embedding2)"
   ]
  },
  {
   "cell_type": "code",
   "execution_count": 11,
   "id": "32a1fac7",
   "metadata": {
    "tags": []
   },
   "outputs": [
    {
     "data": {
      "text/plain": [
       "0.7709997651294672"
      ]
     },
     "execution_count": 11,
     "metadata": {},
     "output_type": "execute_result"
    }
   ],
   "source": [
    "np.dot(embedding1, embedding3)"
   ]
  },
  {
   "cell_type": "code",
   "execution_count": 12,
   "id": "9dd18328",
   "metadata": {
    "tags": []
   },
   "outputs": [
    {
     "data": {
      "text/plain": [
       "0.7596334120325523"
      ]
     },
     "execution_count": 12,
     "metadata": {},
     "output_type": "execute_result"
    }
   ],
   "source": [
    "np.dot(embedding2, embedding3)"
   ]
  },
  {
   "cell_type": "markdown",
   "id": "4fc7b24f",
   "metadata": {},
   "source": [
    "Recalling the entire end-to-end workflow, we begin with documents, divide them into smaller chunks, embed those chunks in other documents, and then store everything in a vector store. A database where you can quickly seek for related vectors later on is called a vector store. This will be helpful when we are looking for materials that are relevant to the current issue. Then, using an embedding of the current problem, we may compare it to every vector in the vector store and choose the one that is most comparable to the original problem.\n",
    "\n",
    "Then, after selecting the n pieces that are the most similar, we submit the query and those chunks to an LLM to receive an answer. Later, we’ll talk more about all of it. It’s time to focus on vector storage and embeddings themselves for the time being.\n",
    "\n",
    "Here, we can see that the first two embeddings have a relatively good score of 0.96. When we compare the first embedding to the third one, we can observe that it is substantially lower at 0.77. And if we compare the second to the third, we can see that the value is roughly the same at 0.76. \n",
    "\n",
    "## Vectorstores\n",
    "\n",
    "It's time to build embeddings for every PDF chunk of an example document and then keep them all together in a vector store. \n",
    " \n",
    "We'll utilise Chroma as our vector store for this. Let's import that, then. LangChain has integrations with a large number of vector stores—more than 30 in total. We select Chroma because it is portable and memory-based, making it simple to set up and operate. When trying to persist huge volumes of data or persist it in a cloud storage location, there are different vector stores that provide hosted solutions. \n",
    "\n",
    "So, let's make a variable named persist directory that we will utilise at docs slash Chroma later on. Additionally, let's check to see if anything is already present. It can throw things off if there is already material there, and we don't want that to happen. To check sure there is nothing there, let's RM dash RF documents dot Chroma. Now let's build the vector store. As a result, we call Chroma from documents passing in splits; these splits were originally built with embedding passed in. "
   ]
  },
  {
   "cell_type": "code",
   "execution_count": 13,
   "id": "da2213e6",
   "metadata": {
    "tags": []
   },
   "outputs": [],
   "source": [
    "# ! pip install chromadb"
   ]
  },
  {
   "cell_type": "code",
   "execution_count": 14,
   "id": "201e6afa",
   "metadata": {
    "tags": []
   },
   "outputs": [],
   "source": [
    "from langchain.vectorstores import Chroma"
   ]
  },
  {
   "cell_type": "code",
   "execution_count": 15,
   "id": "93960ac5",
   "metadata": {
    "tags": []
   },
   "outputs": [],
   "source": [
    "persist_directory = 'docs/chroma/'"
   ]
  },
  {
   "cell_type": "code",
   "execution_count": 16,
   "id": "a195e72a",
   "metadata": {
    "tags": []
   },
   "outputs": [],
   "source": [
    "!rm -rf ./docs/chroma  # remove old database files if any"
   ]
  },
  {
   "cell_type": "code",
   "execution_count": 17,
   "id": "690efd0a",
   "metadata": {
    "tags": []
   },
   "outputs": [],
   "source": [
    "vectordb = Chroma.from_documents(\n",
    "    documents=splits,\n",
    "    embedding=embedding,\n",
    "    persist_directory=persist_directory\n",
    ")"
   ]
  },
  {
   "cell_type": "code",
   "execution_count": 18,
   "id": "f777480c",
   "metadata": {
    "tags": []
   },
   "outputs": [
    {
     "name": "stdout",
     "output_type": "stream",
     "text": [
      "209\n"
     ]
    }
   ],
   "source": [
    "print(vectordb._collection.count())"
   ]
  },
  {
   "cell_type": "markdown",
   "id": "efca7589",
   "metadata": {},
   "source": [
    "And this is the open AI embedding model. We can store the directory to disc by supplying in the persist directory keyword argument, which is unique to Chroma. After performing this, we can see that the collection count is 209, which is exactly the same as the number of divides we had previously. \n",
    "\n",
    "## Semantic Similarity Search\n",
    "\n",
    "Let's come up with a query we can use to analyse this data. So let's check the email system to see if there is a contact number we can call if we need assistance with the course, the readings, or anything else of that nature. Using the similarity search strategy, we will be successful in answering the question and in K equals three as well. \n",
    "This details the quantity of documents we want to return. Therefore, if we use it and check the documents' lengths, we can see that they are three as specified."
   ]
  },
  {
   "cell_type": "code",
   "execution_count": 19,
   "id": "3e20837d",
   "metadata": {
    "tags": []
   },
   "outputs": [],
   "source": [
    "question = \"is there an email i can ask for help\""
   ]
  },
  {
   "cell_type": "code",
   "execution_count": 20,
   "id": "f9bde572",
   "metadata": {
    "tags": []
   },
   "outputs": [],
   "source": [
    "docs = vectordb.similarity_search(question,k=3)"
   ]
  },
  {
   "cell_type": "code",
   "execution_count": 21,
   "id": "41388af1",
   "metadata": {
    "tags": []
   },
   "outputs": [
    {
     "data": {
      "text/plain": [
       "3"
      ]
     },
     "execution_count": 21,
     "metadata": {},
     "output_type": "execute_result"
    }
   ],
   "source": [
    "len(docs)"
   ]
  },
  {
   "cell_type": "code",
   "execution_count": 22,
   "id": "183434f6",
   "metadata": {
    "tags": []
   },
   "outputs": [
    {
     "data": {
      "text/plain": [
       "\"cs229-qa@cs.stanford.edu. This goes to an acc ount that's read by all the TAs and me. So \\nrather than sending us email individually, if you send email to this account, it will \\nactually let us get back to you maximally quickly with answers to your questions.  \\nIf you're asking questions about homework probl ems, please say in the subject line which \\nassignment and which question the email refers to, since that will also help us to route \\nyour question to the appropriate TA or to me  appropriately and get the response back to \\nyou quickly.  \\nLet's see. Skipping ahead — let's see — for homework, one midterm, one open and term \\nproject. Notice on the honor code. So one thi ng that I think will help you to succeed and \\ndo well in this class and even help you to enjoy this cla ss more is if you form a study \\ngroup.  \\nSo start looking around where you' re sitting now or at the end of class today, mingle a \\nlittle bit and get to know your classmates. I strongly encourage you to form study groups \\nand sort of have a group of people to study with and have a group of your fellow students \\nto talk over these concepts with. You can also  post on the class news group if you want to \\nuse that to try to form a study group.  \\nBut some of the problems sets in this cla ss are reasonably difficult.  People that have \\ntaken the class before may tell you they were very difficult. And just I bet it would be \\nmore fun for you, and you'd probably have a be tter learning experience if you form a\""
      ]
     },
     "execution_count": 22,
     "metadata": {},
     "output_type": "execute_result"
    }
   ],
   "source": [
    "docs[0].page_content"
   ]
  },
  {
   "cell_type": "code",
   "execution_count": 23,
   "id": "ea657123",
   "metadata": {
    "tags": []
   },
   "outputs": [],
   "source": [
    "vectordb.persist()"
   ]
  },
  {
   "cell_type": "markdown",
   "id": "1edb21d8",
   "metadata": {},
   "source": [
    "Looking at the first document's text reveals that it actually refers to the email address cs229-qa.cs.stanford.edu. Additionally, all TAs read this email, to which we can send inquiries. \n",
    " \n",
    "After that, let's make sure to execute vectordb.persist to save the vector database so we may utilise this later. This has gone through the fundamentals of semantic search and demonstrated that using only embeddings can yield some good results. But it isn't flawless, and in this section, we'll discuss a few edge circumstances and demonstrate how this can go wrong. "
   ]
  },
  {
   "cell_type": "markdown",
   "id": "cefe9f6a",
   "metadata": {},
   "source": [
    "## Failure modes\n",
    "\n",
    "This seems great, and basic similarity search will get you 80% of the way there very easily, but there are some failure modes that can creep up. Here are some edge cases that can arise.\n",
    "\n",
    "Let's try a different query. What were their comments about MATLAB? Let's run this with K equal to 5 and see what happens. The first two findings are actually identical, as can be seen by looking at them. This is due to the fact that, as you may recall, we purposefully specified a duplicate item when we loaded in the PDFs. This is problematic since we will later provide both of these chunks to the language model and we have the same information in two different forms. \n",
    "The second bit of information has little real value, and it would be much better if the language model could learn from a different, more distinct item of data. "
   ]
  },
  {
   "cell_type": "code",
   "execution_count": 24,
   "id": "df0f29f9",
   "metadata": {
    "tags": []
   },
   "outputs": [],
   "source": [
    "question = \"what did they say about matlab?\""
   ]
  },
  {
   "cell_type": "code",
   "execution_count": 25,
   "id": "02be97df",
   "metadata": {
    "tags": []
   },
   "outputs": [],
   "source": [
    "docs = vectordb.similarity_search(question,k=5)"
   ]
  },
  {
   "cell_type": "markdown",
   "id": "2a9f579e",
   "metadata": {},
   "source": [
    "Notice that we're getting duplicate chunks (because of the duplicate `MachineLearning-Lecture01.pdf` in the index).\n",
    "\n",
    "Semantic search fetches all similar documents, but does not enforce diversity.\n",
    "\n",
    "`docs[0]` and `docs[1]` are indentical."
   ]
  },
  {
   "cell_type": "code",
   "execution_count": 26,
   "id": "d39f6954",
   "metadata": {
    "tags": []
   },
   "outputs": [
    {
     "data": {
      "text/plain": [
       "Document(page_content='those homeworks will be done in either MATLA B or in Octave, which is sort of — I \\nknow some people call it a free ve rsion of MATLAB, which it sort  of is, sort of isn\\'t.  \\nSo I guess for those of you that haven\\'t s een MATLAB before, and I know most of you \\nhave, MATLAB is I guess part of the programming language that makes it very easy to write codes using matrices, to write code for numerical routines, to move data around, to \\nplot data. And it\\'s sort of an extremely easy to  learn tool to use for implementing a lot of \\nlearning algorithms.  \\nAnd in case some of you want to work on your  own home computer or something if you \\ndon\\'t have a MATLAB license, for the purposes of  this class, there\\'s also — [inaudible] \\nwrite that down [inaudible] MATLAB — there\\' s also a software package called Octave \\nthat you can download for free off the Internet. And it has somewhat fewer features than MATLAB, but it\\'s free, and for the purposes of  this class, it will work for just about \\neverything.  \\nSo actually I, well, so yeah, just a side comment for those of you that haven\\'t seen \\nMATLAB before I guess, once a colleague of mine at a different university, not at \\nStanford, actually teaches another machine l earning course. He\\'s taught it for many years. \\nSo one day, he was in his office, and an old student of his from, lik e, ten years ago came \\ninto his office and he said, \"Oh, professo r, professor, thank you so much for your', metadata={'source': 'docs/MachineLearning-Lecture01.pdf', 'page': 8})"
      ]
     },
     "execution_count": 26,
     "metadata": {},
     "output_type": "execute_result"
    }
   ],
   "source": [
    "docs[0]"
   ]
  },
  {
   "cell_type": "code",
   "execution_count": 27,
   "id": "e04e3d1b",
   "metadata": {
    "tags": []
   },
   "outputs": [
    {
     "data": {
      "text/plain": [
       "Document(page_content='those homeworks will be done in either MATLA B or in Octave, which is sort of — I \\nknow some people call it a free ve rsion of MATLAB, which it sort  of is, sort of isn\\'t.  \\nSo I guess for those of you that haven\\'t s een MATLAB before, and I know most of you \\nhave, MATLAB is I guess part of the programming language that makes it very easy to write codes using matrices, to write code for numerical routines, to move data around, to \\nplot data. And it\\'s sort of an extremely easy to  learn tool to use for implementing a lot of \\nlearning algorithms.  \\nAnd in case some of you want to work on your  own home computer or something if you \\ndon\\'t have a MATLAB license, for the purposes of  this class, there\\'s also — [inaudible] \\nwrite that down [inaudible] MATLAB — there\\' s also a software package called Octave \\nthat you can download for free off the Internet. And it has somewhat fewer features than MATLAB, but it\\'s free, and for the purposes of  this class, it will work for just about \\neverything.  \\nSo actually I, well, so yeah, just a side comment for those of you that haven\\'t seen \\nMATLAB before I guess, once a colleague of mine at a different university, not at \\nStanford, actually teaches another machine l earning course. He\\'s taught it for many years. \\nSo one day, he was in his office, and an old student of his from, lik e, ten years ago came \\ninto his office and he said, \"Oh, professo r, professor, thank you so much for your', metadata={'source': 'docs/MachineLearning-Lecture01.pdf', 'page': 8})"
      ]
     },
     "execution_count": 27,
     "metadata": {},
     "output_type": "execute_result"
    }
   ],
   "source": [
    "docs[1]"
   ]
  },
  {
   "cell_type": "markdown",
   "id": "3a3a915d",
   "metadata": {},
   "source": [
    "Another type of failure mode is also conceivable. What was said in the third lecture document concerning regression, then? is our new query. Intuitively, we would anticipate that all of these documents would be included in the third lesson when we receive them. \n",
    "\n",
    "The metadata we have about the lectures they were taken from allows us to verify this. So let's iterate through each page and print the info. We can see that the outcomes are actually a mix of those from the first lecture, the second lecture, and the third lecture. "
   ]
  },
  {
   "cell_type": "code",
   "execution_count": 28,
   "id": "b19135e5",
   "metadata": {
    "tags": []
   },
   "outputs": [],
   "source": [
    "question = \"what did they say about regression in the third lecture?\""
   ]
  },
  {
   "cell_type": "code",
   "execution_count": 29,
   "id": "d434942c",
   "metadata": {
    "tags": []
   },
   "outputs": [],
   "source": [
    "docs = vectordb.similarity_search(question,k=5)"
   ]
  },
  {
   "cell_type": "code",
   "execution_count": 30,
   "id": "c2c5df59",
   "metadata": {
    "tags": []
   },
   "outputs": [
    {
     "name": "stdout",
     "output_type": "stream",
     "text": [
      "{'source': 'docs/MachineLearning-Lecture03.pdf', 'page': 0}\n",
      "{'source': 'docs/MachineLearning-Lecture03.pdf', 'page': 14}\n",
      "{'source': 'docs/MachineLearning-Lecture02.pdf', 'page': 0}\n",
      "{'source': 'docs/MachineLearning-Lecture03.pdf', 'page': 6}\n",
      "{'source': 'docs/MachineLearning-Lecture01.pdf', 'page': 8}\n"
     ]
    }
   ],
   "source": [
    "for doc in docs:\n",
    "    print(doc.metadata)"
   ]
  },
  {
   "cell_type": "code",
   "execution_count": 31,
   "id": "8e6cb50c",
   "metadata": {
    "tags": []
   },
   "outputs": [
    {
     "name": "stdout",
     "output_type": "stream",
     "text": [
      "into his office and he said, \"Oh, professo r, professor, thank you so much for your \n",
      "machine learning class. I learned so much from it. There's this stuff that I learned in your \n",
      "class, and I now use every day. And it's help ed me make lots of money, and here's a \n",
      "picture of my big house.\"  \n",
      "So my friend was very excited. He said, \"W ow. That's great. I'm glad to hear this \n",
      "machine learning stuff was actually useful. So what was it that you learned? Was it \n",
      "logistic regression? Was it the PCA? Was it the data ne tworks? What was it that you \n",
      "learned that was so helpful?\" And the student said, \"Oh, it was the MATLAB.\"  \n",
      "So for those of you that don't know MATLAB yet, I hope you do learn it. It's not hard, \n",
      "and we'll actually have a short MATLAB tutori al in one of the discussion sections for \n",
      "those of you that don't know it.  \n",
      "Okay. The very last piece of logistical th ing is the discussion s ections. So discussion \n",
      "sections will be taught by the TAs, and atte ndance at discussion sections is optional, \n",
      "although they'll also be recorded and televi sed. And we'll use the discussion sections \n",
      "mainly for two things. For the next two or th ree weeks, we'll use the discussion sections \n",
      "to go over the prerequisites to this class or if some of you haven't seen probability or \n",
      "statistics for a while or maybe algebra, we'll go over those in the discussion sections as a \n",
      "refresher for those of you that want one.\n"
     ]
    }
   ],
   "source": [
    "print(docs[4].page_content)"
   ]
  },
  {
   "cell_type": "markdown",
   "id": "c3dbca56",
   "metadata": {},
   "source": [
    "The third lecture and the fact that we only want documents from the third lecture are both pieces of structured information, but we're only using embeddings to perform a semantic lookup, which embeds the entire sentence and is probably a little more focused on regression. As a result, we are receiving findings that are presumably quite relevant to regression, and if we look at the fifth document, which is the one from the first lecture, we can see that regression is in fact mentioned there. \n",
    "\n",
    "Since it is a piece of structured information that isn't really completely represented in our semantic embedding, it is catching up on that, but it isn't picking up on the fact that it should only be querying papers from the third lecture. \n",
    "\n",
    "This is a case where we might actually want to do some kind of **pre-filtering** on our embeddings, for example to somehow prefilter only the embeddings from the third lecture document. This is possible using richer metadata and indexes for this metadata, which I will look at in the [next article](2023-07-23-retrieval-using-langchain.html)."
   ]
  },
  {
   "cell_type": "markdown",
   "id": "642e657c-42b6-44ee-bd6d-01fdd1c903ed",
   "metadata": {},
   "source": [
    "## Acknowledgements\n",
    "\n",
    "I'd like to express my thanks to the wonderful [LangChain: Chat with your data course](https://www.deeplearning.ai/short-courses/langchain-chat-with-your-data/) by DeepLearning.ai and LangChain - which i completed, and acknowledge the use of some images and other materials from the course in this article."
   ]
  },
  {
   "cell_type": "code",
   "execution_count": null,
   "id": "68165cb5-ac91-4c5b-b259-1168c90aa031",
   "metadata": {},
   "outputs": [],
   "source": []
  }
 ],
 "metadata": {
  "kernelspec": {
   "display_name": "Python 3 (ipykernel)",
   "language": "python",
   "name": "python3"
  },
  "language_info": {
   "codemirror_mode": {
    "name": "ipython",
    "version": 3
   },
   "file_extension": ".py",
   "mimetype": "text/x-python",
   "name": "python",
   "nbconvert_exporter": "python",
   "pygments_lexer": "ipython3",
   "version": "3.9.13"
  }
 },
 "nbformat": 4,
 "nbformat_minor": 5
}
