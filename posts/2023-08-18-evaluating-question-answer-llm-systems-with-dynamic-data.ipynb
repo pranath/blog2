{
 "cells": [
  {
   "cell_type": "raw",
   "id": "666fb124-a2e5-4f15-9c22-9d42a842ae24",
   "metadata": {},
   "source": [
    "---\n",
    "date: '2023-08-18'\n",
    "categories:\n",
    " - natural-language-processing\n",
    " - deep-learning\n",
    " - langchain\n",
    " - openai\n",
    " - llm-evaluation\n",
    "title: Evaluating Question and Answer Systems with Dynamic Data\n",
    "description: In many real-world settings, the proper answer to a question may alter over time. For example, if you're designing a Q&A system on top of a database or that connects to an API, the underlying data may be updated regularly. Instead of storing labels directly as values, we'll utilise references to overcome this issue in this post using Langsmith where our labels will be references to look up the relevant values.\n",
    "image: https://github.com/pranath/blog/raw/master/images/ai-eval3.png\n",
    "---"
   ]
  },
  {
   "cell_type": "markdown",
   "id": "3ce8c14f-0412-4d1b-a3fd-ad195daf3622",
   "metadata": {},
   "source": [
    "In many real-world settings, the correct answer to a question may alter over time. For example, if you're designing a Q&A system on top of a database or that connects to an API, the underlying data may be updated regularly. In such instances, you should still measure the correctness of your system, but you should do so in a method that compensates for these changes.\n",
    "\n",
    "In an [earlier article](2023-08-16-langsmith-for-llm-application-evaluation.html) we introduced Langsmith and how it can help with LLM-based application evaluation.\n",
    "\n",
    "In the following post, we will handle this issue using Langsmith and the age-old software practise of indirection. Rather than storing labels as values, we will use them as _references_ to look for the correct values. In this example, our labels will be queries that the custom evaluator can use to retrieve the ground truth answer and compare it to the model's predictions.\n",
    "\n",
    "The article will walk you through the following steps:\n",
    "\n",
    "1. Create a dataset of questions and corresponding code snippets to fetch the answers.\n",
    "2. Define your Q&A system.\n",
    "3. Run evaluation using LangSmith with a custom evaluator.\n",
    "4. Re-test the system over time.\n",
    "\n",
    "> Quick note: We are using a CSV file to simulate a real data source. This is not a real scenario and is meant to be illustrative. \n",
    "\n",
    "## Prerequisites\n",
    "\n",
    "This post uses OpenAI for the model and LangChain to compose the chain. To make sure the tracing and evals are set up for [LangSmith](https://smith.langchain.com), please configure your API Key appropriately."
   ]
  },
  {
   "cell_type": "code",
   "execution_count": 1,
   "id": "f14b44ce-3c06-4029-b25d-dad3c02808fb",
   "metadata": {},
   "outputs": [],
   "source": [
    "# %env LANGCHAIN_API_KEY=<YOUR_API_KEY>"
   ]
  },
  {
   "cell_type": "markdown",
   "id": "04bbe6e3-062e-41fd-901b-7fe9f2895a0a",
   "metadata": {},
   "source": [
    "Install the required packages. We will use the latest version of langchain and use pandas as an example of a data store."
   ]
  },
  {
   "cell_type": "code",
   "execution_count": 2,
   "id": "7a536c5d-0b6b-45eb-8dcb-eabdf3caaae0",
   "metadata": {},
   "outputs": [],
   "source": [
    "# %pip install -U \"langchain[openai]\" > /dev/null\n",
    "# %pip install pandas > /dev/null\n",
    "# %env OPENAI_API_KEY=<YOUR-API-KEY>```"
   ]
  },
  {
   "cell_type": "markdown",
   "id": "0d2587dd-19e4-4748-b211-8a97d0c7c5a5",
   "metadata": {},
   "source": [
    "## Create a dataset\n",
    "\n",
    "We will be using the Titanic dataset from [here](https://raw.githubusercontent.com/jorisvandenbossche/pandas-tutorial/master/data/titanic.csv) for our example. This dataset contains information about Titanic passengers and their outcomes.\n",
    "\n",
    "To begin, create a set of questions and accompanying references that demonstrate how to obtain the proper answer from the data.\n",
    "For the purposes of this lesson, we will utilise Python code snippets, but the strategy may be applied to any other type of indirection, such as storing API requests or search arguments.\n",
    "\n",
    "Our evaluator will consult the sources to determine the correct response."
   ]
  },
  {
   "cell_type": "code",
   "execution_count": 1,
   "id": "3d51bd9b-bea5-4670-a3a1-e24d853e2a65",
   "metadata": {
    "tags": []
   },
   "outputs": [],
   "source": [
    "questions = [\n",
    "    (\"How many passengers were on the Titanic?\", \"len(df)\"),\n",
    "    (\"How many passengers survived?\", \"df['Survived'].sum()\"),\n",
    "    (\"What was the average age of the passengers?\", \"df['Age'].mean()\"),\n",
    "    (\"How many male and female passengers were there?\", \"df['Sex'].value_counts()\"),\n",
    "    (\"What was the average fare paid for the tickets?\", \"df['Fare'].mean()\"),\n",
    "    (\"How many passengers were in each class?\", \"df['Pclass'].value_counts()\"),\n",
    "    (\"What was the survival rate for each gender?\", \"df.groupby('Sex')['Survived'].mean()\"),\n",
    "    (\"What was the survival rate for each class?\", \"df.groupby('Pclass')['Survived'].mean()\"),\n",
    "    (\"Which port had the most passengers embark from?\", \"df['Embarked'].value_counts().idxmax()\"),\n",
    "    (\"How many children under the age of 18 survived?\", \"df[df['Age'] < 18]['Survived'].sum()\")\n",
    "]"
   ]
  },
  {
   "cell_type": "markdown",
   "id": "72744a57-2d2d-4135-bbdd-48370aba5b33",
   "metadata": {},
   "source": [
    "Next, create the dataset. You can use the LangSmith SDK to do so. Create the dataset and upload each example.\n",
    "Saving the dataset to LangSmith lets us reuse and relate test runs over time."
   ]
  },
  {
   "cell_type": "code",
   "execution_count": 3,
   "id": "1fd5b2c0-1999-4015-8f43-18f5c3edaff8",
   "metadata": {
    "tags": []
   },
   "outputs": [],
   "source": [
    "from langsmith import Client\n",
    "\n",
    "client = Client()\n",
    "dataset_name = \"Dynamic Titanic CSV\"\n",
    "dataset = client.create_dataset(\n",
    "    dataset_name=dataset_name, description=\"Test QA over CSV\",\n",
    ")\n",
    "\n",
    "for example in questions:\n",
    "    client.create_example(\n",
    "        inputs={\"question\": example[0]},\n",
    "        outputs={\"code\": example[1]},\n",
    "        dataset_id=dataset.id,\n",
    "    )"
   ]
  },
  {
   "cell_type": "markdown",
   "id": "acabdc82-d426-4432-a09d-1daa560f08ac",
   "metadata": {
    "tags": []
   },
   "source": [
    "## Define Q&A system\n",
    "\n",
    "Now that the dataset has been produced, we can define our question answering system. For this project, we'll use LangChain's off-the-shelf pandas dataframe agent.\n",
    "\n",
    "Load the Titanic data into a dataframe first, and then write a constructor for our agent."
   ]
  },
  {
   "cell_type": "code",
   "execution_count": 4,
   "id": "bfc67277-1191-4409-9f00-67d8e55e2fe4",
   "metadata": {},
   "outputs": [],
   "source": [
    "import pandas as pd\n",
    "\n",
    "titanic_path = \"https://raw.githubusercontent.com/jorisvandenbossche/pandas-tutorial/master/data/titanic.csv\"\n",
    "df = pd.read_csv(titanic_path)"
   ]
  },
  {
   "cell_type": "code",
   "execution_count": 6,
   "id": "8555151b-aa5d-480b-962f-a2790f0b7bb8",
   "metadata": {},
   "outputs": [],
   "source": [
    "from functools import partial\n",
    "\n",
    "from langchain.chat_models import ChatOpenAI\n",
    "from langchain.prompts import ChatPromptTemplate\n",
    "from langchain.agents import create_pandas_dataframe_agent\n",
    "\n",
    "llm = ChatOpenAI(model=\"gpt-4\", temperature=0.0)\n",
    "create_chain = partial(\n",
    "    create_pandas_dataframe_agent,\n",
    "    llm=llm,\n",
    "    df=df,\n",
    ")"
   ]
  },
  {
   "cell_type": "code",
   "execution_count": 7,
   "id": "be5a59c2-7eac-441e-8dd5-a73562ac004a",
   "metadata": {},
   "outputs": [
    {
     "data": {
      "text/plain": [
       "{'input': 'How many passengers were on the Titanic?',\n",
       " 'output': 'There were 891 passengers on the Titanic.'}"
      ]
     },
     "execution_count": 7,
     "metadata": {},
     "output_type": "execute_result"
    }
   ],
   "source": [
    "# Example run\n",
    "create_chain().invoke({\"input\": \"How many passengers were on the Titanic?\"})"
   ]
  },
  {
   "cell_type": "markdown",
   "id": "d1e127f9-ff9c-4ab0-9860-6d6432c02651",
   "metadata": {},
   "source": [
    "## Run Evaluation\n",
    "\n",
    "Now it's time to define our custom evaluator. In this case we will inherit from the [LabeledCriteriaEvalChain](https://api.python.langchain.com/en/latest/evaluation/langchain.evaluation.criteria.eval_chain.LabeledCriteriaEvalChain.html#langchain.evaluation.criteria.eval_chain.LabeledCritewriaEvalChain) class. This evaluator takes the input, prediction, and reference label and passes them to an llm to predict whether the prediction satisfies the provided criteria, conditioned on the reference label.\n",
    "\n",
    "Our custom evaluator will make one small change to this evaluator by dereferencing the label to inject the correct value. We do this by overwriting the `_get_eval_input` method. Then the LLM will see the fresh reference value.\n",
    "\n",
    "> Reminder: We are using a CSV file to simulate a real data source here and doing an unsafe eval on to query the data source. In a real scenario it would be better to do a safe get request or something similar."
   ]
  },
  {
   "cell_type": "code",
   "execution_count": 8,
   "id": "7b8b84e5-f977-4893-bda7-20a1248469e4",
   "metadata": {
    "tags": []
   },
   "outputs": [],
   "source": [
    "from langsmith import Client\n",
    "from langchain.smith import RunEvalConfig, run_on_dataset\n",
    "from typing import Optional\n",
    "from langchain.evaluation.criteria.eval_chain import LabeledCriteriaEvalChain\n",
    "\n",
    "class CustomCriteriaEvalChain(LabeledCriteriaEvalChain):\n",
    "    def _get_eval_input(\n",
    "        self,\n",
    "        prediction: str,\n",
    "        reference: Optional[str],\n",
    "        input: Optional[str],\n",
    "    ) -> dict:\n",
    "        # The parent class validates the reference is present and combines into\n",
    "        # a dictionary for the llm chain.\n",
    "        raw = super()._get_eval_input(prediction, reference, input)\n",
    "        # Warning - this evaluates the code you've saved as labels in the dataset.\n",
    "        # Be sure that the code is correct, and refrain from executing in an\n",
    "        # untrusted environment or when connected to a production server.\n",
    "        raw[\"reference\"] = eval(raw[\"reference\"])\n",
    "        return raw"
   ]
  },
  {
   "cell_type": "code",
   "execution_count": 9,
   "id": "5c5533bc-fafe-4822-aa74-6f025ab0f730",
   "metadata": {},
   "outputs": [
    {
     "name": "stdout",
     "output_type": "stream",
     "text": [
      "View the evaluation results for project 'e1a16797963742018b9625ef311371ee-AgentExecutor' at:\n",
      "https://smith.langchain.com/projects/p/718eb48c-0af7-43cb-a125-198a5658616d?eval=true\n"
     ]
    }
   ],
   "source": [
    "client = Client()\n",
    "eval_config = RunEvalConfig(\n",
    "    custom_evaluators=[\n",
    "        CustomCriteriaEvalChain.from_llm(criteria=\"correctness\", llm=ChatOpenAI(model=\"gpt-4\", temperature=0.0)),\n",
    "    ],\n",
    ")\n",
    "chain_results = run_on_dataset(\n",
    "    client,\n",
    "    dataset_name=dataset_name,\n",
    "    llm_or_chain_factory=create_chain,\n",
    "    evaluation=eval_config,\n",
    "    # This agent doesn't support concurrent runs yet.\n",
    "    concurrency_level=1\n",
    ")"
   ]
  },
  {
   "cell_type": "markdown",
   "id": "1a1bd377-288e-4193-8db1-5e61ab4dc4c0",
   "metadata": {},
   "source": [
    "With that evalution running, you can navigate to the linked project and review the agent's predictions and feedback scores."
   ]
  },
  {
   "cell_type": "markdown",
   "id": "f7f3b41a-b0bd-4b78-8f6e-04ec7a01a467",
   "metadata": {},
   "source": [
    "## Re-evaluate later in time.\n",
    "\n",
    "It's safe to conclude that the Titanic dataset hasn't changed in the last few minutes, but in your case, fresh data is very certainly arriving all the time. We can reuse the old dataset as long as the method of accessing that information hasn't changed.\n",
    "\n",
    "Let's assume that additional folks boarded by duplicating some rows and rearranging some statistics. The agent will then be re-run on the new dataset."
   ]
  },
  {
   "cell_type": "code",
   "execution_count": 10,
   "id": "f25324d0-0dd4-4364-8d68-81c813ed99f3",
   "metadata": {},
   "outputs": [],
   "source": [
    "df_doubled = pd.concat([df, df], ignore_index=True)\n",
    "df_doubled['Age'] = df_doubled['Age'].sample(frac=1).reset_index(drop=True)\n",
    "df_doubled['Sex'] = df_doubled['Sex'].sample(frac=1).reset_index(drop=True)\n",
    "df = df_doubled"
   ]
  },
  {
   "cell_type": "code",
   "execution_count": 11,
   "id": "da4f18bc-f9e1-46cd-822b-872c751d8d28",
   "metadata": {
    "tags": []
   },
   "outputs": [],
   "source": [
    "create_chain_2 = partial(\n",
    "    create_pandas_dataframe_agent,\n",
    "    llm=llm,\n",
    "    df=df,\n",
    ")"
   ]
  },
  {
   "cell_type": "code",
   "execution_count": 12,
   "id": "75f67443-dec8-498a-b09d-aa7c09a67ad1",
   "metadata": {
    "tags": []
   },
   "outputs": [
    {
     "name": "stdout",
     "output_type": "stream",
     "text": [
      "View the evaluation results for project 'c1d72bd05c6342dba7b9c52d883ae995-AgentExecutor' at:\n",
      "https://smith.langchain.com/projects/p/42482672-3517-4460-ab8d-5f380273f1f5?eval=true\n"
     ]
    }
   ],
   "source": [
    "chain_results = run_on_dataset(\n",
    "    client,\n",
    "    dataset_name=dataset_name,\n",
    "    llm_or_chain_factory=create_chain_2,\n",
    "    evaluation=eval_config,\n",
    "    concurrency_level=1\n",
    ")"
   ]
  },
  {
   "cell_type": "markdown",
   "id": "bb41aca1-fa40-4313-a34b-115a76c52a21",
   "metadata": {},
   "source": [
    "### Review the results\n",
    "\n",
    "You can see the results now that we've tested twice on the \"changing\" data source. If you go to the \"dataset\" page and click on the \"examples\" tab, you can view the predictions for each test run by clicking through different examples. \n",
    "\n",
    "The view of the individual dataset rows is shown below. We can edit the example or examine all predictions from different test runs on that example by clicking on a row. Let's choose one.\n",
    "\n",
    "<img src=\"https://github.com/pranath/blog/raw/master/images/langsmith15.png\" width=\"800\"/>\n",
    " \n",
    "In this example, we choose the row with the question \"How many male and female passengers were there?\" The predictions for each test run are shown in a table of linked rows at the bottom of the page.\n",
    "When you call 'run_on_dataset', these are automatically associated.\n",
    "\n",
    "If you look closely at the predictions, you'll notice that they're all different. The agency initially projected 577 male and 314 female passengers. It then forecasted 1154 male and 628 female passengers for the second test run.\n",
    "\n",
    "However, both test runs were marked as \"correct\". The values in the data source changed, but the mechanism for retrieving the answer did not.\n",
    "\n",
    "<img src=\"https://github.com/pranath/blog/raw/master/images/langsmith16.png\" width=\"800\"/>\n",
    "\n",
    "But how can you be certain that the \"correct\" grade is accurate? Now is a good moment to double-check the run trace of your custom evaluator to ensure that it is functioning properly. You can view the evaluation trace by directly clicking on the arrows on the \"correctness\" chips in the table. Otherwise, you can navigate to the run, then to the feedback tab, and then to your custom evaluator's trace for that example. Screenshots of the retrieved values for each of the preceding runs are shown below.\n",
    "\n",
    "You can see that the \"reference\" key contains the dereferenced value from the data source. You can see that it matches the predictions from the runs above! The first one shows 577 male and 314 female passengers.\n",
    "\n",
    "<img src=\"https://github.com/pranath/blog/raw/master/images/langsmith17.png\" width=\"800\"/>\n",
    "\n",
    "And, after updating the dataframe, the evaluator returned the accurate result of 1154 male and 628 female travellers, which matches the forecasts from the previous runs!\n",
    "\n",
    "<img src=\"https://github.com/pranath/blog/raw/master/images/langsmith18.png\" width=\"800\"/>\n",
    "\n",
    "Seems to be working well!"
   ]
  },
  {
   "cell_type": "markdown",
   "id": "7bc2d3d1-4f87-4969-b372-34030c45406e",
   "metadata": {},
   "source": [
    "## Conclusion\n",
    "\n",
    "In this post, we examined a Q&A system that was linked to a developing data repository. We accomplished so by employing a custom evaluator that dynamically retrieves the answer based on a static reference (in this case, a code snippet).\n",
    "\n",
    "This is only one solution to the challenge of evaluating Q&A systems when the underlying data source changes. This approach is straightforward and immediately tests the accuracy of your system end-to-end using current data. It can be useful if you wish to monitor your performance on a regular basis.\n",
    "\n",
    "It is less reliable if your purpose is to compare two different prompts or models because the underlying data may differ. Depending on how you dereference the labels, prudence and correct permissioning are also required.\n",
    "\n",
    "Other options to evaluate your system in this scenario include:\n",
    "\n",
    "- Freezing or mocking the data source(s) used for evaluation. You can then invest in hand-labeling periodically to make sure the data is still reprentative of the production environment.\n",
    "- Testing the query generation capability of your agent directly and evaluate the equivalence of the queries. This is less \"end-to-end\", but it depending on how you compare, you'd avoid any potential issues caused by unsafe dereferencing.\n",
    "\n",
    "## Acknowledgements\n",
    "\n",
    "I'd like to express my thanks to the wonderful [Langsmith Cookbook Repo](https://github.com/langchain-ai/langsmith-cookbook/) and acknowledge the use of some images and other materials from this project in writing this article."
   ]
  },
  {
   "cell_type": "code",
   "execution_count": null,
   "id": "5869b8c8-9c8f-4ad4-81a7-890ed70c5250",
   "metadata": {},
   "outputs": [],
   "source": []
  }
 ],
 "metadata": {
  "kernelspec": {
   "display_name": "Python 3 (ipykernel)",
   "language": "python",
   "name": "python3"
  },
  "language_info": {
   "codemirror_mode": {
    "name": "ipython",
    "version": 3
   },
   "file_extension": ".py",
   "mimetype": "text/x-python",
   "name": "python",
   "nbconvert_exporter": "python",
   "pygments_lexer": "ipython3",
   "version": "3.9.13"
  }
 },
 "nbformat": 4,
 "nbformat_minor": 5
}
