{
 "cells": [
  {
   "cell_type": "raw",
   "metadata": {},
   "source": [
    "---\n",
    "date: '2023-08-20'\n",
    "categories:\n",
    " - natural-language-processing\n",
    " - deep-learning\n",
    " - langchain\n",
    " - openai\n",
    " - llm-evaluation\n",
    "title: Using LLMs and Langchain to Ask Questions about SQL Databases\n",
    "description: Some of the most valuable information to make LLMs useful is in structured data such as atabases. In this article we show how we can use langchain to help LLMs answer questions based on information stored in an SQL database.\n",
    "image: https://github.com/pranath/blog/raw/master/images/ai-db1.png\n",
    "---"
   ]
  },
  {
   "cell_type": "markdown",
   "metadata": {
    "id": "J5Gcx1uwhWl9"
   },
   "source": [
    "## Introduction\n",
    "\n",
    "SQL databases are frequently used to hold enterprise data. Natural language interaction with SQL databases is made feasible by LLMs such as OpenAI's ChatGPT and GPT Models. LangChain provides SQL Chains and Agents for building and running SQL queries based on natural language prompts. These SQL Chains and Agents are compatible with any SQL dialect supported by SQLAlchemy (e.g., MySQL, PostgreSQL, Oracle SQL, Databricks, SQLite).\n",
    "\n",
    "They enable use cases like:\n",
    "\n",
    "- Creating queries that will be executed in response to natural language questions\n",
    "- Developing chatbots that can answer queries based on database data \n",
    "- Developing custom dashboards based on information that a user want to analyse\n",
    "\n",
    "In this article we will see different ways we can use langchain and LLM's to ask questions about data in an SQL database.\n",
    "\n",
    "## Overview\n",
    "\n",
    "LangChain provides tools to interact with SQL Databases:\n",
    "\n",
    "1. `Build SQL queries` based on natural language user questions\n",
    "2. `Query a SQL database` using chains for query creation and execution\n",
    "3. `Interact with a SQL database` using agents for robust and flexible querying\n",
    "\n",
    "\n",
    "<img src=\"https://github.com/pranath/blog/raw/master/images/langchain-sql-usecase.png\" width=\"800\"/>\n",
    "\n",
    "## Import Libs & Setup\n",
    "\n",
    "First, get required packages and set environment variables:"
   ]
  },
  {
   "cell_type": "code",
   "execution_count": 1,
   "metadata": {
    "id": "3GfWD3bchWmB"
   },
   "outputs": [
    {
     "name": "stdout",
     "output_type": "stream",
     "text": [
      "Requirement already satisfied: langchain in /Users/pranathfernando/opt/anaconda3/lib/python3.9/site-packages (0.0.270)\n",
      "Collecting langchain-experimental\n",
      "  Downloading langchain_experimental-0.0.11-py3-none-any.whl (71 kB)\n",
      "\u001b[2K     \u001b[90m━━━━━━━━━━━━━━━━━━━━━━━━━━━━━━━━━━━━━━━━\u001b[0m \u001b[32m71.4/71.4 kB\u001b[0m \u001b[31m1.8 MB/s\u001b[0m eta \u001b[36m0:00:00\u001b[0m\n",
      "\u001b[?25hRequirement already satisfied: openai in /Users/pranathfernando/opt/anaconda3/lib/python3.9/site-packages (0.27.7)\n",
      "Requirement already satisfied: async-timeout<5.0.0,>=4.0.0 in /Users/pranathfernando/opt/anaconda3/lib/python3.9/site-packages (from langchain) (4.0.2)\n",
      "Requirement already satisfied: PyYAML>=5.3 in /Users/pranathfernando/opt/anaconda3/lib/python3.9/site-packages (from langchain) (6.0)\n",
      "Requirement already satisfied: aiohttp<4.0.0,>=3.8.3 in /Users/pranathfernando/opt/anaconda3/lib/python3.9/site-packages (from langchain) (3.8.4)\n",
      "Requirement already satisfied: dataclasses-json<0.6.0,>=0.5.7 in /Users/pranathfernando/opt/anaconda3/lib/python3.9/site-packages (from langchain) (0.5.7)\n",
      "Requirement already satisfied: requests<3,>=2 in /Users/pranathfernando/opt/anaconda3/lib/python3.9/site-packages (from langchain) (2.28.1)\n",
      "Requirement already satisfied: langsmith<0.1.0,>=0.0.21 in /Users/pranathfernando/opt/anaconda3/lib/python3.9/site-packages (from langchain) (0.0.25)\n",
      "Requirement already satisfied: numpy<2,>=1 in /Users/pranathfernando/opt/anaconda3/lib/python3.9/site-packages (from langchain) (1.21.6)\n",
      "Requirement already satisfied: SQLAlchemy<3,>=1.4 in /Users/pranathfernando/opt/anaconda3/lib/python3.9/site-packages (from langchain) (1.4.39)\n",
      "Requirement already satisfied: numexpr<3.0.0,>=2.8.4 in /Users/pranathfernando/opt/anaconda3/lib/python3.9/site-packages (from langchain) (2.8.4)\n",
      "Requirement already satisfied: tenacity<9.0.0,>=8.1.0 in /Users/pranathfernando/opt/anaconda3/lib/python3.9/site-packages (from langchain) (8.2.2)\n",
      "Requirement already satisfied: pydantic<3,>=1 in /Users/pranathfernando/opt/anaconda3/lib/python3.9/site-packages (from langchain) (1.10.8)\n",
      "Requirement already satisfied: tqdm in /Users/pranathfernando/opt/anaconda3/lib/python3.9/site-packages (from openai) (4.65.0)\n",
      "Requirement already satisfied: aiosignal>=1.1.2 in /Users/pranathfernando/opt/anaconda3/lib/python3.9/site-packages (from aiohttp<4.0.0,>=3.8.3->langchain) (1.3.1)\n",
      "Requirement already satisfied: attrs>=17.3.0 in /Users/pranathfernando/opt/anaconda3/lib/python3.9/site-packages (from aiohttp<4.0.0,>=3.8.3->langchain) (21.4.0)\n",
      "Requirement already satisfied: yarl<2.0,>=1.0 in /Users/pranathfernando/opt/anaconda3/lib/python3.9/site-packages (from aiohttp<4.0.0,>=3.8.3->langchain) (1.9.2)\n",
      "Requirement already satisfied: frozenlist>=1.1.1 in /Users/pranathfernando/opt/anaconda3/lib/python3.9/site-packages (from aiohttp<4.0.0,>=3.8.3->langchain) (1.3.3)\n",
      "Requirement already satisfied: multidict<7.0,>=4.5 in /Users/pranathfernando/opt/anaconda3/lib/python3.9/site-packages (from aiohttp<4.0.0,>=3.8.3->langchain) (6.0.4)\n",
      "Requirement already satisfied: charset-normalizer<4.0,>=2.0 in /Users/pranathfernando/opt/anaconda3/lib/python3.9/site-packages (from aiohttp<4.0.0,>=3.8.3->langchain) (2.0.4)\n",
      "Requirement already satisfied: marshmallow<4.0.0,>=3.3.0 in /Users/pranathfernando/opt/anaconda3/lib/python3.9/site-packages (from dataclasses-json<0.6.0,>=0.5.7->langchain) (3.19.0)\n",
      "Requirement already satisfied: typing-inspect>=0.4.0 in /Users/pranathfernando/opt/anaconda3/lib/python3.9/site-packages (from dataclasses-json<0.6.0,>=0.5.7->langchain) (0.9.0)\n",
      "Requirement already satisfied: marshmallow-enum<2.0.0,>=1.5.1 in /Users/pranathfernando/opt/anaconda3/lib/python3.9/site-packages (from dataclasses-json<0.6.0,>=0.5.7->langchain) (1.5.1)\n",
      "Requirement already satisfied: typing-extensions>=4.2.0 in /Users/pranathfernando/opt/anaconda3/lib/python3.9/site-packages (from pydantic<3,>=1->langchain) (4.6.3)\n",
      "Requirement already satisfied: urllib3<1.27,>=1.21.1 in /Users/pranathfernando/opt/anaconda3/lib/python3.9/site-packages (from requests<3,>=2->langchain) (1.26.11)\n",
      "Requirement already satisfied: idna<4,>=2.5 in /Users/pranathfernando/opt/anaconda3/lib/python3.9/site-packages (from requests<3,>=2->langchain) (3.3)\n",
      "Requirement already satisfied: certifi>=2017.4.17 in /Users/pranathfernando/opt/anaconda3/lib/python3.9/site-packages (from requests<3,>=2->langchain) (2023.5.7)\n",
      "Requirement already satisfied: greenlet!=0.4.17 in /Users/pranathfernando/opt/anaconda3/lib/python3.9/site-packages (from SQLAlchemy<3,>=1.4->langchain) (1.1.1)\n",
      "Requirement already satisfied: packaging>=17.0 in /Users/pranathfernando/opt/anaconda3/lib/python3.9/site-packages (from marshmallow<4.0.0,>=3.3.0->dataclasses-json<0.6.0,>=0.5.7->langchain) (21.3)\n",
      "Requirement already satisfied: mypy-extensions>=0.3.0 in /Users/pranathfernando/opt/anaconda3/lib/python3.9/site-packages (from typing-inspect>=0.4.0->dataclasses-json<0.6.0,>=0.5.7->langchain) (0.4.3)\n",
      "Requirement already satisfied: pyparsing!=3.0.5,>=2.0.2 in /Users/pranathfernando/opt/anaconda3/lib/python3.9/site-packages (from packaging>=17.0->marshmallow<4.0.0,>=3.3.0->dataclasses-json<0.6.0,>=0.5.7->langchain) (3.0.9)\n",
      "Installing collected packages: langchain-experimental\n",
      "Successfully installed langchain-experimental-0.0.11\n"
     ]
    }
   ],
   "source": [
    "#| include: false\n",
    "! pip install langchain langchain-experimental openai"
   ]
  },
  {
   "cell_type": "code",
   "execution_count": 3,
   "metadata": {},
   "outputs": [],
   "source": [
    "import os\n",
    "from dotenv import load_dotenv\n",
    "load_dotenv()\n",
    "\n",
    "OPENAI_API_KEY = os.getenv(\"OPENAI_API_KEY\")"
   ]
  },
  {
   "cell_type": "markdown",
   "metadata": {},
   "source": [
    "For our project we are also going to use Langsmith for logging runs and visulising runs, [I wrote an article introducing Langsmith previously](https://livingdatalab.com/posts/2023-08-16-langsmith-for-llm-application-evaluation.html). Let's set up and configure Langsmith."
   ]
  },
  {
   "cell_type": "code",
   "execution_count": 8,
   "metadata": {},
   "outputs": [],
   "source": [
    "from uuid import uuid4\n",
    "\n",
    "unique_id = uuid4().hex[0:8]\n",
    "os.environ[\"LANGCHAIN_TRACING_V2\"] = \"true\"\n",
    "os.environ[\"LANGCHAIN_PROJECT\"] = f\"Langchain SQL Demo - {unique_id}\"\n",
    "os.environ[\"LANGCHAIN_ENDPOINT\"] = \"https://api.smith.langchain.com\"\n",
    "os.environ[\"LANGCHAIN_API_KEY\"] = os.getenv(\"LANGCHAIN_API_KEY\")  # Update to your API key\n",
    "\n",
    "# Used by the agent in this post\n",
    "os.environ[\"OPENAI_API_KEY\"] = os.getenv(\"OPENAI_API_KEY\")"
   ]
  },
  {
   "cell_type": "markdown",
   "metadata": {
    "id": "_pfqwvOAhWmC"
   },
   "source": [
    "We will also use an SQLite connection with the Chinook database. The Chinook database is an sample data database that represents a digital media store, including tables for artists, albums, media tracks, invoices and customers.\n",
    "\n",
    "There are 11 tables in the chinook sample database.\n",
    "\n",
    "- **employees** table stores employees data such as employee id, last name, first name, etc. It also has a field named ReportsTo to specify who reports to whom.\n",
    "- **customers** table stores customers data.\n",
    "- **invoices & invoice_items tables** these two tables store invoice data. The invoices table stores invoice header data and the invoice_items table stores the invoice line items data.\n",
    "- **artists** table stores artists data. It is a simple table that contains only the artist id and name.\n",
    "- **albums** table stores data about a list of tracks. Each album belongs to one artist. However, one artist may have multiple albums.\n",
    "- **media_types** table stores media types such as MPEG audio and AAC audio files.\n",
    "- **genres** table stores music types such as rock, jazz, metal, etc.\n",
    "- **tracks** table stores the data of songs. Each track belongs to one album.\n",
    "- **playlists & playlist_track tables** playlists table store data about playlists. Each playlist contains a list of tracks. Each track may belong to multiple playlists. The relationship between the playlists table and tracks table is many-to-many. The playlist_track table is used to reflect this relationship.\n",
    "\n",
    "<img src=\"https://github.com/pranath/blog/raw/master/images/sqlite-chinook.jpg\" width=\"800\"/>\n",
    "\n",
    "Follow [installation steps](https://database.guide/2-sample-databases-sqlite/) to create `Chinook.db` in the same directory as this notebook:\n",
    "\n",
    "* Save [this file](https://raw.githubusercontent.com/lerocha/chinook-database/master/ChinookDatabase/DataSources/Chinook_Sqlite.sql) to the directory as `Chinook_Sqlite.sql`\n",
    "* Run `sqlite3 Chinook.db`\n",
    "* Run `.read Chinook_Sqlite.sql`\n",
    "* Test `SELECT * FROM Artist LIMIT 10;`\n",
    "\n",
    "Now, `Chinhook.db` is in our directory.\n",
    "\n",
    "Let's create a `SQLDatabaseChain` to create and execute SQL queries."
   ]
  },
  {
   "cell_type": "code",
   "execution_count": 9,
   "metadata": {
    "id": "Hb5RX37phWmD"
   },
   "outputs": [],
   "source": [
    "from langchain.utilities import SQLDatabase\n",
    "from langchain.llms import OpenAI\n",
    "from langchain_experimental.sql import SQLDatabaseChain\n",
    "\n",
    "db = SQLDatabase.from_uri(\"sqlite:///Chinook.db\")\n",
    "llm = OpenAI(temperature=0, verbose=True)\n",
    "db_chain = SQLDatabaseChain.from_llm(llm, db, verbose=True)"
   ]
  },
  {
   "cell_type": "code",
   "execution_count": 10,
   "metadata": {
    "id": "DdA4LG-thWmD",
    "outputId": "b457eac6-2aa8-4269-dfe4-61afcf1b1e9e",
    "scrolled": true
   },
   "outputs": [
    {
     "name": "stdout",
     "output_type": "stream",
     "text": [
      "\n",
      "\n",
      "\u001b[1m> Entering new SQLDatabaseChain chain...\u001b[0m\n",
      "How many customers are there?\n",
      "SQLQuery:\u001b[32;1m\u001b[1;3mSELECT COUNT(*) FROM Customer;\u001b[0m\n",
      "SQLResult: \u001b[33;1m\u001b[1;3m[(59,)]\u001b[0m\n",
      "Answer:\u001b[32;1m\u001b[1;3mThere are 59 customers.\u001b[0m\n",
      "\u001b[1m> Finished chain.\u001b[0m\n"
     ]
    },
    {
     "data": {
      "text/plain": [
       "'There are 59 customers.'"
      ]
     },
     "execution_count": 10,
     "metadata": {},
     "output_type": "execute_result"
    }
   ],
   "source": [
    "db_chain.run(\"How many customers are there?\")"
   ]
  },
  {
   "cell_type": "markdown",
   "metadata": {
    "id": "9dotS0OchWmE"
   },
   "source": [
    "Note that this both creates and executes the query. In the following sections, we will cover the 3 different use cases mentioned in the overview."
   ]
  },
  {
   "cell_type": "markdown",
   "metadata": {
    "id": "a2u9cSblhWmE"
   },
   "source": [
    "## Case 1: Text-to-SQL query"
   ]
  },
  {
   "cell_type": "code",
   "execution_count": 11,
   "metadata": {
    "id": "9vCN8Ld9hWmF"
   },
   "outputs": [],
   "source": [
    "from langchain.chat_models import ChatOpenAI\n",
    "from langchain.chains import create_sql_query_chain"
   ]
  },
  {
   "cell_type": "markdown",
   "metadata": {
    "id": "npdUgffdhWmF"
   },
   "source": [
    "Let's create the chain that will build the SQL Query:\n"
   ]
  },
  {
   "cell_type": "code",
   "execution_count": 12,
   "metadata": {
    "id": "pX6BnsPShWmF",
    "outputId": "c6279e54-bc3e-43ff-9f42-161543cc4b5b"
   },
   "outputs": [
    {
     "name": "stdout",
     "output_type": "stream",
     "text": [
      "SELECT COUNT(*) FROM Customer\n"
     ]
    }
   ],
   "source": [
    "chain = create_sql_query_chain(ChatOpenAI(temperature=0), db)\n",
    "response = chain.invoke({\"question\":\"How many customers are there\"})\n",
    "print(response)"
   ]
  },
  {
   "cell_type": "markdown",
   "metadata": {
    "id": "Tqx87COohWmG"
   },
   "source": [
    "After building the SQL query based on a user question, we can execute the query:"
   ]
  },
  {
   "cell_type": "code",
   "execution_count": 13,
   "metadata": {
    "id": "25Bwt34BhWmG",
    "outputId": "c99ae4d7-111a-4b95-aa86-0c5e604ed6bf"
   },
   "outputs": [
    {
     "data": {
      "text/plain": [
       "'[(59,)]'"
      ]
     },
     "execution_count": 13,
     "metadata": {},
     "output_type": "execute_result"
    }
   ],
   "source": [
    "db.run(response)"
   ]
  },
  {
   "cell_type": "markdown",
   "metadata": {
    "id": "nZ-CZIpzhWmG"
   },
   "source": [
    "As we can see, the SQL Query Builder chain **only created** the query, and we handled the **query execution separately**."
   ]
  },
  {
   "cell_type": "markdown",
   "metadata": {
    "id": "3OF8rQeKhWmH"
   },
   "source": [
    "### Go deeper\n",
    "\n",
    "**Looking under the hood**\n",
    "\n",
    "We can look at the LangSmith trace to unpack this:\n",
    "\n",
    "<img src=\"https://github.com/pranath/blog/raw/master/images/langsmith-sql1.png\" width=\"800\"/>\n",
    "\n",
    "This is the full text of the prompt created from that query:\n",
    "\n",
    "```\n",
    "You are a SQLite expert. Given an input question, first create a syntactically correct SQLite query to run, then look at the results of the query and return the answer to the input question.\n",
    "Unless the user specifies in the question a specific number of examples to obtain, query for at most 5 results using the LIMIT clause as per SQLite. You can order the results to return the most informative data in the database.\n",
    "Never query for all columns from a table. You must query only the columns that are needed to answer the question. Wrap each column name in double quotes (\") to denote them as delimited identifiers.\n",
    "Pay attention to use only the column names you can see in the tables below. Be careful to not query for columns that do not exist. Also, pay attention to which column is in which table.\n",
    "Pay attention to use date('now') function to get the current date, if the question involves \"today\".\n",
    "\n",
    "Use the following format:\n",
    "\n",
    "Question: Question here\n",
    "SQLQuery: SQL Query to run\n",
    "SQLResult: Result of the SQLQuery\n",
    "Answer: Final answer here\n",
    "\n",
    "Only use the following tables:\n",
    "\n",
    "CREATE TABLE \"Album\" (\n",
    "\t\"AlbumId\" INTEGER NOT NULL, \n",
    "\t\"Title\" NVARCHAR(160) NOT NULL, \n",
    "\t\"ArtistId\" INTEGER NOT NULL, \n",
    "\tPRIMARY KEY (\"AlbumId\"), \n",
    "\tFOREIGN KEY(\"ArtistId\") REFERENCES \"Artist\" (\"ArtistId\")\n",
    ")\n",
    "\n",
    "/*\n",
    "3 rows from Album table:\n",
    "AlbumId\tTitle\tArtistId\n",
    "1\tFor Those About To Rock We Salute You\t1\n",
    "2\tBalls to the Wall\t2\n",
    "3\tRestless and Wild\t2\n",
    "*/\n",
    "\n",
    "\n",
    "CREATE TABLE \"Artist\" (\n",
    "\t\"ArtistId\" INTEGER NOT NULL, \n",
    "\t\"Name\" NVARCHAR(120), \n",
    "\tPRIMARY KEY (\"ArtistId\")\n",
    ")\n",
    "\n",
    "/*\n",
    "3 rows from Artist table:\n",
    "ArtistId\tName\n",
    "1\tAC/DC\n",
    "2\tAccept\n",
    "3\tAerosmith\n",
    "*/\n",
    "\n",
    "\n",
    "CREATE TABLE \"Customer\" (\n",
    "\t\"CustomerId\" INTEGER NOT NULL, \n",
    "\t\"FirstName\" NVARCHAR(40) NOT NULL, \n",
    "\t\"LastName\" NVARCHAR(20) NOT NULL, \n",
    "\t\"Company\" NVARCHAR(80), \n",
    "\t\"Address\" NVARCHAR(70), \n",
    "\t\"City\" NVARCHAR(40), \n",
    "\t\"State\" NVARCHAR(40), \n",
    "\t\"Country\" NVARCHAR(40), \n",
    "\t\"PostalCode\" NVARCHAR(10), \n",
    "\t\"Phone\" NVARCHAR(24), \n",
    "\t\"Fax\" NVARCHAR(24), \n",
    "\t\"Email\" NVARCHAR(60) NOT NULL, \n",
    "\t\"SupportRepId\" INTEGER, \n",
    "\tPRIMARY KEY (\"CustomerId\"), \n",
    "\tFOREIGN KEY(\"SupportRepId\") REFERENCES \"Employee\" (\"EmployeeId\")\n",
    ")\n",
    "\n",
    "/*\n",
    "3 rows from Customer table:\n",
    "CustomerId\tFirstName\tLastName\tCompany\tAddress\tCity\tState\tCountry\tPostalCode\tPhone\tFax\tEmail\tSupportRepId\n",
    "1\tLuís\tGonçalves\tEmbraer - Empresa Brasileira de Aeronáutica S.A.\tAv. Brigadeiro Faria Lima, 2170\tSão José dos Campos\tSP\tBrazil\t12227-000\t+55 (12) 3923-5555\t+55 (12) 3923-5566\tluisg@embraer.com.br\t3\n",
    "2\tLeonie\tKöhler\tNone\tTheodor-Heuss-Straße 34\tStuttgart\tNone\tGermany\t70174\t+49 0711 2842222\tNone\tleonekohler@surfeu.de\t5\n",
    "3\tFrançois\tTremblay\tNone\t1498 rue Bélanger\tMontréal\tQC\tCanada\tH2G 1A7\t+1 (514) 721-4711\tNone\tftremblay@gmail.com\t3\n",
    "*/\n",
    "\n",
    "\n",
    "CREATE TABLE \"Employee\" (\n",
    "\t\"EmployeeId\" INTEGER NOT NULL, \n",
    "\t\"LastName\" NVARCHAR(20) NOT NULL, \n",
    "\t\"FirstName\" NVARCHAR(20) NOT NULL, \n",
    "\t\"Title\" NVARCHAR(30), \n",
    "\t\"ReportsTo\" INTEGER, \n",
    "\t\"BirthDate\" DATETIME, \n",
    "\t\"HireDate\" DATETIME, \n",
    "\t\"Address\" NVARCHAR(70), \n",
    "\t\"City\" NVARCHAR(40), \n",
    "\t\"State\" NVARCHAR(40), \n",
    "\t\"Country\" NVARCHAR(40), \n",
    "\t\"PostalCode\" NVARCHAR(10), \n",
    "\t\"Phone\" NVARCHAR(24), \n",
    "\t\"Fax\" NVARCHAR(24), \n",
    "\t\"Email\" NVARCHAR(60), \n",
    "\tPRIMARY KEY (\"EmployeeId\"), \n",
    "\tFOREIGN KEY(\"ReportsTo\") REFERENCES \"Employee\" (\"EmployeeId\")\n",
    ")\n",
    "\n",
    "/*\n",
    "3 rows from Employee table:\n",
    "EmployeeId\tLastName\tFirstName\tTitle\tReportsTo\tBirthDate\tHireDate\tAddress\tCity\tState\tCountry\tPostalCode\tPhone\tFax\tEmail\n",
    "1\tAdams\tAndrew\tGeneral Manager\tNone\t1962-02-18 00:00:00\t2002-08-14 00:00:00\t11120 Jasper Ave NW\tEdmonton\tAB\tCanada\tT5K 2N1\t+1 (780) 428-9482\t+1 (780) 428-3457\tandrew@chinookcorp.com\n",
    "2\tEdwards\tNancy\tSales Manager\t1\t1958-12-08 00:00:00\t2002-05-01 00:00:00\t825 8 Ave SW\tCalgary\tAB\tCanada\tT2P 2T3\t+1 (403) 262-3443\t+1 (403) 262-3322\tnancy@chinookcorp.com\n",
    "3\tPeacock\tJane\tSales Support Agent\t2\t1973-08-29 00:00:00\t2002-04-01 00:00:00\t1111 6 Ave SW\tCalgary\tAB\tCanada\tT2P 5M5\t+1 (403) 262-3443\t+1 (403) 262-6712\tjane@chinookcorp.com\n",
    "*/\n",
    "\n",
    "\n",
    "CREATE TABLE \"Genre\" (\n",
    "\t\"GenreId\" INTEGER NOT NULL, \n",
    "\t\"Name\" NVARCHAR(120), \n",
    "\tPRIMARY KEY (\"GenreId\")\n",
    ")\n",
    "\n",
    "/*\n",
    "3 rows from Genre table:\n",
    "GenreId\tName\n",
    "1\tRock\n",
    "2\tJazz\n",
    "3\tMetal\n",
    "*/\n",
    "\n",
    "\n",
    "CREATE TABLE \"Invoice\" (\n",
    "\t\"InvoiceId\" INTEGER NOT NULL, \n",
    "\t\"CustomerId\" INTEGER NOT NULL, \n",
    "\t\"InvoiceDate\" DATETIME NOT NULL, \n",
    "\t\"BillingAddress\" NVARCHAR(70), \n",
    "\t\"BillingCity\" NVARCHAR(40), \n",
    "\t\"BillingState\" NVARCHAR(40), \n",
    "\t\"BillingCountry\" NVARCHAR(40), \n",
    "\t\"BillingPostalCode\" NVARCHAR(10), \n",
    "\t\"Total\" NUMERIC(10, 2) NOT NULL, \n",
    "\tPRIMARY KEY (\"InvoiceId\"), \n",
    "\tFOREIGN KEY(\"CustomerId\") REFERENCES \"Customer\" (\"CustomerId\")\n",
    ")\n",
    "\n",
    "/*\n",
    "3 rows from Invoice table:\n",
    "InvoiceId\tCustomerId\tInvoiceDate\tBillingAddress\tBillingCity\tBillingState\tBillingCountry\tBillingPostalCode\tTotal\n",
    "1\t2\t2009-01-01 00:00:00\tTheodor-Heuss-Straße 34\tStuttgart\tNone\tGermany\t70174\t1.98\n",
    "2\t4\t2009-01-02 00:00:00\tUllevålsveien 14\tOslo\tNone\tNorway\t0171\t3.96\n",
    "3\t8\t2009-01-03 00:00:00\tGrétrystraat 63\tBrussels\tNone\tBelgium\t1000\t5.94\n",
    "*/\n",
    "\n",
    "\n",
    "CREATE TABLE \"InvoiceLine\" (\n",
    "\t\"InvoiceLineId\" INTEGER NOT NULL, \n",
    "\t\"InvoiceId\" INTEGER NOT NULL, \n",
    "\t\"TrackId\" INTEGER NOT NULL, \n",
    "\t\"UnitPrice\" NUMERIC(10, 2) NOT NULL, \n",
    "\t\"Quantity\" INTEGER NOT NULL, \n",
    "\tPRIMARY KEY (\"InvoiceLineId\"), \n",
    "\tFOREIGN KEY(\"TrackId\") REFERENCES \"Track\" (\"TrackId\"), \n",
    "\tFOREIGN KEY(\"InvoiceId\") REFERENCES \"Invoice\" (\"InvoiceId\")\n",
    ")\n",
    "\n",
    "/*\n",
    "3 rows from InvoiceLine table:\n",
    "InvoiceLineId\tInvoiceId\tTrackId\tUnitPrice\tQuantity\n",
    "1\t1\t2\t0.99\t1\n",
    "2\t1\t4\t0.99\t1\n",
    "3\t2\t6\t0.99\t1\n",
    "*/\n",
    "\n",
    "\n",
    "CREATE TABLE \"MediaType\" (\n",
    "\t\"MediaTypeId\" INTEGER NOT NULL, \n",
    "\t\"Name\" NVARCHAR(120), \n",
    "\tPRIMARY KEY (\"MediaTypeId\")\n",
    ")\n",
    "\n",
    "/*\n",
    "3 rows from MediaType table:\n",
    "MediaTypeId\tName\n",
    "1\tMPEG audio file\n",
    "2\tProtected AAC audio file\n",
    "3\tProtected MPEG-4 video file\n",
    "*/\n",
    "\n",
    "\n",
    "CREATE TABLE \"Playlist\" (\n",
    "\t\"PlaylistId\" INTEGER NOT NULL, \n",
    "\t\"Name\" NVARCHAR(120), \n",
    "\tPRIMARY KEY (\"PlaylistId\")\n",
    ")\n",
    "\n",
    "/*\n",
    "3 rows from Playlist table:\n",
    "PlaylistId\tName\n",
    "1\tMusic\n",
    "2\tMovies\n",
    "3\tTV Shows\n",
    "*/\n",
    "\n",
    "\n",
    "CREATE TABLE \"PlaylistTrack\" (\n",
    "\t\"PlaylistId\" INTEGER NOT NULL, \n",
    "\t\"TrackId\" INTEGER NOT NULL, \n",
    "\tPRIMARY KEY (\"PlaylistId\", \"TrackId\"), \n",
    "\tFOREIGN KEY(\"TrackId\") REFERENCES \"Track\" (\"TrackId\"), \n",
    "\tFOREIGN KEY(\"PlaylistId\") REFERENCES \"Playlist\" (\"PlaylistId\")\n",
    ")\n",
    "\n",
    "/*\n",
    "3 rows from PlaylistTrack table:\n",
    "PlaylistId\tTrackId\n",
    "1\t3402\n",
    "1\t3389\n",
    "1\t3390\n",
    "*/\n",
    "\n",
    "\n",
    "CREATE TABLE \"Track\" (\n",
    "\t\"TrackId\" INTEGER NOT NULL, \n",
    "\t\"Name\" NVARCHAR(200) NOT NULL, \n",
    "\t\"AlbumId\" INTEGER, \n",
    "\t\"MediaTypeId\" INTEGER NOT NULL, \n",
    "\t\"GenreId\" INTEGER, \n",
    "\t\"Composer\" NVARCHAR(220), \n",
    "\t\"Milliseconds\" INTEGER NOT NULL, \n",
    "\t\"Bytes\" INTEGER, \n",
    "\t\"UnitPrice\" NUMERIC(10, 2) NOT NULL, \n",
    "\tPRIMARY KEY (\"TrackId\"), \n",
    "\tFOREIGN KEY(\"MediaTypeId\") REFERENCES \"MediaType\" (\"MediaTypeId\"), \n",
    "\tFOREIGN KEY(\"GenreId\") REFERENCES \"Genre\" (\"GenreId\"), \n",
    "\tFOREIGN KEY(\"AlbumId\") REFERENCES \"Album\" (\"AlbumId\")\n",
    ")\n",
    "\n",
    "/*\n",
    "3 rows from Track table:\n",
    "TrackId\tName\tAlbumId\tMediaTypeId\tGenreId\tComposer\tMilliseconds\tBytes\tUnitPrice\n",
    "1\tFor Those About To Rock (We Salute You)\t1\t1\t1\tAngus Young, Malcolm Young, Brian Johnson\t343719\t11170334\t0.99\n",
    "2\tBalls to the Wall\t2\t2\t1\tNone\t342562\t5510424\t0.99\n",
    "3\tFast As a Shark\t3\t2\t1\tF. Baltes, S. Kaufman, U. Dirkscneider & W. Hoffman\t230619\t3990994\t0.99\n",
    "*/\n",
    "\n",
    "Question: How many customers are there\n",
    "SQLQuery: \n",
    "```\n",
    "\n",
    "[Some papers](https://arxiv.org/pdf/2204.00498.pdf) have reported good performance when prompting with:\n",
    "\n",
    "* A `CREATE TABLE` description for each table, which include column names, their types, etc\n",
    "* Followed by three example rows in a `SELECT` statement\n",
    "\n",
    "`create_sql_query_chain` adopts this the best practice (see more in this [blog](https://blog.langchain.dev/llms-and-sql/)).  \n",
    "\n",
    "**Improvements**\n",
    "\n",
    "The query builder can be improved in a variety of ways, including (but not limited to):\n",
    "\n",
    "- Tailoring the database description to your particular use case\n",
    "- Using a vector database to provide dynamic examples that are relevant to the individual user question - Hardcoding a few instances of questions and their related SQL query in the prompt\n",
    "\n",
    "All of these examples involve changing the prompt for the chain. For example, we could include the following instances in our prompt:"
   ]
  },
  {
   "cell_type": "code",
   "execution_count": 14,
   "metadata": {
    "id": "xf9aQTgRhWmH"
   },
   "outputs": [],
   "source": [
    "from langchain.prompts import PromptTemplate\n",
    "\n",
    "TEMPLATE = \"\"\"Given an input question, first create a syntactically correct {dialect} query to run, then look at the results of the query and return the answer.\n",
    "Use the following format:\n",
    "\n",
    "Question: \"Question here\"\n",
    "SQLQuery: \"SQL Query to run\"\n",
    "SQLResult: \"Result of the SQLQuery\"\n",
    "Answer: \"Final answer here\"\n",
    "\n",
    "Only use the following tables:\n",
    "\n",
    "{table_info}.\n",
    "\n",
    "Some examples of SQL queries that corrsespond to questions are:\n",
    "\n",
    "{few_shot_examples}\n",
    "\n",
    "Question: {input}\"\"\"\n",
    "\n",
    "CUSTOM_PROMPT = PromptTemplate(\n",
    "    input_variables=[\"input\", \"few_shot_examples\", \"table_info\", \"dialect\"], template=TEMPLATE\n",
    ")"
   ]
  },
  {
   "cell_type": "markdown",
   "metadata": {
    "id": "Z8rVhyzehWmH"
   },
   "source": [
    "## Case 2: Text-to-SQL query and execution\n",
    "\n",
    "We can use `SQLDatabaseChain` from `langchain_experimental` to create and run SQL queries."
   ]
  },
  {
   "cell_type": "code",
   "execution_count": 15,
   "metadata": {
    "id": "rPOo7VazhWmH"
   },
   "outputs": [],
   "source": [
    "from langchain.llms import OpenAI\n",
    "from langchain_experimental.sql import SQLDatabaseChain\n",
    "\n",
    "llm = OpenAI(temperature=0, verbose=True)\n",
    "db_chain = SQLDatabaseChain.from_llm(llm, db, verbose=True)"
   ]
  },
  {
   "cell_type": "code",
   "execution_count": 16,
   "metadata": {
    "id": "AfwULoFLhWmH",
    "outputId": "51f6bf33-5af9-4f88-9ca1-fb64540d8b43"
   },
   "outputs": [
    {
     "name": "stdout",
     "output_type": "stream",
     "text": [
      "\n",
      "\n",
      "\u001b[1m> Entering new SQLDatabaseChain chain...\u001b[0m\n",
      "How many customers are there?\n",
      "SQLQuery:\u001b[32;1m\u001b[1;3mSELECT COUNT(*) FROM Customer;\u001b[0m\n",
      "SQLResult: \u001b[33;1m\u001b[1;3m[(59,)]\u001b[0m\n",
      "Answer:\u001b[32;1m\u001b[1;3mThere are 59 customers.\u001b[0m\n",
      "\u001b[1m> Finished chain.\u001b[0m\n"
     ]
    },
    {
     "data": {
      "text/plain": [
       "'There are 59 customers.'"
      ]
     },
     "execution_count": 16,
     "metadata": {},
     "output_type": "execute_result"
    }
   ],
   "source": [
    "db_chain.run(\"How many customers are there?\")"
   ]
  },
  {
   "cell_type": "markdown",
   "metadata": {
    "id": "LHJ8tSBRhWmH"
   },
   "source": [
    "As we can see, we get the same result as the previous case.\n",
    "\n",
    "Here, the chain **also handles the query execution** and provides a final answer based on the user question and the query result.\n",
    "\n",
    "**Be careful** while using this approach as it is susceptible to `SQL Injection`:\n",
    "\n",
    "* The chain is executing queries that are created by an LLM, and weren't validated\n",
    "* e.g. records may be created, modified or deleted unintentionally_\n",
    "\n",
    "This is why we see the `SQLDatabaseChain` is inside `langchain_experimental`."
   ]
  },
  {
   "cell_type": "markdown",
   "metadata": {
    "id": "OQQzBC-LhWmI"
   },
   "source": [
    "### Go deeper\n",
    "\n",
    "**Looking under the hood**\n",
    "\n",
    "We can use the [LangSmith trace](https://smith.langchain.com/public/7f202a0c-1e35-42d6-a84a-6c2a58f697ef/r) to see what is happening under the hood:\n",
    "\n",
    "* As discussed above, first we create the query:\n",
    "\n",
    "```\n",
    "text: ' SELECT COUNT(*) FROM \"Customer\";'\n",
    "```\n",
    "\n",
    "* Then, it executes the query and passes the results to an LLM for synthesis.\n",
    "\n",
    "<img src=\"https://github.com/pranath/blog/raw/master/images/langsmith-sql2.png\" width=\"800\"/>\n",
    "\n",
    "**Improvements**\n",
    "\n",
    "The performance of the `SQLDatabaseChain` can be enhanced in several ways:\n",
    "\n",
    "- [Adding sample rows](#adding-sample-rows)\n",
    "- [Specifying custom table information](/docs/integrations/tools/sqlite#custom-table-info)\n",
    "- [Using Query Checker](/docs/integrations/tools/sqlite#use-query-checker) self-correct invalid SQL using parameter `use_query_checker=True`\n",
    "- [Customizing the LLM Prompt](/docs/integrations/tools/sqlite#customize-prompt) include specific instructions or relevant information, using parameter `prompt=CUSTOM_PROMPT`\n",
    "- [Get intermediate steps](/docs/integrations/tools/sqlite#return-intermediate-steps) access the SQL statement as well as the final result using parameter `return_intermediate_steps=True`\n",
    "- [Limit the number of rows](/docs/integrations/tools/sqlite#choosing-how-to-limit-the-number-of-rows-returned) a query will return using parameter `top_k=5`\n",
    "\n",
    "You might find [SQLDatabaseSequentialChain](/docs/integrations/tools/sqlite#sqldatabasesequentialchain)\n",
    "useful for cases in which the number of tables in the database is large.\n",
    "\n",
    "This `Sequential Chain` handles the process of:\n",
    "\n",
    "1. Determining which tables to use based on the user question\n",
    "2. Calling the normal SQL database chain using only relevant tables\n",
    "\n",
    "**Adding Sample Rows**\n",
    "\n",
    "Providing sample data can help the LLM construct correct queries when the data format is not obvious.\n",
    "\n",
    "For example, we can tell LLM that artists are saved with their full names by providing two rows from the Track table.\n"
   ]
  },
  {
   "cell_type": "code",
   "execution_count": 17,
   "metadata": {
    "id": "NZ6X7LQuhWmI"
   },
   "outputs": [],
   "source": [
    "db = SQLDatabase.from_uri(\n",
    "    \"sqlite:///Chinook.db\",\n",
    "    include_tables=['Track'], # we include only one table to save tokens in the prompt :)\n",
    "    sample_rows_in_table_info=2)"
   ]
  },
  {
   "cell_type": "markdown",
   "metadata": {
    "id": "YBmKMGhohWmI"
   },
   "source": [
    "The sample rows are added to the prompt after each corresponding table's column information.\n",
    "\n",
    "We can use `db.table_info` and check which sample rows are included:"
   ]
  },
  {
   "cell_type": "code",
   "execution_count": 18,
   "metadata": {
    "id": "frbKG9-ZhWmI",
    "outputId": "ae34abbf-bb00-49dc-8817-9da8537f853a"
   },
   "outputs": [
    {
     "name": "stdout",
     "output_type": "stream",
     "text": [
      "\n",
      "CREATE TABLE \"Track\" (\n",
      "\t\"TrackId\" INTEGER NOT NULL, \n",
      "\t\"Name\" NVARCHAR(200) NOT NULL, \n",
      "\t\"AlbumId\" INTEGER, \n",
      "\t\"MediaTypeId\" INTEGER NOT NULL, \n",
      "\t\"GenreId\" INTEGER, \n",
      "\t\"Composer\" NVARCHAR(220), \n",
      "\t\"Milliseconds\" INTEGER NOT NULL, \n",
      "\t\"Bytes\" INTEGER, \n",
      "\t\"UnitPrice\" NUMERIC(10, 2) NOT NULL, \n",
      "\tPRIMARY KEY (\"TrackId\"), \n",
      "\tFOREIGN KEY(\"MediaTypeId\") REFERENCES \"MediaType\" (\"MediaTypeId\"), \n",
      "\tFOREIGN KEY(\"GenreId\") REFERENCES \"Genre\" (\"GenreId\"), \n",
      "\tFOREIGN KEY(\"AlbumId\") REFERENCES \"Album\" (\"AlbumId\")\n",
      ")\n",
      "\n",
      "/*\n",
      "2 rows from Track table:\n",
      "TrackId\tName\tAlbumId\tMediaTypeId\tGenreId\tComposer\tMilliseconds\tBytes\tUnitPrice\n",
      "1\tFor Those About To Rock (We Salute You)\t1\t1\t1\tAngus Young, Malcolm Young, Brian Johnson\t343719\t11170334\t0.99\n",
      "2\tBalls to the Wall\t2\t2\t1\tNone\t342562\t5510424\t0.99\n",
      "*/\n"
     ]
    }
   ],
   "source": [
    "print(db.table_info)"
   ]
  },
  {
   "cell_type": "markdown",
   "metadata": {
    "id": "Bj6EdLXThWmI"
   },
   "source": [
    "## Case 3: SQL agents\n",
    "\n",
    "LangChain has a SQL Agent that is more flexible than the 'SQLDatabaseChain' in communicating with SQL Databases.\n",
    "\n",
    "The following are the primary benefits of utilising the SQL Agent:\n",
    "\n",
    "- It can answer questions based on the schema as well as the content of the databases (for example, describing a specific table).\n",
    "- It can recover from problems by running a created query, capturing the traceback, and correctly rebuilding it.\n",
    "\n",
    "In [this article](https://medium.com/dataherald/how-to-connect-llm-to-sql-database-with-langchain-sqlagent-48635fddaa74#:~:text=LangChain%20SQLAgent%20is%20a%20powerful,calls%20for%20answering%20user%20questions.) the author desribed reasons why you might want to consider using an agent for SQL queries rather than just a chain:\n",
    "\n",
    "> *'...Let us first understand what is an agent and why it might be preferred over a simple SQLChain. An agent is a component that has access to a suite of tools, including a Large Language Model (LLM). Its distinguishing characteristic lies in its ability to make informed decisions based on user input, utilizing the appropriate tools until it achieves a satisfactory answer. For example in the context of text-to-SQL, the LangChain SQLAgent will not give up if there is an error in executing the generated SQL. Instead, it will attempt to recover by interpreting the error in a subsequent LLM call and rectify the issue. Therefore, in theory, SQLAgent should outperform SQLChain in productivity and accuracy'*\n",
    "\n",
    "And this is what that author found from their experiments:\n",
    "\n",
    "> *'...During our tests, we ran multiple questions on both SQLChain and SQLAgent using GPT-3.5 and compared their respective results. Our findings revealed that SQLAgent outperformed SQLChain by answering a greater number of questions...For accuracy, however, our findings also indicate a higher incidence of incorrect responses from SQLAgent. Besides the general shortcomings of using LLM to query database, we hypothesize that SQLAgent will occasionally make its best attempt to answer a question even when concrete results cannot be obtained from the SQL query.'*\n",
    "\n",
    "The 'create_sql_agent' method is used to initialise the agent.\n",
    "\n",
    "This agent includes the 'SQLDatabaseToolkit,' which includes tools for:\n",
    "\n",
    "* Create and run queries \n",
    "* Verify query syntax \n",
    "* Get table descriptions \n",
    "* ... and much more"
   ]
  },
  {
   "cell_type": "code",
   "execution_count": 19,
   "metadata": {
    "id": "SpQTKSUyhWmI"
   },
   "outputs": [],
   "source": [
    "from langchain.agents import create_sql_agent\n",
    "from langchain.agents.agent_toolkits import SQLDatabaseToolkit\n",
    "# from langchain.agents import AgentExecutor\n",
    "from langchain.agents.agent_types import AgentType\n",
    "\n",
    "db = SQLDatabase.from_uri(\"sqlite:///Chinook.db\")\n",
    "llm = OpenAI(temperature=0, verbose=True)\n",
    "\n",
    "agent_executor = create_sql_agent(\n",
    "    llm=OpenAI(temperature=0),\n",
    "    toolkit=SQLDatabaseToolkit(db=db, llm=OpenAI(temperature=0)),\n",
    "    verbose=True,\n",
    "    agent_type=AgentType.ZERO_SHOT_REACT_DESCRIPTION,\n",
    ")"
   ]
  },
  {
   "cell_type": "markdown",
   "metadata": {
    "id": "IXeOnVaihWmJ"
   },
   "source": [
    "### Agent task example #1 - Running queries\n"
   ]
  },
  {
   "cell_type": "code",
   "execution_count": 20,
   "metadata": {
    "id": "wPDaT-GHhWmJ",
    "outputId": "c98e1428-eac3-4e58-986a-a292057c6e33"
   },
   "outputs": [
    {
     "name": "stdout",
     "output_type": "stream",
     "text": [
      "\n",
      "\n",
      "\u001b[1m> Entering new AgentExecutor chain...\u001b[0m\n",
      "\u001b[32;1m\u001b[1;3mAction: sql_db_list_tables\n",
      "Action Input: \u001b[0m\n",
      "Observation: \u001b[38;5;200m\u001b[1;3mAlbum, Artist, Customer, Employee, Genre, Invoice, InvoiceLine, MediaType, Playlist, PlaylistTrack, Track\u001b[0m\n",
      "Thought:\u001b[32;1m\u001b[1;3m I should query the schema of the Invoice and Customer tables.\n",
      "Action: sql_db_schema\n",
      "Action Input: Invoice, Customer\u001b[0m\n",
      "Observation: \u001b[33;1m\u001b[1;3m\n",
      "CREATE TABLE \"Customer\" (\n",
      "\t\"CustomerId\" INTEGER NOT NULL, \n",
      "\t\"FirstName\" NVARCHAR(40) NOT NULL, \n",
      "\t\"LastName\" NVARCHAR(20) NOT NULL, \n",
      "\t\"Company\" NVARCHAR(80), \n",
      "\t\"Address\" NVARCHAR(70), \n",
      "\t\"City\" NVARCHAR(40), \n",
      "\t\"State\" NVARCHAR(40), \n",
      "\t\"Country\" NVARCHAR(40), \n",
      "\t\"PostalCode\" NVARCHAR(10), \n",
      "\t\"Phone\" NVARCHAR(24), \n",
      "\t\"Fax\" NVARCHAR(24), \n",
      "\t\"Email\" NVARCHAR(60) NOT NULL, \n",
      "\t\"SupportRepId\" INTEGER, \n",
      "\tPRIMARY KEY (\"CustomerId\"), \n",
      "\tFOREIGN KEY(\"SupportRepId\") REFERENCES \"Employee\" (\"EmployeeId\")\n",
      ")\n",
      "\n",
      "/*\n",
      "3 rows from Customer table:\n",
      "CustomerId\tFirstName\tLastName\tCompany\tAddress\tCity\tState\tCountry\tPostalCode\tPhone\tFax\tEmail\tSupportRepId\n",
      "1\tLuís\tGonçalves\tEmbraer - Empresa Brasileira de Aeronáutica S.A.\tAv. Brigadeiro Faria Lima, 2170\tSão José dos Campos\tSP\tBrazil\t12227-000\t+55 (12) 3923-5555\t+55 (12) 3923-5566\tluisg@embraer.com.br\t3\n",
      "2\tLeonie\tKöhler\tNone\tTheodor-Heuss-Straße 34\tStuttgart\tNone\tGermany\t70174\t+49 0711 2842222\tNone\tleonekohler@surfeu.de\t5\n",
      "3\tFrançois\tTremblay\tNone\t1498 rue Bélanger\tMontréal\tQC\tCanada\tH2G 1A7\t+1 (514) 721-4711\tNone\tftremblay@gmail.com\t3\n",
      "*/\n",
      "\n",
      "\n",
      "CREATE TABLE \"Invoice\" (\n",
      "\t\"InvoiceId\" INTEGER NOT NULL, \n",
      "\t\"CustomerId\" INTEGER NOT NULL, \n",
      "\t\"InvoiceDate\" DATETIME NOT NULL, \n",
      "\t\"BillingAddress\" NVARCHAR(70), \n",
      "\t\"BillingCity\" NVARCHAR(40), \n",
      "\t\"BillingState\" NVARCHAR(40), \n",
      "\t\"BillingCountry\" NVARCHAR(40), \n",
      "\t\"BillingPostalCode\" NVARCHAR(10), \n",
      "\t\"Total\" NUMERIC(10, 2) NOT NULL, \n",
      "\tPRIMARY KEY (\"InvoiceId\"), \n",
      "\tFOREIGN KEY(\"CustomerId\") REFERENCES \"Customer\" (\"CustomerId\")\n",
      ")\n",
      "\n",
      "/*\n",
      "3 rows from Invoice table:\n",
      "InvoiceId\tCustomerId\tInvoiceDate\tBillingAddress\tBillingCity\tBillingState\tBillingCountry\tBillingPostalCode\tTotal\n",
      "1\t2\t2009-01-01 00:00:00\tTheodor-Heuss-Straße 34\tStuttgart\tNone\tGermany\t70174\t1.98\n",
      "2\t4\t2009-01-02 00:00:00\tUllevålsveien 14\tOslo\tNone\tNorway\t0171\t3.96\n",
      "3\t8\t2009-01-03 00:00:00\tGrétrystraat 63\tBrussels\tNone\tBelgium\t1000\t5.94\n",
      "*/\u001b[0m\n",
      "Thought:\u001b[32;1m\u001b[1;3m I should query the total sales per country.\n",
      "Action: sql_db_query\n",
      "Action Input: SELECT Country, SUM(Total) AS TotalSales FROM Invoice INNER JOIN Customer ON Invoice.CustomerId = Customer.CustomerId GROUP BY Country ORDER BY TotalSales DESC LIMIT 10\u001b[0m\n",
      "Observation: \u001b[36;1m\u001b[1;3m[('USA', 523.0600000000003), ('Canada', 303.9599999999999), ('France', 195.09999999999994), ('Brazil', 190.09999999999997), ('Germany', 156.48), ('United Kingdom', 112.85999999999999), ('Czech Republic', 90.24000000000001), ('Portugal', 77.23999999999998), ('India', 75.25999999999999), ('Chile', 46.62)]\u001b[0m\n",
      "Thought:\u001b[32;1m\u001b[1;3m I now know the final answer\n",
      "Final Answer: The country with the highest total sales is the USA, with a total of $523.06.\u001b[0m\n",
      "\n",
      "\u001b[1m> Finished chain.\u001b[0m\n"
     ]
    },
    {
     "data": {
      "text/plain": [
       "'The country with the highest total sales is the USA, with a total of $523.06.'"
      ]
     },
     "execution_count": 20,
     "metadata": {},
     "output_type": "execute_result"
    }
   ],
   "source": [
    "agent_executor.run(\n",
    "    \"List the total sales per country. Which country's customers spent the most?\"\n",
    ")"
   ]
  },
  {
   "cell_type": "markdown",
   "metadata": {
    "id": "dWW1nbzHhWmJ"
   },
   "source": [
    "Looking at the LangSmith trace, we can see:\n",
    "\n",
    "* The agent is using a ReAct style prompt\n",
    "* First, it will look at the tables: `Action: sql_db_list_tables` using tool `sql_db_list_tables`\n",
    "* Given the tables as an observation, it `thinks` and then determinates the next `action`:\n",
    "\n",
    "```\n",
    "Observation: Album, Artist, Customer, Employee, Genre, Invoice, InvoiceLine, MediaType, Playlist, PlaylistTrack, Track\n",
    "Thought: I should query the schema of the Invoice and Customer tables.\n",
    "Action: sql_db_schema\n",
    "Action Input: Invoice, Customer\n",
    "```\n",
    "\n",
    "* It then formulates the query using the schema from tool `sql_db_schema`\n",
    "\n",
    "```\n",
    "Thought: I should query the total sales per country.\n",
    "Action: sql_db_query\n",
    "Action Input: SELECT Country, SUM(Total) AS TotalSales FROM Invoice INNER JOIN Customer ON Invoice.CustomerId = Customer.CustomerId GROUP BY Country ORDER BY TotalSales DESC LIMIT 10\n",
    "```\n",
    "\n",
    "<img src=\"https://github.com/pranath/blog/raw/master/images/langsmith-sql3.png\" width=\"800\"/>\n",
    "\n",
    "* It finally executes the generated query using tool `sql_db_query`\n",
    "\n",
    "<img src=\"https://github.com/pranath/blog/raw/master/images/langsmith-sql4.png\" width=\"800\"/>"
   ]
  },
  {
   "cell_type": "markdown",
   "metadata": {
    "id": "1fkz58hFhWmJ"
   },
   "source": [
    "### Agent task example #2 - Describing a Table"
   ]
  },
  {
   "cell_type": "code",
   "execution_count": 21,
   "metadata": {
    "id": "N3wjOxbvhWmJ",
    "outputId": "445b8b45-1ee6-4aee-b549-88e19c4c82eb"
   },
   "outputs": [
    {
     "name": "stdout",
     "output_type": "stream",
     "text": [
      "\n",
      "\n",
      "\u001b[1m> Entering new AgentExecutor chain...\u001b[0m\n",
      "\u001b[32;1m\u001b[1;3mAction: sql_db_list_tables\n",
      "Action Input: \u001b[0m\n",
      "Observation: \u001b[38;5;200m\u001b[1;3mAlbum, Artist, Customer, Employee, Genre, Invoice, InvoiceLine, MediaType, Playlist, PlaylistTrack, Track\u001b[0m\n",
      "Thought:\u001b[32;1m\u001b[1;3m The PlaylistTrack table is the most relevant to the question.\n",
      "Action: sql_db_schema\n",
      "Action Input: PlaylistTrack\u001b[0m\n",
      "Observation: \u001b[33;1m\u001b[1;3m\n",
      "CREATE TABLE \"PlaylistTrack\" (\n",
      "\t\"PlaylistId\" INTEGER NOT NULL, \n",
      "\t\"TrackId\" INTEGER NOT NULL, \n",
      "\tPRIMARY KEY (\"PlaylistId\", \"TrackId\"), \n",
      "\tFOREIGN KEY(\"TrackId\") REFERENCES \"Track\" (\"TrackId\"), \n",
      "\tFOREIGN KEY(\"PlaylistId\") REFERENCES \"Playlist\" (\"PlaylistId\")\n",
      ")\n",
      "\n",
      "/*\n",
      "3 rows from PlaylistTrack table:\n",
      "PlaylistId\tTrackId\n",
      "1\t3402\n",
      "1\t3389\n",
      "1\t3390\n",
      "*/\u001b[0m\n",
      "Thought:\u001b[32;1m\u001b[1;3m I now know the final answer\n",
      "Final Answer: The PlaylistTrack table contains two columns, PlaylistId and TrackId, which are both integers and form a primary key. It also has two foreign keys, one to the Track table and one to the Playlist table.\u001b[0m\n",
      "\n",
      "\u001b[1m> Finished chain.\u001b[0m\n"
     ]
    },
    {
     "data": {
      "text/plain": [
       "'The PlaylistTrack table contains two columns, PlaylistId and TrackId, which are both integers and form a primary key. It also has two foreign keys, one to the Track table and one to the Playlist table.'"
      ]
     },
     "execution_count": 21,
     "metadata": {},
     "output_type": "execute_result"
    }
   ],
   "source": [
    "agent_executor.run(\"Describe the playlisttrack table\")"
   ]
  },
  {
   "cell_type": "markdown",
   "metadata": {
    "id": "Nm7W-JnPhWmJ"
   },
   "source": [
    "### Go deeper\n",
    "\n",
    "To learn more about the SQL Agent and how it works we refer to the [SQL Agent Toolkit](/docs/integrations/toolkits/sql_database) documentation.\n",
    "\n",
    "You can also check Agents for other document types:\n",
    "- [Pandas Agent](/docs/integrations/toolkits/pandas.html)\n",
    "- [CSV Agent](/docs/integrations/toolkits/csv.html)"
   ]
  },
  {
   "cell_type": "markdown",
   "metadata": {},
   "source": [
    "## Acknowledgements\n",
    "\n",
    "I'd like to express my thanks to the wonderful [Langsmith Documentation](https://docs.smith.langchain.com/) and acknowledge the use of some images and other materials from the documentation in this article."
   ]
  },
  {
   "cell_type": "code",
   "execution_count": null,
   "metadata": {},
   "outputs": [],
   "source": []
  }
 ],
 "metadata": {
  "colab": {
   "provenance": []
  },
  "kernelspec": {
   "display_name": "Python 3 (ipykernel)",
   "language": "python",
   "name": "python3"
  },
  "language_info": {
   "codemirror_mode": {
    "name": "ipython",
    "version": 3
   },
   "file_extension": ".py",
   "mimetype": "text/x-python",
   "name": "python",
   "nbconvert_exporter": "python",
   "pygments_lexer": "ipython3",
   "version": "3.9.13"
  }
 },
 "nbformat": 4,
 "nbformat_minor": 4
}
