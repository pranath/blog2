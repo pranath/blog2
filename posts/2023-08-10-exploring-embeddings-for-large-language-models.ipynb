{
 "cells": [
  {
   "cell_type": "raw",
   "id": "de574e78-77a2-4b53-a089-4b28aa3a768d",
   "metadata": {},
   "source": [
    "---\n",
    "date: '2023-08-10'\n",
    "categories:\n",
    " - natural-language-processing\n",
    " - deep-learning\n",
    " - langchain\n",
    " - activeloop\n",
    " - openai\n",
    " - retrievers\n",
    " - vectordb\n",
    "title: Exploring Embeddings for Large Language Models\n",
    "description: High-dimensional vectors called embeddings are used to store semantic data. Textual data can be transformed into embedding space by large language models, enabling flexible representations across languages. These embeddings act as useful tools for identifying relevant information.\n",
    "image: https://github.com/pranath/blog/raw/master/images/langchain-deeplake2.png\n",
    "---"
   ]
  },
  {
   "cell_type": "markdown",
   "id": "73ad0baa-a419-403d-a08f-45ac363c490e",
   "metadata": {},
   "source": [
    "## Introduction\n",
    "\n",
    "The most fascinating and useful components of machine learning are vector embeddings, which are essential to many natural language processing, recommendation, and search algorithms. You have dealt with embedding-using systems if you have used voice assistants, recommendation engines, or translators.\n",
    "\n",
    "Embeddings are semantically rich dense vector representations of data that are well suited for a variety of machine learning applications, including clustering, recommendation, and classification. They can be generated for a variety of data kinds, including text, photos, and audio, and they convert human-perceived semantic similarity into closeness in vector space.\n",
    "\n",
    "For text data, vector embeddings of words, phrases, or paragraphs are produced using models from the GPT family of models and Llama. Convolutional neural networks (CNNs), like VGG and Inception, may produce embeddings for images. Using image embedding methods on spectrograms and other visual representations of audio frequencies, audio recordings can be turned into vectors. It is common practise to use deep neural networks to train models that transform objects into vectors. The resulting embeddings are frequently dense and high-dimensional.\n",
    "\n",
    "In similarity search applications like KNN and ANN, where computing the distances between vectors to identify similarity is necessary, embeddings are widely utilised. For tasks like de-duplication, recommendations, anomaly detection, and reverse image search, nearest neighbour search can be used.\n",
    "\n",
    "## Similarity search and vector embeddings \n",
    "\n",
    "GPT-3, a potent language model provided by OpenAI, can be used for a variety of tasks, including creating embeddings and running similarity searches. In this example, we'll create embeddings for a collection of documents using the OpenAI API and then do a similarity search using cosine similarity."
   ]
  },
  {
   "cell_type": "code",
   "execution_count": 1,
   "id": "1603b94c-d467-4dbf-87d2-99ed74f6652a",
   "metadata": {},
   "outputs": [
    {
     "name": "stdout",
     "output_type": "stream",
     "text": [
      "Requirement already satisfied: cohere in /Users/pranathfernando/opt/anaconda3/lib/python3.9/site-packages (4.20.0)\n",
      "Requirement already satisfied: deeplake in /Users/pranathfernando/opt/anaconda3/lib/python3.9/site-packages (3.6.17)\n",
      "Requirement already satisfied: importlib_metadata<7.0,>=6.0 in /Users/pranathfernando/opt/anaconda3/lib/python3.9/site-packages (from cohere) (6.8.0)\n",
      "Requirement already satisfied: requests<3.0.0,>=2.25.0 in /Users/pranathfernando/opt/anaconda3/lib/python3.9/site-packages (from cohere) (2.28.1)\n",
      "Requirement already satisfied: aiohttp<4.0,>=3.0 in /Users/pranathfernando/opt/anaconda3/lib/python3.9/site-packages (from cohere) (3.8.4)\n",
      "Requirement already satisfied: urllib3<3,>=1.26 in /Users/pranathfernando/opt/anaconda3/lib/python3.9/site-packages (from cohere) (1.26.11)\n",
      "Requirement already satisfied: backoff<3.0,>=2.0 in /Users/pranathfernando/opt/anaconda3/lib/python3.9/site-packages (from cohere) (2.2.1)\n",
      "Requirement already satisfied: fastavro==1.8.2 in /Users/pranathfernando/opt/anaconda3/lib/python3.9/site-packages (from cohere) (1.8.2)\n",
      "Requirement already satisfied: boto3 in /Users/pranathfernando/opt/anaconda3/lib/python3.9/site-packages (from deeplake) (1.26.76)\n",
      "Requirement already satisfied: pillow in /Users/pranathfernando/opt/anaconda3/lib/python3.9/site-packages (from deeplake) (9.2.0)\n",
      "Requirement already satisfied: numpy in /Users/pranathfernando/opt/anaconda3/lib/python3.9/site-packages (from deeplake) (1.23.5)\n",
      "Requirement already satisfied: pathos in /Users/pranathfernando/opt/anaconda3/lib/python3.9/site-packages (from deeplake) (0.3.1)\n",
      "Requirement already satisfied: tqdm in /Users/pranathfernando/opt/anaconda3/lib/python3.9/site-packages (from deeplake) (4.65.0)\n",
      "Requirement already satisfied: numcodecs in /Users/pranathfernando/opt/anaconda3/lib/python3.9/site-packages (from deeplake) (0.11.0)\n",
      "Requirement already satisfied: pyjwt in /Users/pranathfernando/opt/anaconda3/lib/python3.9/site-packages (from deeplake) (2.4.0)\n",
      "Requirement already satisfied: nest-asyncio in /Users/pranathfernando/opt/anaconda3/lib/python3.9/site-packages (from deeplake) (1.5.5)\n",
      "Requirement already satisfied: click in /Users/pranathfernando/opt/anaconda3/lib/python3.9/site-packages (from deeplake) (8.0.4)\n",
      "Requirement already satisfied: aioboto3>=10.4.0 in /Users/pranathfernando/opt/anaconda3/lib/python3.9/site-packages (from deeplake) (11.2.0)\n",
      "Requirement already satisfied: humbug>=0.3.1 in /Users/pranathfernando/opt/anaconda3/lib/python3.9/site-packages (from deeplake) (0.3.2)\n",
      "Requirement already satisfied: aiobotocore[boto3]==2.5.0 in /Users/pranathfernando/opt/anaconda3/lib/python3.9/site-packages (from aioboto3>=10.4.0->deeplake) (2.5.0)\n",
      "Requirement already satisfied: wrapt>=1.10.10 in /Users/pranathfernando/opt/anaconda3/lib/python3.9/site-packages (from aiobotocore[boto3]==2.5.0->aioboto3>=10.4.0->deeplake) (1.14.1)\n",
      "Requirement already satisfied: botocore<1.29.77,>=1.29.76 in /Users/pranathfernando/opt/anaconda3/lib/python3.9/site-packages (from aiobotocore[boto3]==2.5.0->aioboto3>=10.4.0->deeplake) (1.29.76)\n",
      "Requirement already satisfied: aioitertools>=0.5.1 in /Users/pranathfernando/opt/anaconda3/lib/python3.9/site-packages (from aiobotocore[boto3]==2.5.0->aioboto3>=10.4.0->deeplake) (0.11.0)\n",
      "Requirement already satisfied: multidict<7.0,>=4.5 in /Users/pranathfernando/opt/anaconda3/lib/python3.9/site-packages (from aiohttp<4.0,>=3.0->cohere) (6.0.4)\n",
      "Requirement already satisfied: frozenlist>=1.1.1 in /Users/pranathfernando/opt/anaconda3/lib/python3.9/site-packages (from aiohttp<4.0,>=3.0->cohere) (1.3.3)\n",
      "Requirement already satisfied: charset-normalizer<4.0,>=2.0 in /Users/pranathfernando/opt/anaconda3/lib/python3.9/site-packages (from aiohttp<4.0,>=3.0->cohere) (2.0.4)\n",
      "Requirement already satisfied: attrs>=17.3.0 in /Users/pranathfernando/opt/anaconda3/lib/python3.9/site-packages (from aiohttp<4.0,>=3.0->cohere) (21.4.0)\n",
      "Requirement already satisfied: yarl<2.0,>=1.0 in /Users/pranathfernando/opt/anaconda3/lib/python3.9/site-packages (from aiohttp<4.0,>=3.0->cohere) (1.9.2)\n",
      "Requirement already satisfied: aiosignal>=1.1.2 in /Users/pranathfernando/opt/anaconda3/lib/python3.9/site-packages (from aiohttp<4.0,>=3.0->cohere) (1.3.1)\n",
      "Requirement already satisfied: async-timeout<5.0,>=4.0.0a3 in /Users/pranathfernando/opt/anaconda3/lib/python3.9/site-packages (from aiohttp<4.0,>=3.0->cohere) (4.0.2)\n",
      "Requirement already satisfied: s3transfer<0.7.0,>=0.6.0 in /Users/pranathfernando/opt/anaconda3/lib/python3.9/site-packages (from boto3->deeplake) (0.6.0)\n",
      "Requirement already satisfied: jmespath<2.0.0,>=0.7.1 in /Users/pranathfernando/opt/anaconda3/lib/python3.9/site-packages (from boto3->deeplake) (0.10.0)\n",
      "Requirement already satisfied: zipp>=0.5 in /Users/pranathfernando/opt/anaconda3/lib/python3.9/site-packages (from importlib_metadata<7.0,>=6.0->cohere) (3.8.0)\n",
      "Requirement already satisfied: certifi>=2017.4.17 in /Users/pranathfernando/opt/anaconda3/lib/python3.9/site-packages (from requests<3.0.0,>=2.25.0->cohere) (2023.5.7)\n",
      "Requirement already satisfied: idna<4,>=2.5 in /Users/pranathfernando/opt/anaconda3/lib/python3.9/site-packages (from requests<3.0.0,>=2.25.0->cohere) (3.3)\n",
      "Requirement already satisfied: entrypoints in /Users/pranathfernando/opt/anaconda3/lib/python3.9/site-packages (from numcodecs->deeplake) (0.4)\n",
      "Requirement already satisfied: pox>=0.3.3 in /Users/pranathfernando/opt/anaconda3/lib/python3.9/site-packages (from pathos->deeplake) (0.3.3)\n",
      "Requirement already satisfied: dill>=0.3.7 in /Users/pranathfernando/opt/anaconda3/lib/python3.9/site-packages (from pathos->deeplake) (0.3.7)\n",
      "Requirement already satisfied: ppft>=1.7.6.7 in /Users/pranathfernando/opt/anaconda3/lib/python3.9/site-packages (from pathos->deeplake) (1.7.6.7)\n",
      "Requirement already satisfied: multiprocess>=0.70.15 in /Users/pranathfernando/opt/anaconda3/lib/python3.9/site-packages (from pathos->deeplake) (0.70.15)\n",
      "Requirement already satisfied: python-dateutil<3.0.0,>=2.1 in /Users/pranathfernando/opt/anaconda3/lib/python3.9/site-packages (from botocore<1.29.77,>=1.29.76->aiobotocore[boto3]==2.5.0->aioboto3>=10.4.0->deeplake) (2.8.2)\n",
      "Requirement already satisfied: typing_extensions>=4.0 in /Users/pranathfernando/opt/anaconda3/lib/python3.9/site-packages (from aioitertools>=0.5.1->aiobotocore[boto3]==2.5.0->aioboto3>=10.4.0->deeplake) (4.6.3)\n",
      "Requirement already satisfied: six>=1.5 in /Users/pranathfernando/opt/anaconda3/lib/python3.9/site-packages (from python-dateutil<3.0.0,>=2.1->botocore<1.29.77,>=1.29.76->aiobotocore[boto3]==2.5.0->aioboto3>=10.4.0->deeplake) (1.16.0)\n"
     ]
    }
   ],
   "source": [
    "#| include: false\n",
    "!pip install cohere deeplake"
   ]
  },
  {
   "cell_type": "code",
   "execution_count": 1,
   "id": "7022928e-0e0b-44de-b049-427700797a04",
   "metadata": {},
   "outputs": [
    {
     "name": "stdout",
     "output_type": "stream",
     "text": [
      "Most similar document to the query 'A cat is sitting on a mat.':\n",
      "The cat is on the mat.\n"
     ]
    }
   ],
   "source": [
    "import os\n",
    "import openai\n",
    "import numpy as np\n",
    "from sklearn.metrics.pairwise import cosine_similarity\n",
    "from langchain.embeddings import OpenAIEmbeddings\n",
    "import sys\n",
    "sys.path.append('../..')\n",
    "from dotenv import load_dotenv, find_dotenv\n",
    "_ = load_dotenv(find_dotenv()) # read local .env file\n",
    "\n",
    "openai.api_key  = os.environ['OPENAI_API_KEY']\n",
    "\n",
    "# Define the documents\n",
    "documents = [\n",
    "    \"The cat is on the mat.\",\n",
    "    \"There is a cat on the mat.\",\n",
    "    \"The dog is in the yard.\",\n",
    "    \"There is a dog in the yard.\",\n",
    "]\n",
    "\n",
    "# Initialize the OpenAIEmbeddings instance\n",
    "embeddings = OpenAIEmbeddings(model=\"text-embedding-ada-002\")\n",
    "\n",
    "# Generate embeddings for the documents\n",
    "document_embeddings = embeddings.embed_documents(documents)\n",
    "\n",
    "# Perform a similarity search for a given query\n",
    "query = \"A cat is sitting on a mat.\"\n",
    "query_embedding = embeddings.embed_query(query)\n",
    "\n",
    "# Calculate similarity scores\n",
    "similarity_scores = cosine_similarity([query_embedding], document_embeddings)[0]\n",
    "\n",
    "# Find the most similar document\n",
    "most_similar_index = np.argmax(similarity_scores)\n",
    "most_similar_document = documents[most_similar_index]\n",
    "\n",
    "print(f\"Most similar document to the query '{query}':\")\n",
    "print(most_similar_document)"
   ]
  },
  {
   "cell_type": "markdown",
   "id": "26999d5d-75d9-4fb6-a251-2948d48706f5",
   "metadata": {},
   "source": [
    "By setting the OpenAI API key, we initialise the OpenAI API client. This enables us to generate embeddings using OpenAI's services.\n",
    "\n",
    "A list of documents is then defined as strings. We want to examine these documents' text data for semantic similarity.\n",
    "\n",
    "We must convert our texts into a format that our similarity computation algorithm can comprehend in order to conduct this analysis. The OpenAIEmbeddings class steps in at this point. We use it to create vectors that represent each document's semantic information by creating embeddings for each one of them.\n",
    "\n",
    "In a similar manner, we create an embedding from our query string. The text we want to identify the most comparable document to is in the query string.\n",
    "\n",
    "We calculate the cosine similarity between the query embedding and each document embedding now that our documents and query have been transformed into embeddings. A metric for comparing the similarity of two vectors is the cosine similarity. It provides us with a list of similarity scores for each document in our situation for our query.\n",
    "\n",
    "We then determine the document that most closely resembles our query using our similarity ratings. In order to accomplish this, we locate the document with the highest similarity score in our list of papers and get it.\n",
    "\n",
    "**Embedding vectors** that are close to one another are thought to be comparable. Sometimes they are used directly to display related products in online stores. Instead of treating them as completely separate entities, they are sometimes merged into other models to share insights across related topics. For following model applications, this makes embeddings useful for expressing things like online browsing habits, text data, and e-commerce transactions.\n",
    "\n",
    "## Embedding Models\n",
    "\n",
    "A machine learning model called an **embedding model** turns discrete input into continuous vectors. These discrete data points in the context of natural language processing can be words, sentences, or even whole publications. The resulting vectors, often referred to as embeddings, are made to preserve the original data's semantic meaning.\n",
    "\n",
    "For instance, words with similar semantic meanings, such as \"cat\" and \"kitten,\" would have comparable embeddings. These embeddings are dense, which means they capture subtle meaning variations by using numerous dimensions—often hundreds.\n",
    "\n",
    "The main advantage of embeddings is that they make it possible to infer semantic meaning from mathematical procedures. To determine how semantically similar two embeddings are, for instance, we can compute the cosine similarity between them.\n",
    "\n",
    "We selected the pre-trained \"sentence-transformers/all-mpnet-base-v2\" model for this challenge. The goal of this model is to turn sentences into embeddings, which are vectors that capture the semantic content of the phrases. Here, we utilise the model_kwargs parameter to specify that we want to do our calculations on the CPU."
   ]
  },
  {
   "cell_type": "code",
   "execution_count": null,
   "id": "d6f0a075-a97e-4b5a-840c-c130e3cbeafa",
   "metadata": {},
   "outputs": [],
   "source": [
    "from langchain.llms import HuggingFacePipeline\n",
    "from langchain.embeddings import HuggingFaceEmbeddings\n",
    "\n",
    "model_name = \"sentence-transformers/all-mpnet-base-v2\"\n",
    "model_kwargs = {'device': 'cpu'}\n",
    "hf = HuggingFaceEmbeddings(model_name=model_name, model_kwargs=model_kwargs)\n",
    "\n",
    "documents = [\"Document 1\", \"Document 2\", \"Document 3\"]\n",
    "doc_embeddings = hf.embed_documents(documents)"
   ]
  },
  {
   "cell_type": "markdown",
   "id": "7004ef22-4945-49cf-858f-1a74b8807f01",
   "metadata": {},
   "source": [
    "After creating our model, we list the documents that will be used to create the semantic embeddings for our model.\n",
    "\n",
    "We proceed to generate the embeddings after our model and documents are prepared. By using our list of documents as a parameter, we call the embed_documents function on our HuggingFaceEmbeddings object to accomplish this. Each document is processed by this method, which then produces a list of embeddings for each one.\n",
    "\n",
    "Any subsequent tasks, such classification, clustering, or similarity analysis, can now use these embeddings. We can carry out intricate semantic tasks thanks to their representation of our source materials in a way that computers can comprehend and process."
   ]
  },
  {
   "cell_type": "markdown",
   "id": "da67c72d-af08-4b59-a6d3-c3a381502144",
   "metadata": {},
   "source": [
    "## Cohere embeddings\n",
    "\n",
    "Cohere is committed to democratising cutting-edge NLP technology around the world by making its creative multilingual language models available to everyone. Their Multilingual Model substantially improves multilingual applications like search operations by turning text into a semantic vector space for greater text similarity understanding. The multilingual model performs better since it uses dot product computations, in contrast to their English language counterpart. \n",
    "\n",
    "The 768-dimensional vector space used to express these multilingual embeddings.\n",
    "\n",
    "One must obtain an API key in order to use the Cohere API's power. Here's how to accomplish it step-by-step:\n",
    "\n",
    "1. Visit the [Cohere Dashboard](https://dashboard.cohere.ai/welcome/login?redirect_uri=%2Fapi-keys)\n",
    "2. If you haven't already, you must either log in or sign up for a Cohere account. Please note that you agree to adhere to the Terms of Use and Privacy Policy by signing up.\n",
    "3. When you're logged in, the dashboard provides an intuitive interface to create and manage your API keys.\n",
    "\n",
    "We initialise an instance of the CohereEmbeddings class within LangChain using the \"embed-multilingual-v2.0\" model after we obtain the API key.\n",
    "\n",
    "Then, a collection of documents in various languages is specified. Then, to create distinct embeddings for each text in the list, the embed_documents() method is used.\n",
    "\n",
    "We print each text together with its matching embedding to show the findings. We simply show the first 5 dimensions of each embedding to keep things simple. You must also run the pip install cohere command to install the cohere package."
   ]
  },
  {
   "cell_type": "code",
   "execution_count": 3,
   "id": "a021cf48-52ad-496b-ad39-db98d327016d",
   "metadata": {},
   "outputs": [
    {
     "name": "stdout",
     "output_type": "stream",
     "text": [
      "Text: Hello from Cohere!\n",
      "Embedding: [0.23449707, 0.50097656, -0.04876709, 0.14001465, -0.1796875]\n",
      "Text: مرحبًا من كوهير!\n",
      "Embedding: [0.25341797, 0.30004883, 0.01083374, 0.12573242, -0.1821289]\n",
      "Text: Hallo von Cohere!\n",
      "Embedding: [0.10205078, 0.28320312, -0.0496521, 0.2364502, -0.0715332]\n",
      "Text: Bonjour de Cohere!\n",
      "Embedding: [0.15161133, 0.28222656, -0.057281494, 0.11743164, -0.044189453]\n",
      "Text: ¡Hola desde Cohere!\n",
      "Embedding: [0.25146484, 0.43139648, -0.08642578, 0.24682617, -0.117004395]\n",
      "Text: Olá do Cohere!\n",
      "Embedding: [0.18676758, 0.390625, -0.04550171, 0.14562988, -0.11230469]\n",
      "Text: Ciao da Cohere!\n",
      "Embedding: [0.11590576, 0.4333496, -0.025772095, 0.14538574, 0.0703125]\n",
      "Text: 您好，来自 Cohere！\n",
      "Embedding: [0.24645996, 0.3083496, -0.111816406, 0.26586914, -0.05102539]\n",
      "Text: कोहेरे से नमस्ते!\n",
      "Embedding: [0.19274902, 0.6352539, 0.031951904, 0.117370605, -0.26098633]\n"
     ]
    }
   ],
   "source": [
    "import cohere\n",
    "from langchain.embeddings import CohereEmbeddings\n",
    "\n",
    "# Initialize the CohereEmbeddings object\n",
    "cohere = CohereEmbeddings(\n",
    "\tmodel=\"embed-multilingual-v2.0\",\n",
    "\tcohere_api_key=os.environ['COHERE_API_KEY']\n",
    ")\n",
    "\n",
    "# Define a list of texts\n",
    "texts = [\n",
    "    \"Hello from Cohere!\", \n",
    "    \"مرحبًا من كوهير!\", \n",
    "    \"Hallo von Cohere!\",  \n",
    "    \"Bonjour de Cohere!\", \n",
    "    \"¡Hola desde Cohere!\", \n",
    "    \"Olá do Cohere!\",  \n",
    "    \"Ciao da Cohere!\", \n",
    "    \"您好，来自 Cohere！\", \n",
    "    \"कोहेरे से नमस्ते!\"\n",
    "]\n",
    "\n",
    "# Generate embeddings for the texts\n",
    "document_embeddings = cohere.embed_documents(texts)\n",
    "\n",
    "# Print the embeddings\n",
    "for text, embedding in zip(texts, document_embeddings):\n",
    "    print(f\"Text: {text}\")\n",
    "    print(f\"Embedding: {embedding[:5]}\")  # print first 5 dimensions of each embedding"
   ]
  },
  {
   "cell_type": "markdown",
   "id": "44653a52-d4ef-4252-9f77-6c34517e0a34",
   "metadata": {},
   "source": [
    "Cohere's sophisticated language models are the perfect fit for LangChain, a complete library created for language comprehension and processing. This enables a wider range of applications, from semantic search to customer feedback analysis and content moderation, across a number of languages. It makes it easier to integrate Cohere's multilingual embeddings into a developer's workflow.\n",
    "\n",
    "When combined with Cohere, LangChain removes the need for intricate pipelines, making the generation and manipulation of high-dimensional embeddings simple and effective. When linked to Cohere's embedding endpoint and given a list of multilingual texts, the embed_documents() method in LangChain's CohereEmbeddings class may quickly create distinct semantic embeddings for each text.\n",
    "\n",
    "## Deep Lake Vector Store\n",
    "\n",
    "High-dimensional vectors can be efficiently stored and managed using **vector stores**, which are data structures or databases. They make it possible to do nearest neighbour searches, similarity searches, and other vector-related operations quickly. Different data structures, such as KD trees, Vantage Point trees, or approximate nearest neighbour (ANN) methods, can be used to build vector stores.\n",
    "\n",
    "**Deep Lake** functions as a multi-modal vector store as well as a data lake for deep learning. As a multi-modal vector store, it allows users to store images, audio, videos, text, and metadata in a format optimized for deep learning. Users are able to search both embeddings and their properties thanks to hybrid search enabled by it. \n",
    "\n",
    "Users can save data locally, on Activeloop storage, or on their personal cloud. With little boilerplate code, Deep Lake allows training TensorFlow and PyTorch models while streaming data. Additionally, it offers capabilities like distributed workloads, dataset queries, and version control utilising a straightforward Python API.\n",
    "\n",
    "Furthermore, it gets harder and harder to store datasets in local memory as they grow in size. Since there aren't many documents being uploaded, a nearby vector store could have been used in this case. However, in a normal production environment, where thousands or millions of documents may be involved and accessible by numerous programmes, the need for a centralised cloud dataset becomes apparent.\n",
    "\n",
    "Let's use Deep Lake as an example to understand how this works.\n",
    "\n",
    "## Creating Deep Lake Vector Store embeddings example\n",
    "\n",
    "We can follow the example for creating a vector store in addition to other examples for which Deep Lake has supplied Jupyter Notebooks to its well-written instructions.\n",
    "\n",
    "In order to create and manage high-dimensional embeddings, this effort attempts to make use of the capabilities of NLP technologies, specifically OpenAI and Deep Lake. These embeddings can be used for a number of tasks, including looking up pertinent papers, editing content, and responding to inquiries. In this instance, a retrieval-based question-answering system will be built using a Deep Lake database.\n",
    "\n",
    "First, we must import the necessary packages and make sure that the environment variables ACTIVELOOP_TOKEN and OPENAI_API_KEY have the Activeloop and OpenAI keys. Obtaining an ACTIVELOOP_TOKEN is simple; just generate one on the Activeloop page. \n",
    "\n",
    "Next, the necessary modules from the langchain package are imported."
   ]
  },
  {
   "cell_type": "code",
   "execution_count": 4,
   "id": "451d546f-5de1-4d8e-b0a9-b88563cd04da",
   "metadata": {},
   "outputs": [],
   "source": [
    "from langchain.embeddings.openai import OpenAIEmbeddings\n",
    "from langchain.vectorstores import DeepLake\n",
    "from langchain.text_splitter import RecursiveCharacterTextSplitter\n",
    "from langchain.chat_models import ChatOpenAI\n",
    "from langchain.chains import RetrievalQA"
   ]
  },
  {
   "cell_type": "markdown",
   "id": "cf3643cb-8f1a-48c7-90c0-be4109e60f6a",
   "metadata": {},
   "source": [
    "We then create some documents using the RecursiveCharacterTextSplitter class."
   ]
  },
  {
   "cell_type": "code",
   "execution_count": 5,
   "id": "0fc0da99-3943-432a-ba99-3e089fb6060c",
   "metadata": {},
   "outputs": [],
   "source": [
    "# create our documents\n",
    "texts = [\n",
    "    \"Napoleon Bonaparte was born in 15 August 1769\",\n",
    "    \"Louis XIV was born in 5 September 1638\",\n",
    "    \"Lady Gaga was born in 28 March 1986\",\n",
    "    \"Michael Jeffrey Jordan was born in 17 February 1963\"\n",
    "]\n",
    "text_splitter = RecursiveCharacterTextSplitter(chunk_size=1000, chunk_overlap=0)\n",
    "docs = text_splitter.create_documents(texts)"
   ]
  },
  {
   "cell_type": "markdown",
   "id": "2f77fac2-71fe-43e5-8981-0bb4f9f284e5",
   "metadata": {},
   "source": [
    "The next step is to create a Deep Lake database and load our documents into it."
   ]
  },
  {
   "cell_type": "code",
   "execution_count": 6,
   "id": "4c4b88a1-f06d-4211-b157-3329c979d207",
   "metadata": {},
   "outputs": [
    {
     "name": "stdout",
     "output_type": "stream",
     "text": [
      "Your Deep Lake dataset has been successfully created!\n"
     ]
    },
    {
     "name": "stderr",
     "output_type": "stream",
     "text": []
    },
    {
     "name": "stderr",
     "output_type": "stream",
     "text": []
    },
    {
     "name": "stderr",
     "output_type": "stream",
     "text": [
      " \r"
     ]
    },
    {
     "name": "stdout",
     "output_type": "stream",
     "text": [
      "Dataset(path='hub://pranath/langchain_course_embeddings', tensors=['embedding', 'id', 'metadata', 'text'])\n",
      "\n",
      "  tensor      htype      shape     dtype  compression\n",
      "  -------    -------    -------   -------  ------- \n",
      " embedding  embedding  (4, 1536)  float32   None   \n",
      "    id        text      (4, 1)      str     None   \n",
      " metadata     json      (4, 1)      str     None   \n",
      "   text       text      (4, 1)      str     None   \n"
     ]
    },
    {
     "data": {
      "text/plain": [
       "['71f0cb00-3c5a-11ee-beac-acde48001122',\n",
       " '71f0cc86-3c5a-11ee-beac-acde48001122',\n",
       " '71f0cd08-3c5a-11ee-beac-acde48001122',\n",
       " '71f0cd6c-3c5a-11ee-beac-acde48001122']"
      ]
     },
     "execution_count": 6,
     "metadata": {},
     "output_type": "execute_result"
    }
   ],
   "source": [
    "# initialize embeddings model\n",
    "embeddings = OpenAIEmbeddings(model=\"text-embedding-ada-002\")\n",
    "\n",
    "# create Deep Lake dataset\n",
    "# TODO: use your organization id here. (by default, org id is your username)\n",
    "my_activeloop_org_id = \"pranath\"\n",
    "my_activeloop_dataset_name = \"langchain_course_embeddings\"\n",
    "dataset_path = f\"hub://{my_activeloop_org_id}/{my_activeloop_dataset_name}\"\n",
    "db = DeepLake(dataset_path=dataset_path, embedding_function=embeddings)\n",
    "\n",
    "# add documents to our Deep Lake dataset\n",
    "db.add_documents(docs)"
   ]
  },
  {
   "cell_type": "markdown",
   "id": "193c5826-9cc6-439b-85d8-b2528c76701a",
   "metadata": {},
   "source": [
    "We now create a retriever from the database."
   ]
  },
  {
   "cell_type": "code",
   "execution_count": 7,
   "id": "421019ca-4df0-4a6b-aef3-63ada5decd3c",
   "metadata": {},
   "outputs": [],
   "source": [
    "# create retriever from db\n",
    "retriever = db.as_retriever()"
   ]
  },
  {
   "cell_type": "markdown",
   "id": "732390b7-e76d-4692-8a7c-396f5a393be0",
   "metadata": {},
   "source": [
    "Finally, we create a RetrievalQA chain in LangChain and run it"
   ]
  },
  {
   "cell_type": "code",
   "execution_count": 8,
   "id": "d385ba13-8e0e-4526-9fcf-47f4e0d00bd7",
   "metadata": {},
   "outputs": [
    {
     "data": {
      "text/plain": [
       "'Michael Jordan was born on 17 February 1963.'"
      ]
     },
     "execution_count": 8,
     "metadata": {},
     "output_type": "execute_result"
    }
   ],
   "source": [
    "# istantiate the llm wrapper\n",
    "model = ChatOpenAI(model='gpt-3.5-turbo')\n",
    "\n",
    "# create the question-answering chain\n",
    "qa_chain = RetrievalQA.from_llm(model, retriever=retriever)\n",
    "\n",
    "# ask a question to the chain\n",
    "qa_chain.run(\"When was Michael Jordan born?\")"
   ]
  },
  {
   "cell_type": "markdown",
   "id": "2c41d1a1-472d-42a9-bc70-e8e31860f5b6",
   "metadata": {},
   "source": [
    "This pipeline demonstrates how to leverage the power of the LangChain, OpenAI, and Deep Lake libraries and products to create a conversational AI model capable of retrieving and answering questions based on the content of a given repository.\n",
    "\n",
    "\n",
    "Let's break down each step to understand how these technologies work together.\n",
    "\n",
    "1. **OpenAI and LangChain Integration**: LangChain, a library built for chaining NLP models, is designed to work seamlessly with OpenAI's GPT-3.5-turbo model for language understanding and generation. You've initialized OpenAI embeddings using OpenAIEmbeddings(), and these embeddings are later used to transform the text into a high-dimensional vector representation. This vector representation captures the semantic essence of the text and is essential for information retrieval tasks.\n",
    "2. **Deep Lake**: Deep Lake is a Vector Store for creating, storing, and querying vector representations (also known as embeddings) of data.\n",
    "3. **Text Retrieval**: Using the db.as_retriever() function, you've transformed the Deep Lake dataset into a retriever object. This object is designed to fetch the most relevant pieces of text from the dataset based on the semantic similarity of their embeddings.\n",
    "4. **Question Answering**: The final step involves setting up a RetrievalQA chain from LangChain. This chain is designed to accept a natural language question, transform it into an embedding, retrieve the most relevant document chunks from the Deep Lake dataset, and generate a natural language answer. The ChatOpenAI model, which is the underlying model of this chain, is responsible for both the question embedding and the answer generation.\n",
    "\n",
    "## Conclusion\n",
    "\n",
    "The rich contextual information in our textual data can be captured and understood in large part thanks to vector embeddings. When dealing with low token capacity language models like GPT-3.5-turbo, this representation assumes increasing importance.\n",
    "\n",
    "In addition to using embeddings from Hugging Face and Cohere, we used embeddings from OpenAI in this post. Transformer-based models are offered by the former, a renowned AI research organisation, and are very flexible and popular. In an increasingly linked world, Cohere's revolutionary multilingual language models are a great benefit.\n",
    "\n",
    "We've walked through the process of developing a conversational AI application, specifically a Q&A system utilising Deep Lake, based on these technologies. This application shows the potential of these merged technologies: Hugging Face, Cohere, OpenAI, and Hugging Face for producing high-quality embeddings; Deep Lake for keeping these embeddings in a vector store; and LangChain for chaining together complex NLP operations.\n",
    "\n",
    "## Acknowledgements\n",
    "\n",
    "I'd like to express my thanks to the wonderful [LangChain & Vector Databases in Production Course](https://learn.activeloop.ai/courses/langchain) by Activeloop - which i completed, and acknowledge the use of some images and other materials from the course in this article."
   ]
  },
  {
   "cell_type": "code",
   "execution_count": null,
   "id": "1efd03c0-b711-4716-943c-a7aeb4eb54a7",
   "metadata": {},
   "outputs": [],
   "source": []
  }
 ],
 "metadata": {
  "kernelspec": {
   "display_name": "Python 3 (ipykernel)",
   "language": "python",
   "name": "python3"
  },
  "language_info": {
   "codemirror_mode": {
    "name": "ipython",
    "version": 3
   },
   "file_extension": ".py",
   "mimetype": "text/x-python",
   "name": "python",
   "nbconvert_exporter": "python",
   "pygments_lexer": "ipython3",
   "version": "3.9.13"
  }
 },
 "nbformat": 4,
 "nbformat_minor": 5
}
