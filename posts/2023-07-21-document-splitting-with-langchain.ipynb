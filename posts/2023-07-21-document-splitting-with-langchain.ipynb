{
 "cells": [
  {
   "cell_type": "raw",
   "id": "7b1c12c1-d780-4b06-918f-30f60795f365",
   "metadata": {},
   "source": [
    "---\n",
    "date: '2023-07-21'\n",
    "categories:\n",
    " - natural-language-processing\n",
    " - deep-learning\n",
    " - langchain\n",
    "title: Document Splitting with LangChain\n",
    "description: In this article we look at how you can split documents as an important step in making content available for Large Language Models\n",
    "image: https://github.com/pranath/blog/raw/master/images/langchain1.jpg\n",
    "---"
   ]
  },
  {
   "cell_type": "markdown",
   "id": "bafb515b",
   "metadata": {},
   "source": [
    "## Introduction\n",
    "\n",
    "In this article we look at how you can split documents as an important step in making content available for Large Language Models.\n",
    "\n",
    "## Document Splitting\n",
    "\n",
    "Splitting documents may sound easy, but there are many small details make a great difference in the long run in this situation.\n",
    "\n",
    "<img src=\"https://github.com/pranath/blog/raw/master/images/lc-data1.jpg\" width=\"800\"/>\n",
    "\n",
    "Once your data is loaded into the document format, document splitting takes place. However, before that happens, and despite how straightforward it may seem, it enters the vector store. \n",
    "Alternatively, you might divide the chunks into equal portions based on the lengths of the individual characters. \n",
    "However, let's look at this scenario here as an illustration of why this is both more difficult and crucial in the long run. The Toyota Camry is mentioned in a sentence along with certain details. \n",
    "\n",
    "<img src=\"https://github.com/pranath/blog/raw/master/images/lc-data2.png\" width=\"800\"/>\n",
    "\n",
    "If we simply split the sentence into two halves, we can wind up with one part of the sentence in one chunk and the other part in another. Later on, when we try to respond to an inquiry about the Camry's specifications, we discover that neither chunk contains the necessary details, thus it is divided. Therefore, we would be unable to provide a suitable response to your query. So, how you divide the chunks so that you get semantically important chunks together requires a lot of intricacy and care.\n",
    "\n",
    "The foundation of each and every text splitter in LangChain is the splitting of text into pieces of a certain size and overlap. We've included a small diagram below to illustrate how that would appear. There are various techniques to determine the chunk size. \n",
    "\n",
    "<img src=\"https://github.com/pranath/blog/raw/master/images/lc-data3.png\" width=\"800\"/>\n",
    "\n",
    "To determine the chunk's size, we therefore enable passing in a length function. It frequently consists of symbols or tokens. When moving from one chunk to the next, we typically keep a small overlap between the two chunks, much like a sliding window. Furthermore, it helps establish some semblance of consistency because it permits the identical contextual information to appear at both the beginning and the conclusion of two separate chunks. Each of Lang Chain's text splitters has a way for creating documents and splitting them. Under the hood, the logic is the same; the interface, which can accept lists of text or lists of documents, is just a little bit different. \n",
    "\n",
    "<img src=\"https://github.com/pranath/blog/raw/master/images/lc-data4.png\" width=\"800\"/>\n",
    "\n",
    "These text splitters come in a wide range of sizes. \n",
    "How the chunks are divided up and which characters go into each one can vary. \n",
    "The methods used to determine the size of the chunks can differ. \n",
    "Are the characters used? Do they use tokens? \n",
    "Some even divide sentences into chunks by using other, more precise models to identify when a sentence might be finished. \n",
    "The metadata is yet another crucial component of chunking. There are certain text splitters that are highly focused on keeping the same metadata across all chunks while also introducing new pieces of metadata when necessary.\n",
    "\n",
    "When splitting on code, it becomes very clear that the splitting of chunks can frequently depend on the sort of document we're working with. \n",
    "As a result, we have a language text splitter with a wide range of separators for languages like Python, Ruby, and C. Additionally, when separating these documents, it takes into account the various languages as well as the appropriate separators for each language.\n",
    "\n",
    "## Load Libs and Setup\n",
    "\n",
    "The environment will first be set up as before by loading the Open AI API key. Next, we'll import two of Lang Chain's most popular categories of text splitters. the character text splitter as well as the recursive character text splitter. We'll first experiment with a few toy use cases to acquire a better understanding of what these actually do. So, just to illustrate what they can do, we're going to set a somewhat small chunk size of 26, and an even smaller chunk overlap of 4. \n",
    "\n",
    "Let's initialise these two text splitters as R and C, respectively. Finally, let's examine a few alternative use-case scenarios. "
   ]
  },
  {
   "cell_type": "code",
   "execution_count": 1,
   "id": "1f9ad2a1-2c8e-471e-8174-338cf2e3e92d",
   "metadata": {
    "tags": []
   },
   "outputs": [],
   "source": [
    "import os\n",
    "import openai\n",
    "import sys\n",
    "sys.path.append('../..')\n",
    "\n",
    "from dotenv import load_dotenv, find_dotenv\n",
    "_ = load_dotenv(find_dotenv()) # read local .env file\n",
    "\n",
    "openai.api_key  = os.environ['OPENAI_API_KEY']"
   ]
  },
  {
   "cell_type": "code",
   "execution_count": 2,
   "id": "06ea702c",
   "metadata": {
    "tags": []
   },
   "outputs": [],
   "source": [
    "from langchain.text_splitter import RecursiveCharacterTextSplitter, CharacterTextSplitter"
   ]
  },
  {
   "cell_type": "code",
   "execution_count": 3,
   "id": "2d587fb0",
   "metadata": {
    "tags": []
   },
   "outputs": [],
   "source": [
    "chunk_size =26\n",
    "chunk_overlap = 4"
   ]
  },
  {
   "cell_type": "code",
   "execution_count": 4,
   "id": "2723bf02",
   "metadata": {
    "tags": []
   },
   "outputs": [],
   "source": [
    "r_splitter = RecursiveCharacterTextSplitter(\n",
    "    chunk_size=chunk_size,\n",
    "    chunk_overlap=chunk_overlap\n",
    ")\n",
    "c_splitter = CharacterTextSplitter(\n",
    "    chunk_size=chunk_size,\n",
    "    chunk_overlap=chunk_overlap\n",
    ")"
   ]
  },
  {
   "cell_type": "markdown",
   "id": "a61167fc",
   "metadata": {},
   "source": [
    "Why doesn't this split the string below?"
   ]
  },
  {
   "cell_type": "code",
   "execution_count": 5,
   "id": "dd21401b",
   "metadata": {
    "tags": []
   },
   "outputs": [],
   "source": [
    "text1 = 'abcdefghijklmnopqrstuvwxyz'"
   ]
  },
  {
   "cell_type": "code",
   "execution_count": 6,
   "id": "fa92a860",
   "metadata": {
    "tags": []
   },
   "outputs": [
    {
     "data": {
      "text/plain": [
       "['abcdefghijklmnopqrstuvwxyz']"
      ]
     },
     "execution_count": 6,
     "metadata": {},
     "output_type": "execute_result"
    }
   ],
   "source": [
    "r_splitter.split_text(text1)"
   ]
  },
  {
   "cell_type": "markdown",
   "id": "ef9d7131-627b-4eae-bf27-5005e3dd3cd8",
   "metadata": {},
   "source": [
    "Let's insert the first string first. A, B, C, D, and so on all the way to Z. Let's examine what transpires when we employ the various splitters. It remains one string after being divided with the recursive character text splitter. This is the case since we requested a chunk size of 26, but this is 26 characters long. Therefore, there isn't even a need to separate anything here."
   ]
  },
  {
   "cell_type": "code",
   "execution_count": 7,
   "id": "8b5da0f9",
   "metadata": {
    "tags": []
   },
   "outputs": [],
   "source": [
    "text2 = 'abcdefghijklmnopqrstuvwxyzabcdefg'"
   ]
  },
  {
   "cell_type": "code",
   "execution_count": 8,
   "id": "4ea0d456",
   "metadata": {
    "tags": []
   },
   "outputs": [
    {
     "data": {
      "text/plain": [
       "['abcdefghijklmnopqrstuvwxyz', 'wxyzabcdefg']"
      ]
     },
     "execution_count": 8,
     "metadata": {},
     "output_type": "execute_result"
    }
   ],
   "source": [
    "r_splitter.split_text(text2)"
   ]
  },
  {
   "cell_type": "markdown",
   "id": "87200022",
   "metadata": {},
   "source": [
    "Now let's apply it to a string that is slightly longer than the 26 characters we designated as the chunk size. \n",
    "Here, two distinct chunks are formed, as can be seen. \n",
    "There are 26 characters total since the first one stops at Z. The following one begins with W, X, Y, and Z. These are the four chunk overlaps, after which the remainder of the string is played. Let's examine a string that is a little bit more complicated and contains a lot of spaces between the characters. Now that there are spaces, we can see that it is divided into three halves and hence takes up more room. \n",
    "\n",
    "Ok, this splits the string but we have an overlap specified as 5, but it looks like 3? (try an even number)"
   ]
  },
  {
   "cell_type": "code",
   "execution_count": 9,
   "id": "dce39d64",
   "metadata": {
    "tags": []
   },
   "outputs": [],
   "source": [
    "text3 = \"a b c d e f g h i j k l m n o p q r s t u v w x y z\""
   ]
  },
  {
   "cell_type": "code",
   "execution_count": 10,
   "id": "d96c0ab9",
   "metadata": {
    "tags": []
   },
   "outputs": [
    {
     "data": {
      "text/plain": [
       "['a b c d e f g h i j k l m', 'l m n o p q r s t u v w x', 'w x y z']"
      ]
     },
     "execution_count": 10,
     "metadata": {},
     "output_type": "execute_result"
    }
   ],
   "source": [
    "r_splitter.split_text(text3)"
   ]
  },
  {
   "cell_type": "code",
   "execution_count": 11,
   "id": "0dbea42c",
   "metadata": {
    "tags": []
   },
   "outputs": [
    {
     "data": {
      "text/plain": [
       "['a b c d e f g h i j k l m n o p q r s t u v w x y z']"
      ]
     },
     "execution_count": 11,
     "metadata": {},
     "output_type": "execute_result"
    }
   ],
   "source": [
    "c_splitter.split_text(text3)"
   ]
  },
  {
   "cell_type": "markdown",
   "id": "8b613ee6-6d34-4504-b00d-bb0dbf414cfe",
   "metadata": {},
   "source": [
    "As a result, if we examine the overlap, we can see that L and M are present in the first one as well as the second. This appears to be simply two characters, but the space between the L and the M, as well as the spaces immediately before and after the L and the M, counts as four characters and makes up the chunk overlap. \n",
    "\n",
    "Let's test the character text splitter now, and we can see that it doesn't even attempt to separate it when we run it. So what exactly is going on here? The problem is that the character text splitter only splits on one character, which is always a newline character. But there aren't any newlines in this. \n",
    "We may observe what transpires if the separator is changed to an empty space. It is divided in the same manner as before here. "
   ]
  },
  {
   "cell_type": "code",
   "execution_count": 12,
   "id": "63e71644",
   "metadata": {
    "tags": []
   },
   "outputs": [
    {
     "data": {
      "text/plain": [
       "['a b c d e f g h i j k l m', 'l m n o p q r s t u v w x', 'w x y z']"
      ]
     },
     "execution_count": 12,
     "metadata": {},
     "output_type": "execute_result"
    }
   ],
   "source": [
    "c_splitter = CharacterTextSplitter(\n",
    "    chunk_size=chunk_size,\n",
    "    chunk_overlap=chunk_overlap,\n",
    "    separator = ' '\n",
    ")\n",
    "c_splitter.split_text(text3)"
   ]
  },
  {
   "cell_type": "markdown",
   "id": "c1a4d0ed",
   "metadata": {},
   "source": [
    "In order to have a solid understanding of what is occurring when we go on to more realistic examples, it is also fascinating to play around with the chunk size, chunk overlap, and just generally have a sense of what is happening in a few toy cases. \n",
    "\n",
    "## Recursive splitting details\n",
    "\n",
    "`RecursiveCharacterTextSplitter` is recommended for generic text. \n",
    "\n",
    "This is a lengthy paragraph, and you can see that a double newline, which is used to demarcate paragraphs, is located approximately here. When we look at the text's length, we find that it is just under 500 words. Let's define the two text splitters we'll be using next. The character text splitter will be used as before with a space as a separator, and after that, the recursive character text splitter will be initialised. The separators we pass in here are the default separators, but we're putting them in this notebook to make it clearer what's happening. "
   ]
  },
  {
   "cell_type": "code",
   "execution_count": 13,
   "id": "96926a42-92e6-4ad4-9946-908a075fb32d",
   "metadata": {
    "tags": []
   },
   "outputs": [],
   "source": [
    "some_text = \"\"\"When writing documents, writers will use document structure to group content. \\\n",
    "This can convey to the reader, which idea's are related. For example, closely related ideas \\\n",
    "are in sentances. Similar ideas are in paragraphs. Paragraphs form a document. \\n\\n  \\\n",
    "Paragraphs are often delimited with a carriage return or two carriage returns. \\\n",
    "Carriage returns are the \"backslash n\" you see embedded in this string. \\\n",
    "Sentences have a period at the end, but also, have a space.\\\n",
    "and words are separated by space.\"\"\""
   ]
  },
  {
   "cell_type": "code",
   "execution_count": 14,
   "id": "18706d73",
   "metadata": {
    "tags": []
   },
   "outputs": [
    {
     "data": {
      "text/plain": [
       "496"
      ]
     },
     "execution_count": 14,
     "metadata": {},
     "output_type": "execute_result"
    }
   ],
   "source": [
    "len(some_text)"
   ]
  },
  {
   "cell_type": "code",
   "execution_count": 15,
   "id": "5083a172-ba0a-4d9f-b561-18f0d2e6d9ce",
   "metadata": {
    "tags": []
   },
   "outputs": [],
   "source": [
    "c_splitter = CharacterTextSplitter(\n",
    "    chunk_size=450,\n",
    "    chunk_overlap=0,\n",
    "    separator = ' '\n",
    ")\n",
    "r_splitter = RecursiveCharacterTextSplitter(\n",
    "    chunk_size=450,\n",
    "    chunk_overlap=0, \n",
    "    separators=[\"\\n\\n\", \"\\n\", \" \", \"\"]\n",
    ")"
   ]
  },
  {
   "cell_type": "markdown",
   "id": "f9b3f981-1904-4eb0-b0d4-77aba130f0c9",
   "metadata": {},
   "source": [
    "As a result, it is clear that the string is empty and is made up of a list of double newlines, single newlines, spaces, and double newlines. This means that when you split a text block, it will attempt to split it first by double newlines. \n",
    "The process will then switch to single newlines if further segmentation of the individual pieces is required. If further work is required, it then moves on to the space. And if it is truly necessary, it will simply go character by character at that point. We can tell that the character text splitter divides on spaces by seeing how they work with the above text. "
   ]
  },
  {
   "cell_type": "code",
   "execution_count": 16,
   "id": "7f8aa4ed-5347-4819-b3c1-d15696832a65",
   "metadata": {
    "tags": []
   },
   "outputs": [
    {
     "data": {
      "text/plain": [
       "['When writing documents, writers will use document structure to group content. This can convey to the reader, which idea\\'s are related. For example, closely related ideas are in sentances. Similar ideas are in paragraphs. Paragraphs form a document. \\n\\n Paragraphs are often delimited with a carriage return or two carriage returns. Carriage returns are the \"backslash n\" you see embedded in this string. Sentences have a period at the end, but also,',\n",
       " 'have a space.and words are separated by space.']"
      ]
     },
     "execution_count": 16,
     "metadata": {},
     "output_type": "execute_result"
    }
   ],
   "source": [
    "c_splitter.split_text(some_text)"
   ]
  },
  {
   "cell_type": "code",
   "execution_count": 17,
   "id": "6af907f2-4110-4e40-a831-593f8592bd83",
   "metadata": {
    "tags": []
   },
   "outputs": [
    {
     "data": {
      "text/plain": [
       "[\"When writing documents, writers will use document structure to group content. This can convey to the reader, which idea's are related. For example, closely related ideas are in sentances. Similar ideas are in paragraphs. Paragraphs form a document.\",\n",
       " 'Paragraphs are often delimited with a carriage return or two carriage returns. Carriage returns are the \"backslash n\" you see embedded in this string. Sentences have a period at the end, but also, have a space.and words are separated by space.']"
      ]
     },
     "execution_count": 17,
     "metadata": {},
     "output_type": "execute_result"
    }
   ],
   "source": [
    "r_splitter.split_text(some_text)"
   ]
  },
  {
   "cell_type": "markdown",
   "id": "3b3720ef-2a97-4e0f-a2da-660b274b2f00",
   "metadata": {
    "tags": []
   },
   "source": [
    "Thus, the strange break in the middle of the phrase results. Here, the recursive text splitter divides the text into two paragraphs after first attempting to split on double newlines. \n",
    " \n",
    "We specified that this is probably a better split even though the first one is shorter than the 450 characters because the two paragraphs, each of which is its own paragraph, are now in the chunks rather than being separated in the middle of a phrase. \n",
    "\n",
    "Now let's break it down even further to help us understand what is happening more clearly. A period will also be used as a separator. This is intended to divide sentences in half. The text splitter we are using splits the material into sentences, but the areas where the periods should be are incorrect. This is due to the regex that is operating behind the scenes. We can really specify a slightly more complex regex with a look behind to correct this. "
   ]
  },
  {
   "cell_type": "code",
   "execution_count": 18,
   "id": "1e5496ea-d34e-4ed9-8f68-9dadd86e8da7",
   "metadata": {
    "tags": []
   },
   "outputs": [
    {
     "data": {
      "text/plain": [
       "[\"When writing documents, writers will use document structure to group content. This can convey to the reader, which idea's are related\",\n",
       " '. For example, closely related ideas are in sentances. Similar ideas are in paragraphs. Paragraphs form a document.',\n",
       " 'Paragraphs are often delimited with a carriage return or two carriage returns',\n",
       " '. Carriage returns are the \"backslash n\" you see embedded in this string',\n",
       " '. Sentences have a period at the end, but also, have a space.and words are separated by space.']"
      ]
     },
     "execution_count": 18,
     "metadata": {},
     "output_type": "execute_result"
    }
   ],
   "source": [
    "r_splitter = RecursiveCharacterTextSplitter(\n",
    "    chunk_size=150,\n",
    "    chunk_overlap=0,\n",
    "    separators=[\"\\n\\n\", \"\\n\", \"\\. \", \" \", \"\"]\n",
    ")\n",
    "r_splitter.split_text(some_text)"
   ]
  },
  {
   "cell_type": "code",
   "execution_count": 19,
   "id": "31da7561",
   "metadata": {
    "tags": []
   },
   "outputs": [
    {
     "data": {
      "text/plain": [
       "[\"When writing documents, writers will use document structure to group content. This can convey to the reader, which idea's are related.\",\n",
       " 'For example, closely related ideas are in sentances. Similar ideas are in paragraphs. Paragraphs form a document.',\n",
       " 'Paragraphs are often delimited with a carriage return or two carriage returns.',\n",
       " 'Carriage returns are the \"backslash n\" you see embedded in this string.',\n",
       " 'Sentences have a period at the end, but also, have a space.and words are separated by space.']"
      ]
     },
     "execution_count": 19,
     "metadata": {},
     "output_type": "execute_result"
    }
   ],
   "source": [
    "r_splitter = RecursiveCharacterTextSplitter(\n",
    "    chunk_size=150,\n",
    "    chunk_overlap=0,\n",
    "    separators=[\"\\n\\n\", \"\\n\", \"(?<=\\. )\", \" \", \"\"]\n",
    ")\n",
    "r_splitter.split_text(some_text)"
   ]
  },
  {
   "cell_type": "markdown",
   "id": "29a5cfdc-6b27-48fb-8263-7b29c20bff3c",
   "metadata": {},
   "source": [
    "Now that we have ran this, we can see that it has been appropriately divided into sentences with the appropriate placement of the periods. \n",
    "\n",
    "Let's try it out on a real-world example using a PDF that we worked with before in the document loading phase. Once it has been loaded, define our text splitter here. We supply the length function here. LEN, a built-in Python function, is used in this. This is the default, but we're specifying it to make it clearer what's happening behind the scenes. This counts the number of characters. \n",
    " \n",
    "We're now utilising the divide documents function and passing in a list of documents since we wish to use documents. "
   ]
  },
  {
   "cell_type": "code",
   "execution_count": 20,
   "id": "a469e07d",
   "metadata": {
    "tags": []
   },
   "outputs": [],
   "source": [
    "from langchain.document_loaders import PyPDFLoader\n",
    "loader = PyPDFLoader(\"docs/MachineLearning-Lecture01.pdf\")\n",
    "pages = loader.load()"
   ]
  },
  {
   "cell_type": "code",
   "execution_count": 21,
   "id": "bba6f05d",
   "metadata": {
    "tags": []
   },
   "outputs": [],
   "source": [
    "from langchain.text_splitter import CharacterTextSplitter\n",
    "text_splitter = CharacterTextSplitter(\n",
    "    separator=\"\\n\",\n",
    "    chunk_size=1000,\n",
    "    chunk_overlap=150,\n",
    "    length_function=len\n",
    ")"
   ]
  },
  {
   "cell_type": "code",
   "execution_count": 22,
   "id": "c752a663-896b-4a24-9ffb-7640642b7a3f",
   "metadata": {
    "tags": []
   },
   "outputs": [],
   "source": [
    "docs = text_splitter.split_documents(pages)"
   ]
  },
  {
   "cell_type": "code",
   "execution_count": 23,
   "id": "7474a52c",
   "metadata": {
    "tags": []
   },
   "outputs": [
    {
     "data": {
      "text/plain": [
       "77"
      ]
     },
     "execution_count": 23,
     "metadata": {},
     "output_type": "execute_result"
    }
   ],
   "source": [
    "len(docs)"
   ]
  },
  {
   "cell_type": "code",
   "execution_count": 24,
   "id": "d16046b2",
   "metadata": {
    "tags": []
   },
   "outputs": [
    {
     "data": {
      "text/plain": [
       "22"
      ]
     },
     "execution_count": 24,
     "metadata": {},
     "output_type": "execute_result"
    }
   ],
   "source": [
    "len(pages)"
   ]
  },
  {
   "cell_type": "markdown",
   "id": "68f720db",
   "metadata": {},
   "source": [
    "The number of additional documents that have been produced as a result of this splitting may be seen when we compare the length of those documents to the length of the original pages. In addition, we can observe that after all the splitting, we now have a lot more docs when we compare the lengths of the original documents to the new split documents. \n",
    "\n",
    "## Token splitting\n",
    "\n",
    "We have completed all character-based splitting to this point. The token text splitter will now be imported. However, there is another method of splitting that is based on tokens. We can also split on token count explicity, if we want.\n",
    "\n",
    "The reason that this is useful is because often LLMs have context \n",
    "windows that are designated by token count. And so, \n",
    "it's important to know what the tokens are, and \n",
    "where they appear. And then, we can split on them to have a slightly \n",
    "more representative idea of how the LLM would view them. To \n",
    "really get a sense for what the difference is between tokens and \n",
    "characters. Let's initialize the token text splitter with a \n",
    "chunk size of 1, and a chunk overlap of 0. "
   ]
  },
  {
   "cell_type": "code",
   "execution_count": 25,
   "id": "da0bcc05",
   "metadata": {
    "tags": []
   },
   "outputs": [],
   "source": [
    "from langchain.text_splitter import TokenTextSplitter"
   ]
  },
  {
   "cell_type": "code",
   "execution_count": 26,
   "id": "0116b01b-2b0b-47a7-a107-bbc497029713",
   "metadata": {
    "tags": []
   },
   "outputs": [],
   "source": [
    "text_splitter = TokenTextSplitter(chunk_size=1, chunk_overlap=0)"
   ]
  },
  {
   "cell_type": "markdown",
   "id": "0fd8768f-e78e-43f6-b12b-424d0d3f961b",
   "metadata": {},
   "source": [
    "The result will be a list of all the tokens that are significant in the given text. \n",
    "Let's generate a silly text for entertainment purposes. When we divide it, we can see that it has been divided into a number of distinct tokens, each of which varies somewhat in length and character count. The first one therefore starts with simply foo, followed by a space, a bar, another space, just the B, then AZ, ZY, and finally foo once more. The distinction between splitting on characters and splitting on tokens is thus somewhat illustrated."
   ]
  },
  {
   "cell_type": "code",
   "execution_count": 27,
   "id": "07a95e78",
   "metadata": {
    "tags": []
   },
   "outputs": [],
   "source": [
    "text1 = \"foo bar bazzyfoo\""
   ]
  },
  {
   "cell_type": "code",
   "execution_count": 28,
   "id": "8eec0912",
   "metadata": {
    "tags": []
   },
   "outputs": [
    {
     "data": {
      "text/plain": [
       "['foo', ' bar', ' b', 'az', 'zy', 'foo']"
      ]
     },
     "execution_count": 28,
     "metadata": {},
     "output_type": "execute_result"
    }
   ],
   "source": [
    "text_splitter.split_text(text1)"
   ]
  },
  {
   "cell_type": "markdown",
   "id": "d558a2dc-de47-4436-b0b7-8a99e868232a",
   "metadata": {},
   "source": [
    "Applying this to the documents we loaded earlier, we can similarly refer to the split documents on the pages. For example, if we look at the first document, we have our new split document, with the page content roughly being the title, and then we have the metadata of the source and the page it came from. If we look at this to confirm that the metadata for page 0 lines up, we can see that the source and page metadata are identical in the chunk as they were for the original document. "
   ]
  },
  {
   "cell_type": "code",
   "execution_count": 29,
   "id": "ffa29d43",
   "metadata": {
    "tags": []
   },
   "outputs": [],
   "source": [
    "text_splitter = TokenTextSplitter(chunk_size=10, chunk_overlap=0)"
   ]
  },
  {
   "cell_type": "code",
   "execution_count": 30,
   "id": "e53e203a",
   "metadata": {
    "tags": []
   },
   "outputs": [],
   "source": [
    "docs = text_splitter.split_documents(pages)"
   ]
  },
  {
   "cell_type": "code",
   "execution_count": 31,
   "id": "3b186c5f",
   "metadata": {
    "tags": []
   },
   "outputs": [
    {
     "data": {
      "text/plain": [
       "Document(page_content='MachineLearning-Lecture01  \\n', metadata={'source': 'docs/MachineLearning-Lecture01.pdf', 'page': 0})"
      ]
     },
     "execution_count": 31,
     "metadata": {},
     "output_type": "execute_result"
    }
   ],
   "source": [
    "docs[0]"
   ]
  },
  {
   "cell_type": "code",
   "execution_count": 32,
   "id": "917f7abc",
   "metadata": {
    "tags": []
   },
   "outputs": [
    {
     "data": {
      "text/plain": [
       "{'source': 'docs/MachineLearning-Lecture01.pdf', 'page': 0}"
      ]
     },
     "execution_count": 32,
     "metadata": {},
     "output_type": "execute_result"
    }
   ],
   "source": [
    "pages[0].metadata"
   ]
  },
  {
   "cell_type": "markdown",
   "id": "282d9bfa",
   "metadata": {},
   "source": [
    "This is good it's carrying through the metadata \n",
    "to each chunk appropriately, but there can also \n",
    "be cases where you actually want to add more \n",
    "metadata to the chunks as you split them. \n",
    "This can contain information like where in the document, \n",
    "the chunk came from where it is relative to \n",
    "other things or concepts in the document and generally this information can \n",
    "be used when answering questions to \n",
    "provide more context about what this chunk is exactly. \n",
    "\n",
    "## Context aware splitting\n",
    "\n",
    "Let's look at another kind of text splitter that really adds data to the metadata of each piece to see an actual illustration of this in action. This text splitter, called the markdown header text splitter, works by splitting a markdown file based on the header or any subheaders. It then adds those headers as content to the metadata fields, and any chunks that result from those splits will receive that information as well. \n",
    "\n",
    "Chunking aims to keep text with common context together.\n",
    "\n",
    "A text splitting often uses sentences or other delimiters to keep related text together but many documents (such as Markdown) have structure (headers) that can be explicitly used in splitting.\n",
    "\n",
    "We can use `MarkdownHeaderTextSplitter` to preserve header metadata in our chunks, as show below."
   ]
  },
  {
   "cell_type": "code",
   "execution_count": 33,
   "id": "aa3b93d9",
   "metadata": {
    "tags": []
   },
   "outputs": [],
   "source": [
    "from langchain.document_loaders import NotionDirectoryLoader\n",
    "from langchain.text_splitter import MarkdownHeaderTextSplitter"
   ]
  },
  {
   "cell_type": "code",
   "execution_count": 34,
   "id": "d2c73a9c",
   "metadata": {
    "tags": []
   },
   "outputs": [],
   "source": [
    "markdown_document = \"\"\"# Title\\n\\n \\\n",
    "## Chapter 1\\n\\n \\\n",
    "Hi this is Jim\\n\\n Hi this is Joe\\n\\n \\\n",
    "### Section \\n\\n \\\n",
    "Hi this is Lance \\n\\n \n",
    "## Chapter 2\\n\\n \\\n",
    "Hi this is Molly\"\"\""
   ]
  },
  {
   "cell_type": "markdown",
   "id": "c167b928-4ba3-42c3-8ab7-1467fb006d66",
   "metadata": {},
   "source": [
    "Following a few sentences, we move on to another portion of an even smaller subheading before returning to chapter 2 and a few more sentences. Let's create a list of the headings we wish to divide on, along with their names. First off, we just have one hashtag, which we'll refer to as header 1. Next, we have two hashtags (header 2), three hashtags (header 3), and so forth. The above-mentioned toy example can then be divided when we initialise the markdown header text splitter with those headers."
   ]
  },
  {
   "cell_type": "code",
   "execution_count": 35,
   "id": "eadb7740",
   "metadata": {
    "tags": []
   },
   "outputs": [],
   "source": [
    "headers_to_split_on = [\n",
    "    (\"#\", \"Header 1\"),\n",
    "    (\"##\", \"Header 2\"),\n",
    "    (\"###\", \"Header 3\"),\n",
    "]"
   ]
  },
  {
   "cell_type": "code",
   "execution_count": 36,
   "id": "a789eede",
   "metadata": {
    "tags": []
   },
   "outputs": [],
   "source": [
    "markdown_splitter = MarkdownHeaderTextSplitter(\n",
    "    headers_to_split_on=headers_to_split_on\n",
    ")\n",
    "md_header_splits = markdown_splitter.split_text(markdown_document)"
   ]
  },
  {
   "cell_type": "markdown",
   "id": "bd3b17a6-0a4d-4665-8cab-7e2dce0b26ba",
   "metadata": {},
   "source": [
    "If we take a look at a \n",
    "few of these examples, we can see the first one has the content, \"Hi, this \n",
    "is Jim .\" \"Hi, this is Joe.\" And now in the metadata, we \n",
    "have header 1, and then we have it as \n",
    "title and header 2 as chapter 1, and this is coming from right \n",
    "here in the example document above.\n",
    "\n",
    "Let's take \n",
    "a look at the next one, and we can see here that we've \n",
    "jumped down into an even smaller subsection. And so, we've got \n",
    "the content of \"Hi, this is Lance\" and now we've got not only \n",
    "header 1. But also header 2, and also header 3, and this \n",
    "is again coming from the content and names in the markdown \n",
    "document above. "
   ]
  },
  {
   "cell_type": "code",
   "execution_count": 37,
   "id": "27053c17",
   "metadata": {
    "tags": []
   },
   "outputs": [
    {
     "data": {
      "text/plain": [
       "Document(page_content='Hi this is Jim  \\nHi this is Joe', metadata={'Header 1': 'Title', 'Header 2': 'Chapter 1'})"
      ]
     },
     "execution_count": 37,
     "metadata": {},
     "output_type": "execute_result"
    }
   ],
   "source": [
    "md_header_splits[0]"
   ]
  },
  {
   "cell_type": "code",
   "execution_count": 38,
   "id": "a5b6b903",
   "metadata": {
    "tags": []
   },
   "outputs": [
    {
     "data": {
      "text/plain": [
       "Document(page_content='Hi this is Lance', metadata={'Header 1': 'Title', 'Header 2': 'Chapter 1', 'Header 3': 'Section'})"
      ]
     },
     "execution_count": 38,
     "metadata": {},
     "output_type": "execute_result"
    }
   ],
   "source": [
    "md_header_splits[1]"
   ]
  },
  {
   "cell_type": "markdown",
   "id": "8d0c6111",
   "metadata": {},
   "source": [
    "Let's apply this to a real-world scenario first.  Now that those documents have loaded, let's define the markdown splitter so that header 1 is a single hashtag and header 2 is a double hashtag. The text is divided, and the splits are obtained. \n",
    "\n",
    "If we examine them, the first one has the text of a page, and if we scroll down to the metadata, we can see that we have loaded header 1 as Blendel's employee handbook. We have now covered how to obtain chunks with relevant semantic metadata. Moving those data chunks into a vector store is the next stage, which will be covered in the [next article](2023-07-22-vectorstores-and-embeddings-with-langchain.html)."
   ]
  },
  {
   "cell_type": "markdown",
   "id": "18e38c5c-496b-48a7-8288-ce0e05d91d07",
   "metadata": {},
   "source": [
    "## Acknowledgements\n",
    "\n",
    "I'd like to express my thanks to the wonderful [LangChain: Chat with your data course](https://www.deeplearning.ai/short-courses/langchain-chat-with-your-data/) by DeepLearning.ai and LangChain - which i completed, and acknowledge the use of some images and other materials from the course in this article."
   ]
  },
  {
   "cell_type": "code",
   "execution_count": null,
   "id": "c7f726e5-37b2-4ad4-a3f6-2b3f27f4a8cc",
   "metadata": {},
   "outputs": [],
   "source": []
  }
 ],
 "metadata": {
  "kernelspec": {
   "display_name": "Python 3 (ipykernel)",
   "language": "python",
   "name": "python3"
  },
  "language_info": {
   "codemirror_mode": {
    "name": "ipython",
    "version": 3
   },
   "file_extension": ".py",
   "mimetype": "text/x-python",
   "name": "python",
   "nbconvert_exporter": "python",
   "pygments_lexer": "ipython3",
   "version": "3.9.13"
  }
 },
 "nbformat": 4,
 "nbformat_minor": 5
}
