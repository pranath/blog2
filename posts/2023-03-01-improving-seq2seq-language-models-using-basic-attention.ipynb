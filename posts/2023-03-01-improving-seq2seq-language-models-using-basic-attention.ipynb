{
 "cells": [
  {
   "cell_type": "raw",
   "id": "ecf2dfd9-5f1b-4256-88a8-87d294195bf8",
   "metadata": {},
   "source": [
    "---\n",
    "date: '2023-03-01'\n",
    "categories:\n",
    " - natural-language-processing\n",
    " - deep-learning\n",
    " - research-paper-review\n",
    " - mathematics\n",
    "description: The attention mechanism is behind some of the recent advances in deep learning using the Transfomer model architecture. In this article we look at the first attention mechanism proposed in a paper by Bhadanau et al (2014) used to improve seq2seq models for language translation.\n",
    "output-file: 2023-03-01-improving-seq2seq-language-models-using-basic-attention.html\n",
    "title: Improving seq2seq Language Models using Basic Attention\n",
    "image: https://github.com/pranath/blog/raw/master/images/arxiv.jpg\n",
    "---\n",
    "\n"
   ]
  },
  {
   "cell_type": "markdown",
   "id": "199ace80",
   "metadata": {
    "tags": []
   },
   "source": [
    "## Introduction\n",
    "\n",
    "As of 2023, in deep learning the Transformer model architecture has been behind many recent advances in deep learning model performance in many areas including Natural Language Processing and Computer Vision. An **Attention** mechanism is a key part of Transformer architecture. Attention was first introduced by [Bhadanau, et al (2014)](https://arxiv.org/abs/1409.0473) as a method for improving seq2seq language models.\n",
    "\n",
    "In this article we will look at this first use of an attention mechanism as proposed by [Bhadanau, et al (2014)](https://arxiv.org/abs/1409.0473) and implement it in NumPy.\n",
    "\n",
    "Attention allows a seq2seq decoder to use information from each encoder step instead of just the final encoder hidden state. In the attention operation, the encoder outputs are weighted based on the decoder hidden state, then combined into one context vector. This vector is then used as input to the decoder to predict the next output step.\n",
    "\n",
    "## Machine translation and the 'Information Bottleneck'\n",
    "\n",
    "The traditional seq2seq model was introduced by Google in 2014 and it was a revolution at the time for helping with Machine Translation from text in one language to another. Basically, it works by taking one sequence of items such as words and its output, is another sequence. The way this is done is by mapping variable length sequences to a fixed length memory, which in machine translation, encodes the overall meaning of sentences. For example, you can have a text of length that varies and you can encode it into a vector or fixed dimension like 300, for example. This feature is what's made this model a powerhouse for machine translation. Additionally, the inputs and outputs don't need to have matching lengths, which is a desirable feature when translating texts.\n",
    "\n",
    "![](https://github.com/pranath/blog/raw/master/images/seq2seq-6.png \"Seq2Seq Models\")\n",
    "\n",
    "In a seq2seq model, you have an encoder and a decoder. The encoder takes word tokens as input, and it returns its final hidden states as outputs. \n",
    "\n",
    "![](https://github.com/pranath/blog/raw/master/images/seq2seq-5.png \"Seq2Seq Models\")\n",
    "\n",
    "This hidden state is used by the decoder to generate the translated sentence in the target language. \n",
    "\n",
    "![](https://github.com/pranath/blog/raw/master/images/seq2seq-4.png \"Seq2Seq Models\")\n",
    "\n",
    "One major limitation of the traditional seq2seq model is what's referred to as the **information bottleneck**. Since seq2seq uses a fixed length memory for the hidden states, long sequences become problematic. This is due to the fact that in traditional seq2seq models, only a fixed amount of information can be passed from the encoder to the decoder no matter how much information is contained in the input sequence. \n",
    "\n",
    "![](https://github.com/pranath/blog/raw/master/images/seq2seq-3.png \"Seq2Seq Models\")\n",
    "\n",
    "The power of seq2seq, which allows for inputs and outputs to be different sizes, becomes not effective when the input sequence is long. The result is lower model performance, a sequence size increases and that's no good. The issue with having one fixed size encoder hidden states is that it struggles to compress longer sequences and it ends up throttling itself and punishing the decoder who only wants to make a good prediction. One workaround is to use the encoder hidden states for each word instead of trying to smash it all into one big vector. But this model would have flaws with memory and contexts.\n",
    "\n",
    "![](https://github.com/pranath/blog/raw/master/images/seq2seq-2.png \"Seq2Seq Models\")\n",
    "\n",
    "How could you build a time and memory efficient model that predicts accurately from a long sequence? This becomes possible if the model has a way to select and focus on the most important words at each time step. We can think of this as giving the model a new layer to process this information, which we call **Attention**. If we provide the information specific to each input word, you can give the model a way to focus it's attention in the right place at each step of the decoding process. \n",
    "\n",
    "Seq2seq models perform well for sentences with about 10-20 words, but they fall off beyond that. This is what you should expect. \n",
    "These are the results from the [Bhadanau, et al (2014)](https://arxiv.org/abs/1409.0473) paper comparing models with and without attention.\n",
    "\n",
    "![](https://github.com/pranath/blog/raw/master/images/seq2seq-1.png \"Seq2Seq Models\")\n",
    "\n",
    "The models with attention perform better than the traditional Seq2Seq models across all sentence lengths.\n",
    "\n",
    "## Import Libraries & Setup\n",
    "\n",
    "Let's import NumPy and define a softmax function we will use later."
   ]
  },
  {
   "cell_type": "code",
   "execution_count": 1,
   "id": "f80e6598",
   "metadata": {},
   "outputs": [],
   "source": [
    "# Run this first, a bit of setup for the rest of the lab\n",
    "import numpy as np\n",
    "\n",
    "def softmax(x, axis=0):\n",
    "    \"\"\" Calculate softmax function for an array x along specified axis\n",
    "    \n",
    "        axis=0 calculates softmax across rows which means each column sums to 1 \n",
    "        axis=1 calculates softmax across columns which means each row sums to 1\n",
    "    \"\"\"\n",
    "    return np.exp(x) / np.expand_dims(np.sum(np.exp(x), axis=axis), axis)"
   ]
  },
  {
   "cell_type": "markdown",
   "id": "0705384b",
   "metadata": {},
   "source": [
    "## Calculating alignment scores\n",
    "\n",
    "The first step is to calculate the alignment scores. This is a measure of similarity between the decoder hidden state and each encoder hidden state. From the paper Appendix Section A.1.2, this operation looks like\n",
    "\n",
    "$$\n",
    "\\large e_{ij} = v_a^\\top \\tanh{\\left(W_a s_{i-1} + U_a h_j\\right)}\n",
    "$$\n",
    "\n",
    "where $W_a \\in \\mathbb{R}^{n\\times m}$, $U_a \\in \\mathbb{R}^{n \\times m}$, and $v_a \\in \\mathbb{R}^m$\n",
    "are the weight matrices and $n$ is the hidden state size. In practice, this is implemented as a feedforward neural network with two layers, where $m$ is the size of the layers in the alignment network. It looks something like:\n",
    "\n",
    "![](https://github.com/pranath/blog/raw/master/images/alignment_model_3.png \"alignment model\")\n",
    "\n",
    "Here $h_j$ are the encoder hidden states for each input step $j$ and $s_{i - 1}$ is the decoder hidden state of the previous step. The first layer corresponds to $W_a$ and $U_a$, while the second layer corresponds to $v_a$.\n",
    "\n",
    "To implement this, lets first concatenate the encoder and decoder hidden states to produce an array with size $K \\times 2n$ where $K$ is the number of encoder states/steps. For this, we use `np.concatenate` ([docs](https://numpy.org/doc/stable/reference/generated/numpy.concatenate.html)). Note that there is only one decoder state so we'll need to reshape it to successfully concatenate the arrays. The easiest way is to use `decoder_state.repeat` ([docs](https://numpy.org/doc/stable/reference/generated/numpy.repeat.html#numpy.repeat)) to match the hidden state array size.\n",
    "\n",
    "Then, we apply the first layer as a matrix multiplication between the weights and the concatenated input. We will use the tanh function to get the activations. Finally, we compute the matrix multiplication of the second layer weights and the activations. This returns the alignment scores."
   ]
  },
  {
   "cell_type": "code",
   "execution_count": 2,
   "id": "666f3472",
   "metadata": {},
   "outputs": [],
   "source": [
    "hidden_size = 16\n",
    "attention_size = 10\n",
    "input_length = 5\n",
    "\n",
    "np.random.seed(42)\n",
    "\n",
    "# Synthetic vectors used to test\n",
    "encoder_states = np.random.randn(input_length, hidden_size)\n",
    "decoder_state = np.random.randn(1, hidden_size)\n",
    "\n",
    "# Weights for the neural network, these are typically learned through training\n",
    "# Use these in the alignment function below as the layer weights\n",
    "layer_1 = np.random.randn(2*hidden_size, attention_size)\n",
    "layer_2 = np.random.randn(attention_size, 1)\n",
    "\n",
    "# Alignment function\n",
    "def alignment(encoder_states, decoder_state):\n",
    "    # First, concatenate the encoder states and the decoder state\n",
    "    inputs = np.concatenate((encoder_states, decoder_state.repeat(input_length, axis=0)), axis=1)\n",
    "    assert inputs.shape == (input_length, 2*hidden_size)\n",
    "    \n",
    "    # Matrix multiplication of the concatenated inputs and layer_1, with tanh activation\n",
    "    activations = np.tanh(np.matmul(inputs, layer_1))\n",
    "    assert activations.shape == (input_length, attention_size)\n",
    "    \n",
    "    # Matrix multiplication of the activations with layer_2. We don't need tanh here\n",
    "    scores = np.matmul(activations, layer_2)\n",
    "    assert scores.shape == (input_length, 1)\n",
    "    \n",
    "    return scores"
   ]
  },
  {
   "cell_type": "code",
   "execution_count": 3,
   "id": "36ff7511",
   "metadata": {},
   "outputs": [
    {
     "name": "stdout",
     "output_type": "stream",
     "text": [
      "[[4.35790943]\n",
      " [5.92373433]\n",
      " [4.18673175]\n",
      " [2.11437202]\n",
      " [0.95767155]]\n"
     ]
    }
   ],
   "source": [
    "# Run to test the alignment function\n",
    "scores = alignment(encoder_states, decoder_state)\n",
    "print(scores)"
   ]
  },
  {
   "cell_type": "markdown",
   "id": "07a468a0",
   "metadata": {},
   "source": [
    "## Turning alignment into weights\n",
    "\n",
    "The next step is to calculate the weights from the alignment scores. These weights determine the encoder outputs that are the most important for the decoder output. These weights should be between 0 and 1, and add up to 1. We can use the softmax function already implemented to get these weights from the attention scores. We will pass the attention scores vector to the softmax function to get the weights. Mathematically,\n",
    "\n",
    "$$\n",
    "\\large \\alpha_{ij} = \\frac{\\exp{\\left(e_{ij}\\right)}}{\\sum_{k=1}^K \\exp{\\left(e_{ik}\\right)}}\n",
    "$$\n",
    "\n",
    "This is as described in Appendix section A.2.2 of the paper.\n",
    "\n",
    "## Weight the encoder output vectors and sum\n",
    "\n",
    "The weights tell us the importance of each input word with respect to the decoder state. In this step, we use the weights to modulate the magnitude of the encoder vectors. Words with little importance will be scaled down relative to important words. We will multiply each encoder vector by its respective weight to get the alignment vectors, then sum up the weighted alignment vectors to get the context vector. Mathematically,\n",
    "\n",
    "$$\n",
    "\\large c_i = \\sum_{j=1}^K\\alpha_{ij} h_{j}\n",
    "$$\n",
    "\n",
    "This is as described in Appendix section A.2.2 of the paper.\n",
    "\n",
    "We wil implement these steps in the `attention` function below."
   ]
  },
  {
   "cell_type": "code",
   "execution_count": 4,
   "id": "78414f51",
   "metadata": {},
   "outputs": [
    {
     "name": "stdout",
     "output_type": "stream",
     "text": [
      "[-0.63514569  0.04917298 -0.43930867 -0.9268003   1.01903919 -0.43181409\n",
      "  0.13365099 -0.84746874 -0.37572203  0.18279832 -0.90452701  0.17872958\n",
      " -0.58015282 -0.58294027 -0.75457577  1.32985756]\n"
     ]
    }
   ],
   "source": [
    "# Attention function\n",
    "def attention(encoder_states, decoder_state):\n",
    "    \"\"\" Function that calculates attention, returns the context vector \n",
    "    \n",
    "        Arguments:\n",
    "        encoder_vectors: NxM numpy array, where N is the number of vectors and M is the vector length\n",
    "        decoder_vector: 1xM numpy array, M is the vector length, much be the same M as encoder_vectors\n",
    "    \"\"\" \n",
    "    \n",
    "    # First, calculate the alignment scores\n",
    "    scores = alignment(encoder_states, decoder_state)\n",
    "    \n",
    "    # Then take the softmax of the alignment scores to get a weight distribution\n",
    "    weights = softmax(scores)\n",
    "    \n",
    "    # Multiply each encoder state by its respective weight\n",
    "    weighted_scores = encoder_states * weights\n",
    "    \n",
    "    # Sum up weighted alignment vectors to get the context vector and return it\n",
    "    context = np.sum(weighted_scores, axis=0)\n",
    "    return context\n",
    "\n",
    "context_vector = attention(encoder_states, decoder_state)\n",
    "print(context_vector)"
   ]
  },
  {
   "cell_type": "markdown",
   "id": "ae974051-f88c-459b-9383-b0815154f351",
   "metadata": {},
   "source": [
    "This context vector created using the new attention process will hold much more useful information relevant for producing more accurate output and better translations by the decoder of the Seq2Seq model."
   ]
  },
  {
   "cell_type": "markdown",
   "id": "735d39e6-559e-4259-ba63-d8a6f68f8c14",
   "metadata": {},
   "source": [
    "## Acknowledgements\n",
    "\n",
    "I'd like to express my thanks to the great [Natural Language Processing with Attention Models Course](https://www.coursera.org/learn/attention-models-in-nlp) which i completed, and acknowledge the use of some images and other materials from the course in this article."
   ]
  }
 ],
 "metadata": {
  "kernelspec": {
   "display_name": "Python 3 (ipykernel)",
   "language": "python",
   "name": "python3"
  },
  "language_info": {
   "codemirror_mode": {
    "name": "ipython",
    "version": 3
   },
   "file_extension": ".py",
   "mimetype": "text/x-python",
   "name": "python",
   "nbconvert_exporter": "python",
   "pygments_lexer": "ipython3",
   "version": "3.9.13"
  }
 },
 "nbformat": 4,
 "nbformat_minor": 5
}
