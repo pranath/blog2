{
 "cells": [
  {
   "cell_type": "raw",
   "metadata": {},
   "source": [
    "---\n",
    "aliases:\n",
    "- /mathematics/linear-algebra/natural-language-processing/2021/12/27/topic-modelling-svd\n",
    "categories:\n",
    "- mathematics\n",
    "- linear-algebra\n",
    "- natural-language-processing\n",
    "date: '2021-12-27'\n",
    "description: Singular Value Decomposition (SVD) is a method from Linear Algebra widley\n",
    "  used accross science and engineering. In this article we will introduce the concept\n",
    "  and show how it can be used for Topic Modelling in Natural Language Processing (NLP).\n",
    "image: https://github.com/pranath/blog/raw/master/images/svd.png\n",
    "output-file: 2021-12-27-topic-modelling-svd.html\n",
    "title: Topic Modelling using Singular Value Decomposition (SVD)\n",
    "toc: true\n",
    "\n",
    "---\n",
    "\n"
   ]
  },
  {
   "cell_type": "code",
   "execution_count": null,
   "metadata": {
    "id": "ppKHiECiu-dA"
   },
   "outputs": [],
   "source": [
    "#| include: false\n",
    "import numpy as np\n",
    "from sklearn.datasets import fetch_20newsgroups\n",
    "from sklearn import decomposition\n",
    "from sklearn.feature_extraction.text import CountVectorizer, TfidfVectorizer\n",
    "from scipy import linalg\n",
    "import matplotlib.pyplot as plt\n",
    "import warnings\n",
    "warnings.filterwarnings('ignore')"
   ]
  },
  {
   "cell_type": "markdown",
   "metadata": {
    "id": "aasSVREGok28"
   },
   "source": [
    "## Introduction\n",
    "\n",
    "**Singular Value Decomposition (SVD)** is a method from Linear Algebra that is used in a wide range of applications in science and engineering. It can be used for tasks such as dimensionality reduction, image compression, and even [understanding entanglement in quantum theory](https://www.math3ma.com/blog/understanding-entanglement-with-svd).\n",
    "\n",
    "**Topic modeling** is an unsupervised machine learning technique used in Natural Language Processing (NLP) that’s capable of scanning a set of texts, detecting word and phrase patterns within them, and automatically clustering word groups and similar expressions that best characterize a set of documents.\n",
    "\n",
    "In this article we will will use SVD to perform topic modelling.\n",
    "\n",
    "This article is based in large part on the material from the [fastai linear algebra course](https://github.com/fastai/numerical-linear-algebra/blob/master/README.md)."
   ]
  },
  {
   "cell_type": "markdown",
   "metadata": {
    "id": "Q7cCrlSGoq0M"
   },
   "source": [
    "## Dataset\n",
    "\n",
    "We will use the [20 Newsgroups](https://archive.ics.uci.edu/ml/datasets/Twenty+Newsgroups) dataset which consists of 20,000 messages taken from 20 different newsgroups from the Usenet bulletin board service, which pre-dates the world-wide-web and websites. We will look at a subset of 4 of these newsgroup categories:\n",
    "\n",
    "- rec.motorcycles\n",
    "- talk.politics.mideast\n",
    "- sci.med\n",
    "- sci.crypt\n",
    "\n",
    "We will now get this data."
   ]
  },
  {
   "cell_type": "code",
   "execution_count": null,
   "metadata": {
    "id": "ZAAUcHL_4Z7r"
   },
   "outputs": [],
   "source": [
    "\n",
    "categories = ['rec.motorcycles', 'talk.politics.mideast', 'sci.med', 'sci.crypt']\n",
    "remove = ('headers', 'footers', 'quotes')\n",
    "newsgroups_train = fetch_20newsgroups(subset='train', categories=categories, remove=remove)\n",
    "newsgroups_test = fetch_20newsgroups(subset='test', categories=categories, remove=remove)"
   ]
  },
  {
   "cell_type": "markdown",
   "metadata": {
    "id": "ml-qDRVu8SGw"
   },
   "source": [
    "Let's check how many posts this gives us in total"
   ]
  },
  {
   "cell_type": "code",
   "execution_count": null,
   "metadata": {
    "colab": {
     "base_uri": "https://localhost:8080/"
    },
    "id": "08dgpytT4df6",
    "outputId": "ca2efdf6-15f9-4c2f-cb39-02461ebbf5fc"
   },
   "outputs": [
    {
     "data": {
      "text/plain": [
       "((2351,), (2351,))"
      ]
     },
     "execution_count": 3,
     "metadata": {},
     "output_type": "execute_result"
    }
   ],
   "source": [
    "\n",
    "newsgroups_train.filenames.shape, newsgroups_train.target.shape"
   ]
  },
  {
   "cell_type": "markdown",
   "metadata": {
    "id": "Ud6DXMcs8efD"
   },
   "source": [
    "Let's print the first few lines of 3 of the posts to see what the text looks like"
   ]
  },
  {
   "cell_type": "code",
   "execution_count": null,
   "metadata": {
    "colab": {
     "base_uri": "https://localhost:8080/"
    },
    "id": "jcSN24K95Awk",
    "outputId": "d791175f-2939-4747-b8a9-5dd27038286d"
   },
   "outputs": [
    {
     "name": "stdout",
     "output_type": "stream",
     "text": [
      "\n",
      "I am not an expert in the cryptography science, but some basic things\n",
      "seem evident to me, things which this Clinton Clipper do not address.\n"
     ]
    }
   ],
   "source": [
    "\n",
    "print(\"\\n\".join(newsgroups_train.data[0].split(\"\\n\")[:3]))"
   ]
  },
  {
   "cell_type": "code",
   "execution_count": null,
   "metadata": {
    "colab": {
     "base_uri": "https://localhost:8080/"
    },
    "id": "j77QmycE5vr2",
    "outputId": "ba78c59c-76df-4b61-9ade-dc1393784f96"
   },
   "outputs": [
    {
     "name": "stdout",
     "output_type": "stream",
     "text": [
      "Does the Bates method work?  I first heard about it in this newsgroup \n",
      "several years ago, and I have just got hold of a book, \"How to improve your\n",
      "sight - simple daily drills in relaxation\", by Margaret D. Corbett, \n"
     ]
    }
   ],
   "source": [
    "\n",
    "print(\"\\n\".join(newsgroups_train.data[2].split(\"\\n\")[:3]))"
   ]
  },
  {
   "cell_type": "code",
   "execution_count": null,
   "metadata": {
    "colab": {
     "base_uri": "https://localhost:8080/"
    },
    "id": "2dEUFpjO542_",
    "outputId": "ead5c006-8ce0-4ca0-f12a-9b3b127ef3b8"
   },
   "outputs": [
    {
     "name": "stdout",
     "output_type": "stream",
     "text": [
      "\n",
      "Suggest McQuires #1 plastic polish.  It will help somewhat but nothing \n",
      "will remove deep scratches without making it worse than it already is.\n"
     ]
    }
   ],
   "source": [
    "\n",
    "print(\"\\n\".join(newsgroups_train.data[5].split(\"\\n\")[:3]))"
   ]
  },
  {
   "cell_type": "markdown",
   "metadata": {
    "id": "KgAS1HDg8wzP"
   },
   "source": [
    "We can also get the newsgroup category for each from the 'target_names' attribute"
   ]
  },
  {
   "cell_type": "code",
   "execution_count": null,
   "metadata": {
    "colab": {
     "base_uri": "https://localhost:8080/"
    },
    "id": "3YOF8wIo6XhA",
    "outputId": "1bcbd2d0-98e7-40f8-d452-a83d4892cfcb"
   },
   "outputs": [
    {
     "data": {
      "text/plain": [
       "array(['sci.crypt', 'sci.med', 'sci.med'], dtype='<U21')"
      ]
     },
     "execution_count": 7,
     "metadata": {},
     "output_type": "execute_result"
    }
   ],
   "source": [
    "\n",
    "np.array(newsgroups_train.target_names)[newsgroups_train.target[:3]]"
   ]
  },
  {
   "cell_type": "markdown",
   "metadata": {
    "id": "cTyWc-KR6Krd"
   },
   "source": [
    "To use this text dataset for topic modelling we will need to convert this into a **document-term** matrix. This is a matrix where the rows will correspond to to each of the newsgroup posts (a 'document' conceptually) and the columns will be for each of the words that exists in all posts (a 'term' conceptually). The values of the matrix will be the count of the number of words that exists for a particular post for each post/word combination in the matrix.\n",
    "\n",
    "![](https://github.com/pranath/blog/raw/master/images/document-term-matrix.png \"An example Document-Term matrix\")\n",
    "\n",
    "This method of converting text into a count of the words in the text matrix, without regard for anything else (such as order, context etc) is called a **bag of words** model. We can create this matrix using a *CountVectoriser()* function."
   ]
  },
  {
   "cell_type": "code",
   "execution_count": null,
   "metadata": {
    "colab": {
     "base_uri": "https://localhost:8080/"
    },
    "id": "v2VwRNHX6Mlp",
    "outputId": "4d598487-2683-4fb5-ff3a-040b4002f9a4"
   },
   "outputs": [
    {
     "data": {
      "text/plain": [
       "(2351, 32291)"
      ]
     },
     "execution_count": 8,
     "metadata": {},
     "output_type": "execute_result"
    }
   ],
   "source": [
    "\n",
    "vectorizer = CountVectorizer(stop_words='english')\n",
    "vectors = vectorizer.fit_transform(newsgroups_train.data).todense() # (documents, vocab)\n",
    "vectors.shape "
   ]
  },
  {
   "cell_type": "markdown",
   "metadata": {
    "id": "Tdf86Nf5A-HY"
   },
   "source": [
    "We can see this matrix has the same number of rows as we have posts (2351) and we must have 32,291 unique words accross all posts which is the number of columns we have."
   ]
  },
  {
   "cell_type": "code",
   "execution_count": null,
   "metadata": {
    "colab": {
     "base_uri": "https://localhost:8080/"
    },
    "id": "XXBlZc1n68C1",
    "outputId": "135d54c2-4c5e-4a3a-af49-956d3b419b70"
   },
   "outputs": [
    {
     "name": "stdout",
     "output_type": "stream",
     "text": [
      "2351 (2351, 32291)\n"
     ]
    }
   ],
   "source": [
    "\n",
    "print(len(newsgroups_train.data), vectors.shape)"
   ]
  },
  {
   "cell_type": "markdown",
   "metadata": {
    "id": "2nr__2z_BoW5"
   },
   "source": [
    "If we print the matrix, its just an array of counts for each of the words in each post"
   ]
  },
  {
   "cell_type": "code",
   "execution_count": null,
   "metadata": {
    "colab": {
     "base_uri": "https://localhost:8080/"
    },
    "id": "wLD6fDbL9bPC",
    "outputId": "90429429-33f0-43f5-c573-c39e9338a4a4"
   },
   "outputs": [
    {
     "data": {
      "text/plain": [
       "matrix([[0, 0, 0, ..., 0, 0, 0],\n",
       "        [0, 0, 0, ..., 0, 0, 0],\n",
       "        [0, 0, 0, ..., 0, 0, 0],\n",
       "        ...,\n",
       "        [0, 0, 0, ..., 0, 0, 0],\n",
       "        [0, 2, 0, ..., 0, 0, 0],\n",
       "        [0, 0, 0, ..., 0, 0, 0]])"
      ]
     },
     "execution_count": 10,
     "metadata": {},
     "output_type": "execute_result"
    }
   ],
   "source": [
    "\n",
    "vectors"
   ]
  },
  {
   "cell_type": "markdown",
   "metadata": {
    "id": "CJAyvmJoBuee"
   },
   "source": [
    "This matrix does not actually contain the names of the words, so it will be helpful for us to extract these as well to create a vocabulary of terms used in the matrix. We can extract these using *get_feature_names()*"
   ]
  },
  {
   "cell_type": "code",
   "execution_count": null,
   "metadata": {
    "colab": {
     "base_uri": "https://localhost:8080/"
    },
    "id": "4I-1srYo6_fl",
    "outputId": "e1aa69b1-c54a-48fa-fd1f-9427eecbee6e"
   },
   "outputs": [
    {
     "data": {
      "text/plain": [
       "(32291,)"
      ]
     },
     "execution_count": 11,
     "metadata": {},
     "output_type": "execute_result"
    }
   ],
   "source": [
    "\n",
    "vocab = np.array(vectorizer.get_feature_names())\n",
    "vocab.shape"
   ]
  },
  {
   "cell_type": "code",
   "execution_count": null,
   "metadata": {
    "colab": {
     "base_uri": "https://localhost:8080/"
    },
    "id": "hvD6LDYE7Us9",
    "outputId": "331a0856-53d9-4bd5-ea36-08ecf2e176b0"
   },
   "outputs": [
    {
     "data": {
      "text/plain": [
       "array(['00', '000', '0000', ..., 'yarn', 'yarvin', 'yashir'], dtype='<U79')"
      ]
     },
     "execution_count": 12,
     "metadata": {},
     "output_type": "execute_result"
    }
   ],
   "source": [
    "\n",
    "vocab[:32000]"
   ]
  },
  {
   "cell_type": "markdown",
   "metadata": {
    "id": "f_0SBeOXCKaP"
   },
   "source": [
    "While we have the newsgroup categories here, we will not actually use them for our topic modelling exercise, where we want to create topics independantly based on the posts alone, but we would hope these will correspond to the newsgroup categories in some way, indeed this would be a good check that the topic modelling is working.\n",
    "\n",
    "Now we have our Document-Term matrix and the vocabulary, we are now ready to use Singular Value Decompostion."
   ]
  },
  {
   "cell_type": "markdown",
   "metadata": {
    "id": "rof2ex3EowQ1"
   },
   "source": [
    "## Singular Value Decomposition (SVD)\n",
    "\n",
    "SVD is a method of matrix decomposition, so for a given matrix A we can convert it into 3 other matrices: U, $\\sum_{}$, and $V^{T}$\n",
    "\n",
    "\n",
    "![](https://github.com/pranath/blog/raw/master/images/svd.png \"Singular Value Decompositon\")\n",
    "\n",
    "R is a value we choose in advance, in the case of our intention here R will repesent the number of topics we want to create for our topic model of the newsgroup posts.\n",
    "\n",
    "Each of these matricies represents the following\n",
    "\n",
    "- U: **Left singular vectors** this has the same number of rows as our original matrix A (m rows/posts) and a column for each of our chosen number of topics (r columns). This matrix has *orthogonal (or orthonormal) columns* i.e. vectors along the r topics column axis.\n",
    "- $\\sum_{}$: **Singular values** has r rows by r columns, in our case this means topics by topics. This represents the ranked relative importance of each topic so the most important topic is topic 1 which is in row 1, column 1 - and the value at this index will be a measure of the importance, and so on for topic 2 etc. This is a matrix of diagonal singular values (all other values off the diagonal are zero).\n",
    "- $V^{T}$: **Right singular vectors** this has the same number of columns as our original matrix A (n columns) and a row for each of our chosen number of topics (r rows)\n",
    "\n",
    "If we were to choose a R value equal to N this would be an **exact decompostion** of the matrix A, which would mean if we were to multiply U, $\\sum_{}$, and $V^{T}$ we would get back exactly the same matrix A.\n",
    "\n",
    "However there are many reasons why in practice we may not want to do a full decompostion, including in the case of large matricies this can be extermely time consuming, and often we may not require all potential topics, just the most important. So in practice we are likely to choose a value for R that is far smaller than N.\n",
    "\n",
    "**Latent Semantic Analysis (LSA) or Latent Semantic Index (LSI)** is a common name given to applying SVD to topic modelling in NLP in this way i.e. using a Document-Term matrix.\n",
    "\n",
    "Another way to think about SVD more generally is that whatever is represented by a matrix A by columns M and N, is mapped into a 'latent space' defined by the R dimension. Futhermore, this mapping is done in such a way that co-occuring values of N are projected into the same R dimensions with higher values, and conversley non-couccuring values on N are projected into different R dimensions. \n",
    "\n",
    "In other words, the latent space R dimensions allow us to show which M are similar or different based on their values of N.\n",
    "\n",
    "So we can peform full SVD on our Document-Term matrix using the scipy *linalg* module."
   ]
  },
  {
   "cell_type": "code",
   "execution_count": null,
   "metadata": {
    "colab": {
     "base_uri": "https://localhost:8080/"
    },
    "id": "_jSrszgniMSF",
    "outputId": "cd4ac640-e5b8-476b-bd86-d45119f481db"
   },
   "outputs": [
    {
     "name": "stdout",
     "output_type": "stream",
     "text": [
      "CPU times: user 1min 55s, sys: 5.34 s, total: 2min\n",
      "Wall time: 1min 2s\n"
     ]
    }
   ],
   "source": [
    "\n",
    "%time U, s, Vh = linalg.svd(vectors, full_matrices=False)"
   ]
  },
  {
   "cell_type": "code",
   "execution_count": null,
   "metadata": {
    "colab": {
     "base_uri": "https://localhost:8080/"
    },
    "id": "mLkucwYZiS7J",
    "outputId": "cbd89bfe-da06-44e0-e0ef-58dcfd2a229f"
   },
   "outputs": [
    {
     "name": "stdout",
     "output_type": "stream",
     "text": [
      "(2351, 2351) (2351,) (2351, 32291)\n"
     ]
    }
   ],
   "source": [
    "\n",
    "print(U.shape, s.shape, Vh.shape)"
   ]
  },
  {
   "cell_type": "markdown",
   "metadata": {
    "id": "CjAQbSfridnq"
   },
   "source": [
    "This has performed a full SVD, and took around 2 mins. \n",
    "\n",
    "We can test that this is a decomposition by multipling these matrices and checking if they are close to equal to the original matrix using the *allclose()* function from numpy."
   ]
  },
  {
   "cell_type": "code",
   "execution_count": null,
   "metadata": {
    "colab": {
     "base_uri": "https://localhost:8080/"
    },
    "id": "AfZRY_MCjqgL",
    "outputId": "34ba3b33-218b-453d-e124-88504ec724ca"
   },
   "outputs": [
    {
     "data": {
      "text/plain": [
       "4.063801905115974e-12"
      ]
     },
     "execution_count": 15,
     "metadata": {},
     "output_type": "execute_result"
    }
   ],
   "source": [
    "\n",
    "# Confirm that U, s, Vh is a decomposition of the var Vectors\n",
    "# Multiply matrices\n",
    "reconstructed_vectors = U @ np.diag(s) @ Vh\n",
    "# Calculate the Frobenius norm between the original matrix A and this reconstructed one - which is a measure of the distance/differences between these matrices\n",
    "np.linalg.norm(reconstructed_vectors - vectors)"
   ]
  },
  {
   "cell_type": "code",
   "execution_count": null,
   "metadata": {
    "colab": {
     "base_uri": "https://localhost:8080/"
    },
    "id": "g-x8RjzPz8xA",
    "outputId": "2084fecc-c7f6-4ea3-c3bb-b2745bfcf9ef"
   },
   "outputs": [
    {
     "data": {
      "text/plain": [
       "True"
      ]
     },
     "execution_count": 16,
     "metadata": {},
     "output_type": "execute_result"
    }
   ],
   "source": [
    "\n",
    "# Check if two matrices are approximately equal within a small difference\n",
    "np.allclose(reconstructed_vectors, vectors)"
   ]
  },
  {
   "cell_type": "markdown",
   "metadata": {
    "id": "qiSzRH0ij131"
   },
   "source": [
    "We can also check that U and Vh are orthonormal matrices. [If we multiply these by their transpose this should be close to equal to the identity matrix for each of these (by definition).](https://en.wikipedia.org/wiki/Orthogonal_matrix)."
   ]
  },
  {
   "cell_type": "code",
   "execution_count": null,
   "metadata": {
    "colab": {
     "base_uri": "https://localhost:8080/"
    },
    "id": "LKbJuXf9j1O-",
    "outputId": "d54a8e6c-b411-450d-9bb2-61246e360244"
   },
   "outputs": [
    {
     "data": {
      "text/plain": [
       "True"
      ]
     },
     "execution_count": 17,
     "metadata": {},
     "output_type": "execute_result"
    }
   ],
   "source": [
    "\n",
    "# Confirm that U, Vh are orthonormal\n",
    "np.allclose(U.T @ U, np.eye(U.shape[0]))\n",
    "np.allclose(Vh @ Vh.T, np.eye(Vh.shape[0]))"
   ]
  },
  {
   "cell_type": "markdown",
   "metadata": {
    "id": "cYZ_vaBbm-YX"
   },
   "source": [
    "If we look at the singular values matrix, we can get an idea of the relative importance of each of the topics (topics on x axis)"
   ]
  },
  {
   "cell_type": "code",
   "execution_count": null,
   "metadata": {
    "colab": {
     "base_uri": "https://localhost:8080/",
     "height": 296
    },
    "id": "lxmM6ihAnEtP",
    "outputId": "f1bab807-24d8-448e-8a6e-640608c10f96"
   },
   "outputs": [
    {
     "data": {
      "text/plain": [
       "Text(0, 0.5, 'Importance')"
      ]
     },
     "execution_count": 18,
     "metadata": {},
     "output_type": "execute_result"
    },
    {
     "data": {
      "image/png": "[encoded data removed]",
      "text/plain": [
       "<Figure size 432x288 with 1 Axes>"
      ]
     },
     "metadata": {
      "needs_background": "light"
     },
     "output_type": "display_data"
    }
   ],
   "source": [
    "\n",
    "plt.plot(s)\n",
    "plt.xlabel('Topic number')\n",
    "plt.ylabel('Importance')"
   ]
  },
  {
   "cell_type": "markdown",
   "metadata": {
    "id": "gqdkvRNVnsGO"
   },
   "source": [
    "Let's have a look at the topics discovered by SVD, we will do this by looking at the top 8 words that score most highly for each topic. This will be orderded by most important topic first."
   ]
  },
  {
   "cell_type": "code",
   "execution_count": null,
   "metadata": {
    "colab": {
     "base_uri": "https://localhost:8080/"
    },
    "id": "onmSfN_2n_x7",
    "outputId": "2c356aae-858e-4a49-f6cf-b3daa003d74b"
   },
   "outputs": [
    {
     "name": "stdout",
     "output_type": "stream",
     "text": [
      "Top 10 topics, described by top words in each topic\n"
     ]
    },
    {
     "data": {
      "text/plain": [
       "['melittin wimp disgruntled rebelling toxin sorta bikeless litte',\n",
       " 'db mov bh si bl di maxbyte cx',\n",
       " 'said didn people know don went apartment came',\n",
       " 'health 1993 hiv medical use 10 number 20',\n",
       " 'edu com anonymous health posting anon service cs',\n",
       " 'key privacy eff pub encryption use law health',\n",
       " 'internet email privacy anonymous anonymity health eff hiv',\n",
       " 'anonymous posting anonymity use anon key users postings',\n",
       " 'com edu encryption privacy government said chip technology',\n",
       " 'version machines contact type pc comments ftp keyboard']"
      ]
     },
     "execution_count": 19,
     "metadata": {},
     "output_type": "execute_result"
    }
   ],
   "source": [
    "\n",
    "num_top_words=8\n",
    "\n",
    "def show_topics(a):\n",
    "    top_words = lambda t: [vocab[i] for i in np.argsort(t)[:-num_top_words-1:-1]]\n",
    "    topic_words = ([top_words(t) for t in a])\n",
    "    return [' '.join(t) for t in topic_words]\n",
    "\n",
    "print('Top 10 topics, described by top words in each topic')\n",
    "show_topics(Vh[:10])"
   ]
  },
  {
   "cell_type": "markdown",
   "metadata": {
    "id": "N-2yZa3ooYN9"
   },
   "source": [
    "So if you recall our original news group categories were:\n",
    "\n",
    "- rec.motorcycles\n",
    "- talk.politics.mideast\n",
    "- sci.med\n",
    "- sci.crypt\n",
    "\n",
    "We can see that the topics discovered correspond fairly well to these, bar a few anomalies."
   ]
  },
  {
   "cell_type": "markdown",
   "metadata": {
    "id": "HmVypQD_o97U"
   },
   "source": [
    "## Truncated SVD\n",
    "\n",
    "So we saw from our attempt at full SVD was quite slow to calculate (approx 2 mins) we can imagine this is likely to get far worse with bigger matrices. We also know that perhaps we don't need to calculate a full set of topics, especially given for most practical applications we are most likely interested in using the strongest topics that distinguish posts, rather than topics that are not very useful. The approaches to calculate full SVD use particular algorithms to create the decomposition, and [Halko et al](https://arxiv.org/abs/0909.4061) highlighted some of the key disadvantages of this approach:\n",
    "\n",
    "-  Matrices are \"stupendously big\"\n",
    "- Data are often missing or inaccurate. Why spend extra computational resources when imprecision of input limits precision of the output?\n",
    "- Data transfer now plays a major role in time of algorithms. Techniques the require fewer passes over the data may be substantially faster, even if they require more flops (flops = floating point operations).\n",
    "- Important to take advantage of GPUs.\n",
    "\n",
    "In the same paper, Halko et al argued for the advantages of using randomised approaches which include:\n",
    "\n",
    "- They are inherently stable\n",
    "- Performance guarantees do not depend on subtle spectral properties\n",
    "- Needed matrix-vector products can be done in parallel i.e. on a GPU\n",
    "\n",
    "So **Truncated SVD** using a randomised approach, allows us to calculate just the largest singular values and the corresponding matrices, which should be much quicker to calculate.\n",
    "\n",
    "We can use sklearn's *decomposition* module to calculated randomised SVD, we will specify the top 10 topics only."
   ]
  },
  {
   "cell_type": "code",
   "execution_count": null,
   "metadata": {
    "colab": {
     "base_uri": "https://localhost:8080/"
    },
    "id": "mEm2Is_iGXt5",
    "outputId": "5931738e-f483-4500-aaed-b4072eb06ad3"
   },
   "outputs": [
    {
     "name": "stdout",
     "output_type": "stream",
     "text": [
      "CPU times: user 18.7 s, sys: 2.09 s, total: 20.8 s\n",
      "Wall time: 15.2 s\n"
     ]
    }
   ],
   "source": [
    "\n",
    "%time u, s, v = decomposition.randomized_svd(vectors, 10)"
   ]
  },
  {
   "cell_type": "markdown",
   "metadata": {
    "id": "L2giwzm4tHE4"
   },
   "source": [
    "Lets see the top 10 topics its discovered."
   ]
  },
  {
   "cell_type": "code",
   "execution_count": null,
   "metadata": {
    "colab": {
     "base_uri": "https://localhost:8080/"
    },
    "id": "o-d69hgXtBhe",
    "outputId": "e8d88e90-7c66-4559-c20b-0c659e19fa3f"
   },
   "outputs": [
    {
     "data": {
      "text/plain": [
       "['db mov bh si cs byte al bl',\n",
       " 'people said know don didn anonymous privacy internet',\n",
       " 'privacy internet anonymous information pub email eff use',\n",
       " 'health 1993 hiv medical use 10 number 20',\n",
       " 'turkish jews turkey key privacy government armenian eff',\n",
       " 'turkish edu jews com turkey anonymous jewish nazis',\n",
       " 'key edu encryption des com ripem chip keys',\n",
       " 'com edu pub eff ftp electronic org computer',\n",
       " 'dod rec denizens motorcycle motorcycles doom ftp terrible',\n",
       " 'version machines contact type pc comments ftp keyboard']"
      ]
     },
     "execution_count": 21,
     "metadata": {},
     "output_type": "execute_result"
    }
   ],
   "source": [
    "\n",
    "show_topics(v)"
   ]
  },
  {
   "cell_type": "markdown",
   "metadata": {
    "id": "J1DopJgrsUdC"
   },
   "source": [
    "So this is much faster taking a total of 20 seconds for randomised SVD compared to the full SVD of 2 minutes.\n",
    "\n",
    "[Facebook Research implemented a version of Randomised SVD](https://research.facebook.com/blog/2014/09/fast-randomized-svd/) based on the Halko paper.\n",
    "\n"
   ]
  },
  {
   "cell_type": "markdown",
   "metadata": {
    "id": "zUMR4mx2pIti"
   },
   "source": [
    "## Conclusion\n",
    "\n",
    "In this article we introduced Singular Value Decomposition (SVD) and saw how it could be applied to the task of topic modelling in NLP. We also saw how this could be optimised for speed when only concerned with the most important topics, using truncated SVD implemented using a randomised approach."
   ]
  }
 ],
 "metadata": {
  "accelerator": "GPU",
  "colab": {
   "name": "2021-12-27-topic-modelling-svd.ipynb",
   "provenance": []
  },
  "kernelspec": {
   "display_name": "Python 3 (ipykernel)",
   "language": "python",
   "name": "python3"
  },
  "language_info": {
   "codemirror_mode": {
    "name": "ipython",
    "version": 3
   },
   "file_extension": ".py",
   "mimetype": "text/x-python",
   "name": "python",
   "nbconvert_exporter": "python",
   "pygments_lexer": "ipython3",
   "version": "3.9.13"
  }
 },
 "nbformat": 4,
 "nbformat_minor": 4
}
