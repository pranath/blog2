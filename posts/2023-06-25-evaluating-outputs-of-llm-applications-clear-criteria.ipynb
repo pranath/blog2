{
 "cells": [
  {
   "cell_type": "raw",
   "id": "6a00d930-61cd-471d-868a-73ad789b6c20",
   "metadata": {},
   "source": [
    "---\n",
    "date: '2023-06-25'\n",
    "categories:\n",
    " - natural-language-processing\n",
    " - deep-learning\n",
    " - openai\n",
    " - llm-evaluation\n",
    "title: Evaluating the outputs of Large Language Model Applications for Clear Criteria\n",
    "description: Here we look at some best practices for evaluating the outputs of an LLM application when you do have a clear sense of the right output - to help us know before and after deployment how well its working\n",
    "image: https://github.com/pranath/blog/raw/master/images/chatgpt2.jpg\n",
    "---"
   ]
  },
  {
   "cell_type": "markdown",
   "id": "5f3ebd6b-8982-4b34-8c2f-90139749f122",
   "metadata": {},
   "source": [
    "## Introduction\n",
    "\n",
    "Large language models such as [ChatGPT](https://openai.com/blog/chatgpt) can generate text responses based on a given prompt or input. Writing prompts allow users to guide the language model's output by providing a specific context or topic for the response. This feature has many practical applications, such as generating creative writing prompts, assisting in content creation, and even aiding in customer service chatbots. \n",
    "\n",
    "In [earlier articles](/#category=openai) i've looked at how you can use ChatGPT to solve some of these tasks with simple prompts. But in many use cases, what is required is not just one prompt but a sequence of prompts where we need to also consider the outputs at each stage, before providing a final output - for example with a customer service chatbot.\n",
    "\n",
    "We have also seen previously how to build an application using an LLM from evaluating the inputs to processing the inputs to then doing final output checking before you show the output to the user. After you've built such a system, how do you know how it's working? And maybe even as you deploy it and let users use it, how can you track how it's doing and find any shortcomings and continue to improve the quality of the answers of your system? \n",
    "\n",
    "In this article, we will look at some best practices for evaluating the outputs of an LLM when we have a clearer sense of the outputs we want, and show what it feels like to build one of these systems. \n",
    "\n",
    "## Setup\n",
    "\n",
    "First we need to load certain python libs and connect the OpenAi api.\n",
    "\n",
    "The OpenAi api library needs to be configured with an account's secret key, which is available on the [website](https://platform.openai.com/account/api-keys). \n",
    "\n",
    "You can either set it as the `OPENAI_API_KEY` environment variable before using the library:\n",
    " ```\n",
    " !export OPENAI_API_KEY='sk-...'\n",
    " ```\n",
    "\n",
    "Or, set `openai.api_key` to its value:\n",
    "\n",
    "```\n",
    "import openai\n",
    "openai.api_key = \"sk-...\"\n",
    "```"
   ]
  },
  {
   "cell_type": "code",
   "execution_count": 1,
   "id": "739371db",
   "metadata": {},
   "outputs": [],
   "source": [
    "import os\n",
    "import openai\n",
    "import sys\n",
    "sys.path.append('../..')\n",
    "import utils\n",
    "from dotenv import load_dotenv, find_dotenv\n",
    "_ = load_dotenv(find_dotenv()) # read local .env file\n",
    "\n",
    "openai.api_key  = os.environ['OPENAI_API_KEY']"
   ]
  },
  {
   "cell_type": "code",
   "execution_count": 2,
   "id": "7b84b08a",
   "metadata": {},
   "outputs": [],
   "source": [
    "# Define helper function\n",
    "def get_completion_from_messages(messages, model=\"gpt-3.5-turbo\", temperature=0, max_tokens=500):\n",
    "    response = openai.ChatCompletion.create(\n",
    "        model=model,\n",
    "        messages=messages,\n",
    "        temperature=temperature, \n",
    "        max_tokens=max_tokens, \n",
    "    )\n",
    "    return response.choices[0].message[\"content\"]"
   ]
  },
  {
   "cell_type": "markdown",
   "id": "b90ab304-3357-4f00-bac6-061878868de2",
   "metadata": {},
   "source": [
    "## Best Practices for Evaluating Large Language Models\n",
    "\n",
    "### Differences between tradtional machine learning and LLM models\n",
    "\n",
    "A significant difference between evaluating LLMs and evaluating more conventional machine learning supervised learning applications is that because such applications can be built so quickly, the methodologies for evaluating them frequently do not begin with a test set. Instead, you frequently find yourself progressively assembling a collection of test instances. \n",
    "Let's examine what this implies.\n",
    "\n",
    "Recall from [earlier articles](https://livingdatalab.com/#category=openai) how prompt-based development reduces the duration of the key phases of model creation from possibly months to only a few minutes, hours, or at most a few days. \n",
    "In the conventional supervised learning approach, the incremental cost of collecting an additional 1,000 test examples isn't that high if you already required to gather, let's say, 10,000 labelled examples. Therefore, it was common practise in the classic supervised learning context to gather a training set, gather a development set, or gather a holdout cross-validation set in the test set, and then tap those available during this development phase. \n",
    "\n",
    "However, if you can specify a prompt in a matter of minutes and get something up and running in a matter of hours, it would seem like a major inconvenience to have to stop for a considerable amount of time to gather 1,000 test samples because you cannot get something to function with no training examples. \n",
    "So, this is how it typically feels while developing an application utilising an LLM. You would first fine-tune the prompts using just a few examples—perhaps one to three or five—and try to find a prompt that applies to them. \n",
    "Then you encounter a few challenging examples as you put the system through extra testing. \n",
    "\n",
    "They are incompatible with either the algorithm or the prompt. \n",
    "And in that scenario, you can just add more challenging cases by taking these extra one, two, three, or five examples and adding them to the collection that you're testing on. \n",
    "Once you've added enough of these examples to your gradually expanding development collection, it gets a little annoying to have to manually run each example through the prompt each time the prompt is changed. \n",
    " \n",
    "Then you start creating measures to gauge success on this condensed collection of samples, such perhaps average accuracy.\n",
    "\n",
    "### Iterative LLM testing\n",
    "\n",
    "And an intriguing feature of this method is that you can stop at any point and skip to the next bullet if you determine your system is operating well enough. \n",
    "In fact, a lot of deployed programmes stop working at the first or second bullet and continue to function well. \n",
    "The next stage is to get a randomly sampled collection of instances to tweak the model to if your hand-built development set, which you are using to evaluate it, isn't giving you enough confidence in the performance of your system yet. \n",
    "\n",
    "Given that it would be normal practise to keep tailoring your prompt to this, this would continue to be a development set or hold-out cross-validation set. \n",
    "And only if you require an even higher level of realism in your estimate of the system's performance should you gather and employ hold-out test sets that you don't even look at when fine-tuning the model. Therefore, step four is usually more crucial if, for example, your system is only providing the correct answer 91% of the time and you want to tune it so that it provides the correct answer 92% or 93% of the time. In this case, you will need a larger sample size to assess the differences between 91% and 93% performance. \n",
    "\n",
    "The only time you would need to collect a hold-out test set in addition to the development set would be if you truly needed an objective, fair assessment of how the system was performing. One crucial qualification: consider big language models where the risk of harm if it provides an incorrect answer isn't meaningful. \n",
    " \n",
    "However, it goes without saying that for any high-stakes applications, if there is a possibility of bias or an inappropriate output harming someone, the responsibility to gather a test set and rigorously evaluate your system's performance to ensure it is acting correctly before you use it becomes much more important. \n",
    " \n",
    "However, if you are using it, for instance, to summarise articles solely for your own reading and no one else's, then perhaps the risk of harm is less significant, and you can stop this process early without incurring the costs of bullets four and five and gathering larger data sets on which to evaluate your algorithm. \n",
    "\n",
    "## Get the relevant products and categories\n",
    "\n",
    "So for our example, we will start with the usual helper functions. We will use the utils function to get a list of products and categories.\n",
    "\n",
    "The utils python module and json used for this example can be found in this [github location](https://github.com/pranath/pds/tree/main/articles/2023-06-24).\n",
    "\n",
    "Here is the list of products and categories that are in the product catalog.\n",
    "\n"
   ]
  },
  {
   "cell_type": "code",
   "execution_count": 3,
   "id": "423f24ff",
   "metadata": {},
   "outputs": [
    {
     "data": {
      "text/plain": [
       "{'Computers and Laptops': ['TechPro Ultrabook',\n",
       "  'BlueWave Gaming Laptop',\n",
       "  'PowerLite Convertible',\n",
       "  'TechPro Desktop',\n",
       "  'BlueWave Chromebook'],\n",
       " 'Smartphones and Accessories': ['SmartX ProPhone',\n",
       "  'MobiTech PowerCase',\n",
       "  'SmartX MiniPhone',\n",
       "  'MobiTech Wireless Charger',\n",
       "  'SmartX EarBuds'],\n",
       " 'Televisions and Home Theater Systems': ['CineView 4K TV',\n",
       "  'SoundMax Home Theater',\n",
       "  'CineView 8K TV',\n",
       "  'SoundMax Soundbar',\n",
       "  'CineView OLED TV'],\n",
       " 'Gaming Consoles and Accessories': ['GameSphere X',\n",
       "  'ProGamer Controller',\n",
       "  'GameSphere Y',\n",
       "  'ProGamer Racing Wheel',\n",
       "  'GameSphere VR Headset'],\n",
       " 'Audio Equipment': ['AudioPhonic Noise-Canceling Headphones',\n",
       "  'WaveSound Bluetooth Speaker',\n",
       "  'AudioPhonic True Wireless Earbuds',\n",
       "  'WaveSound Soundbar',\n",
       "  'AudioPhonic Turntable'],\n",
       " 'Cameras and Camcorders': ['FotoSnap DSLR Camera',\n",
       "  'ActionCam 4K',\n",
       "  'FotoSnap Mirrorless Camera',\n",
       "  'ZoomMaster Camcorder',\n",
       "  'FotoSnap Instant Camera']}"
      ]
     },
     "execution_count": 3,
     "metadata": {},
     "output_type": "execute_result"
    }
   ],
   "source": [
    "products_and_category = utils.get_products_and_category()\n",
    "products_and_category"
   ]
  },
  {
   "cell_type": "markdown",
   "id": "7f1d1cb4-72f0-4a1a-9dd2-c5a7305ce249",
   "metadata": {},
   "source": [
    "There is a list of computers and laptops in the category \"computers and laptops,\" a list of smartphones and accessories is provided in the category \"smartphones and accessories,\" and so on for other categories. \n",
    "Let's imagine the task we're going to tackle is to extract the pertinent categories and items in order to have the knowledge necessary to respond to the user's query, which can be something like, \"What TV can I buy if I'm on a budget?\" \n",
    "\n",
    "## Find relevant product and category names\n",
    "\n",
    "The prompt gives the language model one example of a desirable output while also describing a set of instructions. Because we're actually combining a user message plus a system message to provide it with one example of a suitable output, this is frequently referred to as a few-shot or technically one-shot prompting. Whenever a person declares, \"I want the most expensive computer.\" We don't have pricing information, so let's just return all the computers. When a consumer asks, \"Which TV can I buy if I'm on a budget?,\" let's utilise this prompt. \n",
    "Therefore, we are adding the customer message zero prompt as well as the items and category to this. This is the data that the utils function allowed us to retrieve at the top.\n",
    "\n",
    "This could be the version that is running in production."
   ]
  },
  {
   "cell_type": "code",
   "execution_count": 4,
   "id": "7aad328a",
   "metadata": {},
   "outputs": [],
   "source": [
    "def find_category_and_product_v1(user_input,products_and_category):\n",
    "\n",
    "    delimiter = \"####\"\n",
    "    system_message = f\"\"\"\n",
    "    You will be provided with customer service queries. \\\n",
    "    The customer service query will be delimited with {delimiter} characters.\n",
    "    Output a python list of json objects, where each object has the following format:\n",
    "        'category': <one of Computers and Laptops, Smartphones and Accessories, Televisions and Home Theater Systems, \\\n",
    "    Gaming Consoles and Accessories, Audio Equipment, Cameras and Camcorders>,\n",
    "    AND\n",
    "        'products': <a list of products that must be found in the allowed products below>\n",
    "\n",
    "\n",
    "    Where the categories and products must be found in the customer service query.\n",
    "    If a product is mentioned, it must be associated with the correct category in the allowed products list below.\n",
    "    If no products or categories are found, output an empty list.\n",
    "    \n",
    "\n",
    "    List out all products that are relevant to the customer service query based on how closely it relates\n",
    "    to the product name and product category.\n",
    "    Do not assume, from the name of the product, any features or attributes such as relative quality or price.\n",
    "\n",
    "    The allowed products are provided in JSON format.\n",
    "    The keys of each item represent the category.\n",
    "    The values of each item is a list of products that are within that category.\n",
    "    Allowed products: {products_and_category}\n",
    "    \n",
    "\n",
    "    \"\"\"\n",
    "    \n",
    "    few_shot_user_1 = \"\"\"I want the most expensive computer.\"\"\"\n",
    "    few_shot_assistant_1 = \"\"\" \n",
    "    [{'category': 'Computers and Laptops', \\\n",
    "'products': ['TechPro Ultrabook', 'BlueWave Gaming Laptop', 'PowerLite Convertible', 'TechPro Desktop', 'BlueWave Chromebook']}]\n",
    "    \"\"\"\n",
    "    \n",
    "    messages =  [  \n",
    "    {'role':'system', 'content': system_message},    \n",
    "    {'role':'user', 'content': f\"{delimiter}{few_shot_user_1}{delimiter}\"},  \n",
    "    {'role':'assistant', 'content': few_shot_assistant_1 },\n",
    "    {'role':'user', 'content': f\"{delimiter}{user_input}{delimiter}\"},  \n",
    "    ] \n",
    "    return get_completion_from_messages(messages)\n"
   ]
  },
  {
   "cell_type": "markdown",
   "id": "0f13cb2b-e36e-4166-8332-826288e92c61",
   "metadata": {},
   "source": [
    "## Evaluate on some queries\n",
    "\n",
    "Here it lists out the relevant information to this query, \n",
    "which is under the category, televisions and whole theater systems. \n",
    "This is a list of TVs and whole theater systems that seem relevant. \n",
    "To see how well the prompt is doing, you may evaluate it on a second prompt. \n",
    "The customer says, \"I need a charger for my smartphone.\". \n",
    "It looks like it's correctly retrieving this data. \n",
    "Category, smartphones, accessories, and it lists the relevant products. \n",
    "And here's another one. \n",
    "So, \"What computers do you have?\". \n",
    "And hopefully you'll retrieve a list of the computers. "
   ]
  },
  {
   "cell_type": "code",
   "execution_count": 5,
   "id": "cce5b29f",
   "metadata": {},
   "outputs": [
    {
     "name": "stdout",
     "output_type": "stream",
     "text": [
      "    [{'category': 'Televisions and Home Theater Systems', 'products': ['CineView 4K TV', 'SoundMax Home Theater', 'CineView 8K TV', 'SoundMax Soundbar', 'CineView OLED TV']}]\n"
     ]
    }
   ],
   "source": [
    "customer_msg_0 = f\"\"\"Which TV can I buy if I'm on a budget?\"\"\"\n",
    "\n",
    "products_by_category_0 = find_category_and_product_v1(customer_msg_0,\n",
    "                                                      products_and_category)\n",
    "print(products_by_category_0)"
   ]
  },
  {
   "cell_type": "code",
   "execution_count": 6,
   "id": "8ad30ad4",
   "metadata": {},
   "outputs": [
    {
     "name": "stdout",
     "output_type": "stream",
     "text": [
      "    [{'category': 'Smartphones and Accessories', 'products': ['MobiTech PowerCase', 'MobiTech Wireless Charger', 'SmartX EarBuds']}]\n",
      "\n"
     ]
    }
   ],
   "source": [
    "customer_msg_1 = f\"\"\"I need a charger for my smartphone\"\"\"\n",
    "\n",
    "products_by_category_1 = find_category_and_product_v1(customer_msg_1,\n",
    "                                                      products_and_category)\n",
    "print(products_by_category_1)"
   ]
  },
  {
   "cell_type": "code",
   "execution_count": 7,
   "id": "eeed8094",
   "metadata": {},
   "outputs": [
    {
     "data": {
      "text/plain": [
       "\"    [{'category': 'Computers and Laptops', 'products': ['TechPro Ultrabook', 'BlueWave Gaming Laptop', 'PowerLite Convertible', 'TechPro Desktop', 'BlueWave Chromebook']}]\""
      ]
     },
     "execution_count": 7,
     "metadata": {},
     "output_type": "execute_result"
    }
   ],
   "source": [
    "customer_msg_2 = f\"\"\"\n",
    "What computers do you have?\"\"\"\n",
    "\n",
    "products_by_category_2 = find_category_and_product_v1(customer_msg_2,\n",
    "                                                      products_and_category)\n",
    "products_by_category_2"
   ]
  },
  {
   "cell_type": "markdown",
   "id": "07da0b0d-67aa-4307-802b-97e2ab6a1497",
   "metadata": {},
   "source": [
    "Here I've got three prompts, and if you're developing this prompt for the first time, it would be reasonable to have one, two, or three examples like this. Then you could keep fine-tuning the prompt until it produces the right results, or until it retrieves the appropriate products and categories in accordance with the customer request for all of your prompts, in this case all three of them. And if the prompt had been deficient in any way, such as missing some products or whatever, we would probably go back and revise the prompt several times until it was accurate for all three of these prompts. \n",
    "Once you've reached this stage with the system, you might start using it for testing.\n",
    "\n",
    "Sometimes you run across a prompt that it fails. Here's \n",
    "an example of a prompt, \"tell me about the smartx pro \n",
    "phone and the fotosnap camera. Also, what TVs do you have?\". "
   ]
  },
  {
   "cell_type": "code",
   "execution_count": 8,
   "id": "01e48b0f",
   "metadata": {},
   "outputs": [
    {
     "name": "stdout",
     "output_type": "stream",
     "text": [
      "    [{'category': 'Smartphones and Accessories', 'products': ['SmartX ProPhone']},\n",
      "     {'category': 'Cameras and Camcorders', 'products': ['FotoSnap DSLR Camera']},\n",
      "     {'category': 'Televisions and Home Theater Systems', 'products': ['CineView 4K TV', 'SoundMax Home Theater', 'CineView 8K TV', 'SoundMax Soundbar', 'CineView OLED TV']}]\n",
      "     \n",
      "    Note: The query mentions \"smartx pro phone\" and \"fotosnap camera, the dslr one\", so the output includes the relevant categories and products. The query also asks about TVs, so the relevant category is included in the output.\n"
     ]
    }
   ],
   "source": [
    "customer_msg_3 = f\"\"\"\n",
    "tell me about the smartx pro phone and the fotosnap camera, the dslr one.\n",
    "Also, what TVs do you have?\"\"\"\n",
    "\n",
    "products_by_category_3 = find_category_and_product_v1(customer_msg_3,\n",
    "                                                      products_and_category)\n",
    "print(products_by_category_3)"
   ]
  },
  {
   "cell_type": "markdown",
   "id": "4b09d273-b88a-4d1c-a5b8-f1e5066b4a2f",
   "metadata": {},
   "source": [
    "So even though it appears to be producing the correct data when I run it on this prompt, it also produces a lot of text and other unnecessary information. This makes parsing it into a Python list of dictionaries more difficult. \n",
    "So we don't want it producing this extra waste. Therefore, standard practise is to simply note that an example is tough when the system fails on it. As a result, let's add this example to the list of examples we'll use to methodically test the system. \n",
    "\n",
    "Additionally, if you run the system for a little while longer, perhaps it will work with those cases. Although we did adapt the prompt to three cases, we can't guarantee that it will work on all examples. You may, purely by accident, come across another example where it produces an error. \n",
    "Because of this, the system additionally outputs unwanted trash text at the end of the personalised message. \n",
    "\n",
    "## Harder test cases\n",
    "\n",
    "Lets try to identify queries found in production, where the model is not working as expected."
   ]
  },
  {
   "cell_type": "code",
   "execution_count": 9,
   "id": "9b5bb99e",
   "metadata": {},
   "outputs": [
    {
     "name": "stdout",
     "output_type": "stream",
     "text": [
      "    [{'category': 'Televisions and Home Theater Systems', 'products': ['CineView 8K TV']},\n",
      "     {'category': 'Gaming Consoles and Accessories', 'products': ['GameSphere X']},\n",
      "     {'category': 'Computers and Laptops', 'products': ['BlueWave Chromebook']}]\n",
      "     \n",
      "    Note: The CineView TV mentioned is the 8K one, and the Gamesphere console mentioned is the X one. \n",
      "    For the computer category, since the customer mentioned being on a budget, we cannot determine which specific product to recommend. \n",
      "    Therefore, we have included all the products in the Computers and Laptops category in the output.\n"
     ]
    }
   ],
   "source": [
    "customer_msg_4 = f\"\"\"\n",
    "tell me about the CineView TV, the 8K one, Gamesphere console, the X one.\n",
    "I'm on a budget, what computers do you have?\"\"\"\n",
    "\n",
    "products_by_category_4 = find_category_and_product_v1(customer_msg_4,\n",
    "                                                      products_and_category)\n",
    "print(products_by_category_4)"
   ]
  },
  {
   "cell_type": "markdown",
   "id": "a7d12681-997d-43a5-8732-8f3aa9fc8cb3",
   "metadata": {},
   "source": [
    "At this point, you may have tested this prompt on hundreds of examples or with test subjects, but you would only use the examples where the tricky ones performed poorly. I now have a set of five examples, numbered 0 through 4, which you can use to further improve the prompts. \n",
    "Additionally, the LLM generated a lot of unnecessary trash text in both of these cases that we don't need. \n",
    "Following some trial and error, you might want to change the prompts as follows. \n",
    "\n",
    "## Modify the prompt to work on the hard test cases\n",
    "\n",
    "So here's a new prompt, this is called prompt v2. But what we did here was we added to the prompt, \n",
    "\"Do not output any additional text that's not in JSON format.\", just \n",
    "to emphasize, please don't output this JSON stuff. \n",
    "And added a second example using the user \n",
    "and assistant message for few-shot prompting where the user asked for \n",
    "the cheapest computer. \n",
    "And in both of the few-shot examples, we're demonstrating \n",
    "to the system a response where it gives \n",
    "only JSON outputs. So here's the extra thing that we just added \n",
    "to the prompt, \"Do not output any additional text that's not in JSON \n",
    "formats.\", and we use \"few_shot_user_1\", \"few_shot_assistant_1\", and \"few_shot_user_2\", \"few_shot_assistant_2\" to give it two of \n",
    "these few shot prompts. "
   ]
  },
  {
   "cell_type": "code",
   "execution_count": 10,
   "id": "609ce420",
   "metadata": {},
   "outputs": [],
   "source": [
    "def find_category_and_product_v2(user_input,products_and_category):\n",
    "    \"\"\"\n",
    "    Added: Do not output any additional text that is not in JSON format.\n",
    "    Added a second example (for few-shot prompting) where user asks for \n",
    "    the cheapest computer. In both few-shot examples, the shown response \n",
    "    is the full list of products in JSON only.\n",
    "    \"\"\"\n",
    "    delimiter = \"####\"\n",
    "    system_message = f\"\"\"\n",
    "    You will be provided with customer service queries. \\\n",
    "    The customer service query will be delimited with {delimiter} characters.\n",
    "    Output a python list of json objects, where each object has the following format:\n",
    "        'category': <one of Computers and Laptops, Smartphones and Accessories, Televisions and Home Theater Systems, \\\n",
    "    Gaming Consoles and Accessories, Audio Equipment, Cameras and Camcorders>,\n",
    "    AND\n",
    "        'products': <a list of products that must be found in the allowed products below>\n",
    "    Do not output any additional text that is not in JSON format.\n",
    "    Do not write any explanatory text after outputting the requested JSON.\n",
    "\n",
    "\n",
    "    Where the categories and products must be found in the customer service query.\n",
    "    If a product is mentioned, it must be associated with the correct category in the allowed products list below.\n",
    "    If no products or categories are found, output an empty list.\n",
    "    \n",
    "\n",
    "    List out all products that are relevant to the customer service query based on how closely it relates\n",
    "    to the product name and product category.\n",
    "    Do not assume, from the name of the product, any features or attributes such as relative quality or price.\n",
    "\n",
    "    The allowed products are provided in JSON format.\n",
    "    The keys of each item represent the category.\n",
    "    The values of each item is a list of products that are within that category.\n",
    "    Allowed products: {products_and_category}\n",
    "    \n",
    "\n",
    "    \"\"\"\n",
    "    \n",
    "    few_shot_user_1 = \"\"\"I want the most expensive computer. What do you recommend?\"\"\"\n",
    "    few_shot_assistant_1 = \"\"\" \n",
    "    [{'category': 'Computers and Laptops', \\\n",
    "'products': ['TechPro Ultrabook', 'BlueWave Gaming Laptop', 'PowerLite Convertible', 'TechPro Desktop', 'BlueWave Chromebook']}]\n",
    "    \"\"\"\n",
    "    \n",
    "    few_shot_user_2 = \"\"\"I want the most cheapest computer. What do you recommend?\"\"\"\n",
    "    few_shot_assistant_2 = \"\"\" \n",
    "    [{'category': 'Computers and Laptops', \\\n",
    "'products': ['TechPro Ultrabook', 'BlueWave Gaming Laptop', 'PowerLite Convertible', 'TechPro Desktop', 'BlueWave Chromebook']}]\n",
    "    \"\"\"\n",
    "    \n",
    "    messages =  [  \n",
    "    {'role':'system', 'content': system_message},    \n",
    "    {'role':'user', 'content': f\"{delimiter}{few_shot_user_1}{delimiter}\"},  \n",
    "    {'role':'assistant', 'content': few_shot_assistant_1 },\n",
    "    {'role':'user', 'content': f\"{delimiter}{few_shot_user_2}{delimiter}\"},  \n",
    "    {'role':'assistant', 'content': few_shot_assistant_2 },\n",
    "    {'role':'user', 'content': f\"{delimiter}{user_input}{delimiter}\"},  \n",
    "    ] \n",
    "    return get_completion_from_messages(messages)\n"
   ]
  },
  {
   "cell_type": "markdown",
   "id": "32c833b2-0494-4e7b-bfbc-38f67889fb15",
   "metadata": {},
   "source": [
    "### Evaluate the modified prompt on the hard tests cases\n",
    "\n",
    "If you were to manually run this prompt on each of the five examples of user inputs, including the one that had previously produced a damaged output, you would discover that it now produces th desired result. This updated prompt, prompt version v2, will produce a better output if you run it again on the customer message example that produced the broken output with extra trash following the JSON output."
   ]
  },
  {
   "cell_type": "code",
   "execution_count": 11,
   "id": "6ae1f7ef",
   "metadata": {},
   "outputs": [
    {
     "name": "stdout",
     "output_type": "stream",
     "text": [
      "    [{'category': 'Smartphones and Accessories', 'products': ['SmartX ProPhone']}, {'category': 'Cameras and Camcorders', 'products': ['FotoSnap DSLR Camera']}, {'category': 'Televisions and Home Theater Systems', 'products': ['CineView 4K TV', 'SoundMax Home Theater', 'CineView 8K TV', 'SoundMax Soundbar', 'CineView OLED TV']}]\n",
      "\n"
     ]
    }
   ],
   "source": [
    "customer_msg_3 = f\"\"\"\n",
    "tell me about the smartx pro phone and the fotosnap camera, the dslr one.\n",
    "Also, what TVs do you have?\"\"\"\n",
    "\n",
    "products_by_category_3 = find_category_and_product_v2(customer_msg_3,\n",
    "                                                      products_and_category)\n",
    "print(products_by_category_3)"
   ]
  },
  {
   "cell_type": "markdown",
   "id": "6175e6a4-983c-44f7-8310-95a24bdf0c88",
   "metadata": {},
   "source": [
    "### Regression testing: verify that the model still works on previous test cases\n",
    "\n",
    "Let's check that modifying the model to fix the hard test cases does not negatively affect its performance on previous test cases.\n",
    "\n",
    "And of course, when you modify the prompts, it's \n",
    "also useful to do a bit of regression testing to make sure \n",
    "that when fixing the incorrect outputs on prompts \n",
    "3 and 4, it didn't break the output on prompt 0 either. Now, you \n",
    "can kind of tell that if I had to copy-paste 5 prompts, \n",
    "customers such as 0, 1, 2, 3, and 4, into \n",
    "my Jupyter notebook and run them and then manually look \n",
    "at them to see if they output in the right categories and \n",
    "products. You can kind of do it. I can look \n",
    "at this and go, \"Yep, category, TV and home \n",
    "theater systems, products. Yep, looks like you \n",
    "got all of them.\". "
   ]
  },
  {
   "cell_type": "code",
   "execution_count": 12,
   "id": "e65041cd",
   "metadata": {},
   "outputs": [
    {
     "name": "stdout",
     "output_type": "stream",
     "text": [
      "    [{'category': 'Televisions and Home Theater Systems', 'products': ['CineView 4K TV', 'SoundMax Home Theater', 'CineView 8K TV', 'SoundMax Soundbar', 'CineView OLED TV']}]\n",
      "\n"
     ]
    }
   ],
   "source": [
    "customer_msg_0 = f\"\"\"Which TV can I buy if I'm on a budget?\"\"\"\n",
    "\n",
    "products_by_category_0 = find_category_and_product_v2(customer_msg_0,\n",
    "                                                      products_and_category)\n",
    "print(products_by_category_0)"
   ]
  },
  {
   "cell_type": "markdown",
   "id": "bf40ac24-fd1e-4d5d-b41f-760b3e0d4d68",
   "metadata": {},
   "source": [
    "## Gather development set for automated testing\n",
    "\n",
    "But it's actually a little bit painful to do this manually, to \n",
    "manually inspect or to look at this output to make sure with \n",
    "your eyes that this is exactly the right output. \n",
    "So when the development set that you're tuning to becomes more \n",
    "than just a small handful of examples, it \n",
    "then becomes useful to start to automate the testing process. \n",
    "So here is a set of 10 examples where I'm specifying 10 customer messages. So \n",
    "here's a customer message, \"Which TV can I buy if I'm on a \n",
    "budget?\" as well as what's the ideal answer. Think of this as \n",
    "the right answer in the test set, or really, I should \n",
    "say development set, because we're actually tuning \n",
    "to this. And so we've collected here \n",
    "10 examples indexed from 0 through 9, where \n",
    "the last one is if the user says, \"I would like hot tub time \n",
    "machine.\". We have no relevant products to that, really sorry, so the ideal answer \n",
    "is the empty set. \n",
    " \n",
    "And now, if you want to evaluate automatically, \n",
    "what the prompt is doing on any of these 10 examples, \n",
    "here is a function to do so. It's kind of a long function."
   ]
  },
  {
   "cell_type": "code",
   "execution_count": 13,
   "id": "36e257c2",
   "metadata": {},
   "outputs": [],
   "source": [
    "msg_ideal_pairs_set = [\n",
    "    \n",
    "    # eg 0\n",
    "    {'customer_msg':\"\"\"Which TV can I buy if I'm on a budget?\"\"\",\n",
    "     'ideal_answer':{\n",
    "        'Televisions and Home Theater Systems':set(\n",
    "            ['CineView 4K TV', 'SoundMax Home Theater', 'CineView 8K TV', 'SoundMax Soundbar', 'CineView OLED TV']\n",
    "        )}\n",
    "    },\n",
    "\n",
    "    # eg 1\n",
    "    {'customer_msg':\"\"\"I need a charger for my smartphone\"\"\",\n",
    "     'ideal_answer':{\n",
    "        'Smartphones and Accessories':set(\n",
    "            ['MobiTech PowerCase', 'MobiTech Wireless Charger', 'SmartX EarBuds']\n",
    "        )}\n",
    "    },\n",
    "    # eg 2\n",
    "    {'customer_msg':f\"\"\"What computers do you have?\"\"\",\n",
    "     'ideal_answer':{\n",
    "           'Computers and Laptops':set(\n",
    "               ['TechPro Ultrabook', 'BlueWave Gaming Laptop', 'PowerLite Convertible', 'TechPro Desktop', 'BlueWave Chromebook'\n",
    "               ])\n",
    "                }\n",
    "    },\n",
    "\n",
    "    # eg 3\n",
    "    {'customer_msg':f\"\"\"tell me about the smartx pro phone and \\\n",
    "    the fotosnap camera, the dslr one.\\\n",
    "    Also, what TVs do you have?\"\"\",\n",
    "     'ideal_answer':{\n",
    "        'Smartphones and Accessories':set(\n",
    "            ['SmartX ProPhone']),\n",
    "        'Cameras and Camcorders':set(\n",
    "            ['FotoSnap DSLR Camera']),\n",
    "        'Televisions and Home Theater Systems':set(\n",
    "            ['CineView 4K TV', 'SoundMax Home Theater','CineView 8K TV', 'SoundMax Soundbar', 'CineView OLED TV'])\n",
    "        }\n",
    "    }, \n",
    "    \n",
    "    # eg 4\n",
    "    {'customer_msg':\"\"\"tell me about the CineView TV, the 8K one, Gamesphere console, the X one.\n",
    "I'm on a budget, what computers do you have?\"\"\",\n",
    "     'ideal_answer':{\n",
    "        'Televisions and Home Theater Systems':set(\n",
    "            ['CineView 8K TV']),\n",
    "        'Gaming Consoles and Accessories':set(\n",
    "            ['GameSphere X']),\n",
    "        'Computers and Laptops':set(\n",
    "            ['TechPro Ultrabook', 'BlueWave Gaming Laptop', 'PowerLite Convertible', 'TechPro Desktop', 'BlueWave Chromebook'])\n",
    "        }\n",
    "    },\n",
    "    \n",
    "    # eg 5\n",
    "    {'customer_msg':f\"\"\"What smartphones do you have?\"\"\",\n",
    "     'ideal_answer':{\n",
    "           'Smartphones and Accessories':set(\n",
    "               ['SmartX ProPhone', 'MobiTech PowerCase', 'SmartX MiniPhone', 'MobiTech Wireless Charger', 'SmartX EarBuds'\n",
    "               ])\n",
    "                    }\n",
    "    },\n",
    "    # eg 6\n",
    "    {'customer_msg':f\"\"\"I'm on a budget.  Can you recommend some smartphones to me?\"\"\",\n",
    "     'ideal_answer':{\n",
    "        'Smartphones and Accessories':set(\n",
    "            ['SmartX EarBuds', 'SmartX MiniPhone', 'MobiTech PowerCase', 'SmartX ProPhone', 'MobiTech Wireless Charger']\n",
    "        )}\n",
    "    },\n",
    "\n",
    "    # eg 7 # this will output a subset of the ideal answer\n",
    "    {'customer_msg':f\"\"\"What Gaming consoles would be good for my friend who is into racing games?\"\"\",\n",
    "     'ideal_answer':{\n",
    "        'Gaming Consoles and Accessories':set([\n",
    "            'GameSphere X',\n",
    "            'ProGamer Controller',\n",
    "            'GameSphere Y',\n",
    "            'ProGamer Racing Wheel',\n",
    "            'GameSphere VR Headset'\n",
    "     ])}\n",
    "    },\n",
    "    # eg 8\n",
    "    {'customer_msg':f\"\"\"What could be a good present for my videographer friend?\"\"\",\n",
    "     'ideal_answer': {\n",
    "        'Cameras and Camcorders':set([\n",
    "        'FotoSnap DSLR Camera', 'ActionCam 4K', 'FotoSnap Mirrorless Camera', 'ZoomMaster Camcorder', 'FotoSnap Instant Camera'\n",
    "        ])}\n",
    "    },\n",
    "    \n",
    "    # eg 9\n",
    "    {'customer_msg':f\"\"\"I would like a hot tub time machine.\"\"\",\n",
    "     'ideal_answer': []\n",
    "    }\n",
    "    \n",
    "]\n"
   ]
  },
  {
   "cell_type": "markdown",
   "id": "8aaccb7a-3cee-4189-9660-110427a4bb83",
   "metadata": {},
   "source": [
    "## Evaluate test cases by comparing to the ideal answers\n",
    "\n",
    "So the customer message is,\"Which TV can I buy if I'm on \n",
    "a budget?\". \n",
    "And let's also print out the ideal answer. So \n",
    "the ideal answer is here are all the TVs that we want the prompt to retrieve. \n",
    "And let me now call the prompt. This \n",
    "is prompt V2 on this customer message with that \n",
    "user products and category information. Let's print \n",
    "it out and then we'll call the eval. \n",
    "\n",
    "To determine how closely the response adheres to the ideal response, we will use the eval response of ideal function. \n",
    "And in this instance, it did provide the desired category and the whole list of products. \n",
    "As a result, it receives a score of 1.0. \n",
    "Just to give you one more example, it turns out that I am aware that example 7 is where it goes wrong. \n",
    "This is what I get if I change this from 0 to 7 and run it. "
   ]
  },
  {
   "cell_type": "code",
   "execution_count": 14,
   "id": "66a7df29",
   "metadata": {},
   "outputs": [],
   "source": [
    "import json\n",
    "def eval_response_with_ideal(response,\n",
    "                              ideal,\n",
    "                              debug=False):\n",
    "    \n",
    "    if debug:\n",
    "        print(\"response\")\n",
    "        print(response)\n",
    "    \n",
    "    # json.loads() expects double quotes, not single quotes\n",
    "    json_like_str = response.replace(\"'\",'\"')\n",
    "    \n",
    "    # parse into a list of dictionaries\n",
    "    l_of_d = json.loads(json_like_str)\n",
    "    \n",
    "    # special case when response is empty list\n",
    "    if l_of_d == [] and ideal == []:\n",
    "        return 1\n",
    "    \n",
    "    # otherwise, response is empty \n",
    "    # or ideal should be empty, there's a mismatch\n",
    "    elif l_of_d == [] or ideal == []:\n",
    "        return 0\n",
    "    \n",
    "    correct = 0    \n",
    "    \n",
    "    if debug:\n",
    "        print(\"l_of_d is\")\n",
    "        print(l_of_d)\n",
    "    for d in l_of_d:\n",
    "\n",
    "        cat = d.get('category')\n",
    "        prod_l = d.get('products')\n",
    "        if cat and prod_l:\n",
    "            # convert list to set for comparison\n",
    "            prod_set = set(prod_l)\n",
    "            # get ideal set of products\n",
    "            ideal_cat = ideal.get(cat)\n",
    "            if ideal_cat:\n",
    "                prod_set_ideal = set(ideal.get(cat))\n",
    "            else:\n",
    "                if debug:\n",
    "                    print(f\"did not find category {cat} in ideal\")\n",
    "                    print(f\"ideal: {ideal}\")\n",
    "                continue\n",
    "                \n",
    "            if debug:\n",
    "                print(\"prod_set\\n\",prod_set)\n",
    "                print()\n",
    "                print(\"prod_set_ideal\\n\",prod_set_ideal)\n",
    "\n",
    "            if prod_set == prod_set_ideal:\n",
    "                if debug:\n",
    "                    print(\"correct\")\n",
    "                correct +=1\n",
    "            else:\n",
    "                print(\"incorrect\")\n",
    "                print(f\"prod_set: {prod_set}\")\n",
    "                print(f\"prod_set_ideal: {prod_set_ideal}\")\n",
    "                if prod_set <= prod_set_ideal:\n",
    "                    print(\"response is a subset of the ideal answer\")\n",
    "                elif prod_set >= prod_set_ideal:\n",
    "                    print(\"response is a superset of the ideal answer\")\n",
    "\n",
    "    # count correct over total number of items in list\n",
    "    pc_correct = correct / len(l_of_d)\n",
    "        \n",
    "    return pc_correct"
   ]
  },
  {
   "cell_type": "markdown",
   "id": "7b7280df-53ad-4782-b125-4cf8a67d7b1e",
   "metadata": {},
   "source": []
  },
  {
   "cell_type": "code",
   "execution_count": 15,
   "id": "e7337ba6",
   "metadata": {},
   "outputs": [
    {
     "name": "stdout",
     "output_type": "stream",
     "text": [
      "Customer message: What Gaming consoles would be good for my friend who is into racing games?\n",
      "Ideal answer: {'Gaming Consoles and Accessories': {'GameSphere X', 'GameSphere Y', 'GameSphere VR Headset', 'ProGamer Racing Wheel', 'ProGamer Controller'}}\n"
     ]
    }
   ],
   "source": [
    "print(f'Customer message: {msg_ideal_pairs_set[7][\"customer_msg\"]}')\n",
    "print(f'Ideal answer: {msg_ideal_pairs_set[7][\"ideal_answer\"]}')\n"
   ]
  },
  {
   "cell_type": "code",
   "execution_count": 16,
   "id": "f109f542",
   "metadata": {},
   "outputs": [
    {
     "name": "stdout",
     "output_type": "stream",
     "text": [
      "Resonse:     [{'category': 'Gaming Consoles and Accessories', 'products': ['ProGamer Controller', 'ProGamer Racing Wheel', 'GameSphere VR Headset']}]\n",
      "incorrect\n",
      "prod_set: {'GameSphere VR Headset', 'ProGamer Racing Wheel', 'ProGamer Controller'}\n",
      "prod_set_ideal: {'GameSphere X', 'GameSphere Y', 'GameSphere VR Headset', 'ProGamer Racing Wheel', 'ProGamer Controller'}\n",
      "response is a subset of the ideal answer\n"
     ]
    },
    {
     "data": {
      "text/plain": [
       "0.0"
      ]
     },
     "execution_count": 16,
     "metadata": {},
     "output_type": "execute_result"
    }
   ],
   "source": [
    "response = find_category_and_product_v2(msg_ideal_pairs_set[7][\"customer_msg\"],\n",
    "                                         products_and_category)\n",
    "print(f'Resonse: {response}')\n",
    "\n",
    "eval_response_with_ideal(response,\n",
    "                              msg_ideal_pairs_set[7][\"ideal_answer\"])"
   ]
  },
  {
   "cell_type": "markdown",
   "id": "38ebaf7b-ee94-4b8c-b191-bf23864aed56",
   "metadata": {},
   "source": [
    "So this is the best response to produce under gaming consoles and accessories for this customer message. Consequently, here is a list of gaming consoles and related items. \n",
    "However, although the given response had three outputs, it really ought to have had one, two, three, four, or five. Some of the products are therefore missing. \n",
    "\n",
    "So, using a for loop to go through all 10 examples from the development set, I would tune the prompt as I normally would. In these examples, we repeatedly pull out the customer message, obtain the best answer possible, obtain a response, assess it, and then, accumulate it in average."
   ]
  },
  {
   "cell_type": "code",
   "execution_count": 17,
   "id": "bb75bebc",
   "metadata": {},
   "outputs": [
    {
     "name": "stdout",
     "output_type": "stream",
     "text": [
      "example 0\n",
      "0: 1.0\n",
      "example 1\n",
      "1: 1.0\n",
      "example 2\n",
      "2: 1.0\n",
      "example 3\n",
      "3: 1.0\n",
      "example 4\n",
      "4: 1.0\n",
      "example 5\n",
      "5: 1.0\n",
      "example 6\n",
      "6: 1.0\n",
      "example 7\n",
      "incorrect\n",
      "prod_set: {'GameSphere VR Headset', 'ProGamer Racing Wheel', 'ProGamer Controller'}\n",
      "prod_set_ideal: {'GameSphere X', 'GameSphere Y', 'GameSphere VR Headset', 'ProGamer Racing Wheel', 'ProGamer Controller'}\n",
      "response is a subset of the ideal answer\n",
      "7: 0.0\n",
      "example 8\n",
      "8: 1.0\n",
      "example 9\n",
      "9: 1\n",
      "Fraction correct out of 10: 0.9\n"
     ]
    }
   ],
   "source": [
    "# Note, this will not work if any of the api calls time out\n",
    "score_accum = 0\n",
    "for i, pair in enumerate(msg_ideal_pairs_set):\n",
    "    print(f\"example {i}\")\n",
    "    \n",
    "    customer_msg = pair['customer_msg']\n",
    "    ideal = pair['ideal_answer']\n",
    "    \n",
    "    # print(\"Customer message\",customer_msg)\n",
    "    # print(\"ideal:\",ideal)\n",
    "    response = find_category_and_product_v2(customer_msg,\n",
    "                                                      products_and_category)\n",
    "\n",
    "    \n",
    "    # print(\"products_by_category\",products_by_category)\n",
    "    score = eval_response_with_ideal(response,ideal,debug=False)\n",
    "    print(f\"{i}: {score}\")\n",
    "    score_accum += score\n",
    "    \n",
    "\n",
    "n_examples = len(msg_ideal_pairs_set)\n",
    "fraction_correct = score_accum / n_examples\n",
    "print(f\"Fraction correct out of {n_examples}: {fraction_correct}\")"
   ]
  },
  {
   "cell_type": "markdown",
   "id": "3e0a3f44-0196-404e-8843-33f763e0eb7d",
   "metadata": {},
   "source": [
    "## Run evaluation on all test cases and calculate the fraction of cases that are correct\n",
    "\n",
    "Looking at the results above it seems like it got 90% correct.\n",
    "So, we can rerun this to observe if the percent accurate increases or decreases if the prompts are adjusted. \n",
    "\n",
    "We now have the code necessary to gather a randomly sampled set of perhaps 100 samples with their ideal outputs, and you may even go beyond that to the rigour of a holdout test set that you don't even look at while you're setting the prompt. If you wanted a higher level of rigour. \n",
    "\n",
    "Again, it's important to point out that if you're working on a safety-critical application or an application where there is a non-trivial risk of harm, it would be prudent to obtain a much larger test set to thoroughly confirm the performance before using it anywhere. \n",
    "\n",
    "The pace of iteration seems to be significantly faster when creating applications utilising prompts and LLMs than when creating applications using supervised learning. And if you haven't done it before, you might be amazed at how effective an evaluation process based on only a handful of carefully chosen challenging instances can be.\n",
    "\n",
    "You make an assumption based on 10 examples, that the result is not statistically valid. But once you put this process into practise, you might be amazed at how helpful adding a few, just a few, challenging examples to development sets can be in terms of assisting you and your team in developing an effective set of prompts and system. \n",
    "\n",
    "## Evaluating LLM Applications more automatically using LangChain\n",
    "\n",
    "We have seen in this article how we can use OpenAI and GPT alone to evaluate the outputs of these models. However there are other tools like LangChain together with OpenAI that can make LLM application evaluation even easier and faster as can be seen in this [previous article](https://livingdatalab.com/posts/2023-06-05-using-langchain-to-evaluate-llm-applications.html).\n",
    "\n",
    "## Acknowledgements\n",
    "\n",
    "I'd like to express my thanks to the wonderful [Building Systems with the ChatGPT API Course](https://www.deeplearning.ai/short-courses/building-systems-with-chatgpt/) by DeepLearning.ai and OpenAI - which i completed, and acknowledge the use of some images and other materials from the course in this article."
   ]
  },
  {
   "cell_type": "code",
   "execution_count": null,
   "id": "7ca885a8-eeb3-4e9e-b4ff-5bd6b5de4256",
   "metadata": {},
   "outputs": [],
   "source": []
  }
 ],
 "metadata": {
  "kernelspec": {
   "display_name": "Python 3 (ipykernel)",
   "language": "python",
   "name": "python3"
  },
  "language_info": {
   "codemirror_mode": {
    "name": "ipython",
    "version": 3
   },
   "file_extension": ".py",
   "mimetype": "text/x-python",
   "name": "python",
   "nbconvert_exporter": "python",
   "pygments_lexer": "ipython3",
   "version": "3.9.13"
  }
 },
 "nbformat": 4,
 "nbformat_minor": 5
}
